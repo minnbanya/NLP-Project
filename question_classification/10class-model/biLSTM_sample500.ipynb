{
 "cells": [
  {
   "cell_type": "code",
   "execution_count": 1,
   "metadata": {},
   "outputs": [
    {
     "name": "stderr",
     "output_type": "stream",
     "text": [
      "/usr/local/lib/python3.10/site-packages/tqdm/auto.py:21: TqdmWarning: IProgress not found. Please update jupyter and ipywidgets. See https://ipywidgets.readthedocs.io/en/stable/user_install.html\n",
      "  from .autonotebook import tqdm as notebook_tqdm\n"
     ]
    }
   ],
   "source": [
    "import torch, torchdata, torchtext\n",
    "import torch.nn as nn\n",
    "import pandas as pd\n",
    "import re\n",
    "from sklearn.model_selection import train_test_split\n",
    "from torch.nn.utils.rnn import pad_sequence\n",
    "from torch.utils.data import DataLoader, Dataset\n",
    "from transformers import BertTokenizer, BertModel, AdamW, get_linear_schedule_with_warmup\n",
    "from sklearn.metrics import accuracy_score, classification_report\n"
   ]
  },
  {
   "cell_type": "code",
   "execution_count": 2,
   "metadata": {},
   "outputs": [
    {
     "data": {
      "text/plain": [
       "('2.2.2+cu121', '0.7.1', '0.17.2+cpu')"
      ]
     },
     "execution_count": 2,
     "metadata": {},
     "output_type": "execute_result"
    }
   ],
   "source": [
    "torch.__version__, torchdata.__version__, torchtext.__version__"
   ]
  },
  {
   "cell_type": "code",
   "execution_count": 3,
   "metadata": {},
   "outputs": [],
   "source": [
    "device = torch.device('cuda' if torch.cuda.is_available() else 'cpu')"
   ]
  },
  {
   "cell_type": "code",
   "execution_count": 4,
   "metadata": {},
   "outputs": [],
   "source": [
    "SEED = 1234 #change three times\n",
    "torch.manual_seed(SEED)\n",
    "torch.backends.cudnn.deterministic = True"
   ]
  },
  {
   "cell_type": "markdown",
   "metadata": {},
   "source": [
    "## 1. load dataset"
   ]
  },
  {
   "cell_type": "code",
   "execution_count": 5,
   "metadata": {},
   "outputs": [
    {
     "data": {
      "text/html": [
       "<div>\n",
       "<style scoped>\n",
       "    .dataframe tbody tr th:only-of-type {\n",
       "        vertical-align: middle;\n",
       "    }\n",
       "\n",
       "    .dataframe tbody tr th {\n",
       "        vertical-align: top;\n",
       "    }\n",
       "\n",
       "    .dataframe thead th {\n",
       "        text-align: right;\n",
       "    }\n",
       "</style>\n",
       "<table border=\"1\" class=\"dataframe\">\n",
       "  <thead>\n",
       "    <tr style=\"text-align: right;\">\n",
       "      <th></th>\n",
       "      <th>category</th>\n",
       "      <th>questionText</th>\n",
       "    </tr>\n",
       "  </thead>\n",
       "  <tbody>\n",
       "    <tr>\n",
       "      <th>0</th>\n",
       "      <td>Toys_and_Games</td>\n",
       "      <td>Many have stated similar to the following: \"Pa...</td>\n",
       "    </tr>\n",
       "    <tr>\n",
       "      <th>1</th>\n",
       "      <td>Health_and_Personal_Care</td>\n",
       "      <td>Will these work with the Phillips sonicare han...</td>\n",
       "    </tr>\n",
       "    <tr>\n",
       "      <th>2</th>\n",
       "      <td>Cell_Phones_and_Accessories</td>\n",
       "      <td>What kind of sim card it use?</td>\n",
       "    </tr>\n",
       "    <tr>\n",
       "      <th>3</th>\n",
       "      <td>Home_and_Kitchen</td>\n",
       "      <td>does anyone know if this dinnerware set does n...</td>\n",
       "    </tr>\n",
       "    <tr>\n",
       "      <th>4</th>\n",
       "      <td>Musical_Instruments</td>\n",
       "      <td>I'm thinking of getting in to modular synthesi...</td>\n",
       "    </tr>\n",
       "  </tbody>\n",
       "</table>\n",
       "</div>"
      ],
      "text/plain": [
       "                      category  \\\n",
       "0               Toys_and_Games   \n",
       "1     Health_and_Personal_Care   \n",
       "2  Cell_Phones_and_Accessories   \n",
       "3             Home_and_Kitchen   \n",
       "4          Musical_Instruments   \n",
       "\n",
       "                                        questionText  \n",
       "0  Many have stated similar to the following: \"Pa...  \n",
       "1  Will these work with the Phillips sonicare han...  \n",
       "2                      What kind of sim card it use?  \n",
       "3  does anyone know if this dinnerware set does n...  \n",
       "4  I'm thinking of getting in to modular synthesi...  "
      ]
     },
     "execution_count": 5,
     "metadata": {},
     "output_type": "execute_result"
    }
   ],
   "source": [
    "df = pd.read_json('../data/train-qar.jsonl', lines=True, nrows=300000)\n",
    "df = df[['category', 'questionText']]\n",
    "df.head(5)"
   ]
  },
  {
   "cell_type": "code",
   "execution_count": 6,
   "metadata": {},
   "outputs": [
    {
     "data": {
      "text/plain": [
       "array(['Toys_and_Games', 'Health_and_Personal_Care',\n",
       "       'Cell_Phones_and_Accessories', 'Home_and_Kitchen',\n",
       "       'Musical_Instruments', 'Baby', 'Sports_and_Outdoors',\n",
       "       'Patio_Lawn_and_Garden', 'Video_Games', 'Pet_Supplies',\n",
       "       'Tools_and_Home_Improvement', 'Beauty', 'Electronics',\n",
       "       'Grocery_and_Gourmet_Food', 'Automotive', 'Office_Products',\n",
       "       'Clothing_Shoes_and_Jewelry'], dtype=object)"
      ]
     },
     "execution_count": 6,
     "metadata": {},
     "output_type": "execute_result"
    }
   ],
   "source": [
    "# Product category\n",
    "df['category'].unique()"
   ]
  },
  {
   "cell_type": "code",
   "execution_count": 7,
   "metadata": {},
   "outputs": [
    {
     "data": {
      "text/plain": [
       "category\n",
       "Electronics                    69163\n",
       "Home_and_Kitchen               43733\n",
       "Sports_and_Outdoors            28873\n",
       "Tools_and_Home_Improvement     25503\n",
       "Health_and_Personal_Care       19230\n",
       "Automotive                     18688\n",
       "Cell_Phones_and_Accessories    17052\n",
       "Patio_Lawn_and_Garden          14845\n",
       "Toys_and_Games                 12599\n",
       "Office_Products                10436\n",
       "Name: count, dtype: int64"
      ]
     },
     "execution_count": 7,
     "metadata": {},
     "output_type": "execute_result"
    }
   ],
   "source": [
    "df['category'].value_counts()[:10]"
   ]
  },
  {
   "cell_type": "code",
   "execution_count": 8,
   "metadata": {},
   "outputs": [],
   "source": [
    "# convert the text to numeric class\n",
    "# class_mapping = {\n",
    "#     'Toys_and_Games': 0,\n",
    "#     'Health_and_Personal_Care': 1,\n",
    "#     'Cell_Phones_and_Accessories': 2,\n",
    "#     'Home_and_Kitchen': 3,\n",
    "#     'Musical_Instruments': 4,\n",
    "#     'Baby': 5,\n",
    "#     'Sports_and_Outdoors': 6,\n",
    "#     'Patio_Lawn_and_Garden': 7,\n",
    "#     'Video_Games': 8,\n",
    "#     'Pet_Supplies': 9,\n",
    "#     'Tools_and_Home_Improvement': 10,\n",
    "#     'Beauty': 11,\n",
    "#     'Electronics': 12,\n",
    "#     'Grocery_and_Gourmet_Food': 13,\n",
    "#     'Automotive': 14,\n",
    "#     'Office_Products': 15,\n",
    "#     'Clothing_Shoes_and_Jewelry': 16\n",
    "# }\n",
    "\n",
    "class_mapping = {\n",
    "    'Electronics': 0,\n",
    "    'Home_and_Kitchen': 1,\n",
    "    'Sports_and_Outdoors': 2,\n",
    "    'Tools_and_Home_Improvement': 3,\n",
    "    'Health_and_Personal_Care': 4,\n",
    "    'Automotive': 5,\n",
    "    'Cell_Phones_and_Accessories': 6,\n",
    "    'Patio_Lawn_and_Garden': 7,\n",
    "    'Toys_and_Games': 8,\n",
    "    'Office_Products': 9\n",
    "}\n",
    "\n",
    "# Map class names to numerical labels\n",
    "df['category'] = df['category'].map(class_mapping)"
   ]
  },
  {
   "cell_type": "code",
   "execution_count": 9,
   "metadata": {},
   "outputs": [],
   "source": [
    "# sample 100 data in each classes\n",
    "df_sample = df.groupby('category', group_keys=False).apply(lambda x: x.sample(500))"
   ]
  },
  {
   "cell_type": "code",
   "execution_count": 10,
   "metadata": {},
   "outputs": [],
   "source": [
    "# convert to lower case\n",
    "df_sample['questionText']  =  df_sample['questionText'].apply(lambda x: x.lower() if isinstance(x, str) else x)"
   ]
  },
  {
   "cell_type": "code",
   "execution_count": 11,
   "metadata": {},
   "outputs": [],
   "source": [
    "def data_cleaning(data):\n",
    "    regex_s = re.sub(\"\\\\(.+?\\\\)|[\\r\\n|\\n\\r]|!\", \"\", data)\n",
    "    fin = \" \".join(regex_s.split())\n",
    "    return fin"
   ]
  },
  {
   "cell_type": "code",
   "execution_count": 12,
   "metadata": {},
   "outputs": [],
   "source": [
    "df_sample['questionText'] = df_sample['questionText'].apply(data_cleaning)"
   ]
  },
  {
   "cell_type": "code",
   "execution_count": 13,
   "metadata": {},
   "outputs": [],
   "source": [
    "df_sample = df_sample.astype({'category':int})"
   ]
  },
  {
   "cell_type": "code",
   "execution_count": 14,
   "metadata": {},
   "outputs": [],
   "source": [
    "train_df, val_df = train_test_split(df_sample, test_size=0.1,stratify=df_sample['category'], random_state=SEED)"
   ]
  },
  {
   "cell_type": "code",
   "execution_count": 15,
   "metadata": {},
   "outputs": [],
   "source": [
    "train_df, test_df = train_test_split(train_df, test_size=0.1, stratify=train_df['category'],random_state=SEED)"
   ]
  },
  {
   "cell_type": "code",
   "execution_count": 16,
   "metadata": {},
   "outputs": [
    {
     "data": {
      "text/plain": [
       "category\n",
       "4    405\n",
       "3    405\n",
       "7    405\n",
       "0    405\n",
       "9    405\n",
       "1    405\n",
       "6    405\n",
       "5    405\n",
       "8    405\n",
       "2    405\n",
       "Name: count, dtype: int64"
      ]
     },
     "execution_count": 16,
     "metadata": {},
     "output_type": "execute_result"
    }
   ],
   "source": [
    "train_df['category'].value_counts()"
   ]
  },
  {
   "cell_type": "code",
   "execution_count": 17,
   "metadata": {},
   "outputs": [
    {
     "data": {
      "text/html": [
       "<div>\n",
       "<style scoped>\n",
       "    .dataframe tbody tr th:only-of-type {\n",
       "        vertical-align: middle;\n",
       "    }\n",
       "\n",
       "    .dataframe tbody tr th {\n",
       "        vertical-align: top;\n",
       "    }\n",
       "\n",
       "    .dataframe thead th {\n",
       "        text-align: right;\n",
       "    }\n",
       "</style>\n",
       "<table border=\"1\" class=\"dataframe\">\n",
       "  <thead>\n",
       "    <tr style=\"text-align: right;\">\n",
       "      <th></th>\n",
       "      <th>category</th>\n",
       "      <th>questionText</th>\n",
       "    </tr>\n",
       "  </thead>\n",
       "  <tbody>\n",
       "    <tr>\n",
       "      <th>246218</th>\n",
       "      <td>4</td>\n",
       "      <td>would these work as 2-3 gallon trash liners???...</td>\n",
       "    </tr>\n",
       "    <tr>\n",
       "      <th>242735</th>\n",
       "      <td>3</td>\n",
       "      <td>does dimming lower electricity usage?</td>\n",
       "    </tr>\n",
       "    <tr>\n",
       "      <th>87495</th>\n",
       "      <td>7</td>\n",
       "      <td>i have a planter box i would like to put these...</td>\n",
       "    </tr>\n",
       "    <tr>\n",
       "      <th>282570</th>\n",
       "      <td>0</td>\n",
       "      <td>will this device work with dish vip 622? i wan...</td>\n",
       "    </tr>\n",
       "    <tr>\n",
       "      <th>10740</th>\n",
       "      <td>9</td>\n",
       "      <td>what periodic care should the brace receive? d...</td>\n",
       "    </tr>\n",
       "    <tr>\n",
       "      <th>...</th>\n",
       "      <td>...</td>\n",
       "      <td>...</td>\n",
       "    </tr>\n",
       "    <tr>\n",
       "      <th>7937</th>\n",
       "      <td>8</td>\n",
       "      <td>are the these from original series?</td>\n",
       "    </tr>\n",
       "    <tr>\n",
       "      <th>64520</th>\n",
       "      <td>4</td>\n",
       "      <td>are these one size fits all?</td>\n",
       "    </tr>\n",
       "    <tr>\n",
       "      <th>31211</th>\n",
       "      <td>1</td>\n",
       "      <td>does this come in the original box packaging o...</td>\n",
       "    </tr>\n",
       "    <tr>\n",
       "      <th>17117</th>\n",
       "      <td>7</td>\n",
       "      <td>do the zippers seem like they would last a lon...</td>\n",
       "    </tr>\n",
       "    <tr>\n",
       "      <th>264160</th>\n",
       "      <td>2</td>\n",
       "      <td>i don't see anyplace what size of top tubes th...</td>\n",
       "    </tr>\n",
       "  </tbody>\n",
       "</table>\n",
       "<p>4050 rows × 2 columns</p>\n",
       "</div>"
      ],
      "text/plain": [
       "        category                                       questionText\n",
       "246218         4  would these work as 2-3 gallon trash liners???...\n",
       "242735         3              does dimming lower electricity usage?\n",
       "87495          7  i have a planter box i would like to put these...\n",
       "282570         0  will this device work with dish vip 622? i wan...\n",
       "10740          9  what periodic care should the brace receive? d...\n",
       "...          ...                                                ...\n",
       "7937           8                are the these from original series?\n",
       "64520          4                       are these one size fits all?\n",
       "31211          1  does this come in the original box packaging o...\n",
       "17117          7  do the zippers seem like they would last a lon...\n",
       "264160         2  i don't see anyplace what size of top tubes th...\n",
       "\n",
       "[4050 rows x 2 columns]"
      ]
     },
     "execution_count": 17,
     "metadata": {},
     "output_type": "execute_result"
    }
   ],
   "source": [
    "train_df"
   ]
  },
  {
   "cell_type": "markdown",
   "metadata": {},
   "source": [
    "## 2.Preprocessing"
   ]
  },
  {
   "cell_type": "markdown",
   "metadata": {},
   "source": [
    "### Tokenizing"
   ]
  },
  {
   "cell_type": "code",
   "execution_count": 18,
   "metadata": {},
   "outputs": [
    {
     "data": {
      "text/plain": [
       "['What', 'is', 'the', 'best', 'product', '?']"
      ]
     },
     "execution_count": 18,
     "metadata": {},
     "output_type": "execute_result"
    }
   ],
   "source": [
    "from torchtext.data.utils import get_tokenizer\n",
    "\n",
    "tokenizer = get_tokenizer('spacy', language='en_core_web_sm')\n",
    "tokens    = tokenizer(\"What is the best product?\")\n",
    "tokens"
   ]
  },
  {
   "cell_type": "markdown",
   "metadata": {},
   "source": [
    "### Text to integers (numeral)"
   ]
  },
  {
   "cell_type": "code",
   "execution_count": 19,
   "metadata": {},
   "outputs": [],
   "source": [
    "from torchtext.vocab import build_vocab_from_iterator\n",
    "\n",
    "def yield_tokens(data):\n",
    "    for data_sample in data:\n",
    "        yield tokenizer(data_sample) \n",
    "        \n",
    "vocab = build_vocab_from_iterator(yield_tokens(train_df['questionText']), specials = ['<unk>', '<pad>', '<bos>', '<eos>'])\n",
    "vocab.set_default_index(vocab[\"<unk>\"])"
   ]
  },
  {
   "cell_type": "code",
   "execution_count": 20,
   "metadata": {},
   "outputs": [
    {
     "data": {
      "text/plain": [
       "[324, 8, 7]"
      ]
     },
     "execution_count": 20,
     "metadata": {},
     "output_type": "execute_result"
    }
   ],
   "source": [
    "vocab(['here', 'it', 'is'])"
   ]
  },
  {
   "cell_type": "code",
   "execution_count": 21,
   "metadata": {},
   "outputs": [
    {
     "data": {
      "text/plain": [
       "'<unk>'"
      ]
     },
     "execution_count": 21,
     "metadata": {},
     "output_type": "execute_result"
    }
   ],
   "source": [
    "mapping = vocab.get_itos()\n",
    "mapping[0]"
   ]
  },
  {
   "cell_type": "code",
   "execution_count": 22,
   "metadata": {},
   "outputs": [
    {
     "data": {
      "text/plain": [
       "6884"
      ]
     },
     "execution_count": 22,
     "metadata": {},
     "output_type": "execute_result"
    }
   ],
   "source": [
    "len(vocab)"
   ]
  },
  {
   "cell_type": "markdown",
   "metadata": {},
   "source": [
    "## 3. Data loader"
   ]
  },
  {
   "cell_type": "markdown",
   "metadata": {},
   "source": [
    "### FastText Embedding"
   ]
  },
  {
   "cell_type": "code",
   "execution_count": 23,
   "metadata": {},
   "outputs": [
    {
     "name": "stderr",
     "output_type": "stream",
     "text": [
      ".vector_cache/wiki.simple.vec: 293MB [00:20, 14.2MB/s]                              \n",
      "  0%|          | 0/111051 [00:00<?, ?it/s]Skipping token b'111051' with 1-dimensional vector [b'300']; likely a header\n",
      "100%|██████████| 111051/111051 [00:27<00:00, 4056.70it/s]\n"
     ]
    }
   ],
   "source": [
    "from torchtext.vocab import FastText\n",
    "fast_vectors = FastText(language='simple')"
   ]
  },
  {
   "cell_type": "code",
   "execution_count": 24,
   "metadata": {},
   "outputs": [],
   "source": [
    "fast_embedding = fast_vectors.get_vecs_by_tokens(vocab.get_itos()).to(device)"
   ]
  },
  {
   "cell_type": "code",
   "execution_count": 25,
   "metadata": {},
   "outputs": [
    {
     "data": {
      "text/plain": [
       "torch.Size([6884, 300])"
      ]
     },
     "execution_count": 25,
     "metadata": {},
     "output_type": "execute_result"
    }
   ],
   "source": [
    "fast_embedding.shape"
   ]
  },
  {
   "cell_type": "code",
   "execution_count": 26,
   "metadata": {},
   "outputs": [],
   "source": [
    "class DataWrap(Dataset):\n",
    "\n",
    "    def __init__(self, dataframe):\n",
    "        self.dataframe = dataframe\n",
    "    \n",
    "    def __len__(self):\n",
    "        return len(self.dataframe)\n",
    "        \n",
    "    def __getitem__(self, idx):\n",
    "        return self.dataframe.iloc[idx]"
   ]
  },
  {
   "cell_type": "code",
   "execution_count": 27,
   "metadata": {},
   "outputs": [
    {
     "data": {
      "text/plain": [
       "category                                                        4\n",
       "questionText    would these work as 2-3 gallon trash liners???...\n",
       "Name: 246218, dtype: object"
      ]
     },
     "execution_count": 27,
     "metadata": {},
     "output_type": "execute_result"
    }
   ],
   "source": [
    "train_df.iloc[0]"
   ]
  },
  {
   "cell_type": "code",
   "execution_count": 28,
   "metadata": {},
   "outputs": [],
   "source": [
    "train = DataWrap(train_df)\n",
    "valid = DataWrap(val_df)\n",
    "test = DataWrap(test_df)"
   ]
  },
  {
   "cell_type": "code",
   "execution_count": 29,
   "metadata": {},
   "outputs": [],
   "source": [
    "text_pipeline  = lambda x: vocab(tokenizer(x)) #{hello world this is yt} => {'hello', 'world', 'this', 'is', 'yt'} => {4, 88, 11, 22, 6}"
   ]
  },
  {
   "cell_type": "code",
   "execution_count": 30,
   "metadata": {},
   "outputs": [
    {
     "data": {
      "text/plain": [
       "[23, 7, 5, 358, 56, 4]"
      ]
     },
     "execution_count": 30,
     "metadata": {},
     "output_type": "execute_result"
    }
   ],
   "source": [
    "text_pipeline(\"what is the best product?\")"
   ]
  },
  {
   "cell_type": "code",
   "execution_count": 31,
   "metadata": {},
   "outputs": [],
   "source": [
    "#collate_fn to let each batch has same size\n",
    "from torch.utils.data import DataLoader\n",
    "from torch.nn.utils.rnn import pad_sequence\n",
    "\n",
    "pad_idx = vocab['<pad>'] #get index of pad in vocab list\n",
    "# padding for every sentencce in batch to have same length \n",
    "\n",
    "def collate_batch(batch):\n",
    "    label_list, text_list, length_list = [], [], []\n",
    "    for (_label, _text) in batch:\n",
    "        label_list.append(_label)\n",
    "        processed_text = torch.tensor(text_pipeline(_text), dtype=torch.int64) # convert to integer before appending\n",
    "        text_list.append(processed_text)\n",
    "        length_list.append(processed_text.size(0))\n",
    "    return torch.tensor(label_list, dtype=torch.int64), pad_sequence(text_list, padding_value=pad_idx, batch_first=True), torch.tensor(length_list, dtype=torch.int64)"
   ]
  },
  {
   "cell_type": "code",
   "execution_count": 32,
   "metadata": {},
   "outputs": [],
   "source": [
    "batch_size = 64\n",
    "\n",
    "train_loader = DataLoader(train, batch_size=batch_size, shuffle=True,  collate_fn=collate_batch) #num_workers to train faster\n",
    "val_loader   = DataLoader(valid, batch_size=batch_size, shuffle=False, collate_fn=collate_batch)\n",
    "test_loader  = DataLoader(test,  batch_size=batch_size, shuffle=False, collate_fn=collate_batch)"
   ]
  },
  {
   "cell_type": "code",
   "execution_count": 33,
   "metadata": {},
   "outputs": [],
   "source": [
    "for label, text, length in val_loader:\n",
    "    break"
   ]
  },
  {
   "cell_type": "code",
   "execution_count": 34,
   "metadata": {},
   "outputs": [
    {
     "data": {
      "text/plain": [
       "torch.Size([64])"
      ]
     },
     "execution_count": 34,
     "metadata": {},
     "output_type": "execute_result"
    }
   ],
   "source": [
    "label.shape #(batch_size, )"
   ]
  },
  {
   "cell_type": "code",
   "execution_count": 35,
   "metadata": {},
   "outputs": [
    {
     "data": {
      "text/plain": [
       "torch.Size([64, 35])"
      ]
     },
     "execution_count": 35,
     "metadata": {},
     "output_type": "execute_result"
    }
   ],
   "source": [
    "text.shape #(batch_size, seq len)"
   ]
  },
  {
   "cell_type": "code",
   "execution_count": 36,
   "metadata": {},
   "outputs": [
    {
     "data": {
      "text/plain": [
       "torch.Size([64])"
      ]
     },
     "execution_count": 36,
     "metadata": {},
     "output_type": "execute_result"
    }
   ],
   "source": [
    "length.shape #(batch_size, )"
   ]
  },
  {
   "cell_type": "markdown",
   "metadata": {},
   "source": [
    "## 4. Model (biLSTM)"
   ]
  },
  {
   "cell_type": "code",
   "execution_count": 37,
   "metadata": {},
   "outputs": [],
   "source": [
    "class LSTM(nn.Module):\n",
    "    def __init__(self, input_dim, emb_dim, hid_dim, num_layers, \n",
    "                 bidirectional, dropout, output_dim):\n",
    "        super(LSTM, self).__init__()\n",
    "        self.embedding = nn.Embedding(input_dim, emb_dim, padding_idx=pad_idx)\n",
    "        self.lstm      = nn.LSTM(\n",
    "                            emb_dim,\n",
    "                            hid_dim,\n",
    "                            num_layers=num_layers,\n",
    "                            bidirectional=bidirectional,\n",
    "                            dropout = dropout,\n",
    "                            batch_first = True\n",
    "                        )\n",
    "        self.fc        = nn.Linear(hid_dim * 2, output_dim) # time 2 b/c bidirectional, output_dim = 4 since there are 4 class\n",
    "    \n",
    "    def forward(self, text, text_length):\n",
    "        #text = [batch_size, seq len]\n",
    "        embedded = self.embedding(text)\n",
    "        #text = [batch_size, seq len, emb_dim]\n",
    "        \n",
    "        #pack sequence to ignore any padding\n",
    "        packed_embedded = nn.utils.rnn.pack_padded_sequence(embedded, text_length.to('cpu'), \n",
    "                                                            enforce_sorted=False, batch_first=True)\n",
    "        \n",
    "        packed_output, (hn, cn) = self.lstm(packed_embedded)\n",
    "        #output is basically all the hidden states;  hn is only last hidden state; cn is last cell state\n",
    "        \n",
    "        output, output_lengths = nn.utils.rnn.pad_packed_sequence(packed_output, batch_first=True)\n",
    "        #output = [batch_size, seq len, hidden_dim * num directions]\n",
    "        #hn     = [num_layers * num_directions, batch_size,  hid_dim]  #3 layers birectional - hn1f, hn1b, hn2f, hn2b, hn3f, hn3b\n",
    "        #cn     = [num_layers * num_directions, batch_size,  hid_dim]\n",
    "        \n",
    "        hn      = torch.cat((hn[-2, :, :], hn[-1, :, :]), dim = 1) # hn3f, hn3b\n",
    "        #hn     = [batch_size, hidden_dim * num_directions]\n",
    "        \n",
    "        return self.fc(hn)"
   ]
  },
  {
   "cell_type": "markdown",
   "metadata": {},
   "source": [
    "## 5. Train"
   ]
  },
  {
   "cell_type": "code",
   "execution_count": 38,
   "metadata": {},
   "outputs": [],
   "source": [
    "def initialize_weight(m):\n",
    "    if isinstance(m, nn.Linear):\n",
    "        nn.init.xavier_normal_(m.weight) # normal distribution\n",
    "        nn.init.zeros_(m.bias)\n",
    "    elif isinstance(m, nn.LSTM):\n",
    "        for name, param in m.named_parameters():\n",
    "            if 'bias' in name:\n",
    "                nn.init.zeros_(param)\n",
    "            elif 'weight' in name:\n",
    "                nn.init.orthogonal_(param)"
   ]
  },
  {
   "cell_type": "code",
   "execution_count": 39,
   "metadata": {},
   "outputs": [],
   "source": [
    "def accuracy(preds, y):\n",
    "    predicted  = torch.max(preds.data, 1)[1] #.data for getting value in tensor\n",
    "    batch_corr = (predicted == y).sum()\n",
    "    acc        = batch_corr / len(y)\n",
    "    return acc"
   ]
  },
  {
   "cell_type": "code",
   "execution_count": 40,
   "metadata": {},
   "outputs": [],
   "source": [
    "def train(model, loader, optimizer, criterion, loader_length):\n",
    "    epoch_loss = 0\n",
    "    epoch_acc  = 0\n",
    "    model.train()\n",
    "    \n",
    "    for i, (label, text, text_length) in enumerate(loader):\n",
    "        label = label.to(device)\n",
    "        text  = text.to(device)\n",
    "        \n",
    "        predictions = model(text, text_length).squeeze(1)\n",
    "        \n",
    "        loss = criterion(predictions, label)\n",
    "        acc  = accuracy(predictions, label)\n",
    "        \n",
    "        #backprop\n",
    "        optimizer.zero_grad()\n",
    "        loss.backward()\n",
    "        optimizer.step()\n",
    "        \n",
    "        epoch_loss += loss.item()\n",
    "        epoch_acc  += acc.item()\n",
    "        \n",
    "    return epoch_loss / loader_length, epoch_acc / loader_length"
   ]
  },
  {
   "cell_type": "code",
   "execution_count": 41,
   "metadata": {},
   "outputs": [],
   "source": [
    "def evaluate(model, loader, criterion, loader_length):\n",
    "    epoch_loss = 0\n",
    "    epoch_acc  = 0\n",
    "    model.eval()\n",
    "    \n",
    "    with torch.no_grad():\n",
    "        for i, (label, text, text_length) in enumerate(loader):\n",
    "            label = label.to(device)\n",
    "            text  = text.to(device)\n",
    "            \n",
    "            predictions = model(text, text_length).squeeze(1)\n",
    "            \n",
    "            loss = criterion(predictions, label)\n",
    "            acc  = accuracy(predictions, label)\n",
    "            \n",
    "            epoch_loss += loss.item()\n",
    "            epoch_acc  += acc.item()\n",
    "        \n",
    "    return epoch_loss / loader_length, epoch_acc / loader_length"
   ]
  },
  {
   "cell_type": "markdown",
   "metadata": {},
   "source": [
    "### Actual training"
   ]
  },
  {
   "cell_type": "code",
   "execution_count": 42,
   "metadata": {},
   "outputs": [],
   "source": [
    "train_loader_length = len(list(iter(train_loader)))\n",
    "val_loader_length   = len(list(iter(val_loader)))\n",
    "test_loader_length  = len(list(iter(test_loader)))"
   ]
  },
  {
   "cell_type": "code",
   "execution_count": 43,
   "metadata": {},
   "outputs": [],
   "source": [
    "def epoch_time(start_time, end_time):\n",
    "    elapsed_time = end_time - start_time\n",
    "    elapsed_mins = int(elapsed_time / 60)\n",
    "    elapsed_secs = int(elapsed_time - (elapsed_mins * 60))\n",
    "    return elapsed_mins, elapsed_secs"
   ]
  },
  {
   "cell_type": "code",
   "execution_count": 44,
   "metadata": {},
   "outputs": [
    {
     "name": "stderr",
     "output_type": "stream",
     "text": [
      "/usr/local/lib/python3.10/site-packages/pydantic/_internal/_fields.py:160: UserWarning: Field \"model_server_url\" has conflict with protected namespace \"model_\".\n",
      "\n",
      "You may be able to resolve this warning by setting `model_config['protected_namespaces'] = ()`.\n",
      "  warnings.warn(\n",
      "/usr/local/lib/python3.10/site-packages/pydantic/_internal/_config.py:334: UserWarning: Valid config keys have changed in V2:\n",
      "* 'schema_extra' has been renamed to 'json_schema_extra'\n",
      "  warnings.warn(message, UserWarning)\n",
      "2024/04/26 15:48:36 INFO mlflow.tracking.fluent: Experiment with name 'biLSTM500_10class' does not exist. Creating a new experiment.\n"
     ]
    },
    {
     "data": {
      "text/plain": [
       "<Experiment: artifact_location='mlflow-artifacts:/723181846728502533', creation_time=1714121316923, experiment_id='723181846728502533', last_update_time=1714121316923, lifecycle_stage='active', name='biLSTM500_10class', tags={}>"
      ]
     },
     "execution_count": 44,
     "metadata": {},
     "output_type": "execute_result"
    }
   ],
   "source": [
    "#experiment tracking\n",
    "import mlflow\n",
    "from mlflow.models import infer_signature\n",
    "import os\n",
    "\n",
    "# This the dockerized method.\n",
    "# We build two docker containers, one for python/jupyter and another for mlflow.\n",
    "# The url `mlflow` is resolved into another container within the same composer.\n",
    "mlflow.set_tracking_uri(\"http://mlflow:5000\")\n",
    "# In the dockerized way, the user who runs this code will be `root`.\n",
    "# The MLflow will also log the run user_id as `root`.\n",
    "# To change that, we need to set this environ[\"LOGNAME\"] to your name.\n",
    "os.environ[\"LOGNAME\"] = \"noppawee\"\n",
    "#mlflow.create_experiment(name=\"noppawee-ML-project\")  #create if you haven't create\n",
    "mlflow.set_experiment(experiment_name=\"biLSTM500_10class\")\n"
   ]
  },
  {
   "cell_type": "code",
   "execution_count": 45,
   "metadata": {},
   "outputs": [
    {
     "name": "stdout",
     "output_type": "stream",
     "text": [
      "===== biLSTM with 5-epochs-128-hidden dim-2-num layers =====\n",
      "Epoch: 1 | Time: 0m 7s\n",
      "\tTrain Loss: 2.177 | Train Acc: 17.85%\n",
      "\tVal.  Loss: 2.099 | Val Acc: 21.30%\n"
     ]
    },
    {
     "name": "stderr",
     "output_type": "stream",
     "text": [
      "/usr/local/lib/python3.10/site-packages/_distutils_hack/__init__.py:18: UserWarning: Distutils was imported before Setuptools, but importing Setuptools also replaces the `distutils` module in `sys.modules`. This may lead to undesirable behaviors or errors. To avoid these issues, avoid using distutils directly, ensure that setuptools is installed in the traditional way (e.g. not an editable install), and/or make sure that setuptools is always imported before distutils.\n",
      "  warnings.warn(\n",
      "/usr/local/lib/python3.10/site-packages/_distutils_hack/__init__.py:33: UserWarning: Setuptools is replacing distutils.\n",
      "  warnings.warn(\"Setuptools is replacing distutils.\")\n"
     ]
    },
    {
     "name": "stdout",
     "output_type": "stream",
     "text": [
      "Epoch: 2 | Time: 0m 7s\n",
      "\tTrain Loss: 1.827 | Train Acc: 35.36%\n",
      "\tVal.  Loss: 1.942 | Val Acc: 29.51%\n",
      "Epoch: 3 | Time: 0m 6s\n",
      "\tTrain Loss: 1.468 | Train Acc: 49.89%\n",
      "\tVal.  Loss: 1.958 | Val Acc: 33.25%\n",
      "Epoch: 4 | Time: 0m 6s\n",
      "\tTrain Loss: 1.084 | Train Acc: 65.31%\n",
      "\tVal.  Loss: 2.047 | Val Acc: 35.74%\n",
      "Epoch: 5 | Time: 0m 6s\n",
      "\tTrain Loss: 0.763 | Train Acc: 75.63%\n",
      "\tVal.  Loss: 2.338 | Val Acc: 35.19%\n",
      "===== biLSTM with 5-epochs-128-hidden dim-4-num layers =====\n",
      "Epoch: 1 | Time: 0m 13s\n",
      "\tTrain Loss: 2.006 | Train Acc: 24.19%\n",
      "\tVal.  Loss: 2.156 | Val Acc: 24.08%\n",
      "Epoch: 2 | Time: 0m 13s\n",
      "\tTrain Loss: 1.231 | Train Acc: 57.72%\n",
      "\tVal.  Loss: 2.272 | Val Acc: 31.20%\n",
      "Epoch: 3 | Time: 0m 12s\n",
      "\tTrain Loss: 0.815 | Train Acc: 73.70%\n",
      "\tVal.  Loss: 2.339 | Val Acc: 34.22%\n",
      "Epoch: 4 | Time: 0m 13s\n",
      "\tTrain Loss: 0.615 | Train Acc: 80.70%\n",
      "\tVal.  Loss: 2.723 | Val Acc: 33.55%\n",
      "Epoch: 5 | Time: 0m 13s\n",
      "\tTrain Loss: 0.465 | Train Acc: 86.17%\n",
      "\tVal.  Loss: 2.924 | Val Acc: 32.24%\n",
      "===== biLSTM with 5-epochs-128-hidden dim-6-num layers =====\n",
      "Epoch: 1 | Time: 0m 20s\n",
      "\tTrain Loss: 2.051 | Train Acc: 19.33%\n",
      "\tVal.  Loss: 2.230 | Val Acc: 17.50%\n",
      "Epoch: 2 | Time: 0m 17s\n",
      "\tTrain Loss: 1.411 | Train Acc: 45.88%\n",
      "\tVal.  Loss: 2.453 | Val Acc: 26.82%\n",
      "Epoch: 3 | Time: 0m 18s\n",
      "\tTrain Loss: 1.024 | Train Acc: 62.82%\n",
      "\tVal.  Loss: 2.596 | Val Acc: 27.30%\n",
      "Epoch: 4 | Time: 0m 17s\n",
      "\tTrain Loss: 0.830 | Train Acc: 71.94%\n",
      "\tVal.  Loss: 2.661 | Val Acc: 29.34%\n",
      "Epoch: 5 | Time: 0m 17s\n",
      "\tTrain Loss: 0.677 | Train Acc: 78.13%\n",
      "\tVal.  Loss: 2.872 | Val Acc: 32.27%\n",
      "===== biLSTM with 5-epochs-256-hidden dim-2-num layers =====\n",
      "Epoch: 1 | Time: 0m 11s\n",
      "\tTrain Loss: 1.310 | Train Acc: 55.49%\n",
      "\tVal.  Loss: 2.737 | Val Acc: 34.18%\n",
      "Epoch: 2 | Time: 0m 11s\n",
      "\tTrain Loss: 0.490 | Train Acc: 84.93%\n",
      "\tVal.  Loss: 2.908 | Val Acc: 36.03%\n",
      "Epoch: 3 | Time: 0m 11s\n",
      "\tTrain Loss: 0.384 | Train Acc: 87.79%\n",
      "\tVal.  Loss: 3.042 | Val Acc: 33.73%\n",
      "Epoch: 4 | Time: 0m 12s\n",
      "\tTrain Loss: 0.271 | Train Acc: 91.47%\n",
      "\tVal.  Loss: 3.189 | Val Acc: 34.96%\n",
      "Epoch: 5 | Time: 0m 11s\n",
      "\tTrain Loss: 0.220 | Train Acc: 93.23%\n",
      "\tVal.  Loss: 3.576 | Val Acc: 35.44%\n",
      "===== biLSTM with 5-epochs-256-hidden dim-4-num layers =====\n",
      "Epoch: 1 | Time: 0m 21s\n",
      "\tTrain Loss: 1.266 | Train Acc: 53.51%\n",
      "\tVal.  Loss: 3.073 | Val Acc: 32.47%\n",
      "Epoch: 2 | Time: 0m 21s\n",
      "\tTrain Loss: 0.440 | Train Acc: 86.33%\n",
      "\tVal.  Loss: 3.317 | Val Acc: 33.25%\n",
      "Epoch: 3 | Time: 0m 23s\n",
      "\tTrain Loss: 0.349 | Train Acc: 88.84%\n",
      "\tVal.  Loss: 3.181 | Val Acc: 32.42%\n",
      "Epoch: 4 | Time: 0m 22s\n",
      "\tTrain Loss: 0.264 | Train Acc: 92.14%\n",
      "\tVal.  Loss: 3.504 | Val Acc: 33.49%\n",
      "Epoch: 5 | Time: 0m 24s\n",
      "\tTrain Loss: 0.239 | Train Acc: 92.23%\n",
      "\tVal.  Loss: 3.653 | Val Acc: 32.66%\n",
      "===== biLSTM with 5-epochs-256-hidden dim-6-num layers =====\n",
      "Epoch: 1 | Time: 0m 33s\n",
      "\tTrain Loss: 1.623 | Train Acc: 36.32%\n",
      "\tVal.  Loss: 2.867 | Val Acc: 24.76%\n",
      "Epoch: 2 | Time: 0m 34s\n",
      "\tTrain Loss: 0.719 | Train Acc: 76.36%\n",
      "\tVal.  Loss: 3.136 | Val Acc: 27.88%\n",
      "Epoch: 3 | Time: 0m 33s\n",
      "\tTrain Loss: 0.439 | Train Acc: 85.76%\n",
      "\tVal.  Loss: 3.343 | Val Acc: 31.72%\n",
      "Epoch: 4 | Time: 0m 34s\n",
      "\tTrain Loss: 0.391 | Train Acc: 87.35%\n",
      "\tVal.  Loss: 3.311 | Val Acc: 29.10%\n",
      "Epoch: 5 | Time: 0m 33s\n",
      "\tTrain Loss: 0.272 | Train Acc: 91.60%\n",
      "\tVal.  Loss: 3.912 | Val Acc: 30.38%\n",
      "===== biLSTM with 5-epochs-512-hidden dim-2-num layers =====\n",
      "Epoch: 1 | Time: 0m 29s\n",
      "\tTrain Loss: 0.861 | Train Acc: 71.41%\n",
      "\tVal.  Loss: 4.449 | Val Acc: 30.03%\n",
      "Epoch: 2 | Time: 0m 31s\n",
      "\tTrain Loss: 0.346 | Train Acc: 89.15%\n",
      "\tVal.  Loss: 3.651 | Val Acc: 32.51%\n",
      "Epoch: 3 | Time: 0m 29s\n",
      "\tTrain Loss: 0.204 | Train Acc: 93.87%\n",
      "\tVal.  Loss: 4.308 | Val Acc: 32.57%\n",
      "Epoch: 4 | Time: 0m 30s\n",
      "\tTrain Loss: 0.215 | Train Acc: 93.23%\n",
      "\tVal.  Loss: 4.021 | Val Acc: 32.51%\n",
      "Epoch: 5 | Time: 0m 29s\n",
      "\tTrain Loss: 0.183 | Train Acc: 94.26%\n",
      "\tVal.  Loss: 4.210 | Val Acc: 33.44%\n",
      "===== biLSTM with 5-epochs-512-hidden dim-4-num layers =====\n",
      "Epoch: 1 | Time: 1m 2s\n",
      "\tTrain Loss: 1.133 | Train Acc: 60.04%\n",
      "\tVal.  Loss: 3.607 | Val Acc: 29.15%\n",
      "Epoch: 2 | Time: 1m 3s\n",
      "\tTrain Loss: 0.370 | Train Acc: 87.69%\n",
      "\tVal.  Loss: 3.651 | Val Acc: 27.78%\n",
      "Epoch: 3 | Time: 1m 5s\n",
      "\tTrain Loss: 0.301 | Train Acc: 90.19%\n",
      "\tVal.  Loss: 3.544 | Val Acc: 31.54%\n",
      "Epoch: 4 | Time: 1m 1s\n",
      "\tTrain Loss: 0.209 | Train Acc: 93.19%\n",
      "\tVal.  Loss: 4.213 | Val Acc: 30.32%\n",
      "Epoch: 5 | Time: 1m 2s\n",
      "\tTrain Loss: 0.226 | Train Acc: 92.68%\n",
      "\tVal.  Loss: 3.883 | Val Acc: 33.14%\n",
      "===== biLSTM with 5-epochs-512-hidden dim-6-num layers =====\n",
      "Epoch: 1 | Time: 1m 32s\n",
      "\tTrain Loss: 1.609 | Train Acc: 39.02%\n",
      "\tVal.  Loss: 3.051 | Val Acc: 27.15%\n",
      "Epoch: 2 | Time: 1m 30s\n",
      "\tTrain Loss: 0.582 | Train Acc: 81.26%\n",
      "\tVal.  Loss: 3.163 | Val Acc: 30.27%\n",
      "Epoch: 3 | Time: 1m 30s\n",
      "\tTrain Loss: 0.354 | Train Acc: 88.95%\n",
      "\tVal.  Loss: 3.750 | Val Acc: 31.16%\n",
      "Epoch: 4 | Time: 1m 30s\n",
      "\tTrain Loss: 0.268 | Train Acc: 91.78%\n",
      "\tVal.  Loss: 3.608 | Val Acc: 29.69%\n",
      "Epoch: 5 | Time: 1m 32s\n",
      "\tTrain Loss: 0.286 | Train Acc: 91.34%\n",
      "\tVal.  Loss: 3.454 | Val Acc: 31.14%\n"
     ]
    },
    {
     "ename": "",
     "evalue": "",
     "output_type": "error",
     "traceback": [
      "\u001b[1;31mThe Kernel crashed while executing code in the current cell or a previous cell. \n",
      "\u001b[1;31mPlease review the code in the cell(s) to identify a possible cause of the failure. \n",
      "\u001b[1;31mClick <a href='https://aka.ms/vscodeJupyterKernelCrash'>here</a> for more info. \n",
      "\u001b[1;31mView Jupyter <a href='command:jupyter.viewOutput'>log</a> for further details."
     ]
    }
   ],
   "source": [
    "import time\n",
    "import torch.optim as optim\n",
    "\n",
    "num_epochs = [5]\n",
    "hid_dims = [128,256,512]\n",
    "num_layers = [2,4,6]\n",
    "\n",
    "for num_epoch in num_epochs:\n",
    "    for hid_dim in hid_dims:\n",
    "        for num_layer in num_layers:\n",
    "            input_dim = len(vocab)\n",
    "            emb_dim   = 300 #fasttext\n",
    "            output_dim = 10 #10 types of product question\n",
    "            bidirectional = True\n",
    "            dropout    = 0.5  # dropout between layers\n",
    "\n",
    "            params={\"model\":\"biLSTM\", \"num_epochs\":num_epoch, \"input_dim\":input_dim, \"hid_dim\":hid_dim, \"emb_dim\":emb_dim, \"output_dim\":output_dim, \"num_layers\":num_layer, \"dropout\":0.5}\n",
    "            mlflow.start_run(run_name=f\"biLSTM500-{params['num_epochs']}-epochs-{params['hid_dim']}-hidden dim-{params['num_layers']}-num layers-10class\")\n",
    "            mlflow.log_params(params)\n",
    "\n",
    "            print(\"=\"*5, f\"biLSTM with {params['num_epochs']}-epochs-{params['hid_dim']}-hidden dim-{params['num_layers']}-num layers\",\"=\"*5)\n",
    "\n",
    "            model = LSTM(input_dim, emb_dim, hid_dim, num_layer, bidirectional, dropout, output_dim)\n",
    "            model.apply(initialize_weight)\n",
    "            model.embedding.weight.data = fast_embedding\n",
    "\n",
    "            lr = 1e-3\n",
    "            optimizer = optim.Adam(model.parameters(), lr=lr)\n",
    "            criterion = nn.CrossEntropyLoss()\n",
    "\n",
    "            train_losses, train_accs, val_losses, val_accs = [],[],[],[]\n",
    "            best_valid_loss = float('inf')\n",
    "\n",
    "            for epoch in range(num_epoch):\n",
    "                start_time = time.time()\n",
    "                \n",
    "                train_loss, train_acc = train(model, train_loader, optimizer, criterion, train_loader_length)\n",
    "                valid_loss, valid_acc = evaluate(model, val_loader, criterion, val_loader_length)\n",
    "                \n",
    "                #for plotting\n",
    "                train_losses.append(train_loss)\n",
    "                train_accs.append(train_acc)\n",
    "                val_losses.append(valid_loss)\n",
    "                val_accs.append(valid_acc)\n",
    "                \n",
    "                end_time = time.time()\n",
    "                \n",
    "                epoch_mins, epoch_secs = epoch_time(start_time, end_time)\n",
    "                mlflow.log_metric(key=\"train_loss\", value=train_loss, step=epoch)\n",
    "                mlflow.log_metric(key=\"train_acc\", value=train_acc, step=epoch)\n",
    "                mlflow.log_metric(key=\"val_loss\", value=valid_loss, step=epoch)\n",
    "                mlflow.log_metric(key=\"val_acc\", value=valid_acc, step=epoch)\n",
    "                \n",
    "            \n",
    "                #early stopping\n",
    "                if valid_loss < best_valid_loss:\n",
    "                    best_valid_loss = valid_loss\n",
    "                    mlflow.pytorch.log_model(model, \"model\")\n",
    "                \n",
    "                print(f'Epoch: {epoch+1} | Time: {epoch_mins}m {epoch_secs}s')\n",
    "                print(f'\\tTrain Loss: {train_loss:.3f} | Train Acc: {train_acc*100:.2f}%')\n",
    "                print(f'\\tVal.  Loss: {valid_loss:.3f} | Val Acc: {valid_acc*100:.2f}%')\n",
    "            mlflow.log_metric(key=\"min_val_loss\", value=min(val_losses), step=epoch)    \n",
    "            mlflow.end_run()\n",
    "        "
   ]
  }
 ],
 "metadata": {
  "kernelspec": {
   "display_name": "Python 3 (ipykernel)",
   "language": "python",
   "name": "python3"
  },
  "language_info": {
   "codemirror_mode": {
    "name": "ipython",
    "version": 3
   },
   "file_extension": ".py",
   "mimetype": "text/x-python",
   "name": "python",
   "nbconvert_exporter": "python",
   "pygments_lexer": "ipython3",
   "version": "3.10.12"
  }
 },
 "nbformat": 4,
 "nbformat_minor": 2
}

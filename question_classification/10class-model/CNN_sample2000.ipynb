{
 "cells": [
  {
   "cell_type": "code",
   "execution_count": 1,
   "metadata": {},
   "outputs": [
    {
     "name": "stderr",
     "output_type": "stream",
     "text": [
      "/usr/local/lib/python3.10/site-packages/tqdm/auto.py:21: TqdmWarning: IProgress not found. Please update jupyter and ipywidgets. See https://ipywidgets.readthedocs.io/en/stable/user_install.html\n",
      "  from .autonotebook import tqdm as notebook_tqdm\n"
     ]
    }
   ],
   "source": [
    "import torch, torchdata, torchtext\n",
    "import torch.nn as nn\n",
    "import pandas as pd\n",
    "import re\n",
    "from sklearn.model_selection import train_test_split\n",
    "from torch.nn.utils.rnn import pad_sequence\n",
    "from torch.utils.data import DataLoader, Dataset\n",
    "from transformers import BertTokenizer, BertModel, AdamW, get_linear_schedule_with_warmup\n",
    "from sklearn.metrics import accuracy_score, classification_report\n"
   ]
  },
  {
   "cell_type": "code",
   "execution_count": 2,
   "metadata": {},
   "outputs": [
    {
     "data": {
      "text/plain": [
       "('2.2.2+cu121', '0.7.1', '0.17.2+cpu')"
      ]
     },
     "execution_count": 2,
     "metadata": {},
     "output_type": "execute_result"
    }
   ],
   "source": [
    "torch.__version__, torchdata.__version__, torchtext.__version__"
   ]
  },
  {
   "cell_type": "code",
   "execution_count": 3,
   "metadata": {},
   "outputs": [],
   "source": [
    "device = torch.device('cuda' if torch.cuda.is_available() else 'cpu')"
   ]
  },
  {
   "cell_type": "code",
   "execution_count": 4,
   "metadata": {},
   "outputs": [],
   "source": [
    "SEED = 1234 #change three times\n",
    "torch.manual_seed(SEED)\n",
    "torch.backends.cudnn.deterministic = True"
   ]
  },
  {
   "cell_type": "markdown",
   "metadata": {},
   "source": [
    "## 1. load dataset"
   ]
  },
  {
   "cell_type": "code",
   "execution_count": 5,
   "metadata": {},
   "outputs": [
    {
     "data": {
      "text/html": [
       "<div>\n",
       "<style scoped>\n",
       "    .dataframe tbody tr th:only-of-type {\n",
       "        vertical-align: middle;\n",
       "    }\n",
       "\n",
       "    .dataframe tbody tr th {\n",
       "        vertical-align: top;\n",
       "    }\n",
       "\n",
       "    .dataframe thead th {\n",
       "        text-align: right;\n",
       "    }\n",
       "</style>\n",
       "<table border=\"1\" class=\"dataframe\">\n",
       "  <thead>\n",
       "    <tr style=\"text-align: right;\">\n",
       "      <th></th>\n",
       "      <th>category</th>\n",
       "      <th>questionText</th>\n",
       "    </tr>\n",
       "  </thead>\n",
       "  <tbody>\n",
       "    <tr>\n",
       "      <th>0</th>\n",
       "      <td>Toys_and_Games</td>\n",
       "      <td>Many have stated similar to the following: \"Pa...</td>\n",
       "    </tr>\n",
       "    <tr>\n",
       "      <th>1</th>\n",
       "      <td>Health_and_Personal_Care</td>\n",
       "      <td>Will these work with the Phillips sonicare han...</td>\n",
       "    </tr>\n",
       "    <tr>\n",
       "      <th>2</th>\n",
       "      <td>Cell_Phones_and_Accessories</td>\n",
       "      <td>What kind of sim card it use?</td>\n",
       "    </tr>\n",
       "    <tr>\n",
       "      <th>3</th>\n",
       "      <td>Home_and_Kitchen</td>\n",
       "      <td>does anyone know if this dinnerware set does n...</td>\n",
       "    </tr>\n",
       "    <tr>\n",
       "      <th>4</th>\n",
       "      <td>Musical_Instruments</td>\n",
       "      <td>I'm thinking of getting in to modular synthesi...</td>\n",
       "    </tr>\n",
       "  </tbody>\n",
       "</table>\n",
       "</div>"
      ],
      "text/plain": [
       "                      category  \\\n",
       "0               Toys_and_Games   \n",
       "1     Health_and_Personal_Care   \n",
       "2  Cell_Phones_and_Accessories   \n",
       "3             Home_and_Kitchen   \n",
       "4          Musical_Instruments   \n",
       "\n",
       "                                        questionText  \n",
       "0  Many have stated similar to the following: \"Pa...  \n",
       "1  Will these work with the Phillips sonicare han...  \n",
       "2                      What kind of sim card it use?  \n",
       "3  does anyone know if this dinnerware set does n...  \n",
       "4  I'm thinking of getting in to modular synthesi...  "
      ]
     },
     "execution_count": 5,
     "metadata": {},
     "output_type": "execute_result"
    }
   ],
   "source": [
    "df = pd.read_json('../data/train-qar.jsonl', lines=True, nrows=300000)\n",
    "df = df[['category', 'questionText']]\n",
    "df.head(5)"
   ]
  },
  {
   "cell_type": "code",
   "execution_count": 6,
   "metadata": {},
   "outputs": [
    {
     "data": {
      "text/plain": [
       "array(['Toys_and_Games', 'Health_and_Personal_Care',\n",
       "       'Cell_Phones_and_Accessories', 'Home_and_Kitchen',\n",
       "       'Musical_Instruments', 'Baby', 'Sports_and_Outdoors',\n",
       "       'Patio_Lawn_and_Garden', 'Video_Games', 'Pet_Supplies',\n",
       "       'Tools_and_Home_Improvement', 'Beauty', 'Electronics',\n",
       "       'Grocery_and_Gourmet_Food', 'Automotive', 'Office_Products',\n",
       "       'Clothing_Shoes_and_Jewelry'], dtype=object)"
      ]
     },
     "execution_count": 6,
     "metadata": {},
     "output_type": "execute_result"
    }
   ],
   "source": [
    "# Product category\n",
    "df['category'].unique()"
   ]
  },
  {
   "cell_type": "code",
   "execution_count": 7,
   "metadata": {},
   "outputs": [
    {
     "data": {
      "text/plain": [
       "category\n",
       "Electronics                    69163\n",
       "Home_and_Kitchen               43733\n",
       "Sports_and_Outdoors            28873\n",
       "Tools_and_Home_Improvement     25503\n",
       "Health_and_Personal_Care       19230\n",
       "Automotive                     18688\n",
       "Cell_Phones_and_Accessories    17052\n",
       "Patio_Lawn_and_Garden          14845\n",
       "Toys_and_Games                 12599\n",
       "Office_Products                10436\n",
       "Name: count, dtype: int64"
      ]
     },
     "execution_count": 7,
     "metadata": {},
     "output_type": "execute_result"
    }
   ],
   "source": [
    "df['category'].value_counts()[:10]"
   ]
  },
  {
   "cell_type": "code",
   "execution_count": 8,
   "metadata": {},
   "outputs": [],
   "source": [
    "# convert the text to numeric class\n",
    "# class_mapping = {\n",
    "#     'Toys_and_Games': 0,\n",
    "#     'Health_and_Personal_Care': 1,\n",
    "#     'Cell_Phones_and_Accessories': 2,\n",
    "#     'Home_and_Kitchen': 3,\n",
    "#     'Musical_Instruments': 4,\n",
    "#     'Baby': 5,\n",
    "#     'Sports_and_Outdoors': 6,\n",
    "#     'Patio_Lawn_and_Garden': 7,\n",
    "#     'Video_Games': 8,\n",
    "#     'Pet_Supplies': 9,\n",
    "#     'Tools_and_Home_Improvement': 10,\n",
    "#     'Beauty': 11,\n",
    "#     'Electronics': 12,\n",
    "#     'Grocery_and_Gourmet_Food': 13,\n",
    "#     'Automotive': 14,\n",
    "#     'Office_Products': 15,\n",
    "#     'Clothing_Shoes_and_Jewelry': 16\n",
    "# }\n",
    "\n",
    "class_mapping = {\n",
    "    'Electronics': 0,\n",
    "    'Home_and_Kitchen': 1,\n",
    "    'Sports_and_Outdoors': 2,\n",
    "    'Tools_and_Home_Improvement': 3,\n",
    "    'Health_and_Personal_Care': 4,\n",
    "    'Automotive': 5,\n",
    "    'Cell_Phones_and_Accessories': 6,\n",
    "    'Patio_Lawn_and_Garden': 7,\n",
    "    'Toys_and_Games': 8,\n",
    "    'Office_Products': 9\n",
    "}\n",
    "\n",
    "# Map class names to numerical labels\n",
    "df['category'] = df['category'].map(class_mapping)"
   ]
  },
  {
   "cell_type": "code",
   "execution_count": 9,
   "metadata": {},
   "outputs": [],
   "source": [
    "# sample 100 data in each classes\n",
    "df_sample = df.groupby('category', group_keys=False).apply(lambda x: x.sample(2000))"
   ]
  },
  {
   "cell_type": "code",
   "execution_count": 10,
   "metadata": {},
   "outputs": [],
   "source": [
    "# convert to lower case\n",
    "df_sample['questionText']  =  df_sample['questionText'].apply(lambda x: x.lower() if isinstance(x, str) else x)"
   ]
  },
  {
   "cell_type": "code",
   "execution_count": 11,
   "metadata": {},
   "outputs": [],
   "source": [
    "def data_cleaning(data):\n",
    "    regex_s = re.sub(\"\\\\(.+?\\\\)|[\\r\\n|\\n\\r]|!\", \"\", data)\n",
    "    fin = \" \".join(regex_s.split())\n",
    "    return fin"
   ]
  },
  {
   "cell_type": "code",
   "execution_count": 12,
   "metadata": {},
   "outputs": [],
   "source": [
    "df_sample['questionText'] = df_sample['questionText'].apply(data_cleaning)"
   ]
  },
  {
   "cell_type": "code",
   "execution_count": 13,
   "metadata": {},
   "outputs": [],
   "source": [
    "df_sample = df_sample.astype({'category':int})"
   ]
  },
  {
   "cell_type": "code",
   "execution_count": 14,
   "metadata": {},
   "outputs": [],
   "source": [
    "train_df, val_df = train_test_split(df_sample, test_size=0.1,stratify=df_sample['category'], random_state=SEED)"
   ]
  },
  {
   "cell_type": "code",
   "execution_count": 15,
   "metadata": {},
   "outputs": [],
   "source": [
    "train_df, test_df = train_test_split(train_df, test_size=0.1, stratify=train_df['category'],random_state=SEED)"
   ]
  },
  {
   "cell_type": "code",
   "execution_count": 16,
   "metadata": {},
   "outputs": [
    {
     "data": {
      "text/plain": [
       "category\n",
       "4    1620\n",
       "6    1620\n",
       "1    1620\n",
       "7    1620\n",
       "5    1620\n",
       "9    1620\n",
       "2    1620\n",
       "8    1620\n",
       "3    1620\n",
       "0    1620\n",
       "Name: count, dtype: int64"
      ]
     },
     "execution_count": 16,
     "metadata": {},
     "output_type": "execute_result"
    }
   ],
   "source": [
    "train_df['category'].value_counts()"
   ]
  },
  {
   "cell_type": "code",
   "execution_count": 17,
   "metadata": {},
   "outputs": [
    {
     "data": {
      "text/html": [
       "<div>\n",
       "<style scoped>\n",
       "    .dataframe tbody tr th:only-of-type {\n",
       "        vertical-align: middle;\n",
       "    }\n",
       "\n",
       "    .dataframe tbody tr th {\n",
       "        vertical-align: top;\n",
       "    }\n",
       "\n",
       "    .dataframe thead th {\n",
       "        text-align: right;\n",
       "    }\n",
       "</style>\n",
       "<table border=\"1\" class=\"dataframe\">\n",
       "  <thead>\n",
       "    <tr style=\"text-align: right;\">\n",
       "      <th></th>\n",
       "      <th>category</th>\n",
       "      <th>questionText</th>\n",
       "    </tr>\n",
       "  </thead>\n",
       "  <tbody>\n",
       "    <tr>\n",
       "      <th>99368</th>\n",
       "      <td>4</td>\n",
       "      <td>how long does the hair need to be in order to ...</td>\n",
       "    </tr>\n",
       "    <tr>\n",
       "      <th>233237</th>\n",
       "      <td>6</td>\n",
       "      <td>why my straight talk galaxy s 2 serial number ...</td>\n",
       "    </tr>\n",
       "    <tr>\n",
       "      <th>66367</th>\n",
       "      <td>1</td>\n",
       "      <td>can this be used to sharpen santoku knives?</td>\n",
       "    </tr>\n",
       "    <tr>\n",
       "      <th>131690</th>\n",
       "      <td>7</td>\n",
       "      <td>can anyone tell me roughly how much and/or how...</td>\n",
       "    </tr>\n",
       "    <tr>\n",
       "      <th>8295</th>\n",
       "      <td>5</td>\n",
       "      <td>is this for the front or back</td>\n",
       "    </tr>\n",
       "    <tr>\n",
       "      <th>...</th>\n",
       "      <td>...</td>\n",
       "      <td>...</td>\n",
       "    </tr>\n",
       "    <tr>\n",
       "      <th>181175</th>\n",
       "      <td>8</td>\n",
       "      <td>can i install this on an 1/10 e revo and a rev...</td>\n",
       "    </tr>\n",
       "    <tr>\n",
       "      <th>70942</th>\n",
       "      <td>0</td>\n",
       "      <td>does this device also charges</td>\n",
       "    </tr>\n",
       "    <tr>\n",
       "      <th>139016</th>\n",
       "      <td>0</td>\n",
       "      <td>modem only has 1 ethernet output. i have an ac...</td>\n",
       "    </tr>\n",
       "    <tr>\n",
       "      <th>195660</th>\n",
       "      <td>4</td>\n",
       "      <td>how much does it weigh</td>\n",
       "    </tr>\n",
       "    <tr>\n",
       "      <th>257810</th>\n",
       "      <td>6</td>\n",
       "      <td>is this a prepaid phone or a contract phone</td>\n",
       "    </tr>\n",
       "  </tbody>\n",
       "</table>\n",
       "<p>16200 rows × 2 columns</p>\n",
       "</div>"
      ],
      "text/plain": [
       "        category                                       questionText\n",
       "99368          4  how long does the hair need to be in order to ...\n",
       "233237         6  why my straight talk galaxy s 2 serial number ...\n",
       "66367          1        can this be used to sharpen santoku knives?\n",
       "131690         7  can anyone tell me roughly how much and/or how...\n",
       "8295           5                      is this for the front or back\n",
       "...          ...                                                ...\n",
       "181175         8  can i install this on an 1/10 e revo and a rev...\n",
       "70942          0                      does this device also charges\n",
       "139016         0  modem only has 1 ethernet output. i have an ac...\n",
       "195660         4                             how much does it weigh\n",
       "257810         6        is this a prepaid phone or a contract phone\n",
       "\n",
       "[16200 rows x 2 columns]"
      ]
     },
     "execution_count": 17,
     "metadata": {},
     "output_type": "execute_result"
    }
   ],
   "source": [
    "train_df"
   ]
  },
  {
   "cell_type": "markdown",
   "metadata": {},
   "source": [
    "## 2.Preprocessing"
   ]
  },
  {
   "cell_type": "markdown",
   "metadata": {},
   "source": [
    "### Tokenizing"
   ]
  },
  {
   "cell_type": "code",
   "execution_count": 18,
   "metadata": {},
   "outputs": [
    {
     "data": {
      "text/plain": [
       "['What', 'is', 'the', 'best', 'product', '?']"
      ]
     },
     "execution_count": 18,
     "metadata": {},
     "output_type": "execute_result"
    }
   ],
   "source": [
    "from torchtext.data.utils import get_tokenizer\n",
    "\n",
    "tokenizer = get_tokenizer('spacy', language='en_core_web_sm')\n",
    "tokens    = tokenizer(\"What is the best product?\")\n",
    "tokens"
   ]
  },
  {
   "cell_type": "markdown",
   "metadata": {},
   "source": [
    "### Text to integers (numeral)"
   ]
  },
  {
   "cell_type": "code",
   "execution_count": 19,
   "metadata": {},
   "outputs": [],
   "source": [
    "from torchtext.vocab import build_vocab_from_iterator\n",
    "\n",
    "def yield_tokens(data):\n",
    "    for data_sample in data:\n",
    "        yield tokenizer(data_sample) \n",
    "        \n",
    "vocab = build_vocab_from_iterator(yield_tokens(train_df['questionText']), specials = ['<unk>', '<pad>', '<bos>', '<eos>'])\n",
    "vocab.set_default_index(vocab[\"<unk>\"])"
   ]
  },
  {
   "cell_type": "code",
   "execution_count": 20,
   "metadata": {},
   "outputs": [
    {
     "data": {
      "text/plain": [
       "[349, 8, 7]"
      ]
     },
     "execution_count": 20,
     "metadata": {},
     "output_type": "execute_result"
    }
   ],
   "source": [
    "vocab(['here', 'it', 'is'])"
   ]
  },
  {
   "cell_type": "code",
   "execution_count": 21,
   "metadata": {},
   "outputs": [
    {
     "data": {
      "text/plain": [
       "'<unk>'"
      ]
     },
     "execution_count": 21,
     "metadata": {},
     "output_type": "execute_result"
    }
   ],
   "source": [
    "mapping = vocab.get_itos()\n",
    "mapping[0]"
   ]
  },
  {
   "cell_type": "code",
   "execution_count": 22,
   "metadata": {},
   "outputs": [
    {
     "data": {
      "text/plain": [
       "15373"
      ]
     },
     "execution_count": 22,
     "metadata": {},
     "output_type": "execute_result"
    }
   ],
   "source": [
    "len(vocab)"
   ]
  },
  {
   "cell_type": "markdown",
   "metadata": {},
   "source": [
    "## 3. Data loader"
   ]
  },
  {
   "cell_type": "markdown",
   "metadata": {},
   "source": [
    "### FastText Embedding"
   ]
  },
  {
   "cell_type": "code",
   "execution_count": 23,
   "metadata": {},
   "outputs": [],
   "source": [
    "from torchtext.vocab import FastText\n",
    "fast_vectors = FastText(language='simple')"
   ]
  },
  {
   "cell_type": "code",
   "execution_count": 24,
   "metadata": {},
   "outputs": [],
   "source": [
    "fast_embedding = fast_vectors.get_vecs_by_tokens(vocab.get_itos()).to(device)"
   ]
  },
  {
   "cell_type": "code",
   "execution_count": 25,
   "metadata": {},
   "outputs": [
    {
     "data": {
      "text/plain": [
       "torch.Size([15373, 300])"
      ]
     },
     "execution_count": 25,
     "metadata": {},
     "output_type": "execute_result"
    }
   ],
   "source": [
    "fast_embedding.shape"
   ]
  },
  {
   "cell_type": "code",
   "execution_count": 26,
   "metadata": {},
   "outputs": [],
   "source": [
    "class DataWrap(Dataset):\n",
    "\n",
    "    def __init__(self, dataframe):\n",
    "        self.dataframe = dataframe\n",
    "    \n",
    "    def __len__(self):\n",
    "        return len(self.dataframe)\n",
    "        \n",
    "    def __getitem__(self, idx):\n",
    "        return self.dataframe.iloc[idx]"
   ]
  },
  {
   "cell_type": "code",
   "execution_count": 27,
   "metadata": {},
   "outputs": [
    {
     "data": {
      "text/plain": [
       "category                                                        4\n",
       "questionText    how long does the hair need to be in order to ...\n",
       "Name: 99368, dtype: object"
      ]
     },
     "execution_count": 27,
     "metadata": {},
     "output_type": "execute_result"
    }
   ],
   "source": [
    "train_df.iloc[0]"
   ]
  },
  {
   "cell_type": "code",
   "execution_count": 28,
   "metadata": {},
   "outputs": [],
   "source": [
    "train = DataWrap(train_df)\n",
    "valid = DataWrap(val_df)\n",
    "test = DataWrap(test_df)"
   ]
  },
  {
   "cell_type": "code",
   "execution_count": 29,
   "metadata": {},
   "outputs": [],
   "source": [
    "text_pipeline  = lambda x: vocab(tokenizer(x)) #{hello world this is yt} => {'hello', 'world', 'this', 'is', 'yt'} => {4, 88, 11, 22, 6}"
   ]
  },
  {
   "cell_type": "code",
   "execution_count": 30,
   "metadata": {},
   "outputs": [
    {
     "data": {
      "text/plain": [
       "[0, 75, 1390, 0, 0]"
      ]
     },
     "execution_count": 30,
     "metadata": {},
     "output_type": "execute_result"
    }
   ],
   "source": [
    "text_pipeline(\"I am currently teaching LSTM\")"
   ]
  },
  {
   "cell_type": "code",
   "execution_count": 31,
   "metadata": {},
   "outputs": [],
   "source": [
    "from torch.utils.data   import DataLoader\n",
    "from torch.nn.utils.rnn import pad_sequence\n",
    "\n",
    "pad_idx = vocab['<pad>'] \n",
    "\n",
    "def collate_batch(batch):\n",
    "    label_list, text_list = [], []\n",
    "    for (_label, _text) in batch:\n",
    "        label_list.append(_label)\n",
    "        processed_text = torch.tensor(text_pipeline(_text), dtype=torch.int64)\n",
    "        text_list.append(processed_text)\n",
    "    #criterion expects float labels\n",
    "    return torch.tensor(label_list, dtype=torch.int64), pad_sequence(text_list, padding_value=pad_idx, batch_first=True)"
   ]
  },
  {
   "cell_type": "code",
   "execution_count": 32,
   "metadata": {},
   "outputs": [],
   "source": [
    "batch_size = 64\n",
    "\n",
    "train_loader = DataLoader(train, batch_size=batch_size, shuffle=True,  collate_fn=collate_batch) #num_workers to train faster\n",
    "val_loader   = DataLoader(valid, batch_size=batch_size, shuffle=False, collate_fn=collate_batch)\n",
    "test_loader  = DataLoader(test,  batch_size=batch_size, shuffle=False, collate_fn=collate_batch)"
   ]
  },
  {
   "cell_type": "code",
   "execution_count": 33,
   "metadata": {},
   "outputs": [],
   "source": [
    "for label, text in val_loader:\n",
    "    break"
   ]
  },
  {
   "cell_type": "code",
   "execution_count": 34,
   "metadata": {},
   "outputs": [
    {
     "data": {
      "text/plain": [
       "torch.Size([64])"
      ]
     },
     "execution_count": 34,
     "metadata": {},
     "output_type": "execute_result"
    }
   ],
   "source": [
    "label.shape #(batch_size, )"
   ]
  },
  {
   "cell_type": "code",
   "execution_count": 35,
   "metadata": {},
   "outputs": [
    {
     "data": {
      "text/plain": [
       "torch.Size([64, 57])"
      ]
     },
     "execution_count": 35,
     "metadata": {},
     "output_type": "execute_result"
    }
   ],
   "source": [
    "text.shape #(batch_size, seq len)"
   ]
  },
  {
   "cell_type": "markdown",
   "metadata": {},
   "source": [
    "## 4. Model (CNN)"
   ]
  },
  {
   "cell_type": "code",
   "execution_count": 36,
   "metadata": {},
   "outputs": [],
   "source": [
    "class CNN(nn.Module): #more elegant version\n",
    "    def __init__(self, input_dim, emb_dim, output_dim, dropout, n_filters, filter_sizes):\n",
    "        \n",
    "        super().__init__()\n",
    "                \n",
    "        self.embedding = nn.Embedding(input_dim, emb_dim, padding_idx=pad_idx)\n",
    "        self.convs = nn.ModuleList([\n",
    "                                    nn.Conv2d(in_channels = 1, \n",
    "                                              out_channels = n_filters, \n",
    "                                              kernel_size = (fs, emb_dim)) \n",
    "                                    for fs in filter_sizes\n",
    "                                    ])\n",
    "        \n",
    "        self.fc = nn.Linear(len(filter_sizes) * n_filters, output_dim)\n",
    "        self.dropout = nn.Dropout(dropout)\n",
    "        \n",
    "    def forward(self, text):\n",
    "                \n",
    "        #text = [batch size, sent len]\n",
    "        embedded = self.embedding(text)\n",
    "        #embedded = [batch size, sent len, emb dim]\n",
    "        \n",
    "        embedded = embedded.unsqueeze(1)\n",
    "        #embedded = [batch size, 1, sent len, emb dim]\n",
    "        \n",
    "        conved = [F.relu(conv(embedded)).squeeze(3) for conv in self.convs]\n",
    "        #conved_n = [batch size, n_filters, sent len - filter_sizes[n] + 1]\n",
    "                \n",
    "        pooled = [F.max_pool1d(conv, conv.shape[2]).squeeze(2) for conv in conved]\n",
    "        #pooled_n = [batch size, n_filters]\n",
    "        \n",
    "        cat = self.dropout(torch.cat(pooled, dim = 1))\n",
    "        #cat = [batch size, n_filters * len(filter_sizes)]\n",
    "            \n",
    "        return self.fc(cat)"
   ]
  },
  {
   "cell_type": "markdown",
   "metadata": {},
   "source": [
    "## 5. Train"
   ]
  },
  {
   "cell_type": "code",
   "execution_count": 37,
   "metadata": {},
   "outputs": [],
   "source": [
    "#explicitly initialize weights for better learning\n",
    "def initialize_weights(m):\n",
    "    if isinstance(m, nn.Linear):\n",
    "        nn.init.xavier_normal_(m.weight)\n",
    "        nn.init.zeros_(m.bias)\n",
    "    elif isinstance(m, (nn.Conv2d, nn.Conv2d)):\n",
    "        for name, param in m.named_parameters():\n",
    "            if 'bias' in name:\n",
    "                nn.init.zeros_(param)\n",
    "            elif 'weight' in name:\n",
    "                nn.init.kaiming_normal_(param) "
   ]
  },
  {
   "cell_type": "code",
   "execution_count": 38,
   "metadata": {},
   "outputs": [],
   "source": [
    "def accuracy(preds, y):\n",
    "    \n",
    "    predicted = torch.max(preds.data, 1)[1]\n",
    "    batch_corr = (predicted == y).sum()\n",
    "    acc = batch_corr / len(y)\n",
    "    \n",
    "    return acc"
   ]
  },
  {
   "cell_type": "code",
   "execution_count": 39,
   "metadata": {},
   "outputs": [],
   "source": [
    "def train(model, loader, optimizer, criterion, loader_length):\n",
    "    epoch_loss = 0\n",
    "    epoch_acc = 0\n",
    "    model.train() #useful for batchnorm and dropout\n",
    "    \n",
    "    for i, (label, text) in enumerate(loader): \n",
    "        label = label.to(device) #(batch_size, )\n",
    "        text = text.to(device) #(batch_size, seq len)\n",
    "                \n",
    "        #predict\n",
    "        predictions = model(text).squeeze(1) #output by the fc is (batch_size, 1), thus need to remove this 1\n",
    "        \n",
    "        #calculate loss\n",
    "        loss = criterion(predictions, label)\n",
    "        acc  = accuracy(predictions, label)\n",
    "        \n",
    "        #backprop\n",
    "        optimizer.zero_grad()\n",
    "        loss.backward()\n",
    "        optimizer.step()\n",
    "        \n",
    "        epoch_loss += loss.item()\n",
    "        epoch_acc += acc.item()\n",
    "                        \n",
    "    return epoch_loss / loader_length, epoch_acc / loader_length"
   ]
  },
  {
   "cell_type": "code",
   "execution_count": 40,
   "metadata": {},
   "outputs": [],
   "source": [
    "def evaluate(model, loader, criterion, loader_length):\n",
    "    epoch_loss = 0\n",
    "    epoch_acc = 0\n",
    "    model.eval()\n",
    "    \n",
    "    with torch.no_grad():\n",
    "        for i, (label, text) in enumerate(loader): \n",
    "            label = label.to(device) #(batch_size, )\n",
    "            text  = text.to(device)  #(seq len, batch_size)\n",
    "\n",
    "            predictions = model(text).squeeze(1) \n",
    "            \n",
    "            loss = criterion(predictions, label)\n",
    "            acc  = accuracy(predictions, label)\n",
    "\n",
    "            epoch_loss += loss.item()\n",
    "            epoch_acc += acc.item()\n",
    "        \n",
    "    return epoch_loss / loader_length, epoch_acc / loader_length"
   ]
  },
  {
   "cell_type": "markdown",
   "metadata": {},
   "source": [
    "### Actual training"
   ]
  },
  {
   "cell_type": "code",
   "execution_count": 41,
   "metadata": {},
   "outputs": [],
   "source": [
    "train_loader_length = len(list(iter(train_loader)))\n",
    "val_loader_length   = len(list(iter(val_loader)))\n",
    "test_loader_length  = len(list(iter(test_loader)))"
   ]
  },
  {
   "cell_type": "code",
   "execution_count": 42,
   "metadata": {},
   "outputs": [],
   "source": [
    "def epoch_time(start_time, end_time):\n",
    "    elapsed_time = end_time - start_time\n",
    "    elapsed_mins = int(elapsed_time / 60)\n",
    "    elapsed_secs = int(elapsed_time - (elapsed_mins * 60))\n",
    "    return elapsed_mins, elapsed_secs"
   ]
  },
  {
   "cell_type": "code",
   "execution_count": 43,
   "metadata": {},
   "outputs": [
    {
     "name": "stderr",
     "output_type": "stream",
     "text": [
      "/usr/local/lib/python3.10/site-packages/pydantic/_internal/_fields.py:160: UserWarning: Field \"model_server_url\" has conflict with protected namespace \"model_\".\n",
      "\n",
      "You may be able to resolve this warning by setting `model_config['protected_namespaces'] = ()`.\n",
      "  warnings.warn(\n",
      "/usr/local/lib/python3.10/site-packages/pydantic/_internal/_config.py:334: UserWarning: Valid config keys have changed in V2:\n",
      "* 'schema_extra' has been renamed to 'json_schema_extra'\n",
      "  warnings.warn(message, UserWarning)\n",
      "2024/04/26 16:35:14 INFO mlflow.tracking.fluent: Experiment with name 'CNN2000-10class' does not exist. Creating a new experiment.\n"
     ]
    },
    {
     "data": {
      "text/plain": [
       "<Experiment: artifact_location='mlflow-artifacts:/231020780919091752', creation_time=1714124114718, experiment_id='231020780919091752', last_update_time=1714124114718, lifecycle_stage='active', name='CNN2000-10class', tags={}>"
      ]
     },
     "execution_count": 43,
     "metadata": {},
     "output_type": "execute_result"
    }
   ],
   "source": [
    "#experiment tracking\n",
    "import mlflow\n",
    "from mlflow.models import infer_signature\n",
    "import os\n",
    "\n",
    "# This the dockerized method.\n",
    "# We build two docker containers, one for python/jupyter and another for mlflow.\n",
    "# The url `mlflow` is resolved into another container within the same composer.\n",
    "mlflow.set_tracking_uri(\"http://mlflow:5000\")\n",
    "# In the dockerized way, the user who runs this code will be `root`.\n",
    "# The MLflow will also log the run user_id as `root`.\n",
    "# To change that, we need to set this environ[\"LOGNAME\"] to your name.\n",
    "os.environ[\"LOGNAME\"] = \"noppawee\"\n",
    "#mlflow.create_experiment(name=\"noppawee-ML-project\")  #create if you haven't create\n",
    "mlflow.set_experiment(experiment_name=\"CNN2000-10class\")\n"
   ]
  },
  {
   "cell_type": "code",
   "execution_count": 44,
   "metadata": {},
   "outputs": [
    {
     "name": "stdout",
     "output_type": "stream",
     "text": [
      "===== CNN with 10-epochs-50-n_filters =====\n",
      "Epoch: 1 | Time: 0m 22s\n",
      "\tTrain Loss: 2.236 | Train Acc: 17.89%\n",
      "\tVal.  Loss: 2.050 | Val Acc: 29.98%\n"
     ]
    },
    {
     "name": "stderr",
     "output_type": "stream",
     "text": [
      "/usr/local/lib/python3.10/site-packages/_distutils_hack/__init__.py:18: UserWarning: Distutils was imported before Setuptools, but importing Setuptools also replaces the `distutils` module in `sys.modules`. This may lead to undesirable behaviors or errors. To avoid these issues, avoid using distutils directly, ensure that setuptools is installed in the traditional way (e.g. not an editable install), and/or make sure that setuptools is always imported before distutils.\n",
      "  warnings.warn(\n",
      "/usr/local/lib/python3.10/site-packages/_distutils_hack/__init__.py:33: UserWarning: Setuptools is replacing distutils.\n",
      "  warnings.warn(\"Setuptools is replacing distutils.\")\n"
     ]
    },
    {
     "name": "stdout",
     "output_type": "stream",
     "text": [
      "Epoch: 2 | Time: 0m 19s\n",
      "\tTrain Loss: 1.998 | Train Acc: 29.90%\n",
      "\tVal.  Loss: 1.904 | Val Acc: 37.84%\n",
      "Epoch: 3 | Time: 0m 20s\n",
      "\tTrain Loss: 1.885 | Train Acc: 34.61%\n",
      "\tVal.  Loss: 1.828 | Val Acc: 40.62%\n",
      "Epoch: 4 | Time: 0m 19s\n",
      "\tTrain Loss: 1.798 | Train Acc: 38.59%\n",
      "\tVal.  Loss: 1.777 | Val Acc: 41.65%\n",
      "Epoch: 5 | Time: 0m 21s\n",
      "\tTrain Loss: 1.728 | Train Acc: 41.70%\n",
      "\tVal.  Loss: 1.736 | Val Acc: 43.36%\n",
      "Epoch: 6 | Time: 0m 21s\n",
      "\tTrain Loss: 1.669 | Train Acc: 43.63%\n",
      "\tVal.  Loss: 1.714 | Val Acc: 43.26%\n",
      "Epoch: 7 | Time: 0m 20s\n",
      "\tTrain Loss: 1.616 | Train Acc: 46.09%\n",
      "\tVal.  Loss: 1.692 | Val Acc: 45.02%\n",
      "Epoch: 8 | Time: 0m 20s\n",
      "\tTrain Loss: 1.567 | Train Acc: 47.70%\n",
      "\tVal.  Loss: 1.669 | Val Acc: 44.34%\n",
      "Epoch: 9 | Time: 0m 21s\n",
      "\tTrain Loss: 1.523 | Train Acc: 49.32%\n",
      "\tVal.  Loss: 1.664 | Val Acc: 45.21%\n",
      "Epoch: 10 | Time: 0m 20s\n",
      "\tTrain Loss: 1.483 | Train Acc: 50.78%\n",
      "\tVal.  Loss: 1.643 | Val Acc: 44.78%\n",
      "===== CNN with 10-epochs-100-n_filters =====\n",
      "Epoch: 1 | Time: 0m 27s\n",
      "\tTrain Loss: 2.250 | Train Acc: 18.31%\n",
      "\tVal.  Loss: 2.033 | Val Acc: 28.81%\n",
      "Epoch: 2 | Time: 0m 28s\n",
      "\tTrain Loss: 1.981 | Train Acc: 30.52%\n",
      "\tVal.  Loss: 1.879 | Val Acc: 37.65%\n",
      "Epoch: 3 | Time: 0m 27s\n",
      "\tTrain Loss: 1.848 | Train Acc: 36.51%\n",
      "\tVal.  Loss: 1.808 | Val Acc: 40.53%\n",
      "Epoch: 4 | Time: 0m 27s\n",
      "\tTrain Loss: 1.755 | Train Acc: 40.31%\n",
      "\tVal.  Loss: 1.751 | Val Acc: 42.53%\n",
      "Epoch: 5 | Time: 0m 28s\n",
      "\tTrain Loss: 1.671 | Train Acc: 43.39%\n",
      "\tVal.  Loss: 1.720 | Val Acc: 42.09%\n",
      "Epoch: 6 | Time: 0m 30s\n",
      "\tTrain Loss: 1.610 | Train Acc: 46.28%\n",
      "\tVal.  Loss: 1.695 | Val Acc: 43.41%\n",
      "Epoch: 7 | Time: 0m 28s\n",
      "\tTrain Loss: 1.546 | Train Acc: 48.98%\n",
      "\tVal.  Loss: 1.671 | Val Acc: 43.95%\n",
      "Epoch: 8 | Time: 0m 28s\n",
      "\tTrain Loss: 1.489 | Train Acc: 50.26%\n",
      "\tVal.  Loss: 1.638 | Val Acc: 44.78%\n",
      "Epoch: 9 | Time: 0m 28s\n",
      "\tTrain Loss: 1.431 | Train Acc: 52.79%\n",
      "\tVal.  Loss: 1.630 | Val Acc: 45.31%\n",
      "Epoch: 10 | Time: 0m 27s\n",
      "\tTrain Loss: 1.380 | Train Acc: 55.19%\n",
      "\tVal.  Loss: 1.613 | Val Acc: 46.09%\n",
      "===== CNN with 10-epochs-150-n_filters =====\n",
      "Epoch: 1 | Time: 0m 34s\n",
      "\tTrain Loss: 2.243 | Train Acc: 18.89%\n",
      "\tVal.  Loss: 2.016 | Val Acc: 29.59%\n",
      "Epoch: 2 | Time: 0m 32s\n",
      "\tTrain Loss: 1.947 | Train Acc: 31.88%\n",
      "\tVal.  Loss: 1.863 | Val Acc: 37.11%\n",
      "Epoch: 3 | Time: 0m 32s\n",
      "\tTrain Loss: 1.811 | Train Acc: 37.96%\n",
      "\tVal.  Loss: 1.796 | Val Acc: 38.33%\n",
      "Epoch: 4 | Time: 0m 32s\n",
      "\tTrain Loss: 1.709 | Train Acc: 42.03%\n",
      "\tVal.  Loss: 1.743 | Val Acc: 39.99%\n",
      "Epoch: 5 | Time: 0m 30s\n",
      "\tTrain Loss: 1.632 | Train Acc: 45.31%\n",
      "\tVal.  Loss: 1.709 | Val Acc: 42.09%\n",
      "Epoch: 6 | Time: 0m 31s\n",
      "\tTrain Loss: 1.552 | Train Acc: 48.10%\n",
      "\tVal.  Loss: 1.659 | Val Acc: 44.34%\n",
      "Epoch: 7 | Time: 0m 31s\n",
      "\tTrain Loss: 1.490 | Train Acc: 50.27%\n",
      "\tVal.  Loss: 1.639 | Val Acc: 45.80%\n",
      "Epoch: 8 | Time: 0m 30s\n",
      "\tTrain Loss: 1.432 | Train Acc: 53.13%\n",
      "\tVal.  Loss: 1.632 | Val Acc: 46.29%\n",
      "Epoch: 9 | Time: 0m 33s\n",
      "\tTrain Loss: 1.376 | Train Acc: 54.77%\n",
      "\tVal.  Loss: 1.620 | Val Acc: 46.14%\n",
      "Epoch: 10 | Time: 0m 31s\n",
      "\tTrain Loss: 1.318 | Train Acc: 56.62%\n",
      "\tVal.  Loss: 1.603 | Val Acc: 46.88%\n",
      "===== CNN with 20-epochs-50-n_filters =====\n",
      "Epoch: 1 | Time: 0m 20s\n",
      "\tTrain Loss: 2.247 | Train Acc: 17.90%\n",
      "\tVal.  Loss: 2.040 | Val Acc: 32.37%\n",
      "Epoch: 2 | Time: 0m 20s\n",
      "\tTrain Loss: 1.973 | Train Acc: 30.99%\n",
      "\tVal.  Loss: 1.880 | Val Acc: 38.09%\n",
      "Epoch: 3 | Time: 0m 19s\n",
      "\tTrain Loss: 1.842 | Train Acc: 36.70%\n",
      "\tVal.  Loss: 1.796 | Val Acc: 40.53%\n",
      "Epoch: 4 | Time: 0m 21s\n",
      "\tTrain Loss: 1.747 | Train Acc: 40.82%\n",
      "\tVal.  Loss: 1.744 | Val Acc: 40.23%\n",
      "Epoch: 5 | Time: 0m 19s\n",
      "\tTrain Loss: 1.677 | Train Acc: 43.12%\n",
      "\tVal.  Loss: 1.697 | Val Acc: 43.99%\n",
      "Epoch: 6 | Time: 0m 20s\n",
      "\tTrain Loss: 1.614 | Train Acc: 45.72%\n",
      "\tVal.  Loss: 1.668 | Val Acc: 44.09%\n",
      "Epoch: 7 | Time: 0m 19s\n",
      "\tTrain Loss: 1.559 | Train Acc: 47.79%\n",
      "\tVal.  Loss: 1.650 | Val Acc: 44.73%\n",
      "Epoch: 8 | Time: 0m 19s\n",
      "\tTrain Loss: 1.516 | Train Acc: 49.56%\n",
      "\tVal.  Loss: 1.633 | Val Acc: 45.21%\n",
      "Epoch: 9 | Time: 0m 21s\n",
      "\tTrain Loss: 1.477 | Train Acc: 50.23%\n",
      "\tVal.  Loss: 1.628 | Val Acc: 46.34%\n",
      "Epoch: 10 | Time: 0m 19s\n",
      "\tTrain Loss: 1.437 | Train Acc: 52.42%\n",
      "\tVal.  Loss: 1.604 | Val Acc: 45.95%\n",
      "Epoch: 11 | Time: 0m 20s\n",
      "\tTrain Loss: 1.395 | Train Acc: 53.77%\n",
      "\tVal.  Loss: 1.589 | Val Acc: 47.27%\n",
      "Epoch: 12 | Time: 0m 20s\n",
      "\tTrain Loss: 1.353 | Train Acc: 55.55%\n",
      "\tVal.  Loss: 1.586 | Val Acc: 47.56%\n",
      "Epoch: 13 | Time: 0m 21s\n",
      "\tTrain Loss: 1.317 | Train Acc: 56.68%\n",
      "\tVal.  Loss: 1.585 | Val Acc: 47.02%\n",
      "Epoch: 14 | Time: 0m 20s\n",
      "\tTrain Loss: 1.284 | Train Acc: 58.19%\n",
      "\tVal.  Loss: 1.595 | Val Acc: 46.44%\n",
      "Epoch: 15 | Time: 0m 21s\n",
      "\tTrain Loss: 1.251 | Train Acc: 59.38%\n",
      "\tVal.  Loss: 1.593 | Val Acc: 45.85%\n",
      "Epoch: 16 | Time: 0m 21s\n",
      "\tTrain Loss: 1.222 | Train Acc: 59.87%\n",
      "\tVal.  Loss: 1.577 | Val Acc: 47.46%\n",
      "Epoch: 17 | Time: 0m 19s\n",
      "\tTrain Loss: 1.183 | Train Acc: 61.35%\n",
      "\tVal.  Loss: 1.581 | Val Acc: 47.22%\n",
      "Epoch: 18 | Time: 0m 20s\n",
      "\tTrain Loss: 1.155 | Train Acc: 62.57%\n",
      "\tVal.  Loss: 1.597 | Val Acc: 46.68%\n",
      "Epoch: 19 | Time: 0m 20s\n",
      "\tTrain Loss: 1.120 | Train Acc: 63.36%\n",
      "\tVal.  Loss: 1.593 | Val Acc: 47.02%\n",
      "Epoch: 20 | Time: 0m 20s\n",
      "\tTrain Loss: 1.094 | Train Acc: 64.78%\n",
      "\tVal.  Loss: 1.590 | Val Acc: 46.14%\n",
      "===== CNN with 20-epochs-100-n_filters =====\n",
      "Epoch: 1 | Time: 0m 28s\n",
      "\tTrain Loss: 2.218 | Train Acc: 19.94%\n",
      "\tVal.  Loss: 1.993 | Val Acc: 28.47%\n",
      "Epoch: 2 | Time: 0m 29s\n",
      "\tTrain Loss: 1.925 | Train Acc: 32.72%\n",
      "\tVal.  Loss: 1.856 | Val Acc: 36.96%\n",
      "Epoch: 3 | Time: 0m 28s\n",
      "\tTrain Loss: 1.776 | Train Acc: 39.36%\n",
      "\tVal.  Loss: 1.750 | Val Acc: 42.58%\n",
      "Epoch: 4 | Time: 0m 28s\n",
      "\tTrain Loss: 1.673 | Train Acc: 43.97%\n",
      "\tVal.  Loss: 1.703 | Val Acc: 42.92%\n",
      "Epoch: 5 | Time: 0m 27s\n",
      "\tTrain Loss: 1.598 | Train Acc: 46.21%\n",
      "\tVal.  Loss: 1.673 | Val Acc: 44.82%\n",
      "Epoch: 6 | Time: 0m 28s\n",
      "\tTrain Loss: 1.524 | Train Acc: 49.22%\n",
      "\tVal.  Loss: 1.640 | Val Acc: 44.92%\n",
      "Epoch: 7 | Time: 0m 27s\n",
      "\tTrain Loss: 1.467 | Train Acc: 51.11%\n",
      "\tVal.  Loss: 1.621 | Val Acc: 45.61%\n",
      "Epoch: 8 | Time: 0m 28s\n",
      "\tTrain Loss: 1.420 | Train Acc: 53.08%\n",
      "\tVal.  Loss: 1.609 | Val Acc: 46.58%\n",
      "Epoch: 9 | Time: 0m 28s\n",
      "\tTrain Loss: 1.363 | Train Acc: 55.47%\n",
      "\tVal.  Loss: 1.598 | Val Acc: 45.85%\n",
      "Epoch: 10 | Time: 0m 28s\n",
      "\tTrain Loss: 1.320 | Train Acc: 57.32%\n",
      "\tVal.  Loss: 1.597 | Val Acc: 46.14%\n",
      "Epoch: 11 | Time: 0m 29s\n",
      "\tTrain Loss: 1.265 | Train Acc: 58.50%\n",
      "\tVal.  Loss: 1.588 | Val Acc: 46.04%\n",
      "Epoch: 12 | Time: 0m 27s\n",
      "\tTrain Loss: 1.223 | Train Acc: 60.60%\n",
      "\tVal.  Loss: 1.598 | Val Acc: 46.09%\n",
      "Epoch: 13 | Time: 0m 27s\n",
      "\tTrain Loss: 1.179 | Train Acc: 61.85%\n",
      "\tVal.  Loss: 1.586 | Val Acc: 46.58%\n",
      "Epoch: 14 | Time: 0m 27s\n",
      "\tTrain Loss: 1.145 | Train Acc: 62.67%\n",
      "\tVal.  Loss: 1.581 | Val Acc: 45.95%\n",
      "Epoch: 15 | Time: 0m 29s\n",
      "\tTrain Loss: 1.094 | Train Acc: 64.70%\n",
      "\tVal.  Loss: 1.578 | Val Acc: 46.63%\n",
      "Epoch: 16 | Time: 0m 27s\n",
      "\tTrain Loss: 1.046 | Train Acc: 66.51%\n",
      "\tVal.  Loss: 1.594 | Val Acc: 46.48%\n",
      "Epoch: 17 | Time: 0m 29s\n",
      "\tTrain Loss: 1.009 | Train Acc: 67.96%\n",
      "\tVal.  Loss: 1.598 | Val Acc: 46.92%\n",
      "Epoch: 18 | Time: 0m 30s\n",
      "\tTrain Loss: 0.976 | Train Acc: 68.74%\n",
      "\tVal.  Loss: 1.580 | Val Acc: 47.51%\n",
      "Epoch: 19 | Time: 0m 27s\n",
      "\tTrain Loss: 0.940 | Train Acc: 70.15%\n",
      "\tVal.  Loss: 1.617 | Val Acc: 46.09%\n",
      "Epoch: 20 | Time: 0m 27s\n",
      "\tTrain Loss: 0.909 | Train Acc: 71.65%\n",
      "\tVal.  Loss: 1.584 | Val Acc: 46.58%\n",
      "===== CNN with 20-epochs-150-n_filters =====\n",
      "Epoch: 1 | Time: 0m 31s\n",
      "\tTrain Loss: 2.227 | Train Acc: 20.09%\n",
      "\tVal.  Loss: 2.057 | Val Acc: 22.61%\n",
      "Epoch: 2 | Time: 0m 31s\n",
      "\tTrain Loss: 1.897 | Train Acc: 34.47%\n",
      "\tVal.  Loss: 1.832 | Val Acc: 35.40%\n",
      "Epoch: 3 | Time: 0m 31s\n",
      "\tTrain Loss: 1.736 | Train Acc: 41.06%\n",
      "\tVal.  Loss: 1.751 | Val Acc: 38.92%\n",
      "Epoch: 4 | Time: 0m 31s\n",
      "\tTrain Loss: 1.632 | Train Acc: 44.84%\n",
      "\tVal.  Loss: 1.687 | Val Acc: 42.48%\n",
      "Epoch: 5 | Time: 0m 35s\n",
      "\tTrain Loss: 1.551 | Train Acc: 47.91%\n",
      "\tVal.  Loss: 1.638 | Val Acc: 45.36%\n",
      "Epoch: 6 | Time: 0m 32s\n",
      "\tTrain Loss: 1.472 | Train Acc: 51.03%\n",
      "\tVal.  Loss: 1.623 | Val Acc: 45.75%\n",
      "Epoch: 7 | Time: 0m 32s\n",
      "\tTrain Loss: 1.422 | Train Acc: 53.00%\n",
      "\tVal.  Loss: 1.615 | Val Acc: 46.44%\n",
      "Epoch: 8 | Time: 0m 31s\n",
      "\tTrain Loss: 1.355 | Train Acc: 55.33%\n",
      "\tVal.  Loss: 1.591 | Val Acc: 46.00%\n",
      "Epoch: 9 | Time: 0m 31s\n",
      "\tTrain Loss: 1.291 | Train Acc: 57.68%\n",
      "\tVal.  Loss: 1.616 | Val Acc: 46.14%\n",
      "Epoch: 10 | Time: 0m 31s\n",
      "\tTrain Loss: 1.243 | Train Acc: 59.42%\n",
      "\tVal.  Loss: 1.582 | Val Acc: 46.68%\n",
      "Epoch: 11 | Time: 0m 32s\n",
      "\tTrain Loss: 1.189 | Train Acc: 60.90%\n",
      "\tVal.  Loss: 1.586 | Val Acc: 46.78%\n",
      "Epoch: 12 | Time: 0m 33s\n",
      "\tTrain Loss: 1.141 | Train Acc: 63.29%\n",
      "\tVal.  Loss: 1.600 | Val Acc: 46.97%\n",
      "Epoch: 13 | Time: 0m 31s\n",
      "\tTrain Loss: 1.095 | Train Acc: 64.68%\n",
      "\tVal.  Loss: 1.602 | Val Acc: 45.85%\n",
      "Epoch: 14 | Time: 0m 32s\n",
      "\tTrain Loss: 1.047 | Train Acc: 66.60%\n",
      "\tVal.  Loss: 1.587 | Val Acc: 46.48%\n",
      "Epoch: 15 | Time: 0m 32s\n",
      "\tTrain Loss: 1.002 | Train Acc: 68.08%\n",
      "\tVal.  Loss: 1.591 | Val Acc: 46.14%\n",
      "Epoch: 16 | Time: 0m 30s\n",
      "\tTrain Loss: 0.962 | Train Acc: 69.75%\n",
      "\tVal.  Loss: 1.597 | Val Acc: 47.12%\n",
      "Epoch: 17 | Time: 0m 31s\n",
      "\tTrain Loss: 0.917 | Train Acc: 70.73%\n",
      "\tVal.  Loss: 1.628 | Val Acc: 44.92%\n",
      "Epoch: 18 | Time: 0m 35s\n",
      "\tTrain Loss: 0.878 | Train Acc: 72.64%\n",
      "\tVal.  Loss: 1.610 | Val Acc: 46.34%\n",
      "Epoch: 19 | Time: 0m 31s\n",
      "\tTrain Loss: 0.840 | Train Acc: 74.06%\n",
      "\tVal.  Loss: 1.604 | Val Acc: 46.19%\n",
      "Epoch: 20 | Time: 0m 31s\n",
      "\tTrain Loss: 0.805 | Train Acc: 74.99%\n",
      "\tVal.  Loss: 1.637 | Val Acc: 45.90%\n"
     ]
    },
    {
     "ename": "",
     "evalue": "",
     "output_type": "error",
     "traceback": [
      "\u001b[1;31mThe Kernel crashed while executing code in the current cell or a previous cell. \n",
      "\u001b[1;31mPlease review the code in the cell(s) to identify a possible cause of the failure. \n",
      "\u001b[1;31mClick <a href='https://aka.ms/vscodeJupyterKernelCrash'>here</a> for more info. \n",
      "\u001b[1;31mView Jupyter <a href='command:jupyter.viewOutput'>log</a> for further details."
     ]
    }
   ],
   "source": [
    "import time\n",
    "import torch.optim as optim\n",
    "import torch.nn.functional as F\n",
    "\n",
    "num_epochs = [10,20]\n",
    "n_filters = [50,100,150]\n",
    "\n",
    "\n",
    "for num_epoch in num_epochs:\n",
    "    for n_filter in n_filters:\n",
    "        \n",
    "        input_dim  = len(vocab)\n",
    "        emb_dim    = 300\n",
    "        output_dim = 10 #17 classes\n",
    "\n",
    "        #for cnn\n",
    "        dropout = 0.5\n",
    "        filter_sizes = [3, 4, 5]\n",
    "\n",
    "        params={\"model\":\"CNN\", \"num_epochs\":num_epoch, \"n_filters\":n_filter, \"filter_sizes\":filter_sizes, \"input_dim\":input_dim, \"emb_dim\":emb_dim, \"output_dim\":output_dim, \"dropout\":0.5}\n",
    "        mlflow.start_run(run_name=f\"CNN2000-{params['num_epochs']}-epochs-{params['n_filters']}-n_filters\")\n",
    "        mlflow.log_params(params)\n",
    "\n",
    "        print(\"=\"*5, f\"CNN with {params['num_epochs']}-epochs-{params['n_filters']}-n_filters\",\"=\"*5)\n",
    "\n",
    "        model = CNN(input_dim, emb_dim, output_dim, dropout, n_filter, filter_sizes).to(device)\n",
    "        model.apply(initialize_weights)\n",
    "        model.embedding.weight.data = fast_embedding\n",
    "\n",
    "        lr=0.05\n",
    "        #training hyperparameters\n",
    "        optimizer = optim.SGD(model.parameters(), lr=lr)\n",
    "        criterion = nn.CrossEntropyLoss()\n",
    "\n",
    "        train_losses, train_accs, val_losses, val_accs = [],[],[],[]\n",
    "        best_valid_loss = float('inf')\n",
    "\n",
    "        for epoch in range(num_epoch):\n",
    "            start_time = time.time()\n",
    "                \n",
    "            train_loss, train_acc = train(model, train_loader, optimizer, criterion, train_loader_length)\n",
    "            valid_loss, valid_acc = evaluate(model, val_loader, criterion, val_loader_length)\n",
    "                \n",
    "            #for plotting\n",
    "            train_losses.append(train_loss)\n",
    "            train_accs.append(train_acc)\n",
    "            val_losses.append(valid_loss)\n",
    "            val_accs.append(valid_acc)\n",
    "                \n",
    "            end_time = time.time()\n",
    "                \n",
    "            epoch_mins, epoch_secs = epoch_time(start_time, end_time)\n",
    "            mlflow.log_metric(key=\"train_loss\", value=train_loss, step=epoch)\n",
    "            mlflow.log_metric(key=\"train_acc\", value=train_acc, step=epoch)\n",
    "            mlflow.log_metric(key=\"val_loss\", value=valid_loss, step=epoch)\n",
    "            mlflow.log_metric(key=\"val_acc\", value=valid_acc, step=epoch)\n",
    "                \n",
    "            \n",
    "            #early stopping\n",
    "            if valid_loss < best_valid_loss:\n",
    "                best_valid_loss = valid_loss\n",
    "                mlflow.pytorch.log_model(model, \"model\")\n",
    "                \n",
    "            print(f'Epoch: {epoch+1} | Time: {epoch_mins}m {epoch_secs}s')\n",
    "            print(f'\\tTrain Loss: {train_loss:.3f} | Train Acc: {train_acc*100:.2f}%')\n",
    "            print(f'\\tVal.  Loss: {valid_loss:.3f} | Val Acc: {valid_acc*100:.2f}%')\n",
    "        mlflow.log_metric(key=\"min_val_loss\", value=min(val_losses), step=epoch)    \n",
    "        mlflow.end_run()\n",
    "        "
   ]
  }
 ],
 "metadata": {
  "kernelspec": {
   "display_name": "Python 3 (ipykernel)",
   "language": "python",
   "name": "python3"
  },
  "language_info": {
   "codemirror_mode": {
    "name": "ipython",
    "version": 3
   },
   "file_extension": ".py",
   "mimetype": "text/x-python",
   "name": "python",
   "nbconvert_exporter": "python",
   "pygments_lexer": "ipython3",
   "version": "3.10.12"
  }
 },
 "nbformat": 4,
 "nbformat_minor": 2
}

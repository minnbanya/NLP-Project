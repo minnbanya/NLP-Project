{
 "cells": [
  {
   "cell_type": "code",
   "execution_count": 1,
   "metadata": {},
   "outputs": [],
   "source": [
    "import torch, torchdata, torchtext\n",
    "import torch.nn as nn\n",
    "import pandas as pd\n",
    "import re\n",
    "from sklearn.model_selection import train_test_split\n",
    "from torch.nn.utils.rnn import pad_sequence\n",
    "from torch.utils.data import DataLoader, Dataset"
   ]
  },
  {
   "cell_type": "code",
   "execution_count": 2,
   "metadata": {},
   "outputs": [
    {
     "data": {
      "text/plain": [
       "('2.2.2+cu121', '0.7.1', '0.17.2+cpu')"
      ]
     },
     "execution_count": 2,
     "metadata": {},
     "output_type": "execute_result"
    }
   ],
   "source": [
    "torch.__version__, torchdata.__version__, torchtext.__version__"
   ]
  },
  {
   "cell_type": "code",
   "execution_count": 3,
   "metadata": {},
   "outputs": [],
   "source": [
    "device = torch.device('cuda' if torch.cuda.is_available() else 'cpu')"
   ]
  },
  {
   "cell_type": "code",
   "execution_count": 4,
   "metadata": {},
   "outputs": [],
   "source": [
    "SEED = 1234 #change three times\n",
    "torch.manual_seed(SEED)\n",
    "torch.backends.cudnn.deterministic = True"
   ]
  },
  {
   "cell_type": "markdown",
   "metadata": {},
   "source": [
    "## 1. load dataset"
   ]
  },
  {
   "cell_type": "code",
   "execution_count": 5,
   "metadata": {},
   "outputs": [
    {
     "data": {
      "text/html": [
       "<div>\n",
       "<style scoped>\n",
       "    .dataframe tbody tr th:only-of-type {\n",
       "        vertical-align: middle;\n",
       "    }\n",
       "\n",
       "    .dataframe tbody tr th {\n",
       "        vertical-align: top;\n",
       "    }\n",
       "\n",
       "    .dataframe thead th {\n",
       "        text-align: right;\n",
       "    }\n",
       "</style>\n",
       "<table border=\"1\" class=\"dataframe\">\n",
       "  <thead>\n",
       "    <tr style=\"text-align: right;\">\n",
       "      <th></th>\n",
       "      <th>category</th>\n",
       "      <th>questionText</th>\n",
       "    </tr>\n",
       "  </thead>\n",
       "  <tbody>\n",
       "    <tr>\n",
       "      <th>0</th>\n",
       "      <td>Toys_and_Games</td>\n",
       "      <td>Many have stated similar to the following: \"Pa...</td>\n",
       "    </tr>\n",
       "    <tr>\n",
       "      <th>1</th>\n",
       "      <td>Health_and_Personal_Care</td>\n",
       "      <td>Will these work with the Phillips sonicare han...</td>\n",
       "    </tr>\n",
       "    <tr>\n",
       "      <th>2</th>\n",
       "      <td>Cell_Phones_and_Accessories</td>\n",
       "      <td>What kind of sim card it use?</td>\n",
       "    </tr>\n",
       "    <tr>\n",
       "      <th>3</th>\n",
       "      <td>Home_and_Kitchen</td>\n",
       "      <td>does anyone know if this dinnerware set does n...</td>\n",
       "    </tr>\n",
       "    <tr>\n",
       "      <th>4</th>\n",
       "      <td>Musical_Instruments</td>\n",
       "      <td>I'm thinking of getting in to modular synthesi...</td>\n",
       "    </tr>\n",
       "  </tbody>\n",
       "</table>\n",
       "</div>"
      ],
      "text/plain": [
       "                      category  \\\n",
       "0               Toys_and_Games   \n",
       "1     Health_and_Personal_Care   \n",
       "2  Cell_Phones_and_Accessories   \n",
       "3             Home_and_Kitchen   \n",
       "4          Musical_Instruments   \n",
       "\n",
       "                                        questionText  \n",
       "0  Many have stated similar to the following: \"Pa...  \n",
       "1  Will these work with the Phillips sonicare han...  \n",
       "2                      What kind of sim card it use?  \n",
       "3  does anyone know if this dinnerware set does n...  \n",
       "4  I'm thinking of getting in to modular synthesi...  "
      ]
     },
     "execution_count": 5,
     "metadata": {},
     "output_type": "execute_result"
    }
   ],
   "source": [
    "df = pd.read_json('data/train-qar.jsonl', lines=True, nrows=300000)\n",
    "df = df[['category', 'questionText']]\n",
    "df.head(5)"
   ]
  },
  {
   "cell_type": "code",
   "execution_count": 6,
   "metadata": {},
   "outputs": [
    {
     "data": {
      "text/plain": [
       "array(['Toys_and_Games', 'Health_and_Personal_Care',\n",
       "       'Cell_Phones_and_Accessories', 'Home_and_Kitchen',\n",
       "       'Musical_Instruments', 'Baby', 'Sports_and_Outdoors',\n",
       "       'Patio_Lawn_and_Garden', 'Video_Games', 'Pet_Supplies',\n",
       "       'Tools_and_Home_Improvement', 'Beauty', 'Electronics',\n",
       "       'Grocery_and_Gourmet_Food', 'Automotive', 'Office_Products',\n",
       "       'Clothing_Shoes_and_Jewelry'], dtype=object)"
      ]
     },
     "execution_count": 6,
     "metadata": {},
     "output_type": "execute_result"
    }
   ],
   "source": [
    "# Product category\n",
    "df['category'].unique()"
   ]
  },
  {
   "cell_type": "code",
   "execution_count": 7,
   "metadata": {},
   "outputs": [],
   "source": [
    "# convert the text to numeric class\n",
    "class_mapping = {\n",
    "    'Toys_and_Games': 0,\n",
    "    'Health_and_Personal_Care': 1,\n",
    "    'Cell_Phones_and_Accessories': 2,\n",
    "    'Home_and_Kitchen': 3,\n",
    "    'Musical_Instruments': 4,\n",
    "    'Baby': 5,\n",
    "    'Sports_and_Outdoors': 6,\n",
    "    'Patio_Lawn_and_Garden': 7,\n",
    "    'Video_Games': 8,\n",
    "    'Pet_Supplies': 9,\n",
    "    'Tools_and_Home_Improvement': 10,\n",
    "    'Beauty': 11,\n",
    "    'Electronics': 12,\n",
    "    'Grocery_and_Gourmet_Food': 13,\n",
    "    'Automotive': 14,\n",
    "    'Office_Products': 15,\n",
    "    'Clothing_Shoes_and_Jewelry': 16\n",
    "}\n",
    "\n",
    "# Map class names to numerical labels\n",
    "df['category'] = df['category'].map(class_mapping)"
   ]
  },
  {
   "cell_type": "code",
   "execution_count": 8,
   "metadata": {},
   "outputs": [],
   "source": [
    "# sample 100 data in each classes\n",
    "df_sample = df.groupby('category', group_keys=False).apply(lambda x: x.sample(500))"
   ]
  },
  {
   "cell_type": "code",
   "execution_count": 9,
   "metadata": {},
   "outputs": [],
   "source": [
    "# convert to lower case\n",
    "df_sample['questionText']  =  df_sample['questionText'].apply(lambda x: x.lower() if isinstance(x, str) else x)"
   ]
  },
  {
   "cell_type": "code",
   "execution_count": 10,
   "metadata": {},
   "outputs": [],
   "source": [
    "def data_cleaning(data):\n",
    "    regex_s = re.sub(\"\\\\(.+?\\\\)|[\\r\\n|\\n\\r]|!\", \"\", data)\n",
    "    fin = \" \".join(regex_s.split())\n",
    "    return fin"
   ]
  },
  {
   "cell_type": "code",
   "execution_count": 11,
   "metadata": {},
   "outputs": [],
   "source": [
    "df_sample['questionText'] = df_sample['questionText'].apply(data_cleaning)"
   ]
  },
  {
   "cell_type": "code",
   "execution_count": 12,
   "metadata": {},
   "outputs": [],
   "source": [
    "train_df, val_df = train_test_split(df_sample, test_size=0.1,stratify=df_sample['category'], random_state=SEED)"
   ]
  },
  {
   "cell_type": "code",
   "execution_count": 13,
   "metadata": {},
   "outputs": [],
   "source": [
    "train_df, test_df = train_test_split(train_df, test_size=0.1, stratify=train_df['category'],random_state=SEED)"
   ]
  },
  {
   "cell_type": "code",
   "execution_count": 14,
   "metadata": {},
   "outputs": [
    {
     "data": {
      "text/plain": [
       "category\n",
       "9     405\n",
       "0     405\n",
       "1     405\n",
       "15    405\n",
       "6     405\n",
       "12    405\n",
       "10    405\n",
       "4     405\n",
       "13    405\n",
       "8     405\n",
       "14    405\n",
       "5     405\n",
       "11    405\n",
       "16    405\n",
       "2     405\n",
       "3     405\n",
       "7     405\n",
       "Name: count, dtype: int64"
      ]
     },
     "execution_count": 14,
     "metadata": {},
     "output_type": "execute_result"
    }
   ],
   "source": [
    "train_df['category'].value_counts()"
   ]
  },
  {
   "cell_type": "markdown",
   "metadata": {},
   "source": [
    "## 2.Preprocessing"
   ]
  },
  {
   "cell_type": "markdown",
   "metadata": {},
   "source": [
    "### Tokenizing"
   ]
  },
  {
   "cell_type": "code",
   "execution_count": 15,
   "metadata": {},
   "outputs": [
    {
     "data": {
      "text/plain": [
       "['What', 'is', 'the', 'best', 'product', '?']"
      ]
     },
     "execution_count": 15,
     "metadata": {},
     "output_type": "execute_result"
    }
   ],
   "source": [
    "from torchtext.data.utils import get_tokenizer\n",
    "\n",
    "tokenizer = get_tokenizer('spacy', language='en_core_web_sm')\n",
    "tokens    = tokenizer(\"What is the best product?\")\n",
    "tokens"
   ]
  },
  {
   "cell_type": "markdown",
   "metadata": {},
   "source": [
    "### Text to integers (numeral)"
   ]
  },
  {
   "cell_type": "code",
   "execution_count": 16,
   "metadata": {},
   "outputs": [],
   "source": [
    "from torchtext.vocab import build_vocab_from_iterator\n",
    "\n",
    "def yield_tokens(data):\n",
    "    for data_sample in data:\n",
    "        yield tokenizer(data_sample) \n",
    "        \n",
    "vocab = build_vocab_from_iterator(yield_tokens(train_df['questionText']), specials = ['<unk>', '<pad>', '<bos>', '<eos>'])\n",
    "vocab.set_default_index(vocab[\"<unk>\"])"
   ]
  },
  {
   "cell_type": "code",
   "execution_count": 17,
   "metadata": {},
   "outputs": [
    {
     "data": {
      "text/plain": [
       "[338, 8, 7]"
      ]
     },
     "execution_count": 17,
     "metadata": {},
     "output_type": "execute_result"
    }
   ],
   "source": [
    "vocab(['here', 'it', 'is'])"
   ]
  },
  {
   "cell_type": "code",
   "execution_count": 18,
   "metadata": {},
   "outputs": [
    {
     "data": {
      "text/plain": [
       "'<unk>'"
      ]
     },
     "execution_count": 18,
     "metadata": {},
     "output_type": "execute_result"
    }
   ],
   "source": [
    "mapping = vocab.get_itos()\n",
    "mapping[0]"
   ]
  },
  {
   "cell_type": "code",
   "execution_count": 19,
   "metadata": {},
   "outputs": [
    {
     "data": {
      "text/plain": [
       "9391"
      ]
     },
     "execution_count": 19,
     "metadata": {},
     "output_type": "execute_result"
    }
   ],
   "source": [
    "len(vocab)"
   ]
  },
  {
   "cell_type": "markdown",
   "metadata": {},
   "source": [
    "## 3. Data loader"
   ]
  },
  {
   "cell_type": "markdown",
   "metadata": {},
   "source": [
    "### FastText Embedding"
   ]
  },
  {
   "cell_type": "code",
   "execution_count": 20,
   "metadata": {},
   "outputs": [],
   "source": [
    "from torchtext.vocab import FastText\n",
    "fast_vectors = FastText(language='simple')"
   ]
  },
  {
   "cell_type": "code",
   "execution_count": 21,
   "metadata": {},
   "outputs": [],
   "source": [
    "fast_embedding = fast_vectors.get_vecs_by_tokens(vocab.get_itos()).to(device)"
   ]
  },
  {
   "cell_type": "code",
   "execution_count": 22,
   "metadata": {},
   "outputs": [
    {
     "data": {
      "text/plain": [
       "torch.Size([9391, 300])"
      ]
     },
     "execution_count": 22,
     "metadata": {},
     "output_type": "execute_result"
    }
   ],
   "source": [
    "fast_embedding.shape"
   ]
  },
  {
   "cell_type": "code",
   "execution_count": 23,
   "metadata": {},
   "outputs": [],
   "source": [
    "class DataWrap(Dataset):\n",
    "\n",
    "    def __init__(self, dataframe):\n",
    "        self.dataframe = dataframe\n",
    "    \n",
    "    def __len__(self):\n",
    "        return len(self.dataframe)\n",
    "        \n",
    "    def __getitem__(self, idx):\n",
    "        return self.dataframe.iloc[idx]"
   ]
  },
  {
   "cell_type": "code",
   "execution_count": 24,
   "metadata": {},
   "outputs": [
    {
     "data": {
      "text/plain": [
       "category                                                        9\n",
       "questionText    can this be used in conjunction with a car pet...\n",
       "Name: 107570, dtype: object"
      ]
     },
     "execution_count": 24,
     "metadata": {},
     "output_type": "execute_result"
    }
   ],
   "source": [
    "train_df.iloc[0]"
   ]
  },
  {
   "cell_type": "code",
   "execution_count": 25,
   "metadata": {},
   "outputs": [],
   "source": [
    "train = DataWrap(train_df)\n",
    "valid = DataWrap(val_df)\n",
    "test = DataWrap(test_df)"
   ]
  },
  {
   "cell_type": "code",
   "execution_count": 26,
   "metadata": {},
   "outputs": [],
   "source": [
    "text_pipeline  = lambda x: vocab(tokenizer(x)) #{hello world this is yt} => {'hello', 'world', 'this', 'is', 'yt'} => {4, 88, 11, 22, 6}"
   ]
  },
  {
   "cell_type": "code",
   "execution_count": 27,
   "metadata": {},
   "outputs": [
    {
     "data": {
      "text/plain": [
       "[0, 73, 558, 0, 0]"
      ]
     },
     "execution_count": 27,
     "metadata": {},
     "output_type": "execute_result"
    }
   ],
   "source": [
    "text_pipeline(\"I am currently teaching LSTM\")"
   ]
  },
  {
   "cell_type": "code",
   "execution_count": 28,
   "metadata": {},
   "outputs": [],
   "source": [
    "from torch.utils.data   import DataLoader\n",
    "from torch.nn.utils.rnn import pad_sequence\n",
    "\n",
    "pad_idx = vocab['<pad>'] \n",
    "\n",
    "def collate_batch(batch):\n",
    "    label_list, text_list = [], []\n",
    "    for (_label, _text) in batch:\n",
    "        label_list.append(_label)\n",
    "        processed_text = torch.tensor(text_pipeline(_text), dtype=torch.int64)\n",
    "        text_list.append(processed_text)\n",
    "    #criterion expects float labels\n",
    "    return torch.tensor(label_list, dtype=torch.int64), pad_sequence(text_list, padding_value=pad_idx, batch_first=True)"
   ]
  },
  {
   "cell_type": "code",
   "execution_count": 29,
   "metadata": {},
   "outputs": [],
   "source": [
    "batch_size = 64\n",
    "\n",
    "train_loader = DataLoader(train, batch_size=batch_size, shuffle=True,  collate_fn=collate_batch) #num_workers to train faster\n",
    "val_loader   = DataLoader(valid, batch_size=batch_size, shuffle=False, collate_fn=collate_batch)\n",
    "test_loader  = DataLoader(test,  batch_size=batch_size, shuffle=False, collate_fn=collate_batch)"
   ]
  },
  {
   "cell_type": "code",
   "execution_count": 30,
   "metadata": {},
   "outputs": [],
   "source": [
    "for label, text in val_loader:\n",
    "    break"
   ]
  },
  {
   "cell_type": "code",
   "execution_count": 31,
   "metadata": {},
   "outputs": [
    {
     "data": {
      "text/plain": [
       "torch.Size([64])"
      ]
     },
     "execution_count": 31,
     "metadata": {},
     "output_type": "execute_result"
    }
   ],
   "source": [
    "label.shape #(batch_size, )"
   ]
  },
  {
   "cell_type": "code",
   "execution_count": 32,
   "metadata": {},
   "outputs": [
    {
     "data": {
      "text/plain": [
       "torch.Size([64, 37])"
      ]
     },
     "execution_count": 32,
     "metadata": {},
     "output_type": "execute_result"
    }
   ],
   "source": [
    "text.shape #(batch_size, seq len)"
   ]
  },
  {
   "cell_type": "markdown",
   "metadata": {},
   "source": [
    "## 4. Model (CNN)"
   ]
  },
  {
   "cell_type": "code",
   "execution_count": 33,
   "metadata": {},
   "outputs": [],
   "source": [
    "class CNN(nn.Module): #more elegant version\n",
    "    def __init__(self, input_dim, emb_dim, output_dim, dropout, n_filters, filter_sizes):\n",
    "        \n",
    "        super().__init__()\n",
    "                \n",
    "        self.embedding = nn.Embedding(input_dim, emb_dim, padding_idx=pad_idx)\n",
    "        self.convs = nn.ModuleList([\n",
    "                                    nn.Conv2d(in_channels = 1, \n",
    "                                              out_channels = n_filters, \n",
    "                                              kernel_size = (fs, emb_dim)) \n",
    "                                    for fs in filter_sizes\n",
    "                                    ])\n",
    "        \n",
    "        self.fc = nn.Linear(len(filter_sizes) * n_filters, output_dim)\n",
    "        self.dropout = nn.Dropout(dropout)\n",
    "        \n",
    "    def forward(self, text):\n",
    "                \n",
    "        #text = [batch size, sent len]\n",
    "        embedded = self.embedding(text)\n",
    "        #embedded = [batch size, sent len, emb dim]\n",
    "        \n",
    "        embedded = embedded.unsqueeze(1)\n",
    "        #embedded = [batch size, 1, sent len, emb dim]\n",
    "        \n",
    "        conved = [F.relu(conv(embedded)).squeeze(3) for conv in self.convs]\n",
    "        #conved_n = [batch size, n_filters, sent len - filter_sizes[n] + 1]\n",
    "                \n",
    "        pooled = [F.max_pool1d(conv, conv.shape[2]).squeeze(2) for conv in conved]\n",
    "        #pooled_n = [batch size, n_filters]\n",
    "        \n",
    "        cat = self.dropout(torch.cat(pooled, dim = 1))\n",
    "        #cat = [batch size, n_filters * len(filter_sizes)]\n",
    "            \n",
    "        return self.fc(cat)"
   ]
  },
  {
   "cell_type": "markdown",
   "metadata": {},
   "source": [
    "## 5. Train"
   ]
  },
  {
   "cell_type": "code",
   "execution_count": 34,
   "metadata": {},
   "outputs": [],
   "source": [
    "#explicitly initialize weights for better learning\n",
    "def initialize_weights(m):\n",
    "    if isinstance(m, nn.Linear):\n",
    "        nn.init.xavier_normal_(m.weight)\n",
    "        nn.init.zeros_(m.bias)\n",
    "    elif isinstance(m, (nn.Conv2d, nn.Conv2d)):\n",
    "        for name, param in m.named_parameters():\n",
    "            if 'bias' in name:\n",
    "                nn.init.zeros_(param)\n",
    "            elif 'weight' in name:\n",
    "                nn.init.kaiming_normal_(param) "
   ]
  },
  {
   "cell_type": "code",
   "execution_count": 35,
   "metadata": {},
   "outputs": [],
   "source": [
    "def accuracy(preds, y):\n",
    "    \n",
    "    predicted = torch.max(preds.data, 1)[1]\n",
    "    batch_corr = (predicted == y).sum()\n",
    "    acc = batch_corr / len(y)\n",
    "    \n",
    "    return acc"
   ]
  },
  {
   "cell_type": "code",
   "execution_count": 36,
   "metadata": {},
   "outputs": [],
   "source": [
    "def train(model, loader, optimizer, criterion, loader_length):\n",
    "    epoch_loss = 0\n",
    "    epoch_acc = 0\n",
    "    model.train() #useful for batchnorm and dropout\n",
    "    \n",
    "    for i, (label, text) in enumerate(loader): \n",
    "        label = label.to(device) #(batch_size, )\n",
    "        text = text.to(device) #(batch_size, seq len)\n",
    "                \n",
    "        #predict\n",
    "        predictions = model(text).squeeze(1) #output by the fc is (batch_size, 1), thus need to remove this 1\n",
    "        \n",
    "        #calculate loss\n",
    "        loss = criterion(predictions, label)\n",
    "        acc  = accuracy(predictions, label)\n",
    "        \n",
    "        #backprop\n",
    "        optimizer.zero_grad()\n",
    "        loss.backward()\n",
    "        optimizer.step()\n",
    "        \n",
    "        epoch_loss += loss.item()\n",
    "        epoch_acc += acc.item()\n",
    "                        \n",
    "    return epoch_loss / loader_length, epoch_acc / loader_length"
   ]
  },
  {
   "cell_type": "code",
   "execution_count": 37,
   "metadata": {},
   "outputs": [],
   "source": [
    "def evaluate(model, loader, criterion, loader_length):\n",
    "    epoch_loss = 0\n",
    "    epoch_acc = 0\n",
    "    model.eval()\n",
    "    \n",
    "    with torch.no_grad():\n",
    "        for i, (label, text) in enumerate(loader): \n",
    "            label = label.to(device) #(batch_size, )\n",
    "            text  = text.to(device)  #(seq len, batch_size)\n",
    "\n",
    "            predictions = model(text).squeeze(1) \n",
    "            \n",
    "            loss = criterion(predictions, label)\n",
    "            acc  = accuracy(predictions, label)\n",
    "\n",
    "            epoch_loss += loss.item()\n",
    "            epoch_acc += acc.item()\n",
    "        \n",
    "    return epoch_loss / loader_length, epoch_acc / loader_length"
   ]
  },
  {
   "cell_type": "markdown",
   "metadata": {},
   "source": [
    "### Actual training"
   ]
  },
  {
   "cell_type": "code",
   "execution_count": 38,
   "metadata": {},
   "outputs": [],
   "source": [
    "train_loader_length = len(list(iter(train_loader)))\n",
    "val_loader_length   = len(list(iter(val_loader)))\n",
    "test_loader_length  = len(list(iter(test_loader)))"
   ]
  },
  {
   "cell_type": "code",
   "execution_count": 39,
   "metadata": {},
   "outputs": [],
   "source": [
    "def epoch_time(start_time, end_time):\n",
    "    elapsed_time = end_time - start_time\n",
    "    elapsed_mins = int(elapsed_time / 60)\n",
    "    elapsed_secs = int(elapsed_time - (elapsed_mins * 60))\n",
    "    return elapsed_mins, elapsed_secs"
   ]
  },
  {
   "cell_type": "code",
   "execution_count": 40,
   "metadata": {},
   "outputs": [
    {
     "name": "stderr",
     "output_type": "stream",
     "text": [
      "/usr/local/lib/python3.10/site-packages/pydantic/_internal/_fields.py:160: UserWarning: Field \"model_server_url\" has conflict with protected namespace \"model_\".\n",
      "\n",
      "You may be able to resolve this warning by setting `model_config['protected_namespaces'] = ()`.\n",
      "  warnings.warn(\n",
      "/usr/local/lib/python3.10/site-packages/pydantic/_internal/_config.py:334: UserWarning: Valid config keys have changed in V2:\n",
      "* 'schema_extra' has been renamed to 'json_schema_extra'\n",
      "  warnings.warn(message, UserWarning)\n"
     ]
    },
    {
     "data": {
      "text/plain": [
       "<Experiment: artifact_location='mlflow-artifacts:/719723154376132583', creation_time=1713634081648, experiment_id='719723154376132583', last_update_time=1713634081648, lifecycle_stage='active', name='CNN500', tags={}>"
      ]
     },
     "execution_count": 40,
     "metadata": {},
     "output_type": "execute_result"
    }
   ],
   "source": [
    "#experiment tracking\n",
    "import mlflow\n",
    "from mlflow.models import infer_signature\n",
    "import os\n",
    "\n",
    "# This the dockerized method.\n",
    "# We build two docker containers, one for python/jupyter and another for mlflow.\n",
    "# The url `mlflow` is resolved into another container within the same composer.\n",
    "mlflow.set_tracking_uri(\"http://mlflow:5000\")\n",
    "# In the dockerized way, the user who runs this code will be `root`.\n",
    "# The MLflow will also log the run user_id as `root`.\n",
    "# To change that, we need to set this environ[\"LOGNAME\"] to your name.\n",
    "os.environ[\"LOGNAME\"] = \"noppawee\"\n",
    "#mlflow.create_experiment(name=\"noppawee-ML-project\")  #create if you haven't create\n",
    "mlflow.set_experiment(experiment_name=\"CNN500\")\n"
   ]
  },
  {
   "cell_type": "code",
   "execution_count": 41,
   "metadata": {},
   "outputs": [
    {
     "name": "stdout",
     "output_type": "stream",
     "text": [
      "===== CNN with 10-epochs-50-n_filters =====\n",
      "Epoch: 1 | Time: 0m 8s\n",
      "\tTrain Loss: 2.908 | Train Acc: 7.37%\n",
      "\tVal.  Loss: 2.738 | Val Acc: 15.36%\n"
     ]
    },
    {
     "name": "stderr",
     "output_type": "stream",
     "text": [
      "/usr/local/lib/python3.10/site-packages/_distutils_hack/__init__.py:18: UserWarning: Distutils was imported before Setuptools, but importing Setuptools also replaces the `distutils` module in `sys.modules`. This may lead to undesirable behaviors or errors. To avoid these issues, avoid using distutils directly, ensure that setuptools is installed in the traditional way (e.g. not an editable install), and/or make sure that setuptools is always imported before distutils.\n",
      "  warnings.warn(\n",
      "/usr/local/lib/python3.10/site-packages/_distutils_hack/__init__.py:33: UserWarning: Setuptools is replacing distutils.\n",
      "  warnings.warn(\"Setuptools is replacing distutils.\")\n"
     ]
    },
    {
     "name": "stdout",
     "output_type": "stream",
     "text": [
      "Epoch: 2 | Time: 0m 6s\n",
      "\tTrain Loss: 2.707 | Train Acc: 14.00%\n",
      "\tVal.  Loss: 2.637 | Val Acc: 21.29%\n",
      "Epoch: 3 | Time: 0m 7s\n",
      "\tTrain Loss: 2.565 | Train Acc: 21.22%\n",
      "\tVal.  Loss: 2.545 | Val Acc: 23.35%\n",
      "Epoch: 4 | Time: 0m 6s\n",
      "\tTrain Loss: 2.449 | Train Acc: 25.48%\n",
      "\tVal.  Loss: 2.460 | Val Acc: 24.91%\n",
      "Epoch: 5 | Time: 0m 6s\n",
      "\tTrain Loss: 2.354 | Train Acc: 29.17%\n",
      "\tVal.  Loss: 2.399 | Val Acc: 26.70%\n",
      "Epoch: 6 | Time: 0m 7s\n",
      "\tTrain Loss: 2.270 | Train Acc: 31.56%\n",
      "\tVal.  Loss: 2.355 | Val Acc: 27.88%\n",
      "Epoch: 7 | Time: 0m 6s\n",
      "\tTrain Loss: 2.188 | Train Acc: 34.20%\n",
      "\tVal.  Loss: 2.310 | Val Acc: 30.22%\n",
      "Epoch: 8 | Time: 0m 6s\n",
      "\tTrain Loss: 2.128 | Train Acc: 36.69%\n",
      "\tVal.  Loss: 2.280 | Val Acc: 30.89%\n",
      "Epoch: 9 | Time: 0m 7s\n",
      "\tTrain Loss: 2.071 | Train Acc: 37.72%\n",
      "\tVal.  Loss: 2.254 | Val Acc: 31.96%\n",
      "Epoch: 10 | Time: 0m 8s\n",
      "\tTrain Loss: 2.017 | Train Acc: 39.80%\n",
      "\tVal.  Loss: 2.231 | Val Acc: 31.78%\n",
      "===== CNN with 10-epochs-100-n_filters =====\n",
      "Epoch: 1 | Time: 0m 11s\n",
      "\tTrain Loss: 2.927 | Train Acc: 7.25%\n",
      "\tVal.  Loss: 2.737 | Val Acc: 17.51%\n",
      "Epoch: 2 | Time: 0m 10s\n",
      "\tTrain Loss: 2.708 | Train Acc: 15.16%\n",
      "\tVal.  Loss: 2.618 | Val Acc: 23.97%\n",
      "Epoch: 3 | Time: 0m 11s\n",
      "\tTrain Loss: 2.544 | Train Acc: 22.10%\n",
      "\tVal.  Loss: 2.520 | Val Acc: 24.19%\n",
      "Epoch: 4 | Time: 0m 10s\n",
      "\tTrain Loss: 2.402 | Train Acc: 26.92%\n",
      "\tVal.  Loss: 2.435 | Val Acc: 26.76%\n",
      "Epoch: 5 | Time: 0m 11s\n",
      "\tTrain Loss: 2.295 | Train Acc: 31.33%\n",
      "\tVal.  Loss: 2.370 | Val Acc: 28.45%\n",
      "Epoch: 6 | Time: 0m 10s\n",
      "\tTrain Loss: 2.204 | Train Acc: 33.54%\n",
      "\tVal.  Loss: 2.318 | Val Acc: 30.57%\n",
      "Epoch: 7 | Time: 0m 10s\n",
      "\tTrain Loss: 2.111 | Train Acc: 37.06%\n",
      "\tVal.  Loss: 2.278 | Val Acc: 31.86%\n",
      "Epoch: 8 | Time: 0m 10s\n",
      "\tTrain Loss: 2.049 | Train Acc: 39.59%\n",
      "\tVal.  Loss: 2.244 | Val Acc: 31.85%\n",
      "Epoch: 9 | Time: 0m 10s\n",
      "\tTrain Loss: 1.974 | Train Acc: 42.27%\n",
      "\tVal.  Loss: 2.223 | Val Acc: 32.13%\n",
      "Epoch: 10 | Time: 0m 10s\n",
      "\tTrain Loss: 1.924 | Train Acc: 42.95%\n",
      "\tVal.  Loss: 2.202 | Val Acc: 32.40%\n",
      "===== CNN with 10-epochs-150-n_filters =====\n",
      "Epoch: 1 | Time: 0m 11s\n",
      "\tTrain Loss: 2.937 | Train Acc: 8.27%\n",
      "\tVal.  Loss: 2.717 | Val Acc: 16.37%\n",
      "Epoch: 2 | Time: 0m 11s\n",
      "\tTrain Loss: 2.688 | Train Acc: 15.71%\n",
      "\tVal.  Loss: 2.589 | Val Acc: 21.79%\n",
      "Epoch: 3 | Time: 0m 11s\n",
      "\tTrain Loss: 2.499 | Train Acc: 23.04%\n",
      "\tVal.  Loss: 2.490 | Val Acc: 23.57%\n",
      "Epoch: 4 | Time: 0m 11s\n",
      "\tTrain Loss: 2.347 | Train Acc: 28.69%\n",
      "\tVal.  Loss: 2.407 | Val Acc: 27.38%\n",
      "Epoch: 5 | Time: 0m 11s\n",
      "\tTrain Loss: 2.236 | Train Acc: 33.33%\n",
      "\tVal.  Loss: 2.343 | Val Acc: 28.37%\n",
      "Epoch: 6 | Time: 0m 11s\n",
      "\tTrain Loss: 2.143 | Train Acc: 35.86%\n",
      "\tVal.  Loss: 2.302 | Val Acc: 28.88%\n",
      "Epoch: 7 | Time: 0m 12s\n",
      "\tTrain Loss: 2.062 | Train Acc: 38.28%\n",
      "\tVal.  Loss: 2.262 | Val Acc: 31.62%\n",
      "Epoch: 8 | Time: 0m 12s\n",
      "\tTrain Loss: 1.977 | Train Acc: 41.33%\n",
      "\tVal.  Loss: 2.228 | Val Acc: 30.94%\n",
      "Epoch: 9 | Time: 0m 11s\n",
      "\tTrain Loss: 1.915 | Train Acc: 43.30%\n",
      "\tVal.  Loss: 2.215 | Val Acc: 31.83%\n",
      "Epoch: 10 | Time: 0m 11s\n",
      "\tTrain Loss: 1.851 | Train Acc: 45.48%\n",
      "\tVal.  Loss: 2.191 | Val Acc: 32.34%\n",
      "===== CNN with 20-epochs-50-n_filters =====\n",
      "Epoch: 1 | Time: 0m 7s\n",
      "\tTrain Loss: 2.885 | Train Acc: 8.47%\n",
      "\tVal.  Loss: 2.739 | Val Acc: 14.19%\n",
      "Epoch: 2 | Time: 0m 6s\n",
      "\tTrain Loss: 2.689 | Train Acc: 16.20%\n",
      "\tVal.  Loss: 2.632 | Val Acc: 22.22%\n",
      "Epoch: 3 | Time: 0m 7s\n",
      "\tTrain Loss: 2.544 | Train Acc: 22.42%\n",
      "\tVal.  Loss: 2.528 | Val Acc: 25.69%\n",
      "Epoch: 4 | Time: 0m 7s\n",
      "\tTrain Loss: 2.413 | Train Acc: 27.09%\n",
      "\tVal.  Loss: 2.443 | Val Acc: 26.81%\n",
      "Epoch: 5 | Time: 0m 7s\n",
      "\tTrain Loss: 2.313 | Train Acc: 30.40%\n",
      "\tVal.  Loss: 2.384 | Val Acc: 27.42%\n",
      "Epoch: 6 | Time: 0m 7s\n",
      "\tTrain Loss: 2.228 | Train Acc: 32.30%\n",
      "\tVal.  Loss: 2.333 | Val Acc: 29.44%\n",
      "Epoch: 7 | Time: 0m 7s\n",
      "\tTrain Loss: 2.159 | Train Acc: 35.59%\n",
      "\tVal.  Loss: 2.294 | Val Acc: 30.38%\n",
      "Epoch: 8 | Time: 0m 6s\n",
      "\tTrain Loss: 2.101 | Train Acc: 37.25%\n",
      "\tVal.  Loss: 2.265 | Val Acc: 31.50%\n",
      "Epoch: 9 | Time: 0m 8s\n",
      "\tTrain Loss: 2.050 | Train Acc: 38.39%\n",
      "\tVal.  Loss: 2.241 | Val Acc: 30.89%\n",
      "Epoch: 10 | Time: 0m 6s\n",
      "\tTrain Loss: 1.990 | Train Acc: 40.51%\n",
      "\tVal.  Loss: 2.215 | Val Acc: 33.01%\n",
      "Epoch: 11 | Time: 0m 6s\n",
      "\tTrain Loss: 1.936 | Train Acc: 42.72%\n",
      "\tVal.  Loss: 2.196 | Val Acc: 32.84%\n",
      "Epoch: 12 | Time: 0m 6s\n",
      "\tTrain Loss: 1.887 | Train Acc: 44.38%\n",
      "\tVal.  Loss: 2.181 | Val Acc: 33.01%\n",
      "Epoch: 13 | Time: 0m 6s\n",
      "\tTrain Loss: 1.835 | Train Acc: 45.41%\n",
      "\tVal.  Loss: 2.176 | Val Acc: 34.02%\n",
      "Epoch: 14 | Time: 0m 7s\n",
      "\tTrain Loss: 1.802 | Train Acc: 46.92%\n",
      "\tVal.  Loss: 2.158 | Val Acc: 35.08%\n",
      "Epoch: 15 | Time: 0m 7s\n",
      "\tTrain Loss: 1.762 | Train Acc: 48.20%\n",
      "\tVal.  Loss: 2.149 | Val Acc: 34.69%\n",
      "Epoch: 16 | Time: 0m 7s\n",
      "\tTrain Loss: 1.716 | Train Acc: 49.68%\n",
      "\tVal.  Loss: 2.141 | Val Acc: 34.80%\n",
      "Epoch: 17 | Time: 0m 6s\n",
      "\tTrain Loss: 1.665 | Train Acc: 50.92%\n",
      "\tVal.  Loss: 2.132 | Val Acc: 35.35%\n",
      "Epoch: 18 | Time: 0m 6s\n",
      "\tTrain Loss: 1.627 | Train Acc: 52.85%\n",
      "\tVal.  Loss: 2.122 | Val Acc: 35.47%\n",
      "Epoch: 19 | Time: 0m 7s\n",
      "\tTrain Loss: 1.575 | Train Acc: 54.38%\n",
      "\tVal.  Loss: 2.121 | Val Acc: 35.80%\n",
      "Epoch: 20 | Time: 0m 7s\n",
      "\tTrain Loss: 1.552 | Train Acc: 54.99%\n",
      "\tVal.  Loss: 2.111 | Val Acc: 37.20%\n",
      "===== CNN with 20-epochs-100-n_filters =====\n",
      "Epoch: 1 | Time: 0m 12s\n",
      "\tTrain Loss: 2.918 | Train Acc: 8.00%\n",
      "\tVal.  Loss: 2.723 | Val Acc: 14.87%\n",
      "Epoch: 2 | Time: 0m 10s\n",
      "\tTrain Loss: 2.691 | Train Acc: 15.71%\n",
      "\tVal.  Loss: 2.605 | Val Acc: 21.12%\n",
      "Epoch: 3 | Time: 0m 10s\n",
      "\tTrain Loss: 2.512 | Train Acc: 23.34%\n",
      "\tVal.  Loss: 2.491 | Val Acc: 26.25%\n",
      "Epoch: 4 | Time: 0m 11s\n",
      "\tTrain Loss: 2.383 | Train Acc: 28.16%\n",
      "\tVal.  Loss: 2.406 | Val Acc: 26.59%\n",
      "Epoch: 5 | Time: 0m 10s\n",
      "\tTrain Loss: 2.260 | Train Acc: 32.29%\n",
      "\tVal.  Loss: 2.343 | Val Acc: 27.81%\n",
      "Epoch: 6 | Time: 0m 10s\n",
      "\tTrain Loss: 2.173 | Train Acc: 35.40%\n",
      "\tVal.  Loss: 2.289 | Val Acc: 28.42%\n",
      "Epoch: 7 | Time: 0m 10s\n",
      "\tTrain Loss: 2.077 | Train Acc: 38.77%\n",
      "\tVal.  Loss: 2.253 | Val Acc: 29.27%\n",
      "Epoch: 8 | Time: 0m 11s\n",
      "\tTrain Loss: 2.021 | Train Acc: 39.95%\n",
      "\tVal.  Loss: 2.221 | Val Acc: 31.83%\n",
      "Epoch: 9 | Time: 0m 11s\n",
      "\tTrain Loss: 1.955 | Train Acc: 42.26%\n",
      "\tVal.  Loss: 2.195 | Val Acc: 31.83%\n",
      "Epoch: 10 | Time: 0m 11s\n",
      "\tTrain Loss: 1.893 | Train Acc: 44.39%\n",
      "\tVal.  Loss: 2.178 | Val Acc: 32.39%\n",
      "Epoch: 11 | Time: 0m 10s\n",
      "\tTrain Loss: 1.826 | Train Acc: 46.34%\n",
      "\tVal.  Loss: 2.156 | Val Acc: 33.23%\n",
      "Epoch: 12 | Time: 0m 10s\n",
      "\tTrain Loss: 1.776 | Train Acc: 47.90%\n",
      "\tVal.  Loss: 2.142 | Val Acc: 33.35%\n",
      "Epoch: 13 | Time: 0m 10s\n",
      "\tTrain Loss: 1.722 | Train Acc: 50.00%\n",
      "\tVal.  Loss: 2.129 | Val Acc: 34.13%\n",
      "Epoch: 14 | Time: 0m 10s\n",
      "\tTrain Loss: 1.664 | Train Acc: 52.02%\n",
      "\tVal.  Loss: 2.115 | Val Acc: 35.24%\n",
      "Epoch: 15 | Time: 0m 11s\n",
      "\tTrain Loss: 1.618 | Train Acc: 53.73%\n",
      "\tVal.  Loss: 2.100 | Val Acc: 35.24%\n",
      "Epoch: 16 | Time: 0m 11s\n",
      "\tTrain Loss: 1.571 | Train Acc: 54.64%\n",
      "\tVal.  Loss: 2.096 | Val Acc: 35.07%\n",
      "Epoch: 17 | Time: 0m 10s\n",
      "\tTrain Loss: 1.507 | Train Acc: 57.00%\n",
      "\tVal.  Loss: 2.087 | Val Acc: 36.36%\n",
      "Epoch: 18 | Time: 0m 10s\n",
      "\tTrain Loss: 1.455 | Train Acc: 58.47%\n",
      "\tVal.  Loss: 2.092 | Val Acc: 35.64%\n",
      "Epoch: 19 | Time: 0m 10s\n",
      "\tTrain Loss: 1.418 | Train Acc: 60.35%\n",
      "\tVal.  Loss: 2.078 | Val Acc: 36.69%\n",
      "Epoch: 20 | Time: 0m 10s\n",
      "\tTrain Loss: 1.373 | Train Acc: 61.03%\n",
      "\tVal.  Loss: 2.066 | Val Acc: 36.81%\n",
      "===== CNN with 20-epochs-150-n_filters =====\n",
      "Epoch: 1 | Time: 0m 11s\n",
      "\tTrain Loss: 2.921 | Train Acc: 8.18%\n",
      "\tVal.  Loss: 2.702 | Val Acc: 13.64%\n",
      "Epoch: 2 | Time: 0m 11s\n",
      "\tTrain Loss: 2.664 | Train Acc: 16.64%\n",
      "\tVal.  Loss: 2.567 | Val Acc: 22.01%\n",
      "Epoch: 3 | Time: 0m 11s\n",
      "\tTrain Loss: 2.477 | Train Acc: 24.54%\n",
      "\tVal.  Loss: 2.458 | Val Acc: 25.93%\n",
      "Epoch: 4 | Time: 0m 11s\n",
      "\tTrain Loss: 2.320 | Train Acc: 29.23%\n",
      "\tVal.  Loss: 2.381 | Val Acc: 27.60%\n",
      "Epoch: 5 | Time: 0m 12s\n",
      "\tTrain Loss: 2.210 | Train Acc: 33.18%\n",
      "\tVal.  Loss: 2.326 | Val Acc: 28.77%\n",
      "Epoch: 6 | Time: 0m 12s\n",
      "\tTrain Loss: 2.099 | Train Acc: 37.61%\n",
      "\tVal.  Loss: 2.268 | Val Acc: 30.56%\n",
      "Epoch: 7 | Time: 0m 11s\n",
      "\tTrain Loss: 2.030 | Train Acc: 39.53%\n",
      "\tVal.  Loss: 2.242 | Val Acc: 30.95%\n",
      "Epoch: 8 | Time: 0m 13s\n",
      "\tTrain Loss: 1.952 | Train Acc: 41.80%\n",
      "\tVal.  Loss: 2.225 | Val Acc: 31.18%\n",
      "Epoch: 9 | Time: 0m 12s\n",
      "\tTrain Loss: 1.888 | Train Acc: 44.68%\n",
      "\tVal.  Loss: 2.199 | Val Acc: 31.78%\n",
      "Epoch: 10 | Time: 0m 11s\n",
      "\tTrain Loss: 1.810 | Train Acc: 46.92%\n",
      "\tVal.  Loss: 2.169 | Val Acc: 33.12%\n",
      "Epoch: 11 | Time: 0m 11s\n",
      "\tTrain Loss: 1.750 | Train Acc: 48.56%\n",
      "\tVal.  Loss: 2.157 | Val Acc: 33.74%\n",
      "Epoch: 12 | Time: 0m 11s\n",
      "\tTrain Loss: 1.694 | Train Acc: 51.21%\n",
      "\tVal.  Loss: 2.146 | Val Acc: 33.01%\n",
      "Epoch: 13 | Time: 0m 12s\n",
      "\tTrain Loss: 1.625 | Train Acc: 54.27%\n",
      "\tVal.  Loss: 2.135 | Val Acc: 33.52%\n",
      "Epoch: 14 | Time: 0m 11s\n",
      "\tTrain Loss: 1.558 | Train Acc: 55.35%\n",
      "\tVal.  Loss: 2.130 | Val Acc: 34.64%\n",
      "Epoch: 15 | Time: 0m 12s\n",
      "\tTrain Loss: 1.515 | Train Acc: 57.12%\n",
      "\tVal.  Loss: 2.122 | Val Acc: 35.08%\n",
      "Epoch: 16 | Time: 0m 11s\n",
      "\tTrain Loss: 1.468 | Train Acc: 58.65%\n",
      "\tVal.  Loss: 2.117 | Val Acc: 34.64%\n",
      "Epoch: 17 | Time: 0m 11s\n",
      "\tTrain Loss: 1.412 | Train Acc: 60.57%\n",
      "\tVal.  Loss: 2.113 | Val Acc: 34.69%\n",
      "Epoch: 18 | Time: 0m 13s\n",
      "\tTrain Loss: 1.354 | Train Acc: 61.86%\n",
      "\tVal.  Loss: 2.118 | Val Acc: 35.58%\n",
      "Epoch: 19 | Time: 0m 11s\n",
      "\tTrain Loss: 1.290 | Train Acc: 64.24%\n",
      "\tVal.  Loss: 2.102 | Val Acc: 34.41%\n",
      "Epoch: 20 | Time: 0m 11s\n",
      "\tTrain Loss: 1.254 | Train Acc: 65.79%\n",
      "\tVal.  Loss: 2.100 | Val Acc: 35.19%\n",
      "===== CNN with 30-epochs-50-n_filters =====\n",
      "Epoch: 1 | Time: 0m 7s\n",
      "\tTrain Loss: 2.895 | Train Acc: 7.97%\n",
      "\tVal.  Loss: 2.726 | Val Acc: 17.27%\n",
      "Epoch: 2 | Time: 0m 6s\n",
      "\tTrain Loss: 2.685 | Train Acc: 16.25%\n",
      "\tVal.  Loss: 2.617 | Val Acc: 21.50%\n",
      "Epoch: 3 | Time: 0m 8s\n",
      "\tTrain Loss: 2.539 | Train Acc: 22.71%\n",
      "\tVal.  Loss: 2.514 | Val Acc: 25.09%\n",
      "Epoch: 4 | Time: 0m 7s\n",
      "\tTrain Loss: 2.396 | Train Acc: 27.73%\n",
      "\tVal.  Loss: 2.422 | Val Acc: 28.93%\n",
      "Epoch: 5 | Time: 0m 7s\n",
      "\tTrain Loss: 2.292 | Train Acc: 30.42%\n",
      "\tVal.  Loss: 2.362 | Val Acc: 29.61%\n",
      "Epoch: 6 | Time: 0m 6s\n",
      "\tTrain Loss: 2.208 | Train Acc: 33.56%\n",
      "\tVal.  Loss: 2.310 | Val Acc: 29.60%\n",
      "Epoch: 7 | Time: 0m 7s\n",
      "\tTrain Loss: 2.147 | Train Acc: 35.34%\n",
      "\tVal.  Loss: 2.268 | Val Acc: 33.07%\n",
      "Epoch: 8 | Time: 0m 6s\n",
      "\tTrain Loss: 2.062 | Train Acc: 38.60%\n",
      "\tVal.  Loss: 2.239 | Val Acc: 33.01%\n",
      "Epoch: 9 | Time: 0m 6s\n",
      "\tTrain Loss: 1.995 | Train Acc: 39.90%\n",
      "\tVal.  Loss: 2.211 | Val Acc: 34.24%\n",
      "Epoch: 10 | Time: 0m 7s\n",
      "\tTrain Loss: 1.938 | Train Acc: 42.21%\n",
      "\tVal.  Loss: 2.199 | Val Acc: 33.51%\n",
      "Epoch: 11 | Time: 0m 7s\n",
      "\tTrain Loss: 1.902 | Train Acc: 43.51%\n",
      "\tVal.  Loss: 2.174 | Val Acc: 35.19%\n",
      "Epoch: 12 | Time: 0m 7s\n",
      "\tTrain Loss: 1.842 | Train Acc: 45.50%\n",
      "\tVal.  Loss: 2.156 | Val Acc: 34.35%\n",
      "Epoch: 13 | Time: 0m 7s\n",
      "\tTrain Loss: 1.796 | Train Acc: 47.26%\n",
      "\tVal.  Loss: 2.143 | Val Acc: 34.80%\n",
      "Epoch: 14 | Time: 0m 7s\n",
      "\tTrain Loss: 1.751 | Train Acc: 48.33%\n",
      "\tVal.  Loss: 2.133 | Val Acc: 36.36%\n",
      "Epoch: 15 | Time: 0m 6s\n",
      "\tTrain Loss: 1.715 | Train Acc: 49.17%\n",
      "\tVal.  Loss: 2.120 | Val Acc: 36.14%\n",
      "Epoch: 16 | Time: 0m 7s\n",
      "\tTrain Loss: 1.674 | Train Acc: 50.99%\n",
      "\tVal.  Loss: 2.110 | Val Acc: 36.58%\n",
      "Epoch: 17 | Time: 0m 8s\n",
      "\tTrain Loss: 1.617 | Train Acc: 52.49%\n",
      "\tVal.  Loss: 2.108 | Val Acc: 35.58%\n",
      "Epoch: 18 | Time: 0m 7s\n",
      "\tTrain Loss: 1.579 | Train Acc: 54.04%\n",
      "\tVal.  Loss: 2.105 | Val Acc: 35.86%\n",
      "Epoch: 19 | Time: 0m 7s\n",
      "\tTrain Loss: 1.553 | Train Acc: 55.05%\n",
      "\tVal.  Loss: 2.093 | Val Acc: 35.47%\n",
      "Epoch: 20 | Time: 0m 6s\n",
      "\tTrain Loss: 1.510 | Train Acc: 56.15%\n",
      "\tVal.  Loss: 2.092 | Val Acc: 36.81%\n",
      "Epoch: 21 | Time: 0m 7s\n",
      "\tTrain Loss: 1.474 | Train Acc: 57.78%\n",
      "\tVal.  Loss: 2.083 | Val Acc: 36.69%\n",
      "Epoch: 22 | Time: 0m 8s\n",
      "\tTrain Loss: 1.437 | Train Acc: 59.53%\n",
      "\tVal.  Loss: 2.080 | Val Acc: 36.02%\n",
      "Epoch: 23 | Time: 0m 6s\n",
      "\tTrain Loss: 1.396 | Train Acc: 59.57%\n",
      "\tVal.  Loss: 2.084 | Val Acc: 35.58%\n",
      "Epoch: 24 | Time: 0m 7s\n",
      "\tTrain Loss: 1.342 | Train Acc: 62.00%\n",
      "\tVal.  Loss: 2.081 | Val Acc: 36.25%\n",
      "Epoch: 25 | Time: 0m 7s\n",
      "\tTrain Loss: 1.328 | Train Acc: 62.08%\n",
      "\tVal.  Loss: 2.079 | Val Acc: 36.36%\n",
      "Epoch: 26 | Time: 0m 7s\n",
      "\tTrain Loss: 1.283 | Train Acc: 64.04%\n",
      "\tVal.  Loss: 2.081 | Val Acc: 36.69%\n",
      "Epoch: 27 | Time: 0m 6s\n",
      "\tTrain Loss: 1.263 | Train Acc: 64.22%\n",
      "\tVal.  Loss: 2.076 | Val Acc: 37.25%\n",
      "Epoch: 28 | Time: 0m 7s\n",
      "\tTrain Loss: 1.226 | Train Acc: 64.91%\n",
      "\tVal.  Loss: 2.077 | Val Acc: 37.20%\n",
      "Epoch: 29 | Time: 0m 6s\n",
      "\tTrain Loss: 1.184 | Train Acc: 66.45%\n",
      "\tVal.  Loss: 2.089 | Val Acc: 35.91%\n",
      "Epoch: 30 | Time: 0m 6s\n",
      "\tTrain Loss: 1.184 | Train Acc: 66.71%\n",
      "\tVal.  Loss: 2.083 | Val Acc: 36.47%\n",
      "===== CNN with 30-epochs-100-n_filters =====\n",
      "Epoch: 1 | Time: 0m 10s\n",
      "\tTrain Loss: 2.912 | Train Acc: 8.77%\n",
      "\tVal.  Loss: 2.706 | Val Acc: 16.21%\n",
      "Epoch: 2 | Time: 0m 10s\n",
      "\tTrain Loss: 2.669 | Train Acc: 16.76%\n",
      "\tVal.  Loss: 2.569 | Val Acc: 23.80%\n",
      "Epoch: 3 | Time: 0m 12s\n",
      "\tTrain Loss: 2.481 | Train Acc: 24.76%\n",
      "\tVal.  Loss: 2.460 | Val Acc: 28.05%\n",
      "Epoch: 4 | Time: 0m 10s\n",
      "\tTrain Loss: 2.332 | Train Acc: 30.60%\n",
      "\tVal.  Loss: 2.373 | Val Acc: 30.30%\n",
      "Epoch: 5 | Time: 0m 10s\n",
      "\tTrain Loss: 2.217 | Train Acc: 33.48%\n",
      "\tVal.  Loss: 2.309 | Val Acc: 31.40%\n",
      "Epoch: 6 | Time: 0m 10s\n",
      "\tTrain Loss: 2.115 | Train Acc: 37.63%\n",
      "\tVal.  Loss: 2.269 | Val Acc: 30.57%\n",
      "Epoch: 7 | Time: 0m 10s\n",
      "\tTrain Loss: 2.039 | Train Acc: 39.26%\n",
      "\tVal.  Loss: 2.235 | Val Acc: 32.23%\n",
      "Epoch: 8 | Time: 0m 10s\n",
      "\tTrain Loss: 1.962 | Train Acc: 41.64%\n",
      "\tVal.  Loss: 2.198 | Val Acc: 32.68%\n",
      "Epoch: 9 | Time: 0m 10s\n",
      "\tTrain Loss: 1.888 | Train Acc: 44.76%\n",
      "\tVal.  Loss: 2.177 | Val Acc: 34.41%\n",
      "Epoch: 10 | Time: 0m 10s\n",
      "\tTrain Loss: 1.829 | Train Acc: 46.35%\n",
      "\tVal.  Loss: 2.158 | Val Acc: 34.41%\n",
      "Epoch: 11 | Time: 0m 11s\n",
      "\tTrain Loss: 1.770 | Train Acc: 48.77%\n",
      "\tVal.  Loss: 2.145 | Val Acc: 35.08%\n",
      "Epoch: 12 | Time: 0m 10s\n",
      "\tTrain Loss: 1.701 | Train Acc: 50.64%\n",
      "\tVal.  Loss: 2.142 | Val Acc: 35.14%\n",
      "Epoch: 13 | Time: 0m 10s\n",
      "\tTrain Loss: 1.660 | Train Acc: 52.10%\n",
      "\tVal.  Loss: 2.119 | Val Acc: 36.09%\n",
      "Epoch: 14 | Time: 0m 11s\n",
      "\tTrain Loss: 1.600 | Train Acc: 54.29%\n",
      "\tVal.  Loss: 2.109 | Val Acc: 36.53%\n",
      "Epoch: 15 | Time: 0m 11s\n",
      "\tTrain Loss: 1.557 | Train Acc: 54.80%\n",
      "\tVal.  Loss: 2.114 | Val Acc: 35.47%\n",
      "Epoch: 16 | Time: 0m 10s\n",
      "\tTrain Loss: 1.498 | Train Acc: 57.23%\n",
      "\tVal.  Loss: 2.095 | Val Acc: 36.42%\n",
      "Epoch: 17 | Time: 0m 10s\n",
      "\tTrain Loss: 1.445 | Train Acc: 58.68%\n",
      "\tVal.  Loss: 2.088 | Val Acc: 37.49%\n",
      "Epoch: 18 | Time: 0m 10s\n",
      "\tTrain Loss: 1.407 | Train Acc: 60.44%\n",
      "\tVal.  Loss: 2.088 | Val Acc: 37.04%\n",
      "Epoch: 19 | Time: 0m 10s\n",
      "\tTrain Loss: 1.351 | Train Acc: 61.08%\n",
      "\tVal.  Loss: 2.084 | Val Acc: 36.82%\n",
      "Epoch: 20 | Time: 0m 10s\n",
      "\tTrain Loss: 1.310 | Train Acc: 63.20%\n",
      "\tVal.  Loss: 2.083 | Val Acc: 37.49%\n",
      "Epoch: 21 | Time: 0m 10s\n",
      "\tTrain Loss: 1.271 | Train Acc: 64.46%\n",
      "\tVal.  Loss: 2.073 | Val Acc: 36.82%\n",
      "Epoch: 22 | Time: 0m 10s\n",
      "\tTrain Loss: 1.227 | Train Acc: 66.20%\n",
      "\tVal.  Loss: 2.078 | Val Acc: 37.54%\n",
      "Epoch: 23 | Time: 0m 10s\n",
      "\tTrain Loss: 1.166 | Train Acc: 68.09%\n",
      "\tVal.  Loss: 2.087 | Val Acc: 36.98%\n",
      "Epoch: 24 | Time: 0m 10s\n",
      "\tTrain Loss: 1.141 | Train Acc: 68.71%\n",
      "\tVal.  Loss: 2.078 | Val Acc: 38.22%\n",
      "Epoch: 25 | Time: 0m 10s\n",
      "\tTrain Loss: 1.091 | Train Acc: 70.50%\n",
      "\tVal.  Loss: 2.081 | Val Acc: 37.09%\n",
      "Epoch: 26 | Time: 0m 10s\n",
      "\tTrain Loss: 1.048 | Train Acc: 71.22%\n",
      "\tVal.  Loss: 2.089 | Val Acc: 37.09%\n",
      "Epoch: 27 | Time: 0m 11s\n",
      "\tTrain Loss: 1.022 | Train Acc: 72.39%\n",
      "\tVal.  Loss: 2.087 | Val Acc: 37.43%\n",
      "Epoch: 28 | Time: 0m 10s\n",
      "\tTrain Loss: 0.977 | Train Acc: 74.90%\n",
      "\tVal.  Loss: 2.099 | Val Acc: 36.20%\n",
      "Epoch: 29 | Time: 0m 10s\n",
      "\tTrain Loss: 0.948 | Train Acc: 75.11%\n",
      "\tVal.  Loss: 2.096 | Val Acc: 37.60%\n",
      "Epoch: 30 | Time: 0m 10s\n",
      "\tTrain Loss: 0.916 | Train Acc: 76.22%\n",
      "\tVal.  Loss: 2.093 | Val Acc: 37.04%\n",
      "===== CNN with 30-epochs-150-n_filters =====\n",
      "Epoch: 1 | Time: 0m 11s\n",
      "\tTrain Loss: 2.935 | Train Acc: 8.68%\n",
      "\tVal.  Loss: 2.718 | Val Acc: 15.19%\n",
      "Epoch: 2 | Time: 0m 11s\n",
      "\tTrain Loss: 2.652 | Train Acc: 17.81%\n",
      "\tVal.  Loss: 2.566 | Val Acc: 23.29%\n",
      "Epoch: 3 | Time: 0m 12s\n",
      "\tTrain Loss: 2.451 | Train Acc: 24.17%\n",
      "\tVal.  Loss: 2.449 | Val Acc: 27.67%\n",
      "Epoch: 4 | Time: 0m 12s\n",
      "\tTrain Loss: 2.294 | Train Acc: 30.66%\n",
      "\tVal.  Loss: 2.357 | Val Acc: 29.17%\n",
      "Epoch: 5 | Time: 0m 11s\n",
      "\tTrain Loss: 2.153 | Train Acc: 35.51%\n",
      "\tVal.  Loss: 2.308 | Val Acc: 30.11%\n",
      "Epoch: 6 | Time: 0m 12s\n",
      "\tTrain Loss: 2.055 | Train Acc: 38.58%\n",
      "\tVal.  Loss: 2.261 | Val Acc: 31.91%\n",
      "Epoch: 7 | Time: 0m 12s\n",
      "\tTrain Loss: 1.960 | Train Acc: 42.34%\n",
      "\tVal.  Loss: 2.233 | Val Acc: 31.11%\n",
      "Epoch: 8 | Time: 0m 11s\n",
      "\tTrain Loss: 1.886 | Train Acc: 45.37%\n",
      "\tVal.  Loss: 2.201 | Val Acc: 33.46%\n",
      "Epoch: 9 | Time: 0m 11s\n",
      "\tTrain Loss: 1.813 | Train Acc: 46.21%\n",
      "\tVal.  Loss: 2.176 | Val Acc: 33.23%\n",
      "Epoch: 10 | Time: 0m 11s\n",
      "\tTrain Loss: 1.739 | Train Acc: 49.77%\n",
      "\tVal.  Loss: 2.153 | Val Acc: 34.57%\n",
      "Epoch: 11 | Time: 0m 11s\n",
      "\tTrain Loss: 1.683 | Train Acc: 51.58%\n",
      "\tVal.  Loss: 2.145 | Val Acc: 35.31%\n",
      "Epoch: 12 | Time: 0m 13s\n",
      "\tTrain Loss: 1.615 | Train Acc: 53.04%\n",
      "\tVal.  Loss: 2.132 | Val Acc: 33.85%\n",
      "Epoch: 13 | Time: 0m 12s\n",
      "\tTrain Loss: 1.554 | Train Acc: 55.56%\n",
      "\tVal.  Loss: 2.129 | Val Acc: 34.02%\n",
      "Epoch: 14 | Time: 0m 11s\n",
      "\tTrain Loss: 1.498 | Train Acc: 57.71%\n",
      "\tVal.  Loss: 2.115 | Val Acc: 34.69%\n",
      "Epoch: 15 | Time: 0m 11s\n",
      "\tTrain Loss: 1.431 | Train Acc: 60.02%\n",
      "\tVal.  Loss: 2.108 | Val Acc: 36.64%\n",
      "Epoch: 16 | Time: 0m 12s\n",
      "\tTrain Loss: 1.380 | Train Acc: 60.97%\n",
      "\tVal.  Loss: 2.106 | Val Acc: 36.64%\n",
      "Epoch: 17 | Time: 0m 11s\n",
      "\tTrain Loss: 1.330 | Train Acc: 62.74%\n",
      "\tVal.  Loss: 2.108 | Val Acc: 36.09%\n",
      "Epoch: 18 | Time: 0m 12s\n",
      "\tTrain Loss: 1.276 | Train Acc: 64.40%\n",
      "\tVal.  Loss: 2.105 | Val Acc: 36.98%\n",
      "Epoch: 19 | Time: 0m 11s\n",
      "\tTrain Loss: 1.230 | Train Acc: 65.94%\n",
      "\tVal.  Loss: 2.101 | Val Acc: 35.91%\n",
      "Epoch: 20 | Time: 0m 12s\n",
      "\tTrain Loss: 1.172 | Train Acc: 68.37%\n",
      "\tVal.  Loss: 2.102 | Val Acc: 37.04%\n",
      "Epoch: 21 | Time: 0m 11s\n",
      "\tTrain Loss: 1.133 | Train Acc: 70.01%\n",
      "\tVal.  Loss: 2.099 | Val Acc: 36.20%\n",
      "Epoch: 22 | Time: 0m 11s\n",
      "\tTrain Loss: 1.083 | Train Acc: 71.18%\n",
      "\tVal.  Loss: 2.107 | Val Acc: 35.64%\n",
      "Epoch: 23 | Time: 0m 12s\n",
      "\tTrain Loss: 1.051 | Train Acc: 72.52%\n",
      "\tVal.  Loss: 2.105 | Val Acc: 35.93%\n",
      "Epoch: 24 | Time: 0m 12s\n",
      "\tTrain Loss: 0.990 | Train Acc: 74.07%\n",
      "\tVal.  Loss: 2.100 | Val Acc: 36.37%\n",
      "Epoch: 25 | Time: 0m 12s\n",
      "\tTrain Loss: 0.952 | Train Acc: 75.26%\n",
      "\tVal.  Loss: 2.104 | Val Acc: 37.15%\n",
      "Epoch: 26 | Time: 0m 12s\n",
      "\tTrain Loss: 0.906 | Train Acc: 77.13%\n",
      "\tVal.  Loss: 2.119 | Val Acc: 36.48%\n",
      "Epoch: 27 | Time: 0m 11s\n",
      "\tTrain Loss: 0.875 | Train Acc: 77.51%\n",
      "\tVal.  Loss: 2.109 | Val Acc: 37.38%\n",
      "Epoch: 28 | Time: 0m 11s\n",
      "\tTrain Loss: 0.844 | Train Acc: 79.28%\n",
      "\tVal.  Loss: 2.122 | Val Acc: 37.49%\n",
      "Epoch: 29 | Time: 0m 12s\n",
      "\tTrain Loss: 0.816 | Train Acc: 79.93%\n",
      "\tVal.  Loss: 2.123 | Val Acc: 36.53%\n",
      "Epoch: 30 | Time: 0m 11s\n",
      "\tTrain Loss: 0.765 | Train Acc: 81.27%\n",
      "\tVal.  Loss: 2.131 | Val Acc: 37.38%\n"
     ]
    },
    {
     "ename": "",
     "evalue": "",
     "output_type": "error",
     "traceback": [
      "\u001b[1;31mThe Kernel crashed while executing code in the current cell or a previous cell. \n",
      "\u001b[1;31mPlease review the code in the cell(s) to identify a possible cause of the failure. \n",
      "\u001b[1;31mClick <a href='https://aka.ms/vscodeJupyterKernelCrash'>here</a> for more info. \n",
      "\u001b[1;31mView Jupyter <a href='command:jupyter.viewOutput'>log</a> for further details."
     ]
    }
   ],
   "source": [
    "import time\n",
    "import torch.optim as optim\n",
    "import torch.nn.functional as F\n",
    "\n",
    "num_epochs = [10,20,30]\n",
    "n_filters = [50,100,150]\n",
    "\n",
    "\n",
    "for num_epoch in num_epochs:\n",
    "    for n_filter in n_filters:\n",
    "        \n",
    "        input_dim  = len(vocab)\n",
    "        emb_dim    = 300\n",
    "        output_dim = 17 #17 classes\n",
    "\n",
    "        #for cnn\n",
    "        dropout = 0.5\n",
    "        filter_sizes = [3, 4, 5]\n",
    "\n",
    "        params={\"model\":\"CNN\", \"num_epochs\":num_epoch, \"n_filters\":n_filter, \"filter_sizes\":filter_sizes, \"input_dim\":input_dim, \"emb_dim\":emb_dim, \"output_dim\":output_dim, \"dropout\":0.5}\n",
    "        mlflow.start_run(run_name=f\"CNN500-{params['num_epochs']}-epochs-{params['n_filters']}-n_filters\")\n",
    "        mlflow.log_params(params)\n",
    "\n",
    "        print(\"=\"*5, f\"CNN with {params['num_epochs']}-epochs-{params['n_filters']}-n_filters\",\"=\"*5)\n",
    "\n",
    "        model = CNN(input_dim, emb_dim, output_dim, dropout, n_filter, filter_sizes).to(device)\n",
    "        model.apply(initialize_weights)\n",
    "        model.embedding.weight.data = fast_embedding\n",
    "\n",
    "        lr=0.05\n",
    "        #training hyperparameters\n",
    "        optimizer = optim.SGD(model.parameters(), lr=lr)\n",
    "        criterion = nn.CrossEntropyLoss()\n",
    "\n",
    "        train_losses, train_accs, val_losses, val_accs = [],[],[],[]\n",
    "        best_valid_loss = float('inf')\n",
    "\n",
    "        for epoch in range(num_epoch):\n",
    "            start_time = time.time()\n",
    "                \n",
    "            train_loss, train_acc = train(model, train_loader, optimizer, criterion, train_loader_length)\n",
    "            valid_loss, valid_acc = evaluate(model, val_loader, criterion, val_loader_length)\n",
    "                \n",
    "            #for plotting\n",
    "            train_losses.append(train_loss)\n",
    "            train_accs.append(train_acc)\n",
    "            val_losses.append(valid_loss)\n",
    "            val_accs.append(valid_acc)\n",
    "                \n",
    "            end_time = time.time()\n",
    "                \n",
    "            epoch_mins, epoch_secs = epoch_time(start_time, end_time)\n",
    "            mlflow.log_metric(key=\"train_loss\", value=train_loss, step=epoch)\n",
    "            mlflow.log_metric(key=\"train_acc\", value=train_acc, step=epoch)\n",
    "            mlflow.log_metric(key=\"val_loss\", value=valid_loss, step=epoch)\n",
    "            mlflow.log_metric(key=\"val_acc\", value=valid_acc, step=epoch)\n",
    "                \n",
    "            \n",
    "            #early stopping\n",
    "            if valid_loss < best_valid_loss:\n",
    "                best_valid_loss = valid_loss\n",
    "                mlflow.pytorch.log_model(model, \"model\")\n",
    "                \n",
    "            print(f'Epoch: {epoch+1} | Time: {epoch_mins}m {epoch_secs}s')\n",
    "            print(f'\\tTrain Loss: {train_loss:.3f} | Train Acc: {train_acc*100:.2f}%')\n",
    "            print(f'\\tVal.  Loss: {valid_loss:.3f} | Val Acc: {valid_acc*100:.2f}%')\n",
    "        mlflow.log_metric(key=\"min_val_loss\", value=min(val_losses), step=epoch)    \n",
    "        mlflow.end_run()\n",
    "        "
   ]
  },
  {
   "cell_type": "code",
   "execution_count": null,
   "metadata": {},
   "outputs": [],
   "source": []
  }
 ],
 "metadata": {
  "kernelspec": {
   "display_name": "Python 3 (ipykernel)",
   "language": "python",
   "name": "python3"
  },
  "language_info": {
   "codemirror_mode": {
    "name": "ipython",
    "version": 3
   },
   "file_extension": ".py",
   "mimetype": "text/x-python",
   "name": "python",
   "nbconvert_exporter": "python",
   "pygments_lexer": "ipython3",
   "version": "3.10.12"
  }
 },
 "nbformat": 4,
 "nbformat_minor": 2
}

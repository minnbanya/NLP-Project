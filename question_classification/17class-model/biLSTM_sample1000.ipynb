{
 "cells": [
  {
   "cell_type": "code",
   "execution_count": 1,
   "metadata": {},
   "outputs": [],
   "source": [
    "import torch, torchdata, torchtext\n",
    "import torch.nn as nn\n",
    "import pandas as pd\n",
    "import re\n",
    "from sklearn.model_selection import train_test_split\n",
    "from torch.nn.utils.rnn import pad_sequence\n",
    "from torch.utils.data import DataLoader, Dataset"
   ]
  },
  {
   "cell_type": "code",
   "execution_count": 2,
   "metadata": {},
   "outputs": [
    {
     "data": {
      "text/plain": [
       "('2.2.2+cu121', '0.7.1', '0.17.2+cpu')"
      ]
     },
     "execution_count": 2,
     "metadata": {},
     "output_type": "execute_result"
    }
   ],
   "source": [
    "torch.__version__, torchdata.__version__, torchtext.__version__"
   ]
  },
  {
   "cell_type": "code",
   "execution_count": 3,
   "metadata": {},
   "outputs": [],
   "source": [
    "device = torch.device('cuda' if torch.cuda.is_available() else 'cpu')"
   ]
  },
  {
   "cell_type": "code",
   "execution_count": 4,
   "metadata": {},
   "outputs": [],
   "source": [
    "SEED = 1234 #change three times\n",
    "torch.manual_seed(SEED)\n",
    "torch.backends.cudnn.deterministic = True"
   ]
  },
  {
   "cell_type": "markdown",
   "metadata": {},
   "source": [
    "## 1. load dataset"
   ]
  },
  {
   "cell_type": "code",
   "execution_count": 5,
   "metadata": {},
   "outputs": [
    {
     "data": {
      "text/html": [
       "<div>\n",
       "<style scoped>\n",
       "    .dataframe tbody tr th:only-of-type {\n",
       "        vertical-align: middle;\n",
       "    }\n",
       "\n",
       "    .dataframe tbody tr th {\n",
       "        vertical-align: top;\n",
       "    }\n",
       "\n",
       "    .dataframe thead th {\n",
       "        text-align: right;\n",
       "    }\n",
       "</style>\n",
       "<table border=\"1\" class=\"dataframe\">\n",
       "  <thead>\n",
       "    <tr style=\"text-align: right;\">\n",
       "      <th></th>\n",
       "      <th>category</th>\n",
       "      <th>questionText</th>\n",
       "    </tr>\n",
       "  </thead>\n",
       "  <tbody>\n",
       "    <tr>\n",
       "      <th>0</th>\n",
       "      <td>Toys_and_Games</td>\n",
       "      <td>Many have stated similar to the following: \"Pa...</td>\n",
       "    </tr>\n",
       "    <tr>\n",
       "      <th>1</th>\n",
       "      <td>Health_and_Personal_Care</td>\n",
       "      <td>Will these work with the Phillips sonicare han...</td>\n",
       "    </tr>\n",
       "    <tr>\n",
       "      <th>2</th>\n",
       "      <td>Cell_Phones_and_Accessories</td>\n",
       "      <td>What kind of sim card it use?</td>\n",
       "    </tr>\n",
       "    <tr>\n",
       "      <th>3</th>\n",
       "      <td>Home_and_Kitchen</td>\n",
       "      <td>does anyone know if this dinnerware set does n...</td>\n",
       "    </tr>\n",
       "    <tr>\n",
       "      <th>4</th>\n",
       "      <td>Musical_Instruments</td>\n",
       "      <td>I'm thinking of getting in to modular synthesi...</td>\n",
       "    </tr>\n",
       "  </tbody>\n",
       "</table>\n",
       "</div>"
      ],
      "text/plain": [
       "                      category  \\\n",
       "0               Toys_and_Games   \n",
       "1     Health_and_Personal_Care   \n",
       "2  Cell_Phones_and_Accessories   \n",
       "3             Home_and_Kitchen   \n",
       "4          Musical_Instruments   \n",
       "\n",
       "                                        questionText  \n",
       "0  Many have stated similar to the following: \"Pa...  \n",
       "1  Will these work with the Phillips sonicare han...  \n",
       "2                      What kind of sim card it use?  \n",
       "3  does anyone know if this dinnerware set does n...  \n",
       "4  I'm thinking of getting in to modular synthesi...  "
      ]
     },
     "execution_count": 5,
     "metadata": {},
     "output_type": "execute_result"
    }
   ],
   "source": [
    "df = pd.read_json('data/train-qar.jsonl', lines=True, nrows=300000)\n",
    "df = df[['category', 'questionText']]\n",
    "df.head(5)"
   ]
  },
  {
   "cell_type": "code",
   "execution_count": 6,
   "metadata": {},
   "outputs": [
    {
     "data": {
      "text/plain": [
       "array(['Toys_and_Games', 'Health_and_Personal_Care',\n",
       "       'Cell_Phones_and_Accessories', 'Home_and_Kitchen',\n",
       "       'Musical_Instruments', 'Baby', 'Sports_and_Outdoors',\n",
       "       'Patio_Lawn_and_Garden', 'Video_Games', 'Pet_Supplies',\n",
       "       'Tools_and_Home_Improvement', 'Beauty', 'Electronics',\n",
       "       'Grocery_and_Gourmet_Food', 'Automotive', 'Office_Products',\n",
       "       'Clothing_Shoes_and_Jewelry'], dtype=object)"
      ]
     },
     "execution_count": 6,
     "metadata": {},
     "output_type": "execute_result"
    }
   ],
   "source": [
    "# Product category\n",
    "df['category'].unique()"
   ]
  },
  {
   "cell_type": "code",
   "execution_count": 7,
   "metadata": {},
   "outputs": [],
   "source": [
    "# convert the text to numeric class\n",
    "class_mapping = {\n",
    "    'Toys_and_Games': 0,\n",
    "    'Health_and_Personal_Care': 1,\n",
    "    'Cell_Phones_and_Accessories': 2,\n",
    "    'Home_and_Kitchen': 3,\n",
    "    'Musical_Instruments': 4,\n",
    "    'Baby': 5,\n",
    "    'Sports_and_Outdoors': 6,\n",
    "    'Patio_Lawn_and_Garden': 7,\n",
    "    'Video_Games': 8,\n",
    "    'Pet_Supplies': 9,\n",
    "    'Tools_and_Home_Improvement': 10,\n",
    "    'Beauty': 11,\n",
    "    'Electronics': 12,\n",
    "    'Grocery_and_Gourmet_Food': 13,\n",
    "    'Automotive': 14,\n",
    "    'Office_Products': 15,\n",
    "    'Clothing_Shoes_and_Jewelry': 16\n",
    "}\n",
    "\n",
    "# Map class names to numerical labels\n",
    "df['category'] = df['category'].map(class_mapping)"
   ]
  },
  {
   "cell_type": "code",
   "execution_count": 8,
   "metadata": {},
   "outputs": [],
   "source": [
    "# sample 100 data in each classes\n",
    "df_sample = df.groupby('category', group_keys=False).apply(lambda x: x.sample(1000))"
   ]
  },
  {
   "cell_type": "code",
   "execution_count": 9,
   "metadata": {},
   "outputs": [],
   "source": [
    "# convert to lower case\n",
    "df_sample['questionText']  =  df_sample['questionText'].apply(lambda x: x.lower() if isinstance(x, str) else x)"
   ]
  },
  {
   "cell_type": "code",
   "execution_count": 10,
   "metadata": {},
   "outputs": [],
   "source": [
    "def data_cleaning(data):\n",
    "    regex_s = re.sub(\"\\\\(.+?\\\\)|[\\r\\n|\\n\\r]|!\", \"\", data)\n",
    "    fin = \" \".join(regex_s.split())\n",
    "    return fin"
   ]
  },
  {
   "cell_type": "code",
   "execution_count": 11,
   "metadata": {},
   "outputs": [],
   "source": [
    "df_sample['questionText'] = df_sample['questionText'].apply(data_cleaning)"
   ]
  },
  {
   "cell_type": "code",
   "execution_count": 12,
   "metadata": {},
   "outputs": [],
   "source": [
    "train_df, val_df = train_test_split(df_sample, test_size=0.1,stratify=df_sample['category'], random_state=SEED)"
   ]
  },
  {
   "cell_type": "code",
   "execution_count": 13,
   "metadata": {},
   "outputs": [],
   "source": [
    "train_df, test_df = train_test_split(train_df, test_size=0.1, stratify=train_df['category'],random_state=SEED)"
   ]
  },
  {
   "cell_type": "code",
   "execution_count": 14,
   "metadata": {},
   "outputs": [
    {
     "data": {
      "text/plain": [
       "category\n",
       "7     810\n",
       "13    810\n",
       "14    810\n",
       "9     810\n",
       "10    810\n",
       "8     810\n",
       "6     810\n",
       "15    810\n",
       "16    810\n",
       "1     810\n",
       "0     810\n",
       "11    810\n",
       "5     810\n",
       "12    810\n",
       "3     810\n",
       "2     810\n",
       "4     810\n",
       "Name: count, dtype: int64"
      ]
     },
     "execution_count": 14,
     "metadata": {},
     "output_type": "execute_result"
    }
   ],
   "source": [
    "train_df['category'].value_counts()"
   ]
  },
  {
   "cell_type": "markdown",
   "metadata": {},
   "source": [
    "## 2.Preprocessing"
   ]
  },
  {
   "cell_type": "markdown",
   "metadata": {},
   "source": [
    "### Tokenizing"
   ]
  },
  {
   "cell_type": "code",
   "execution_count": 15,
   "metadata": {},
   "outputs": [
    {
     "data": {
      "text/plain": [
       "['What', 'is', 'the', 'best', 'product', '?']"
      ]
     },
     "execution_count": 15,
     "metadata": {},
     "output_type": "execute_result"
    }
   ],
   "source": [
    "from torchtext.data.utils import get_tokenizer\n",
    "\n",
    "tokenizer = get_tokenizer('spacy', language='en_core_web_sm')\n",
    "tokens    = tokenizer(\"What is the best product?\")\n",
    "tokens"
   ]
  },
  {
   "cell_type": "markdown",
   "metadata": {},
   "source": [
    "### Text to integers (numeral)"
   ]
  },
  {
   "cell_type": "code",
   "execution_count": 16,
   "metadata": {},
   "outputs": [],
   "source": [
    "from torchtext.vocab import build_vocab_from_iterator\n",
    "\n",
    "def yield_tokens(data):\n",
    "    for data_sample in data:\n",
    "        yield tokenizer(data_sample) \n",
    "        \n",
    "vocab = build_vocab_from_iterator(yield_tokens(train_df['questionText']), specials = ['<unk>', '<pad>', '<bos>', '<eos>'])\n",
    "vocab.set_default_index(vocab[\"<unk>\"])"
   ]
  },
  {
   "cell_type": "code",
   "execution_count": 17,
   "metadata": {},
   "outputs": [
    {
     "data": {
      "text/plain": [
       "[323, 8, 7]"
      ]
     },
     "execution_count": 17,
     "metadata": {},
     "output_type": "execute_result"
    }
   ],
   "source": [
    "vocab(['here', 'it', 'is'])"
   ]
  },
  {
   "cell_type": "code",
   "execution_count": 18,
   "metadata": {},
   "outputs": [
    {
     "data": {
      "text/plain": [
       "'<unk>'"
      ]
     },
     "execution_count": 18,
     "metadata": {},
     "output_type": "execute_result"
    }
   ],
   "source": [
    "mapping = vocab.get_itos()\n",
    "mapping[0]"
   ]
  },
  {
   "cell_type": "code",
   "execution_count": 19,
   "metadata": {},
   "outputs": [
    {
     "data": {
      "text/plain": [
       "14238"
      ]
     },
     "execution_count": 19,
     "metadata": {},
     "output_type": "execute_result"
    }
   ],
   "source": [
    "len(vocab)"
   ]
  },
  {
   "cell_type": "markdown",
   "metadata": {},
   "source": [
    "## 3. Data loader"
   ]
  },
  {
   "cell_type": "markdown",
   "metadata": {},
   "source": [
    "### FastText Embedding"
   ]
  },
  {
   "cell_type": "code",
   "execution_count": 20,
   "metadata": {},
   "outputs": [],
   "source": [
    "from torchtext.vocab import FastText\n",
    "fast_vectors = FastText(language='simple')"
   ]
  },
  {
   "cell_type": "code",
   "execution_count": 21,
   "metadata": {},
   "outputs": [],
   "source": [
    "fast_embedding = fast_vectors.get_vecs_by_tokens(vocab.get_itos()).to(device)"
   ]
  },
  {
   "cell_type": "code",
   "execution_count": 22,
   "metadata": {},
   "outputs": [
    {
     "data": {
      "text/plain": [
       "torch.Size([14238, 300])"
      ]
     },
     "execution_count": 22,
     "metadata": {},
     "output_type": "execute_result"
    }
   ],
   "source": [
    "fast_embedding.shape"
   ]
  },
  {
   "cell_type": "code",
   "execution_count": 23,
   "metadata": {},
   "outputs": [],
   "source": [
    "class DataWrap(Dataset):\n",
    "\n",
    "    def __init__(self, dataframe):\n",
    "        self.dataframe = dataframe\n",
    "    \n",
    "    def __len__(self):\n",
    "        return len(self.dataframe)\n",
    "        \n",
    "    def __getitem__(self, idx):\n",
    "        return self.dataframe.iloc[idx]"
   ]
  },
  {
   "cell_type": "code",
   "execution_count": 24,
   "metadata": {},
   "outputs": [
    {
     "data": {
      "text/plain": [
       "category                                         7\n",
       "questionText    does this work on citronella ants?\n",
       "Name: 143794, dtype: object"
      ]
     },
     "execution_count": 24,
     "metadata": {},
     "output_type": "execute_result"
    }
   ],
   "source": [
    "train_df.iloc[0]"
   ]
  },
  {
   "cell_type": "code",
   "execution_count": 25,
   "metadata": {},
   "outputs": [],
   "source": [
    "train = DataWrap(train_df)\n",
    "valid = DataWrap(val_df)\n",
    "test = DataWrap(test_df)"
   ]
  },
  {
   "cell_type": "code",
   "execution_count": 26,
   "metadata": {},
   "outputs": [],
   "source": [
    "text_pipeline  = lambda x: vocab(tokenizer(x)) #{hello world this is yt} => {'hello', 'world', 'this', 'is', 'yt'} => {4, 88, 11, 22, 6}"
   ]
  },
  {
   "cell_type": "code",
   "execution_count": 27,
   "metadata": {},
   "outputs": [
    {
     "data": {
      "text/plain": [
       "[21, 7, 5, 243, 53, 4]"
      ]
     },
     "execution_count": 27,
     "metadata": {},
     "output_type": "execute_result"
    }
   ],
   "source": [
    "text_pipeline(\"what is the best product?\")"
   ]
  },
  {
   "cell_type": "code",
   "execution_count": 28,
   "metadata": {},
   "outputs": [],
   "source": [
    "#collate_fn to let each batch has same size\n",
    "from torch.utils.data import DataLoader\n",
    "from torch.nn.utils.rnn import pad_sequence\n",
    "\n",
    "pad_idx = vocab['<pad>'] #get index of pad in vocab list\n",
    "# padding for every sentencce in batch to have same length \n",
    "\n",
    "def collate_batch(batch):\n",
    "    label_list, text_list, length_list = [], [], []\n",
    "    for (_label, _text) in batch:\n",
    "        label_list.append(_label)\n",
    "        processed_text = torch.tensor(text_pipeline(_text), dtype=torch.int64) # convert to integer before appending\n",
    "        text_list.append(processed_text)\n",
    "        length_list.append(processed_text.size(0))\n",
    "    return torch.tensor(label_list, dtype=torch.int64), pad_sequence(text_list, padding_value=pad_idx, batch_first=True), torch.tensor(length_list, dtype=torch.int64)"
   ]
  },
  {
   "cell_type": "code",
   "execution_count": 29,
   "metadata": {},
   "outputs": [],
   "source": [
    "batch_size = 64\n",
    "\n",
    "train_loader = DataLoader(train, batch_size=batch_size, shuffle=True,  collate_fn=collate_batch) #num_workers to train faster\n",
    "val_loader   = DataLoader(valid, batch_size=batch_size, shuffle=False, collate_fn=collate_batch)\n",
    "test_loader  = DataLoader(test,  batch_size=batch_size, shuffle=False, collate_fn=collate_batch)"
   ]
  },
  {
   "cell_type": "code",
   "execution_count": 30,
   "metadata": {},
   "outputs": [],
   "source": [
    "for label, text, length in val_loader:\n",
    "    break"
   ]
  },
  {
   "cell_type": "code",
   "execution_count": 31,
   "metadata": {},
   "outputs": [
    {
     "data": {
      "text/plain": [
       "torch.Size([64])"
      ]
     },
     "execution_count": 31,
     "metadata": {},
     "output_type": "execute_result"
    }
   ],
   "source": [
    "label.shape #(batch_size, )"
   ]
  },
  {
   "cell_type": "code",
   "execution_count": 32,
   "metadata": {},
   "outputs": [
    {
     "data": {
      "text/plain": [
       "torch.Size([64, 105])"
      ]
     },
     "execution_count": 32,
     "metadata": {},
     "output_type": "execute_result"
    }
   ],
   "source": [
    "text.shape #(batch_size, seq len)"
   ]
  },
  {
   "cell_type": "code",
   "execution_count": 33,
   "metadata": {},
   "outputs": [
    {
     "data": {
      "text/plain": [
       "torch.Size([64])"
      ]
     },
     "execution_count": 33,
     "metadata": {},
     "output_type": "execute_result"
    }
   ],
   "source": [
    "length.shape #(batch_size, )"
   ]
  },
  {
   "cell_type": "markdown",
   "metadata": {},
   "source": [
    "## 4. Model (biLSTM)"
   ]
  },
  {
   "cell_type": "code",
   "execution_count": 34,
   "metadata": {},
   "outputs": [],
   "source": [
    "class LSTM(nn.Module):\n",
    "    def __init__(self, input_dim, emb_dim, hid_dim, num_layers, \n",
    "                 bidirectional, dropout, output_dim):\n",
    "        super(LSTM, self).__init__()\n",
    "        self.embedding = nn.Embedding(input_dim, emb_dim, padding_idx=pad_idx)\n",
    "        self.lstm      = nn.LSTM(\n",
    "                            emb_dim,\n",
    "                            hid_dim,\n",
    "                            num_layers=num_layers,\n",
    "                            bidirectional=bidirectional,\n",
    "                            dropout = dropout,\n",
    "                            batch_first = True\n",
    "                        )\n",
    "        self.fc        = nn.Linear(hid_dim * 2, output_dim) # time 2 b/c bidirectional, output_dim = 4 since there are 4 class\n",
    "    \n",
    "    def forward(self, text, text_length):\n",
    "        #text = [batch_size, seq len]\n",
    "        embedded = self.embedding(text)\n",
    "        #text = [batch_size, seq len, emb_dim]\n",
    "        \n",
    "        #pack sequence to ignore any padding\n",
    "        packed_embedded = nn.utils.rnn.pack_padded_sequence(embedded, text_length.to('cpu'), \n",
    "                                                            enforce_sorted=False, batch_first=True)\n",
    "        \n",
    "        packed_output, (hn, cn) = self.lstm(packed_embedded)\n",
    "        #output is basically all the hidden states;  hn is only last hidden state; cn is last cell state\n",
    "        \n",
    "        output, output_lengths = nn.utils.rnn.pad_packed_sequence(packed_output, batch_first=True)\n",
    "        #output = [batch_size, seq len, hidden_dim * num directions]\n",
    "        #hn     = [num_layers * num_directions, batch_size,  hid_dim]  #3 layers birectional - hn1f, hn1b, hn2f, hn2b, hn3f, hn3b\n",
    "        #cn     = [num_layers * num_directions, batch_size,  hid_dim]\n",
    "        \n",
    "        hn      = torch.cat((hn[-2, :, :], hn[-1, :, :]), dim = 1) # hn3f, hn3b\n",
    "        #hn     = [batch_size, hidden_dim * num_directions]\n",
    "        \n",
    "        return self.fc(hn)"
   ]
  },
  {
   "cell_type": "markdown",
   "metadata": {},
   "source": [
    "## 5. Train"
   ]
  },
  {
   "cell_type": "code",
   "execution_count": 35,
   "metadata": {},
   "outputs": [],
   "source": [
    "def initialize_weight(m):\n",
    "    if isinstance(m, nn.Linear):\n",
    "        nn.init.xavier_normal_(m.weight) # normal distribution\n",
    "        nn.init.zeros_(m.bias)\n",
    "    elif isinstance(m, nn.LSTM):\n",
    "        for name, param in m.named_parameters():\n",
    "            if 'bias' in name:\n",
    "                nn.init.zeros_(param)\n",
    "            elif 'weight' in name:\n",
    "                nn.init.orthogonal_(param)"
   ]
  },
  {
   "cell_type": "code",
   "execution_count": 36,
   "metadata": {},
   "outputs": [],
   "source": [
    "def accuracy(preds, y):\n",
    "    predicted  = torch.max(preds.data, 1)[1] #.data for getting value in tensor\n",
    "    batch_corr = (predicted == y).sum()\n",
    "    acc        = batch_corr / len(y)\n",
    "    return acc"
   ]
  },
  {
   "cell_type": "code",
   "execution_count": 37,
   "metadata": {},
   "outputs": [],
   "source": [
    "def train(model, loader, optimizer, criterion, loader_length):\n",
    "    epoch_loss = 0\n",
    "    epoch_acc  = 0\n",
    "    model.train()\n",
    "    \n",
    "    for i, (label, text, text_length) in enumerate(loader):\n",
    "        label = label.to(device)\n",
    "        text  = text.to(device)\n",
    "        \n",
    "        predictions = model(text, text_length).squeeze(1)\n",
    "        \n",
    "        loss = criterion(predictions, label)\n",
    "        acc  = accuracy(predictions, label)\n",
    "        \n",
    "        #backprop\n",
    "        optimizer.zero_grad()\n",
    "        loss.backward()\n",
    "        optimizer.step()\n",
    "        \n",
    "        epoch_loss += loss.item()\n",
    "        epoch_acc  += acc.item()\n",
    "        \n",
    "    return epoch_loss / loader_length, epoch_acc / loader_length"
   ]
  },
  {
   "cell_type": "code",
   "execution_count": 38,
   "metadata": {},
   "outputs": [],
   "source": [
    "def evaluate(model, loader, criterion, loader_length):\n",
    "    epoch_loss = 0\n",
    "    epoch_acc  = 0\n",
    "    model.eval()\n",
    "    \n",
    "    with torch.no_grad():\n",
    "        for i, (label, text, text_length) in enumerate(loader):\n",
    "            label = label.to(device)\n",
    "            text  = text.to(device)\n",
    "            \n",
    "            predictions = model(text, text_length).squeeze(1)\n",
    "            \n",
    "            loss = criterion(predictions, label)\n",
    "            acc  = accuracy(predictions, label)\n",
    "            \n",
    "            epoch_loss += loss.item()\n",
    "            epoch_acc  += acc.item()\n",
    "        \n",
    "    return epoch_loss / loader_length, epoch_acc / loader_length"
   ]
  },
  {
   "cell_type": "markdown",
   "metadata": {},
   "source": [
    "### Actual training"
   ]
  },
  {
   "cell_type": "code",
   "execution_count": 39,
   "metadata": {},
   "outputs": [],
   "source": [
    "train_loader_length = len(list(iter(train_loader)))\n",
    "val_loader_length   = len(list(iter(val_loader)))\n",
    "test_loader_length  = len(list(iter(test_loader)))"
   ]
  },
  {
   "cell_type": "code",
   "execution_count": 40,
   "metadata": {},
   "outputs": [],
   "source": [
    "def epoch_time(start_time, end_time):\n",
    "    elapsed_time = end_time - start_time\n",
    "    elapsed_mins = int(elapsed_time / 60)\n",
    "    elapsed_secs = int(elapsed_time - (elapsed_mins * 60))\n",
    "    return elapsed_mins, elapsed_secs"
   ]
  },
  {
   "cell_type": "code",
   "execution_count": 41,
   "metadata": {},
   "outputs": [
    {
     "name": "stderr",
     "output_type": "stream",
     "text": [
      "/usr/local/lib/python3.10/site-packages/pydantic/_internal/_fields.py:160: UserWarning: Field \"model_server_url\" has conflict with protected namespace \"model_\".\n",
      "\n",
      "You may be able to resolve this warning by setting `model_config['protected_namespaces'] = ()`.\n",
      "  warnings.warn(\n",
      "/usr/local/lib/python3.10/site-packages/pydantic/_internal/_config.py:334: UserWarning: Valid config keys have changed in V2:\n",
      "* 'schema_extra' has been renamed to 'json_schema_extra'\n",
      "  warnings.warn(message, UserWarning)\n",
      "2024/04/21 02:25:19 INFO mlflow.tracking.fluent: Experiment with name 'biLSTM1000' does not exist. Creating a new experiment.\n"
     ]
    },
    {
     "data": {
      "text/plain": [
       "<Experiment: artifact_location='mlflow-artifacts:/769972772640038998', creation_time=1713641119728, experiment_id='769972772640038998', last_update_time=1713641119728, lifecycle_stage='active', name='biLSTM1000', tags={}>"
      ]
     },
     "execution_count": 41,
     "metadata": {},
     "output_type": "execute_result"
    }
   ],
   "source": [
    "#experiment tracking\n",
    "import mlflow\n",
    "from mlflow.models import infer_signature\n",
    "import os\n",
    "\n",
    "# This the dockerized method.\n",
    "# We build two docker containers, one for python/jupyter and another for mlflow.\n",
    "# The url `mlflow` is resolved into another container within the same composer.\n",
    "mlflow.set_tracking_uri(\"http://mlflow:5000\")\n",
    "# In the dockerized way, the user who runs this code will be `root`.\n",
    "# The MLflow will also log the run user_id as `root`.\n",
    "# To change that, we need to set this environ[\"LOGNAME\"] to your name.\n",
    "os.environ[\"LOGNAME\"] = \"noppawee\"\n",
    "#mlflow.create_experiment(name=\"noppawee-ML-project\")  #create if you haven't create\n",
    "mlflow.set_experiment(experiment_name=\"biLSTM1000\")\n"
   ]
  },
  {
   "cell_type": "code",
   "execution_count": 42,
   "metadata": {},
   "outputs": [
    {
     "name": "stdout",
     "output_type": "stream",
     "text": [
      "===== biLSTM with 5-epochs-128-hidden dim-2-num layers =====\n",
      "Epoch: 1 | Time: 0m 31s\n",
      "\tTrain Loss: 2.446 | Train Acc: 21.20%\n",
      "\tVal.  Loss: 2.159 | Val Acc: 32.11%\n"
     ]
    },
    {
     "name": "stderr",
     "output_type": "stream",
     "text": [
      "/usr/local/lib/python3.10/site-packages/_distutils_hack/__init__.py:18: UserWarning: Distutils was imported before Setuptools, but importing Setuptools also replaces the `distutils` module in `sys.modules`. This may lead to undesirable behaviors or errors. To avoid these issues, avoid using distutils directly, ensure that setuptools is installed in the traditional way (e.g. not an editable install), and/or make sure that setuptools is always imported before distutils.\n",
      "  warnings.warn(\n",
      "/usr/local/lib/python3.10/site-packages/_distutils_hack/__init__.py:33: UserWarning: Setuptools is replacing distutils.\n",
      "  warnings.warn(\"Setuptools is replacing distutils.\")\n"
     ]
    },
    {
     "name": "stdout",
     "output_type": "stream",
     "text": [
      "Epoch: 2 | Time: 0m 27s\n",
      "\tTrain Loss: 1.895 | Train Acc: 40.01%\n",
      "\tVal.  Loss: 2.009 | Val Acc: 39.87%\n",
      "Epoch: 3 | Time: 0m 26s\n",
      "\tTrain Loss: 1.473 | Train Acc: 54.31%\n",
      "\tVal.  Loss: 1.977 | Val Acc: 41.80%\n",
      "Epoch: 4 | Time: 0m 27s\n",
      "\tTrain Loss: 1.129 | Train Acc: 66.01%\n",
      "\tVal.  Loss: 2.035 | Val Acc: 43.42%\n",
      "Epoch: 5 | Time: 0m 26s\n",
      "\tTrain Loss: 0.852 | Train Acc: 74.30%\n",
      "\tVal.  Loss: 2.189 | Val Acc: 42.37%\n",
      "===== biLSTM with 5-epochs-128-hidden dim-4-num layers =====\n",
      "Epoch: 1 | Time: 0m 52s\n",
      "\tTrain Loss: 2.101 | Train Acc: 29.76%\n",
      "\tVal.  Loss: 2.441 | Val Acc: 31.33%\n",
      "Epoch: 2 | Time: 0m 54s\n",
      "\tTrain Loss: 1.261 | Train Acc: 61.33%\n",
      "\tVal.  Loss: 2.257 | Val Acc: 38.95%\n",
      "Epoch: 3 | Time: 0m 52s\n",
      "\tTrain Loss: 0.915 | Train Acc: 72.86%\n",
      "\tVal.  Loss: 2.337 | Val Acc: 39.17%\n",
      "Epoch: 4 | Time: 0m 50s\n",
      "\tTrain Loss: 0.740 | Train Acc: 78.21%\n",
      "\tVal.  Loss: 2.473 | Val Acc: 39.04%\n",
      "Epoch: 5 | Time: 0m 48s\n",
      "\tTrain Loss: 0.629 | Train Acc: 81.54%\n",
      "\tVal.  Loss: 2.570 | Val Acc: 39.49%\n",
      "===== biLSTM with 5-epochs-128-hidden dim-6-num layers =====\n",
      "Epoch: 1 | Time: 1m 14s\n",
      "\tTrain Loss: 2.127 | Train Acc: 27.40%\n",
      "\tVal.  Loss: 2.686 | Val Acc: 29.30%\n",
      "Epoch: 2 | Time: 1m 13s\n",
      "\tTrain Loss: 1.195 | Train Acc: 63.56%\n",
      "\tVal.  Loss: 2.550 | Val Acc: 34.88%\n",
      "Epoch: 3 | Time: 1m 9s\n",
      "\tTrain Loss: 0.878 | Train Acc: 74.30%\n",
      "\tVal.  Loss: 2.616 | Val Acc: 38.01%\n",
      "Epoch: 4 | Time: 1m 9s\n",
      "\tTrain Loss: 0.723 | Train Acc: 78.85%\n",
      "\tVal.  Loss: 2.810 | Val Acc: 37.11%\n",
      "Epoch: 5 | Time: 1m 9s\n",
      "\tTrain Loss: 0.638 | Train Acc: 81.31%\n",
      "\tVal.  Loss: 2.909 | Val Acc: 37.47%\n",
      "===== biLSTM with 5-epochs-256-hidden dim-2-num layers =====\n",
      "Epoch: 1 | Time: 0m 46s\n",
      "\tTrain Loss: 1.201 | Train Acc: 63.55%\n",
      "\tVal.  Loss: 2.748 | Val Acc: 38.05%\n",
      "Epoch: 2 | Time: 0m 45s\n",
      "\tTrain Loss: 0.608 | Train Acc: 81.84%\n",
      "\tVal.  Loss: 2.829 | Val Acc: 39.05%\n",
      "Epoch: 3 | Time: 0m 47s\n",
      "\tTrain Loss: 0.511 | Train Acc: 84.78%\n",
      "\tVal.  Loss: 3.082 | Val Acc: 38.33%\n",
      "Epoch: 4 | Time: 0m 47s\n",
      "\tTrain Loss: 0.440 | Train Acc: 86.47%\n",
      "\tVal.  Loss: 3.217 | Val Acc: 39.17%\n",
      "Epoch: 5 | Time: 0m 45s\n",
      "\tTrain Loss: 0.393 | Train Acc: 87.79%\n",
      "\tVal.  Loss: 3.267 | Val Acc: 37.63%\n",
      "===== biLSTM with 5-epochs-256-hidden dim-4-num layers =====\n",
      "Epoch: 1 | Time: 1m 31s\n",
      "\tTrain Loss: 1.361 | Train Acc: 55.87%\n",
      "\tVal.  Loss: 2.739 | Val Acc: 35.55%\n",
      "Epoch: 2 | Time: 1m 27s\n",
      "\tTrain Loss: 0.610 | Train Acc: 81.99%\n",
      "\tVal.  Loss: 2.960 | Val Acc: 38.55%\n",
      "Epoch: 3 | Time: 1m 26s\n",
      "\tTrain Loss: 0.490 | Train Acc: 85.36%\n",
      "\tVal.  Loss: 3.303 | Val Acc: 36.01%\n",
      "Epoch: 4 | Time: 1m 29s\n",
      "\tTrain Loss: 0.453 | Train Acc: 86.33%\n",
      "\tVal.  Loss: 3.227 | Val Acc: 36.90%\n",
      "Epoch: 5 | Time: 1m 23s\n",
      "\tTrain Loss: 0.407 | Train Acc: 87.71%\n",
      "\tVal.  Loss: 3.580 | Val Acc: 36.70%\n",
      "===== biLSTM with 5-epochs-256-hidden dim-6-num layers =====\n",
      "Epoch: 1 | Time: 2m 30s\n",
      "\tTrain Loss: 1.674 | Train Acc: 43.49%\n",
      "\tVal.  Loss: 2.902 | Val Acc: 32.24%\n",
      "Epoch: 2 | Time: 2m 29s\n",
      "\tTrain Loss: 0.842 | Train Acc: 74.01%\n",
      "\tVal.  Loss: 2.887 | Val Acc: 35.13%\n",
      "Epoch: 3 | Time: 2m 11s\n",
      "\tTrain Loss: 0.597 | Train Acc: 82.49%\n",
      "\tVal.  Loss: 3.037 | Val Acc: 36.19%\n",
      "Epoch: 4 | Time: 2m 11s\n",
      "\tTrain Loss: 0.507 | Train Acc: 84.90%\n",
      "\tVal.  Loss: 3.275 | Val Acc: 36.27%\n",
      "Epoch: 5 | Time: 2m 9s\n",
      "\tTrain Loss: 0.450 | Train Acc: 86.54%\n",
      "\tVal.  Loss: 3.391 | Val Acc: 37.28%\n",
      "===== biLSTM with 5-epochs-512-hidden dim-2-num layers =====\n",
      "Epoch: 1 | Time: 2m 8s\n",
      "\tTrain Loss: 0.906 | Train Acc: 71.78%\n",
      "\tVal.  Loss: 3.190 | Val Acc: 37.53%\n",
      "Epoch: 2 | Time: 2m 6s\n",
      "\tTrain Loss: 0.444 | Train Acc: 86.46%\n",
      "\tVal.  Loss: 3.457 | Val Acc: 37.78%\n",
      "Epoch: 3 | Time: 2m 4s\n",
      "\tTrain Loss: 0.392 | Train Acc: 88.03%\n",
      "\tVal.  Loss: 3.344 | Val Acc: 37.14%\n",
      "Epoch: 4 | Time: 2m 3s\n",
      "\tTrain Loss: 0.345 | Train Acc: 89.14%\n",
      "\tVal.  Loss: 3.951 | Val Acc: 37.51%\n",
      "Epoch: 5 | Time: 2m 7s\n",
      "\tTrain Loss: 0.296 | Train Acc: 90.48%\n",
      "\tVal.  Loss: 4.187 | Val Acc: 37.18%\n",
      "===== biLSTM with 5-epochs-512-hidden dim-4-num layers =====\n",
      "Epoch: 1 | Time: 4m 32s\n",
      "\tTrain Loss: 1.090 | Train Acc: 65.28%\n",
      "\tVal.  Loss: 3.326 | Val Acc: 36.46%\n",
      "Epoch: 2 | Time: 4m 16s\n",
      "\tTrain Loss: 0.509 | Train Acc: 84.78%\n",
      "\tVal.  Loss: 3.745 | Val Acc: 35.23%\n",
      "Epoch: 3 | Time: 4m 15s\n",
      "\tTrain Loss: 0.440 | Train Acc: 86.60%\n",
      "\tVal.  Loss: 3.721 | Val Acc: 36.72%\n",
      "Epoch: 4 | Time: 4m 15s\n",
      "\tTrain Loss: 0.386 | Train Acc: 88.23%\n",
      "\tVal.  Loss: 3.720 | Val Acc: 36.03%\n",
      "Epoch: 5 | Time: 4m 24s\n",
      "\tTrain Loss: 0.372 | Train Acc: 88.56%\n",
      "\tVal.  Loss: 3.863 | Val Acc: 36.78%\n",
      "===== biLSTM with 5-epochs-512-hidden dim-6-num layers =====\n",
      "Epoch: 1 | Time: 7m 33s\n",
      "\tTrain Loss: 1.659 | Train Acc: 44.77%\n",
      "\tVal.  Loss: 2.977 | Val Acc: 31.57%\n",
      "Epoch: 2 | Time: 6m 44s\n",
      "\tTrain Loss: 0.698 | Train Acc: 79.03%\n",
      "\tVal.  Loss: 3.178 | Val Acc: 34.71%\n",
      "Epoch: 3 | Time: 7m 46s\n",
      "\tTrain Loss: 0.506 | Train Acc: 85.21%\n",
      "\tVal.  Loss: 3.320 | Val Acc: 37.73%\n",
      "Epoch: 4 | Time: 7m 21s\n",
      "\tTrain Loss: 0.444 | Train Acc: 86.83%\n",
      "\tVal.  Loss: 3.401 | Val Acc: 35.31%\n",
      "Epoch: 5 | Time: 6m 15s\n",
      "\tTrain Loss: 0.416 | Train Acc: 87.60%\n",
      "\tVal.  Loss: 3.705 | Val Acc: 37.02%\n",
      "===== biLSTM with 10-epochs-128-hidden dim-2-num layers =====\n",
      "Epoch: 1 | Time: 0m 27s\n",
      "\tTrain Loss: 1.012 | Train Acc: 70.13%\n",
      "\tVal.  Loss: 3.062 | Val Acc: 37.26%\n",
      "Epoch: 2 | Time: 0m 26s\n",
      "\tTrain Loss: 0.383 | Train Acc: 88.50%\n",
      "\tVal.  Loss: 3.305 | Val Acc: 38.45%\n",
      "Epoch: 3 | Time: 0m 26s\n",
      "\tTrain Loss: 0.308 | Train Acc: 90.65%\n",
      "\tVal.  Loss: 3.813 | Val Acc: 36.61%\n",
      "Epoch: 4 | Time: 0m 27s\n",
      "\tTrain Loss: 0.282 | Train Acc: 91.38%\n",
      "\tVal.  Loss: 3.973 | Val Acc: 37.47%\n",
      "Epoch: 5 | Time: 0m 23s\n",
      "\tTrain Loss: 0.252 | Train Acc: 92.14%\n",
      "\tVal.  Loss: 4.123 | Val Acc: 37.36%\n",
      "Epoch: 6 | Time: 0m 25s\n",
      "\tTrain Loss: 0.229 | Train Acc: 92.86%\n",
      "\tVal.  Loss: 4.070 | Val Acc: 36.84%\n",
      "Epoch: 7 | Time: 0m 24s\n",
      "\tTrain Loss: 0.201 | Train Acc: 93.67%\n",
      "\tVal.  Loss: 4.572 | Val Acc: 36.48%\n",
      "Epoch: 8 | Time: 0m 24s\n",
      "\tTrain Loss: 0.195 | Train Acc: 93.83%\n",
      "\tVal.  Loss: 4.540 | Val Acc: 36.39%\n",
      "Epoch: 9 | Time: 0m 24s\n",
      "\tTrain Loss: 0.181 | Train Acc: 94.14%\n",
      "\tVal.  Loss: 4.916 | Val Acc: 35.32%\n",
      "Epoch: 10 | Time: 0m 25s\n",
      "\tTrain Loss: 0.180 | Train Acc: 94.02%\n",
      "\tVal.  Loss: 4.867 | Val Acc: 35.71%\n",
      "===== biLSTM with 10-epochs-128-hidden dim-4-num layers =====\n",
      "Epoch: 1 | Time: 0m 51s\n",
      "\tTrain Loss: 1.175 | Train Acc: 62.03%\n",
      "\tVal.  Loss: 3.212 | Val Acc: 35.94%\n",
      "Epoch: 2 | Time: 0m 48s\n",
      "\tTrain Loss: 0.433 | Train Acc: 86.67%\n",
      "\tVal.  Loss: 3.501 | Val Acc: 35.24%\n",
      "Epoch: 3 | Time: 0m 47s\n",
      "\tTrain Loss: 0.330 | Train Acc: 89.86%\n",
      "\tVal.  Loss: 3.905 | Val Acc: 36.66%\n",
      "Epoch: 4 | Time: 0m 49s\n",
      "\tTrain Loss: 0.289 | Train Acc: 90.86%\n",
      "\tVal.  Loss: 3.855 | Val Acc: 35.68%\n",
      "Epoch: 5 | Time: 0m 44s\n",
      "\tTrain Loss: 0.273 | Train Acc: 91.47%\n",
      "\tVal.  Loss: 4.175 | Val Acc: 35.39%\n",
      "Epoch: 6 | Time: 0m 45s\n",
      "\tTrain Loss: 0.257 | Train Acc: 91.94%\n",
      "\tVal.  Loss: 4.436 | Val Acc: 35.62%\n",
      "Epoch: 7 | Time: 0m 45s\n",
      "\tTrain Loss: 0.245 | Train Acc: 92.12%\n",
      "\tVal.  Loss: 4.356 | Val Acc: 36.62%\n",
      "Epoch: 8 | Time: 0m 47s\n",
      "\tTrain Loss: 0.234 | Train Acc: 92.47%\n",
      "\tVal.  Loss: 4.460 | Val Acc: 35.16%\n",
      "Epoch: 9 | Time: 0m 45s\n",
      "\tTrain Loss: 0.222 | Train Acc: 93.17%\n",
      "\tVal.  Loss: 4.559 | Val Acc: 35.56%\n",
      "Epoch: 10 | Time: 0m 47s\n",
      "\tTrain Loss: 0.197 | Train Acc: 93.66%\n",
      "\tVal.  Loss: 4.579 | Val Acc: 36.25%\n",
      "===== biLSTM with 10-epochs-128-hidden dim-6-num layers =====\n",
      "Epoch: 1 | Time: 1m 15s\n",
      "\tTrain Loss: 1.641 | Train Acc: 44.42%\n",
      "\tVal.  Loss: 2.975 | Val Acc: 31.69%\n",
      "Epoch: 2 | Time: 1m 8s\n",
      "\tTrain Loss: 0.666 | Train Acc: 80.11%\n",
      "\tVal.  Loss: 3.504 | Val Acc: 34.95%\n",
      "Epoch: 3 | Time: 1m 10s\n",
      "\tTrain Loss: 0.442 | Train Acc: 86.72%\n",
      "\tVal.  Loss: 3.786 | Val Acc: 35.73%\n",
      "Epoch: 4 | Time: 1m 4s\n",
      "\tTrain Loss: 0.360 | Train Acc: 89.13%\n",
      "\tVal.  Loss: 3.881 | Val Acc: 34.97%\n",
      "Epoch: 5 | Time: 1m 4s\n",
      "\tTrain Loss: 0.318 | Train Acc: 90.55%\n",
      "\tVal.  Loss: 4.019 | Val Acc: 34.88%\n",
      "Epoch: 6 | Time: 1m 4s\n",
      "\tTrain Loss: 0.271 | Train Acc: 91.66%\n",
      "\tVal.  Loss: 4.355 | Val Acc: 35.56%\n",
      "Epoch: 7 | Time: 1m 6s\n",
      "\tTrain Loss: 0.270 | Train Acc: 91.63%\n",
      "\tVal.  Loss: 4.296 | Val Acc: 35.26%\n",
      "Epoch: 8 | Time: 1m 4s\n",
      "\tTrain Loss: 0.259 | Train Acc: 92.16%\n",
      "\tVal.  Loss: 4.284 | Val Acc: 36.28%\n",
      "Epoch: 9 | Time: 1m 4s\n",
      "\tTrain Loss: 0.249 | Train Acc: 92.31%\n",
      "\tVal.  Loss: 4.308 | Val Acc: 36.10%\n",
      "Epoch: 10 | Time: 1m 3s\n",
      "\tTrain Loss: 0.228 | Train Acc: 92.95%\n",
      "\tVal.  Loss: 4.417 | Val Acc: 35.92%\n",
      "===== biLSTM with 10-epochs-256-hidden dim-2-num layers =====\n",
      "Epoch: 1 | Time: 0m 44s\n",
      "\tTrain Loss: 0.790 | Train Acc: 76.21%\n",
      "\tVal.  Loss: 3.818 | Val Acc: 36.07%\n",
      "Epoch: 2 | Time: 0m 43s\n",
      "\tTrain Loss: 0.283 | Train Acc: 91.09%\n",
      "\tVal.  Loss: 4.239 | Val Acc: 35.80%\n",
      "Epoch: 3 | Time: 0m 45s\n",
      "\tTrain Loss: 0.240 | Train Acc: 92.28%\n",
      "\tVal.  Loss: 4.746 | Val Acc: 34.78%\n",
      "Epoch: 4 | Time: 0m 43s\n",
      "\tTrain Loss: 0.226 | Train Acc: 92.86%\n",
      "\tVal.  Loss: 4.563 | Val Acc: 35.58%\n",
      "Epoch: 5 | Time: 0m 46s\n",
      "\tTrain Loss: 0.189 | Train Acc: 93.91%\n",
      "\tVal.  Loss: 5.041 | Val Acc: 36.10%\n",
      "Epoch: 6 | Time: 0m 43s\n",
      "\tTrain Loss: 0.182 | Train Acc: 94.11%\n",
      "\tVal.  Loss: 5.145 | Val Acc: 36.71%\n",
      "Epoch: 7 | Time: 0m 43s\n",
      "\tTrain Loss: 0.157 | Train Acc: 94.97%\n",
      "\tVal.  Loss: 5.390 | Val Acc: 35.92%\n",
      "Epoch: 8 | Time: 0m 42s\n",
      "\tTrain Loss: 0.150 | Train Acc: 95.25%\n",
      "\tVal.  Loss: 5.365 | Val Acc: 35.02%\n",
      "Epoch: 9 | Time: 0m 44s\n",
      "\tTrain Loss: 0.145 | Train Acc: 95.23%\n",
      "\tVal.  Loss: 5.423 | Val Acc: 36.14%\n",
      "Epoch: 10 | Time: 0m 44s\n",
      "\tTrain Loss: 0.127 | Train Acc: 95.75%\n",
      "\tVal.  Loss: 5.774 | Val Acc: 35.25%\n",
      "===== biLSTM with 10-epochs-256-hidden dim-4-num layers =====\n",
      "Epoch: 1 | Time: 1m 25s\n",
      "\tTrain Loss: 0.955 | Train Acc: 69.14%\n",
      "\tVal.  Loss: 3.736 | Val Acc: 34.77%\n",
      "Epoch: 2 | Time: 1m 21s\n",
      "\tTrain Loss: 0.349 | Train Acc: 89.12%\n",
      "\tVal.  Loss: 3.885 | Val Acc: 36.50%\n",
      "Epoch: 3 | Time: 1m 26s\n",
      "\tTrain Loss: 0.269 | Train Acc: 91.66%\n",
      "\tVal.  Loss: 4.220 | Val Acc: 36.30%\n",
      "Epoch: 4 | Time: 1m 26s\n",
      "\tTrain Loss: 0.239 | Train Acc: 92.56%\n",
      "\tVal.  Loss: 4.417 | Val Acc: 35.62%\n",
      "Epoch: 5 | Time: 1m 26s\n",
      "\tTrain Loss: 0.228 | Train Acc: 92.79%\n",
      "\tVal.  Loss: 4.501 | Val Acc: 35.94%\n",
      "Epoch: 6 | Time: 1m 24s\n",
      "\tTrain Loss: 0.214 | Train Acc: 93.42%\n",
      "\tVal.  Loss: 4.598 | Val Acc: 35.56%\n",
      "Epoch: 7 | Time: 1m 27s\n",
      "\tTrain Loss: 0.209 | Train Acc: 93.38%\n",
      "\tVal.  Loss: 4.491 | Val Acc: 34.36%\n",
      "Epoch: 8 | Time: 1m 29s\n",
      "\tTrain Loss: 0.196 | Train Acc: 93.76%\n",
      "\tVal.  Loss: 4.608 | Val Acc: 36.52%\n",
      "Epoch: 9 | Time: 1m 29s\n",
      "\tTrain Loss: 0.190 | Train Acc: 94.17%\n",
      "\tVal.  Loss: 4.747 | Val Acc: 35.24%\n",
      "Epoch: 10 | Time: 1m 19s\n",
      "\tTrain Loss: 0.165 | Train Acc: 94.99%\n",
      "\tVal.  Loss: 5.127 | Val Acc: 34.65%\n",
      "===== biLSTM with 10-epochs-256-hidden dim-6-num layers =====\n",
      "Epoch: 1 | Time: 2m 17s\n",
      "\tTrain Loss: 1.379 | Train Acc: 53.19%\n",
      "\tVal.  Loss: 3.110 | Val Acc: 32.44%\n",
      "Epoch: 2 | Time: 2m 15s\n",
      "\tTrain Loss: 0.502 | Train Acc: 85.14%\n",
      "\tVal.  Loss: 3.613 | Val Acc: 35.11%\n",
      "Epoch: 3 | Time: 2m 19s\n",
      "\tTrain Loss: 0.357 | Train Acc: 89.40%\n",
      "\tVal.  Loss: 3.899 | Val Acc: 34.90%\n",
      "Epoch: 4 | Time: 2m 4s\n",
      "\tTrain Loss: 0.308 | Train Acc: 90.62%\n",
      "\tVal.  Loss: 4.076 | Val Acc: 36.19%\n",
      "Epoch: 5 | Time: 2m 4s\n",
      "\tTrain Loss: 0.265 | Train Acc: 91.97%\n",
      "\tVal.  Loss: 4.327 | Val Acc: 36.42%\n",
      "Epoch: 6 | Time: 2m 7s\n",
      "\tTrain Loss: 0.252 | Train Acc: 92.50%\n",
      "\tVal.  Loss: 4.122 | Val Acc: 34.96%\n",
      "Epoch: 7 | Time: 2m 8s\n",
      "\tTrain Loss: 0.240 | Train Acc: 92.81%\n",
      "\tVal.  Loss: 4.155 | Val Acc: 35.74%\n",
      "Epoch: 8 | Time: 2m 2s\n",
      "\tTrain Loss: 0.210 | Train Acc: 93.58%\n",
      "\tVal.  Loss: 4.391 | Val Acc: 35.73%\n",
      "Epoch: 9 | Time: 2m 2s\n",
      "\tTrain Loss: 0.202 | Train Acc: 93.78%\n",
      "\tVal.  Loss: 4.770 | Val Acc: 34.52%\n",
      "Epoch: 10 | Time: 2m 4s\n",
      "\tTrain Loss: 0.198 | Train Acc: 94.10%\n",
      "\tVal.  Loss: 4.904 | Val Acc: 34.13%\n",
      "===== biLSTM with 10-epochs-512-hidden dim-2-num layers =====\n",
      "Epoch: 1 | Time: 2m 1s\n",
      "\tTrain Loss: 0.677 | Train Acc: 78.82%\n",
      "\tVal.  Loss: 4.360 | Val Acc: 34.30%\n",
      "Epoch: 2 | Time: 2m 7s\n",
      "\tTrain Loss: 0.262 | Train Acc: 91.82%\n",
      "\tVal.  Loss: 4.630 | Val Acc: 34.86%\n",
      "Epoch: 3 | Time: 2m 7s\n",
      "\tTrain Loss: 0.202 | Train Acc: 93.60%\n",
      "\tVal.  Loss: 4.938 | Val Acc: 34.75%\n",
      "Epoch: 4 | Time: 2m 3s\n",
      "\tTrain Loss: 0.207 | Train Acc: 93.34%\n",
      "\tVal.  Loss: 5.014 | Val Acc: 36.23%\n",
      "Epoch: 5 | Time: 2m 4s\n",
      "\tTrain Loss: 0.174 | Train Acc: 94.31%\n",
      "\tVal.  Loss: 5.423 | Val Acc: 36.01%\n",
      "Epoch: 6 | Time: 2m 15s\n",
      "\tTrain Loss: 0.150 | Train Acc: 95.16%\n",
      "\tVal.  Loss: 5.606 | Val Acc: 36.16%\n",
      "Epoch: 7 | Time: 2m 2s\n",
      "\tTrain Loss: 0.138 | Train Acc: 95.36%\n",
      "\tVal.  Loss: 5.886 | Val Acc: 36.41%\n",
      "Epoch: 8 | Time: 2m 7s\n",
      "\tTrain Loss: 0.134 | Train Acc: 95.44%\n",
      "\tVal.  Loss: 5.753 | Val Acc: 36.16%\n",
      "Epoch: 9 | Time: 1m 59s\n",
      "\tTrain Loss: 0.122 | Train Acc: 95.96%\n",
      "\tVal.  Loss: 5.966 | Val Acc: 33.91%\n",
      "Epoch: 10 | Time: 2m 13s\n",
      "\tTrain Loss: 0.148 | Train Acc: 95.12%\n",
      "\tVal.  Loss: 5.774 | Val Acc: 35.45%\n",
      "===== biLSTM with 10-epochs-512-hidden dim-4-num layers =====\n",
      "Epoch: 1 | Time: 4m 25s\n",
      "\tTrain Loss: 0.869 | Train Acc: 72.22%\n",
      "\tVal.  Loss: 3.891 | Val Acc: 34.13%\n",
      "Epoch: 2 | Time: 4m 5s\n",
      "\tTrain Loss: 0.347 | Train Acc: 89.28%\n",
      "\tVal.  Loss: 4.364 | Val Acc: 33.62%\n",
      "Epoch: 3 | Time: 4m 11s\n",
      "\tTrain Loss: 0.273 | Train Acc: 91.73%\n",
      "\tVal.  Loss: 4.360 | Val Acc: 34.54%\n",
      "Epoch: 4 | Time: 4m 15s\n",
      "\tTrain Loss: 0.225 | Train Acc: 92.77%\n",
      "\tVal.  Loss: 4.474 | Val Acc: 34.63%\n",
      "Epoch: 5 | Time: 4m 2s\n",
      "\tTrain Loss: 0.208 | Train Acc: 93.46%\n",
      "\tVal.  Loss: 4.784 | Val Acc: 34.10%\n",
      "Epoch: 6 | Time: 4m 6s\n",
      "\tTrain Loss: 0.202 | Train Acc: 93.75%\n",
      "\tVal.  Loss: 4.721 | Val Acc: 34.49%\n",
      "Epoch: 7 | Time: 3m 55s\n",
      "\tTrain Loss: 0.187 | Train Acc: 94.19%\n",
      "\tVal.  Loss: 4.859 | Val Acc: 35.39%\n",
      "Epoch: 8 | Time: 4m 3s\n",
      "\tTrain Loss: 0.165 | Train Acc: 94.83%\n",
      "\tVal.  Loss: 4.860 | Val Acc: 34.71%\n",
      "Epoch: 9 | Time: 3m 54s\n",
      "\tTrain Loss: 0.154 | Train Acc: 95.22%\n",
      "\tVal.  Loss: 5.047 | Val Acc: 34.63%\n",
      "Epoch: 10 | Time: 3m 55s\n",
      "\tTrain Loss: 0.155 | Train Acc: 95.11%\n",
      "\tVal.  Loss: 5.047 | Val Acc: 35.11%\n",
      "===== biLSTM with 10-epochs-512-hidden dim-6-num layers =====\n",
      "Epoch: 1 | Time: 6m 17s\n",
      "\tTrain Loss: 1.228 | Train Acc: 59.23%\n",
      "\tVal.  Loss: 3.758 | Val Acc: 31.94%\n",
      "Epoch: 2 | Time: 6m 40s\n",
      "\tTrain Loss: 0.456 | Train Acc: 86.69%\n",
      "\tVal.  Loss: 3.900 | Val Acc: 35.17%\n",
      "Epoch: 3 | Time: 6m 17s\n",
      "\tTrain Loss: 0.314 | Train Acc: 90.78%\n",
      "\tVal.  Loss: 4.194 | Val Acc: 34.63%\n",
      "Epoch: 4 | Time: 6m 4s\n",
      "\tTrain Loss: 0.283 | Train Acc: 91.57%\n",
      "\tVal.  Loss: 4.334 | Val Acc: 34.32%\n",
      "Epoch: 5 | Time: 6m 15s\n",
      "\tTrain Loss: 0.256 | Train Acc: 92.35%\n",
      "\tVal.  Loss: 4.499 | Val Acc: 34.13%\n",
      "Epoch: 6 | Time: 6m 12s\n",
      "\tTrain Loss: 0.220 | Train Acc: 93.37%\n",
      "\tVal.  Loss: 4.459 | Val Acc: 35.22%\n",
      "Epoch: 7 | Time: 6m 12s\n",
      "\tTrain Loss: 0.224 | Train Acc: 93.38%\n",
      "\tVal.  Loss: 4.316 | Val Acc: 35.10%\n",
      "Epoch: 8 | Time: 5m 58s\n",
      "\tTrain Loss: 0.206 | Train Acc: 93.78%\n",
      "\tVal.  Loss: 4.964 | Val Acc: 33.24%\n",
      "Epoch: 9 | Time: 6m 6s\n",
      "\tTrain Loss: 0.222 | Train Acc: 93.59%\n",
      "\tVal.  Loss: 4.432 | Val Acc: 35.77%\n",
      "Epoch: 10 | Time: 6m 6s\n",
      "\tTrain Loss: 0.198 | Train Acc: 94.11%\n",
      "\tVal.  Loss: 4.594 | Val Acc: 35.32%\n"
     ]
    }
   ],
   "source": [
    "import time\n",
    "import torch.optim as optim\n",
    "\n",
    "num_epochs = [5,10]\n",
    "hid_dims = [128,256,512]\n",
    "num_layers = [2,4,6]\n",
    "\n",
    "for num_epoch in num_epochs:\n",
    "    for hid_dim in hid_dims:\n",
    "        for num_layer in num_layers:\n",
    "            input_dim = len(vocab)\n",
    "            emb_dim   = 300 #fasttext\n",
    "            output_dim = 17 #17 types of product question\n",
    "            bidirectional = True\n",
    "            dropout    = 0.5  # dropout between layers\n",
    "\n",
    "            params={\"model\":\"biLSTM\", \"num_epochs\":num_epoch, \"input_dim\":input_dim, \"hid_dim\":hid_dim, \"emb_dim\":emb_dim, \"output_dim\":output_dim, \"num_layers\":num_layer, \"dropout\":0.5}\n",
    "            mlflow.start_run(run_name=f\"biLSTM1000-{params['num_epochs']}-epochs-{params['hid_dim']}-hidden dim-{params['num_layers']}-num layers\")\n",
    "            mlflow.log_params(params)\n",
    "\n",
    "            print(\"=\"*5, f\"biLSTM with {params['num_epochs']}-epochs-{params['hid_dim']}-hidden dim-{params['num_layers']}-num layers\",\"=\"*5)\n",
    "\n",
    "            model = LSTM(input_dim, emb_dim, hid_dim, num_layer, bidirectional, dropout, output_dim)\n",
    "            model.apply(initialize_weight)\n",
    "            model.embedding.weight.data = fast_embedding\n",
    "\n",
    "            lr = 1e-3\n",
    "            optimizer = optim.Adam(model.parameters(), lr=lr)\n",
    "            criterion = nn.CrossEntropyLoss()\n",
    "\n",
    "            train_losses, train_accs, val_losses, val_accs = [],[],[],[]\n",
    "            best_valid_loss = float('inf')\n",
    "\n",
    "            for epoch in range(num_epoch):\n",
    "                start_time = time.time()\n",
    "                \n",
    "                train_loss, train_acc = train(model, train_loader, optimizer, criterion, train_loader_length)\n",
    "                valid_loss, valid_acc = evaluate(model, val_loader, criterion, val_loader_length)\n",
    "                \n",
    "                #for plotting\n",
    "                train_losses.append(train_loss)\n",
    "                train_accs.append(train_acc)\n",
    "                val_losses.append(valid_loss)\n",
    "                val_accs.append(valid_acc)\n",
    "                \n",
    "                end_time = time.time()\n",
    "                \n",
    "                epoch_mins, epoch_secs = epoch_time(start_time, end_time)\n",
    "                mlflow.log_metric(key=\"train_loss\", value=train_loss, step=epoch)\n",
    "                mlflow.log_metric(key=\"train_acc\", value=train_acc, step=epoch)\n",
    "                mlflow.log_metric(key=\"val_loss\", value=valid_loss, step=epoch)\n",
    "                mlflow.log_metric(key=\"val_acc\", value=valid_acc, step=epoch)\n",
    "                \n",
    "            \n",
    "                #early stopping\n",
    "                if valid_loss < best_valid_loss:\n",
    "                    best_valid_loss = valid_loss\n",
    "                    mlflow.pytorch.log_model(model, \"model\")\n",
    "                \n",
    "                print(f'Epoch: {epoch+1} | Time: {epoch_mins}m {epoch_secs}s')\n",
    "                print(f'\\tTrain Loss: {train_loss:.3f} | Train Acc: {train_acc*100:.2f}%')\n",
    "                print(f'\\tVal.  Loss: {valid_loss:.3f} | Val Acc: {valid_acc*100:.2f}%')\n",
    "            mlflow.log_metric(key=\"min_val_loss\", value=min(val_losses), step=epoch)    \n",
    "            mlflow.end_run()\n",
    "        "
   ]
  },
  {
   "cell_type": "code",
   "execution_count": null,
   "metadata": {},
   "outputs": [],
   "source": []
  }
 ],
 "metadata": {
  "kernelspec": {
   "display_name": "Python 3 (ipykernel)",
   "language": "python",
   "name": "python3"
  },
  "language_info": {
   "codemirror_mode": {
    "name": "ipython",
    "version": 3
   },
   "file_extension": ".py",
   "mimetype": "text/x-python",
   "name": "python",
   "nbconvert_exporter": "python",
   "pygments_lexer": "ipython3",
   "version": "3.10.12"
  }
 },
 "nbformat": 4,
 "nbformat_minor": 2
}

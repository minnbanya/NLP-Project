{
 "cells": [
  {
   "cell_type": "code",
   "execution_count": 1,
   "metadata": {},
   "outputs": [],
   "source": [
    "import torch, torchdata, torchtext\n",
    "import torch.nn as nn\n",
    "import pandas as pd\n",
    "import re\n",
    "from sklearn.model_selection import train_test_split\n",
    "from torch.nn.utils.rnn import pad_sequence\n",
    "from torch.utils.data import DataLoader, Dataset"
   ]
  },
  {
   "cell_type": "code",
   "execution_count": 2,
   "metadata": {},
   "outputs": [
    {
     "data": {
      "text/plain": [
       "('2.2.2+cu121', '0.7.1', '0.17.2+cpu')"
      ]
     },
     "execution_count": 2,
     "metadata": {},
     "output_type": "execute_result"
    }
   ],
   "source": [
    "torch.__version__, torchdata.__version__, torchtext.__version__"
   ]
  },
  {
   "cell_type": "code",
   "execution_count": 3,
   "metadata": {},
   "outputs": [],
   "source": [
    "device = torch.device('cuda' if torch.cuda.is_available() else 'cpu')"
   ]
  },
  {
   "cell_type": "code",
   "execution_count": 4,
   "metadata": {},
   "outputs": [],
   "source": [
    "SEED = 1234 #change three times\n",
    "torch.manual_seed(SEED)\n",
    "torch.backends.cudnn.deterministic = True"
   ]
  },
  {
   "cell_type": "markdown",
   "metadata": {},
   "source": [
    "## 1. load dataset"
   ]
  },
  {
   "cell_type": "code",
   "execution_count": 5,
   "metadata": {},
   "outputs": [
    {
     "data": {
      "text/html": [
       "<div>\n",
       "<style scoped>\n",
       "    .dataframe tbody tr th:only-of-type {\n",
       "        vertical-align: middle;\n",
       "    }\n",
       "\n",
       "    .dataframe tbody tr th {\n",
       "        vertical-align: top;\n",
       "    }\n",
       "\n",
       "    .dataframe thead th {\n",
       "        text-align: right;\n",
       "    }\n",
       "</style>\n",
       "<table border=\"1\" class=\"dataframe\">\n",
       "  <thead>\n",
       "    <tr style=\"text-align: right;\">\n",
       "      <th></th>\n",
       "      <th>category</th>\n",
       "      <th>questionText</th>\n",
       "    </tr>\n",
       "  </thead>\n",
       "  <tbody>\n",
       "    <tr>\n",
       "      <th>0</th>\n",
       "      <td>Toys_and_Games</td>\n",
       "      <td>Many have stated similar to the following: \"Pa...</td>\n",
       "    </tr>\n",
       "    <tr>\n",
       "      <th>1</th>\n",
       "      <td>Health_and_Personal_Care</td>\n",
       "      <td>Will these work with the Phillips sonicare han...</td>\n",
       "    </tr>\n",
       "    <tr>\n",
       "      <th>2</th>\n",
       "      <td>Cell_Phones_and_Accessories</td>\n",
       "      <td>What kind of sim card it use?</td>\n",
       "    </tr>\n",
       "    <tr>\n",
       "      <th>3</th>\n",
       "      <td>Home_and_Kitchen</td>\n",
       "      <td>does anyone know if this dinnerware set does n...</td>\n",
       "    </tr>\n",
       "    <tr>\n",
       "      <th>4</th>\n",
       "      <td>Musical_Instruments</td>\n",
       "      <td>I'm thinking of getting in to modular synthesi...</td>\n",
       "    </tr>\n",
       "  </tbody>\n",
       "</table>\n",
       "</div>"
      ],
      "text/plain": [
       "                      category  \\\n",
       "0               Toys_and_Games   \n",
       "1     Health_and_Personal_Care   \n",
       "2  Cell_Phones_and_Accessories   \n",
       "3             Home_and_Kitchen   \n",
       "4          Musical_Instruments   \n",
       "\n",
       "                                        questionText  \n",
       "0  Many have stated similar to the following: \"Pa...  \n",
       "1  Will these work with the Phillips sonicare han...  \n",
       "2                      What kind of sim card it use?  \n",
       "3  does anyone know if this dinnerware set does n...  \n",
       "4  I'm thinking of getting in to modular synthesi...  "
      ]
     },
     "execution_count": 5,
     "metadata": {},
     "output_type": "execute_result"
    }
   ],
   "source": [
    "df = pd.read_json('data/train-qar.jsonl', lines=True, nrows=300000)\n",
    "df = df[['category', 'questionText']]\n",
    "df.head(5)"
   ]
  },
  {
   "cell_type": "code",
   "execution_count": 6,
   "metadata": {},
   "outputs": [
    {
     "data": {
      "text/plain": [
       "array(['Toys_and_Games', 'Health_and_Personal_Care',\n",
       "       'Cell_Phones_and_Accessories', 'Home_and_Kitchen',\n",
       "       'Musical_Instruments', 'Baby', 'Sports_and_Outdoors',\n",
       "       'Patio_Lawn_and_Garden', 'Video_Games', 'Pet_Supplies',\n",
       "       'Tools_and_Home_Improvement', 'Beauty', 'Electronics',\n",
       "       'Grocery_and_Gourmet_Food', 'Automotive', 'Office_Products',\n",
       "       'Clothing_Shoes_and_Jewelry'], dtype=object)"
      ]
     },
     "execution_count": 6,
     "metadata": {},
     "output_type": "execute_result"
    }
   ],
   "source": [
    "# Product category\n",
    "df['category'].unique()"
   ]
  },
  {
   "cell_type": "code",
   "execution_count": 7,
   "metadata": {},
   "outputs": [],
   "source": [
    "# convert the text to numeric class\n",
    "class_mapping = {\n",
    "    'Toys_and_Games': 0,\n",
    "    'Health_and_Personal_Care': 1,\n",
    "    'Cell_Phones_and_Accessories': 2,\n",
    "    'Home_and_Kitchen': 3,\n",
    "    'Musical_Instruments': 4,\n",
    "    'Baby': 5,\n",
    "    'Sports_and_Outdoors': 6,\n",
    "    'Patio_Lawn_and_Garden': 7,\n",
    "    'Video_Games': 8,\n",
    "    'Pet_Supplies': 9,\n",
    "    'Tools_and_Home_Improvement': 10,\n",
    "    'Beauty': 11,\n",
    "    'Electronics': 12,\n",
    "    'Grocery_and_Gourmet_Food': 13,\n",
    "    'Automotive': 14,\n",
    "    'Office_Products': 15,\n",
    "    'Clothing_Shoes_and_Jewelry': 16\n",
    "}\n",
    "\n",
    "# Map class names to numerical labels\n",
    "df['category'] = df['category'].map(class_mapping)"
   ]
  },
  {
   "cell_type": "code",
   "execution_count": 9,
   "metadata": {},
   "outputs": [],
   "source": [
    "# sample 100 data in each classes\n",
    "df_sample = df.groupby('category', group_keys=False).apply(lambda x: x.sample(500))"
   ]
  },
  {
   "cell_type": "code",
   "execution_count": 10,
   "metadata": {},
   "outputs": [],
   "source": [
    "# convert to lower case\n",
    "df_sample['questionText']  =  df_sample['questionText'].apply(lambda x: x.lower() if isinstance(x, str) else x)"
   ]
  },
  {
   "cell_type": "code",
   "execution_count": 11,
   "metadata": {},
   "outputs": [],
   "source": [
    "def data_cleaning(data):\n",
    "    regex_s = re.sub(\"\\\\(.+?\\\\)|[\\r\\n|\\n\\r]|!\", \"\", data)\n",
    "    fin = \" \".join(regex_s.split())\n",
    "    return fin"
   ]
  },
  {
   "cell_type": "code",
   "execution_count": 12,
   "metadata": {},
   "outputs": [],
   "source": [
    "df_sample['questionText'] = df_sample['questionText'].apply(data_cleaning)"
   ]
  },
  {
   "cell_type": "code",
   "execution_count": 13,
   "metadata": {},
   "outputs": [],
   "source": [
    "train_df, val_df = train_test_split(df_sample, test_size=0.1,stratify=df_sample['category'], random_state=SEED)"
   ]
  },
  {
   "cell_type": "code",
   "execution_count": 14,
   "metadata": {},
   "outputs": [],
   "source": [
    "train_df, test_df = train_test_split(train_df, test_size=0.1, stratify=train_df['category'],random_state=SEED)"
   ]
  },
  {
   "cell_type": "code",
   "execution_count": 15,
   "metadata": {},
   "outputs": [
    {
     "data": {
      "text/plain": [
       "category\n",
       "9     405\n",
       "0     405\n",
       "1     405\n",
       "15    405\n",
       "6     405\n",
       "12    405\n",
       "10    405\n",
       "4     405\n",
       "13    405\n",
       "8     405\n",
       "14    405\n",
       "5     405\n",
       "11    405\n",
       "16    405\n",
       "2     405\n",
       "3     405\n",
       "7     405\n",
       "Name: count, dtype: int64"
      ]
     },
     "execution_count": 15,
     "metadata": {},
     "output_type": "execute_result"
    }
   ],
   "source": [
    "train_df['category'].value_counts()"
   ]
  },
  {
   "cell_type": "markdown",
   "metadata": {},
   "source": [
    "## 2.Preprocessing"
   ]
  },
  {
   "cell_type": "markdown",
   "metadata": {},
   "source": [
    "### Tokenizing"
   ]
  },
  {
   "cell_type": "code",
   "execution_count": 16,
   "metadata": {},
   "outputs": [
    {
     "data": {
      "text/plain": [
       "['What', 'is', 'the', 'best', 'product', '?']"
      ]
     },
     "execution_count": 16,
     "metadata": {},
     "output_type": "execute_result"
    }
   ],
   "source": [
    "from torchtext.data.utils import get_tokenizer\n",
    "\n",
    "tokenizer = get_tokenizer('spacy', language='en_core_web_sm')\n",
    "tokens    = tokenizer(\"What is the best product?\")\n",
    "tokens"
   ]
  },
  {
   "cell_type": "markdown",
   "metadata": {},
   "source": [
    "### Text to integers (numeral)"
   ]
  },
  {
   "cell_type": "code",
   "execution_count": 17,
   "metadata": {},
   "outputs": [],
   "source": [
    "from torchtext.vocab import build_vocab_from_iterator\n",
    "\n",
    "def yield_tokens(data):\n",
    "    for data_sample in data:\n",
    "        yield tokenizer(data_sample) \n",
    "        \n",
    "vocab = build_vocab_from_iterator(yield_tokens(train_df['questionText']), specials = ['<unk>', '<pad>', '<bos>', '<eos>'])\n",
    "vocab.set_default_index(vocab[\"<unk>\"])"
   ]
  },
  {
   "cell_type": "code",
   "execution_count": 18,
   "metadata": {},
   "outputs": [
    {
     "data": {
      "text/plain": [
       "[541, 8, 7]"
      ]
     },
     "execution_count": 18,
     "metadata": {},
     "output_type": "execute_result"
    }
   ],
   "source": [
    "vocab(['here', 'it', 'is'])"
   ]
  },
  {
   "cell_type": "code",
   "execution_count": 19,
   "metadata": {},
   "outputs": [
    {
     "data": {
      "text/plain": [
       "'<unk>'"
      ]
     },
     "execution_count": 19,
     "metadata": {},
     "output_type": "execute_result"
    }
   ],
   "source": [
    "mapping = vocab.get_itos()\n",
    "mapping[0]"
   ]
  },
  {
   "cell_type": "code",
   "execution_count": 20,
   "metadata": {},
   "outputs": [
    {
     "data": {
      "text/plain": [
       "9420"
      ]
     },
     "execution_count": 20,
     "metadata": {},
     "output_type": "execute_result"
    }
   ],
   "source": [
    "len(vocab)"
   ]
  },
  {
   "cell_type": "markdown",
   "metadata": {},
   "source": [
    "## 3. Data loader"
   ]
  },
  {
   "cell_type": "markdown",
   "metadata": {},
   "source": [
    "### FastText Embedding"
   ]
  },
  {
   "cell_type": "code",
   "execution_count": 21,
   "metadata": {},
   "outputs": [],
   "source": [
    "from torchtext.vocab import FastText\n",
    "fast_vectors = FastText(language='simple')"
   ]
  },
  {
   "cell_type": "code",
   "execution_count": 22,
   "metadata": {},
   "outputs": [],
   "source": [
    "fast_embedding = fast_vectors.get_vecs_by_tokens(vocab.get_itos()).to(device)"
   ]
  },
  {
   "cell_type": "code",
   "execution_count": 23,
   "metadata": {},
   "outputs": [
    {
     "data": {
      "text/plain": [
       "torch.Size([9420, 300])"
      ]
     },
     "execution_count": 23,
     "metadata": {},
     "output_type": "execute_result"
    }
   ],
   "source": [
    "fast_embedding.shape"
   ]
  },
  {
   "cell_type": "code",
   "execution_count": 24,
   "metadata": {},
   "outputs": [],
   "source": [
    "class DataWrap(Dataset):\n",
    "\n",
    "    def __init__(self, dataframe):\n",
    "        self.dataframe = dataframe\n",
    "    \n",
    "    def __len__(self):\n",
    "        return len(self.dataframe)\n",
    "        \n",
    "    def __getitem__(self, idx):\n",
    "        return self.dataframe.iloc[idx]"
   ]
  },
  {
   "cell_type": "code",
   "execution_count": 25,
   "metadata": {},
   "outputs": [
    {
     "data": {
      "text/plain": [
       "category                     9\n",
       "questionText    how tall is it\n",
       "Name: 65669, dtype: object"
      ]
     },
     "execution_count": 25,
     "metadata": {},
     "output_type": "execute_result"
    }
   ],
   "source": [
    "train_df.iloc[0]"
   ]
  },
  {
   "cell_type": "code",
   "execution_count": 26,
   "metadata": {},
   "outputs": [],
   "source": [
    "train = DataWrap(train_df)\n",
    "valid = DataWrap(val_df)\n",
    "test = DataWrap(test_df)"
   ]
  },
  {
   "cell_type": "code",
   "execution_count": 27,
   "metadata": {},
   "outputs": [],
   "source": [
    "text_pipeline  = lambda x: vocab(tokenizer(x)) #{hello world this is yt} => {'hello', 'world', 'this', 'is', 'yt'} => {4, 88, 11, 22, 6}"
   ]
  },
  {
   "cell_type": "code",
   "execution_count": 28,
   "metadata": {},
   "outputs": [
    {
     "data": {
      "text/plain": [
       "[21, 7, 5, 289, 54, 4]"
      ]
     },
     "execution_count": 28,
     "metadata": {},
     "output_type": "execute_result"
    }
   ],
   "source": [
    "text_pipeline(\"what is the best product?\")"
   ]
  },
  {
   "cell_type": "code",
   "execution_count": 29,
   "metadata": {},
   "outputs": [],
   "source": [
    "#collate_fn to let each batch has same size\n",
    "from torch.utils.data import DataLoader\n",
    "from torch.nn.utils.rnn import pad_sequence\n",
    "\n",
    "pad_idx = vocab['<pad>'] #get index of pad in vocab list\n",
    "# padding for every sentencce in batch to have same length \n",
    "\n",
    "def collate_batch(batch):\n",
    "    label_list, text_list, length_list = [], [], []\n",
    "    for (_label, _text) in batch:\n",
    "        label_list.append(_label)\n",
    "        processed_text = torch.tensor(text_pipeline(_text), dtype=torch.int64) # convert to integer before appending\n",
    "        text_list.append(processed_text)\n",
    "        length_list.append(processed_text.size(0))\n",
    "    return torch.tensor(label_list, dtype=torch.int64), pad_sequence(text_list, padding_value=pad_idx, batch_first=True), torch.tensor(length_list, dtype=torch.int64)"
   ]
  },
  {
   "cell_type": "code",
   "execution_count": 30,
   "metadata": {},
   "outputs": [],
   "source": [
    "batch_size = 64\n",
    "\n",
    "train_loader = DataLoader(train, batch_size=batch_size, shuffle=True,  collate_fn=collate_batch) #num_workers to train faster\n",
    "val_loader   = DataLoader(valid, batch_size=batch_size, shuffle=False, collate_fn=collate_batch)\n",
    "test_loader  = DataLoader(test,  batch_size=batch_size, shuffle=False, collate_fn=collate_batch)"
   ]
  },
  {
   "cell_type": "code",
   "execution_count": 31,
   "metadata": {},
   "outputs": [],
   "source": [
    "for label, text, length in val_loader:\n",
    "    break"
   ]
  },
  {
   "cell_type": "code",
   "execution_count": 32,
   "metadata": {},
   "outputs": [
    {
     "data": {
      "text/plain": [
       "torch.Size([64])"
      ]
     },
     "execution_count": 32,
     "metadata": {},
     "output_type": "execute_result"
    }
   ],
   "source": [
    "label.shape #(batch_size, )"
   ]
  },
  {
   "cell_type": "code",
   "execution_count": 33,
   "metadata": {},
   "outputs": [
    {
     "data": {
      "text/plain": [
       "torch.Size([64, 56])"
      ]
     },
     "execution_count": 33,
     "metadata": {},
     "output_type": "execute_result"
    }
   ],
   "source": [
    "text.shape #(batch_size, seq len)"
   ]
  },
  {
   "cell_type": "code",
   "execution_count": 34,
   "metadata": {},
   "outputs": [
    {
     "data": {
      "text/plain": [
       "torch.Size([64])"
      ]
     },
     "execution_count": 34,
     "metadata": {},
     "output_type": "execute_result"
    }
   ],
   "source": [
    "length.shape #(batch_size, )"
   ]
  },
  {
   "cell_type": "markdown",
   "metadata": {},
   "source": [
    "## 4. Model (biLSTM)"
   ]
  },
  {
   "cell_type": "code",
   "execution_count": 35,
   "metadata": {},
   "outputs": [],
   "source": [
    "class LSTM(nn.Module):\n",
    "    def __init__(self, input_dim, emb_dim, hid_dim, num_layers, \n",
    "                 bidirectional, dropout, output_dim):\n",
    "        super(LSTM, self).__init__()\n",
    "        self.embedding = nn.Embedding(input_dim, emb_dim, padding_idx=pad_idx)\n",
    "        self.lstm      = nn.LSTM(\n",
    "                            emb_dim,\n",
    "                            hid_dim,\n",
    "                            num_layers=num_layers,\n",
    "                            bidirectional=bidirectional,\n",
    "                            dropout = dropout,\n",
    "                            batch_first = True\n",
    "                        )\n",
    "        self.fc        = nn.Linear(hid_dim * 2, output_dim) # time 2 b/c bidirectional, output_dim = 4 since there are 4 class\n",
    "    \n",
    "    def forward(self, text, text_length):\n",
    "        #text = [batch_size, seq len]\n",
    "        embedded = self.embedding(text)\n",
    "        #text = [batch_size, seq len, emb_dim]\n",
    "        \n",
    "        #pack sequence to ignore any padding\n",
    "        packed_embedded = nn.utils.rnn.pack_padded_sequence(embedded, text_length.to('cpu'), \n",
    "                                                            enforce_sorted=False, batch_first=True)\n",
    "        \n",
    "        packed_output, (hn, cn) = self.lstm(packed_embedded)\n",
    "        #output is basically all the hidden states;  hn is only last hidden state; cn is last cell state\n",
    "        \n",
    "        output, output_lengths = nn.utils.rnn.pad_packed_sequence(packed_output, batch_first=True)\n",
    "        #output = [batch_size, seq len, hidden_dim * num directions]\n",
    "        #hn     = [num_layers * num_directions, batch_size,  hid_dim]  #3 layers birectional - hn1f, hn1b, hn2f, hn2b, hn3f, hn3b\n",
    "        #cn     = [num_layers * num_directions, batch_size,  hid_dim]\n",
    "        \n",
    "        hn      = torch.cat((hn[-2, :, :], hn[-1, :, :]), dim = 1) # hn3f, hn3b\n",
    "        #hn     = [batch_size, hidden_dim * num_directions]\n",
    "        \n",
    "        return self.fc(hn)"
   ]
  },
  {
   "cell_type": "markdown",
   "metadata": {},
   "source": [
    "## 5. Train"
   ]
  },
  {
   "cell_type": "code",
   "execution_count": 36,
   "metadata": {},
   "outputs": [],
   "source": [
    "def initialize_weight(m):\n",
    "    if isinstance(m, nn.Linear):\n",
    "        nn.init.xavier_normal_(m.weight) # normal distribution\n",
    "        nn.init.zeros_(m.bias)\n",
    "    elif isinstance(m, nn.LSTM):\n",
    "        for name, param in m.named_parameters():\n",
    "            if 'bias' in name:\n",
    "                nn.init.zeros_(param)\n",
    "            elif 'weight' in name:\n",
    "                nn.init.orthogonal_(param)"
   ]
  },
  {
   "cell_type": "code",
   "execution_count": 37,
   "metadata": {},
   "outputs": [],
   "source": [
    "def accuracy(preds, y):\n",
    "    predicted  = torch.max(preds.data, 1)[1] #.data for getting value in tensor\n",
    "    batch_corr = (predicted == y).sum()\n",
    "    acc        = batch_corr / len(y)\n",
    "    return acc"
   ]
  },
  {
   "cell_type": "code",
   "execution_count": 38,
   "metadata": {},
   "outputs": [],
   "source": [
    "def train(model, loader, optimizer, criterion, loader_length):\n",
    "    epoch_loss = 0\n",
    "    epoch_acc  = 0\n",
    "    model.train()\n",
    "    \n",
    "    for i, (label, text, text_length) in enumerate(loader):\n",
    "        label = label.to(device)\n",
    "        text  = text.to(device)\n",
    "        \n",
    "        predictions = model(text, text_length).squeeze(1)\n",
    "        \n",
    "        loss = criterion(predictions, label)\n",
    "        acc  = accuracy(predictions, label)\n",
    "        \n",
    "        #backprop\n",
    "        optimizer.zero_grad()\n",
    "        loss.backward()\n",
    "        optimizer.step()\n",
    "        \n",
    "        epoch_loss += loss.item()\n",
    "        epoch_acc  += acc.item()\n",
    "        \n",
    "    return epoch_loss / loader_length, epoch_acc / loader_length"
   ]
  },
  {
   "cell_type": "code",
   "execution_count": 39,
   "metadata": {},
   "outputs": [],
   "source": [
    "def evaluate(model, loader, criterion, loader_length):\n",
    "    epoch_loss = 0\n",
    "    epoch_acc  = 0\n",
    "    model.eval()\n",
    "    \n",
    "    with torch.no_grad():\n",
    "        for i, (label, text, text_length) in enumerate(loader):\n",
    "            label = label.to(device)\n",
    "            text  = text.to(device)\n",
    "            \n",
    "            predictions = model(text, text_length).squeeze(1)\n",
    "            \n",
    "            loss = criterion(predictions, label)\n",
    "            acc  = accuracy(predictions, label)\n",
    "            \n",
    "            epoch_loss += loss.item()\n",
    "            epoch_acc  += acc.item()\n",
    "        \n",
    "    return epoch_loss / loader_length, epoch_acc / loader_length"
   ]
  },
  {
   "cell_type": "markdown",
   "metadata": {},
   "source": [
    "### Actual training"
   ]
  },
  {
   "cell_type": "code",
   "execution_count": 40,
   "metadata": {},
   "outputs": [],
   "source": [
    "train_loader_length = len(list(iter(train_loader)))\n",
    "val_loader_length   = len(list(iter(val_loader)))\n",
    "test_loader_length  = len(list(iter(test_loader)))"
   ]
  },
  {
   "cell_type": "code",
   "execution_count": 41,
   "metadata": {},
   "outputs": [],
   "source": [
    "def epoch_time(start_time, end_time):\n",
    "    elapsed_time = end_time - start_time\n",
    "    elapsed_mins = int(elapsed_time / 60)\n",
    "    elapsed_secs = int(elapsed_time - (elapsed_mins * 60))\n",
    "    return elapsed_mins, elapsed_secs"
   ]
  },
  {
   "cell_type": "code",
   "execution_count": 42,
   "metadata": {},
   "outputs": [
    {
     "name": "stderr",
     "output_type": "stream",
     "text": [
      "/usr/local/lib/python3.10/site-packages/pydantic/_internal/_fields.py:160: UserWarning: Field \"model_server_url\" has conflict with protected namespace \"model_\".\n",
      "\n",
      "You may be able to resolve this warning by setting `model_config['protected_namespaces'] = ()`.\n",
      "  warnings.warn(\n",
      "/usr/local/lib/python3.10/site-packages/pydantic/_internal/_config.py:334: UserWarning: Valid config keys have changed in V2:\n",
      "* 'schema_extra' has been renamed to 'json_schema_extra'\n",
      "  warnings.warn(message, UserWarning)\n"
     ]
    },
    {
     "data": {
      "text/plain": [
       "<Experiment: artifact_location='mlflow-artifacts:/257747275394487947', creation_time=1713623894944, experiment_id='257747275394487947', last_update_time=1713623894944, lifecycle_stage='active', name='biLSTM100', tags={}>"
      ]
     },
     "execution_count": 42,
     "metadata": {},
     "output_type": "execute_result"
    }
   ],
   "source": [
    "#experiment tracking\n",
    "import mlflow\n",
    "from mlflow.models import infer_signature\n",
    "import os\n",
    "\n",
    "# This the dockerized method.\n",
    "# We build two docker containers, one for python/jupyter and another for mlflow.\n",
    "# The url `mlflow` is resolved into another container within the same composer.\n",
    "mlflow.set_tracking_uri(\"http://mlflow:5000\")\n",
    "# In the dockerized way, the user who runs this code will be `root`.\n",
    "# The MLflow will also log the run user_id as `root`.\n",
    "# To change that, we need to set this environ[\"LOGNAME\"] to your name.\n",
    "os.environ[\"LOGNAME\"] = \"noppawee\"\n",
    "#mlflow.create_experiment(name=\"noppawee-ML-project\")  #create if you haven't create\n",
    "mlflow.set_experiment(experiment_name=\"biLSTM100\")\n"
   ]
  },
  {
   "cell_type": "code",
   "execution_count": 43,
   "metadata": {},
   "outputs": [
    {
     "name": "stdout",
     "output_type": "stream",
     "text": [
      "===== biLSTM with 5-epochs-128-hidden dim-2-num layers =====\n",
      "Epoch: 1 | Time: 0m 13s\n",
      "\tTrain Loss: 2.623 | Train Acc: 14.74%\n",
      "\tVal.  Loss: 2.424 | Val Acc: 22.33%\n"
     ]
    },
    {
     "name": "stderr",
     "output_type": "stream",
     "text": [
      "/usr/local/lib/python3.10/site-packages/_distutils_hack/__init__.py:18: UserWarning: Distutils was imported before Setuptools, but importing Setuptools also replaces the `distutils` module in `sys.modules`. This may lead to undesirable behaviors or errors. To avoid these issues, avoid using distutils directly, ensure that setuptools is installed in the traditional way (e.g. not an editable install), and/or make sure that setuptools is always imported before distutils.\n",
      "  warnings.warn(\n",
      "/usr/local/lib/python3.10/site-packages/_distutils_hack/__init__.py:33: UserWarning: Setuptools is replacing distutils.\n",
      "  warnings.warn(\"Setuptools is replacing distutils.\")\n"
     ]
    },
    {
     "name": "stdout",
     "output_type": "stream",
     "text": [
      "Epoch: 2 | Time: 0m 10s\n",
      "\tTrain Loss: 2.182 | Train Acc: 30.10%\n",
      "\tVal.  Loss: 2.200 | Val Acc: 32.39%\n",
      "Epoch: 3 | Time: 0m 10s\n",
      "\tTrain Loss: 1.748 | Train Acc: 44.79%\n",
      "\tVal.  Loss: 2.191 | Val Acc: 33.73%\n",
      "Epoch: 4 | Time: 0m 10s\n",
      "\tTrain Loss: 1.351 | Train Acc: 57.49%\n",
      "\tVal.  Loss: 2.276 | Val Acc: 35.57%\n",
      "Epoch: 5 | Time: 0m 11s\n",
      "\tTrain Loss: 1.004 | Train Acc: 69.66%\n",
      "\tVal.  Loss: 2.413 | Val Acc: 36.40%\n",
      "===== biLSTM with 5-epochs-128-hidden dim-4-num layers =====\n",
      "Epoch: 1 | Time: 0m 21s\n",
      "\tTrain Loss: 2.341 | Train Acc: 20.58%\n",
      "\tVal.  Loss: 2.543 | Val Acc: 21.83%\n",
      "Epoch: 2 | Time: 0m 21s\n",
      "\tTrain Loss: 1.455 | Train Acc: 52.93%\n",
      "\tVal.  Loss: 2.550 | Val Acc: 30.15%\n",
      "Epoch: 3 | Time: 0m 21s\n",
      "\tTrain Loss: 1.025 | Train Acc: 68.21%\n",
      "\tVal.  Loss: 2.657 | Val Acc: 33.89%\n",
      "Epoch: 4 | Time: 0m 21s\n",
      "\tTrain Loss: 0.795 | Train Acc: 76.41%\n",
      "\tVal.  Loss: 2.801 | Val Acc: 33.73%\n",
      "Epoch: 5 | Time: 0m 20s\n",
      "\tTrain Loss: 0.639 | Train Acc: 81.27%\n",
      "\tVal.  Loss: 2.933 | Val Acc: 32.38%\n",
      "===== biLSTM with 5-epochs-128-hidden dim-6-num layers =====\n",
      "Epoch: 1 | Time: 0m 29s\n",
      "\tTrain Loss: 2.439 | Train Acc: 14.74%\n",
      "\tVal.  Loss: 2.710 | Val Acc: 15.41%\n",
      "Epoch: 2 | Time: 0m 29s\n",
      "\tTrain Loss: 1.819 | Train Acc: 34.91%\n",
      "\tVal.  Loss: 2.844 | Val Acc: 22.28%\n",
      "Epoch: 3 | Time: 0m 30s\n",
      "\tTrain Loss: 1.434 | Train Acc: 51.35%\n",
      "\tVal.  Loss: 2.753 | Val Acc: 22.45%\n",
      "Epoch: 4 | Time: 0m 31s\n",
      "\tTrain Loss: 1.099 | Train Acc: 64.81%\n",
      "\tVal.  Loss: 2.920 | Val Acc: 27.37%\n",
      "Epoch: 5 | Time: 0m 31s\n",
      "\tTrain Loss: 0.853 | Train Acc: 74.51%\n",
      "\tVal.  Loss: 3.046 | Val Acc: 28.87%\n",
      "===== biLSTM with 5-epochs-256-hidden dim-2-num layers =====\n",
      "Epoch: 1 | Time: 0m 20s\n",
      "\tTrain Loss: 1.538 | Train Acc: 52.19%\n",
      "\tVal.  Loss: 2.835 | Val Acc: 31.45%\n",
      "Epoch: 2 | Time: 0m 18s\n",
      "\tTrain Loss: 0.649 | Train Acc: 80.87%\n",
      "\tVal.  Loss: 2.896 | Val Acc: 33.01%\n",
      "Epoch: 3 | Time: 0m 18s\n",
      "\tTrain Loss: 0.513 | Train Acc: 84.84%\n",
      "\tVal.  Loss: 2.900 | Val Acc: 34.06%\n",
      "Epoch: 4 | Time: 0m 18s\n",
      "\tTrain Loss: 0.435 | Train Acc: 87.15%\n",
      "\tVal.  Loss: 3.322 | Val Acc: 34.11%\n",
      "Epoch: 5 | Time: 0m 18s\n",
      "\tTrain Loss: 0.356 | Train Acc: 89.28%\n",
      "\tVal.  Loss: 3.298 | Val Acc: 33.51%\n",
      "===== biLSTM with 5-epochs-256-hidden dim-4-num layers =====\n",
      "Epoch: 1 | Time: 0m 37s\n",
      "\tTrain Loss: 1.709 | Train Acc: 42.46%\n",
      "\tVal.  Loss: 2.978 | Val Acc: 29.04%\n",
      "Epoch: 2 | Time: 0m 40s\n",
      "\tTrain Loss: 0.684 | Train Acc: 79.94%\n",
      "\tVal.  Loss: 3.027 | Val Acc: 30.94%\n",
      "Epoch: 3 | Time: 0m 38s\n",
      "\tTrain Loss: 0.498 | Train Acc: 85.17%\n",
      "\tVal.  Loss: 3.173 | Val Acc: 33.01%\n",
      "Epoch: 4 | Time: 0m 36s\n",
      "\tTrain Loss: 0.414 | Train Acc: 88.18%\n",
      "\tVal.  Loss: 3.520 | Val Acc: 33.30%\n",
      "Epoch: 5 | Time: 0m 36s\n",
      "\tTrain Loss: 0.357 | Train Acc: 89.57%\n",
      "\tVal.  Loss: 3.587 | Val Acc: 33.07%\n",
      "===== biLSTM with 5-epochs-256-hidden dim-6-num layers =====\n",
      "Epoch: 1 | Time: 0m 55s\n",
      "\tTrain Loss: 1.874 | Train Acc: 33.72%\n",
      "\tVal.  Loss: 3.348 | Val Acc: 23.29%\n",
      "Epoch: 2 | Time: 0m 53s\n",
      "\tTrain Loss: 1.035 | Train Acc: 65.22%\n",
      "\tVal.  Loss: 3.280 | Val Acc: 27.42%\n",
      "Epoch: 3 | Time: 0m 54s\n",
      "\tTrain Loss: 0.674 | Train Acc: 79.92%\n",
      "\tVal.  Loss: 3.262 | Val Acc: 29.71%\n",
      "Epoch: 4 | Time: 0m 55s\n",
      "\tTrain Loss: 0.519 | Train Acc: 84.87%\n",
      "\tVal.  Loss: 3.438 | Val Acc: 30.94%\n",
      "Epoch: 5 | Time: 0m 55s\n",
      "\tTrain Loss: 0.445 | Train Acc: 86.98%\n",
      "\tVal.  Loss: 3.411 | Val Acc: 32.01%\n",
      "===== biLSTM with 5-epochs-512-hidden dim-2-num layers =====\n",
      "Epoch: 1 | Time: 0m 48s\n",
      "\tTrain Loss: 1.048 | Train Acc: 68.52%\n",
      "\tVal.  Loss: 3.328 | Val Acc: 31.21%\n",
      "Epoch: 2 | Time: 0m 50s\n",
      "\tTrain Loss: 0.414 | Train Acc: 88.28%\n",
      "\tVal.  Loss: 3.444 | Val Acc: 32.90%\n",
      "Epoch: 3 | Time: 0m 47s\n",
      "\tTrain Loss: 0.348 | Train Acc: 89.53%\n",
      "\tVal.  Loss: 3.892 | Val Acc: 31.96%\n",
      "Epoch: 4 | Time: 0m 46s\n",
      "\tTrain Loss: 0.295 | Train Acc: 91.04%\n",
      "\tVal.  Loss: 3.970 | Val Acc: 32.51%\n",
      "Epoch: 5 | Time: 0m 46s\n",
      "\tTrain Loss: 0.253 | Train Acc: 92.35%\n",
      "\tVal.  Loss: 4.002 | Val Acc: 30.83%\n",
      "===== biLSTM with 5-epochs-512-hidden dim-4-num layers =====\n",
      "Epoch: 1 | Time: 1m 40s\n",
      "\tTrain Loss: 1.314 | Train Acc: 56.92%\n",
      "\tVal.  Loss: 3.644 | Val Acc: 28.08%\n",
      "Epoch: 2 | Time: 1m 37s\n",
      "\tTrain Loss: 0.517 | Train Acc: 84.36%\n",
      "\tVal.  Loss: 3.629 | Val Acc: 32.28%\n",
      "Epoch: 3 | Time: 1m 36s\n",
      "\tTrain Loss: 0.422 | Train Acc: 87.50%\n",
      "\tVal.  Loss: 3.626 | Val Acc: 32.84%\n",
      "Epoch: 4 | Time: 1m 40s\n",
      "\tTrain Loss: 0.335 | Train Acc: 90.32%\n",
      "\tVal.  Loss: 3.872 | Val Acc: 32.95%\n",
      "Epoch: 5 | Time: 1m 38s\n",
      "\tTrain Loss: 0.308 | Train Acc: 90.79%\n",
      "\tVal.  Loss: 3.869 | Val Acc: 32.79%\n",
      "===== biLSTM with 5-epochs-512-hidden dim-6-num layers =====\n",
      "Epoch: 1 | Time: 2m 33s\n",
      "\tTrain Loss: 2.044 | Train Acc: 28.49%\n",
      "\tVal.  Loss: 3.029 | Val Acc: 23.47%\n",
      "Epoch: 2 | Time: 2m 34s\n",
      "\tTrain Loss: 0.970 | Train Acc: 68.56%\n",
      "\tVal.  Loss: 3.274 | Val Acc: 27.48%\n",
      "Epoch: 3 | Time: 2m 28s\n",
      "\tTrain Loss: 0.515 | Train Acc: 84.43%\n",
      "\tVal.  Loss: 3.839 | Val Acc: 31.89%\n",
      "Epoch: 4 | Time: 2m 25s\n",
      "\tTrain Loss: 0.426 | Train Acc: 87.39%\n",
      "\tVal.  Loss: 3.788 | Val Acc: 31.89%\n",
      "Epoch: 5 | Time: 2m 26s\n",
      "\tTrain Loss: 0.363 | Train Acc: 89.25%\n",
      "\tVal.  Loss: 3.662 | Val Acc: 34.14%\n",
      "===== biLSTM with 10-epochs-128-hidden dim-2-num layers =====\n",
      "Epoch: 1 | Time: 0m 10s\n",
      "\tTrain Loss: 1.298 | Train Acc: 61.72%\n",
      "\tVal.  Loss: 3.255 | Val Acc: 30.89%\n",
      "Epoch: 2 | Time: 0m 10s\n",
      "\tTrain Loss: 0.347 | Train Acc: 89.88%\n",
      "\tVal.  Loss: 3.726 | Val Acc: 30.90%\n",
      "Epoch: 3 | Time: 0m 10s\n",
      "\tTrain Loss: 0.256 | Train Acc: 92.64%\n",
      "\tVal.  Loss: 3.983 | Val Acc: 31.11%\n",
      "Epoch: 4 | Time: 0m 10s\n",
      "\tTrain Loss: 0.221 | Train Acc: 93.66%\n",
      "\tVal.  Loss: 4.052 | Val Acc: 30.67%\n",
      "Epoch: 5 | Time: 0m 9s\n",
      "\tTrain Loss: 0.188 | Train Acc: 94.36%\n",
      "\tVal.  Loss: 4.173 | Val Acc: 32.29%\n",
      "Epoch: 6 | Time: 0m 10s\n",
      "\tTrain Loss: 0.188 | Train Acc: 94.61%\n",
      "\tVal.  Loss: 4.242 | Val Acc: 30.56%\n",
      "Epoch: 7 | Time: 0m 10s\n",
      "\tTrain Loss: 0.171 | Train Acc: 94.84%\n",
      "\tVal.  Loss: 4.432 | Val Acc: 32.96%\n",
      "Epoch: 8 | Time: 0m 10s\n",
      "\tTrain Loss: 0.152 | Train Acc: 95.53%\n",
      "\tVal.  Loss: 4.681 | Val Acc: 31.18%\n",
      "Epoch: 9 | Time: 0m 10s\n",
      "\tTrain Loss: 0.143 | Train Acc: 95.71%\n",
      "\tVal.  Loss: 4.699 | Val Acc: 30.78%\n",
      "Epoch: 10 | Time: 0m 10s\n",
      "\tTrain Loss: 0.120 | Train Acc: 96.11%\n",
      "\tVal.  Loss: 4.847 | Val Acc: 32.97%\n",
      "===== biLSTM with 10-epochs-128-hidden dim-4-num layers =====\n",
      "Epoch: 1 | Time: 0m 19s\n",
      "\tTrain Loss: 1.483 | Train Acc: 52.18%\n",
      "\tVal.  Loss: 3.360 | Val Acc: 27.88%\n",
      "Epoch: 2 | Time: 0m 19s\n",
      "\tTrain Loss: 0.467 | Train Acc: 86.18%\n",
      "\tVal.  Loss: 3.870 | Val Acc: 27.31%\n",
      "Epoch: 3 | Time: 0m 19s\n",
      "\tTrain Loss: 0.336 | Train Acc: 90.03%\n",
      "\tVal.  Loss: 3.768 | Val Acc: 31.16%\n",
      "Epoch: 4 | Time: 0m 19s\n",
      "\tTrain Loss: 0.267 | Train Acc: 92.17%\n",
      "\tVal.  Loss: 4.221 | Val Acc: 29.89%\n",
      "Epoch: 5 | Time: 0m 19s\n",
      "\tTrain Loss: 0.218 | Train Acc: 93.25%\n",
      "\tVal.  Loss: 4.364 | Val Acc: 30.22%\n",
      "Epoch: 6 | Time: 0m 18s\n",
      "\tTrain Loss: 0.198 | Train Acc: 94.17%\n",
      "\tVal.  Loss: 4.375 | Val Acc: 32.29%\n",
      "Epoch: 7 | Time: 0m 18s\n",
      "\tTrain Loss: 0.219 | Train Acc: 93.47%\n",
      "\tVal.  Loss: 4.381 | Val Acc: 32.07%\n",
      "Epoch: 8 | Time: 0m 19s\n",
      "\tTrain Loss: 0.169 | Train Acc: 95.27%\n",
      "\tVal.  Loss: 4.703 | Val Acc: 31.18%\n",
      "Epoch: 9 | Time: 0m 18s\n",
      "\tTrain Loss: 0.186 | Train Acc: 94.38%\n",
      "\tVal.  Loss: 4.675 | Val Acc: 29.61%\n",
      "Epoch: 10 | Time: 0m 19s\n",
      "\tTrain Loss: 0.165 | Train Acc: 95.20%\n",
      "\tVal.  Loss: 4.762 | Val Acc: 30.06%\n",
      "===== biLSTM with 10-epochs-128-hidden dim-6-num layers =====\n",
      "Epoch: 1 | Time: 0m 27s\n",
      "\tTrain Loss: 1.913 | Train Acc: 31.50%\n",
      "\tVal.  Loss: 3.165 | Val Acc: 18.20%\n",
      "Epoch: 2 | Time: 0m 27s\n",
      "\tTrain Loss: 1.139 | Train Acc: 60.05%\n",
      "\tVal.  Loss: 3.560 | Val Acc: 23.07%\n",
      "Epoch: 3 | Time: 0m 27s\n",
      "\tTrain Loss: 0.686 | Train Acc: 78.79%\n",
      "\tVal.  Loss: 3.748 | Val Acc: 26.92%\n",
      "Epoch: 4 | Time: 0m 29s\n",
      "\tTrain Loss: 0.465 | Train Acc: 86.42%\n",
      "\tVal.  Loss: 4.077 | Val Acc: 26.59%\n",
      "Epoch: 5 | Time: 0m 28s\n",
      "\tTrain Loss: 0.367 | Train Acc: 89.30%\n",
      "\tVal.  Loss: 4.004 | Val Acc: 30.28%\n",
      "Epoch: 6 | Time: 0m 28s\n",
      "\tTrain Loss: 0.326 | Train Acc: 90.38%\n",
      "\tVal.  Loss: 4.364 | Val Acc: 29.49%\n",
      "Epoch: 7 | Time: 0m 28s\n",
      "\tTrain Loss: 0.274 | Train Acc: 92.22%\n",
      "\tVal.  Loss: 4.324 | Val Acc: 32.12%\n",
      "Epoch: 8 | Time: 0m 27s\n",
      "\tTrain Loss: 0.234 | Train Acc: 93.26%\n",
      "\tVal.  Loss: 4.352 | Val Acc: 31.51%\n",
      "Epoch: 9 | Time: 0m 27s\n",
      "\tTrain Loss: 0.217 | Train Acc: 93.78%\n",
      "\tVal.  Loss: 4.571 | Val Acc: 30.49%\n",
      "Epoch: 10 | Time: 0m 27s\n",
      "\tTrain Loss: 0.237 | Train Acc: 93.43%\n",
      "\tVal.  Loss: 4.474 | Val Acc: 31.80%\n",
      "===== biLSTM with 10-epochs-256-hidden dim-2-num layers =====\n",
      "Epoch: 1 | Time: 0m 17s\n",
      "\tTrain Loss: 0.941 | Train Acc: 72.00%\n",
      "\tVal.  Loss: 4.140 | Val Acc: 28.99%\n",
      "Epoch: 2 | Time: 0m 16s\n",
      "\tTrain Loss: 0.244 | Train Acc: 92.67%\n",
      "\tVal.  Loss: 4.291 | Val Acc: 30.84%\n",
      "Epoch: 3 | Time: 0m 17s\n",
      "\tTrain Loss: 0.198 | Train Acc: 94.11%\n",
      "\tVal.  Loss: 4.387 | Val Acc: 31.85%\n",
      "Epoch: 4 | Time: 0m 17s\n",
      "\tTrain Loss: 0.166 | Train Acc: 95.01%\n",
      "\tVal.  Loss: 4.730 | Val Acc: 30.89%\n",
      "Epoch: 5 | Time: 0m 16s\n",
      "\tTrain Loss: 0.152 | Train Acc: 95.33%\n",
      "\tVal.  Loss: 4.836 | Val Acc: 30.89%\n",
      "Epoch: 6 | Time: 0m 17s\n",
      "\tTrain Loss: 0.135 | Train Acc: 95.92%\n",
      "\tVal.  Loss: 5.209 | Val Acc: 30.28%\n",
      "Epoch: 7 | Time: 0m 16s\n",
      "\tTrain Loss: 0.117 | Train Acc: 96.19%\n",
      "\tVal.  Loss: 5.250 | Val Acc: 31.29%\n",
      "Epoch: 8 | Time: 0m 17s\n",
      "\tTrain Loss: 0.114 | Train Acc: 96.47%\n",
      "\tVal.  Loss: 5.330 | Val Acc: 32.91%\n",
      "Epoch: 9 | Time: 0m 17s\n",
      "\tTrain Loss: 0.137 | Train Acc: 95.88%\n",
      "\tVal.  Loss: 5.120 | Val Acc: 31.85%\n",
      "Epoch: 10 | Time: 0m 17s\n",
      "\tTrain Loss: 0.121 | Train Acc: 96.49%\n",
      "\tVal.  Loss: 5.086 | Val Acc: 31.57%\n",
      "===== biLSTM with 10-epochs-256-hidden dim-4-num layers =====\n",
      "Epoch: 1 | Time: 0m 33s\n",
      "\tTrain Loss: 1.167 | Train Acc: 60.96%\n",
      "\tVal.  Loss: 3.917 | Val Acc: 29.72%\n",
      "Epoch: 2 | Time: 0m 33s\n",
      "\tTrain Loss: 0.334 | Train Acc: 90.11%\n",
      "\tVal.  Loss: 4.035 | Val Acc: 30.33%\n",
      "Epoch: 3 | Time: 0m 34s\n",
      "\tTrain Loss: 0.232 | Train Acc: 93.16%\n",
      "\tVal.  Loss: 4.443 | Val Acc: 30.84%\n",
      "Epoch: 4 | Time: 0m 33s\n",
      "\tTrain Loss: 0.202 | Train Acc: 94.06%\n",
      "\tVal.  Loss: 4.443 | Val Acc: 30.46%\n",
      "Epoch: 5 | Time: 0m 33s\n",
      "\tTrain Loss: 0.183 | Train Acc: 94.55%\n",
      "\tVal.  Loss: 4.723 | Val Acc: 29.95%\n",
      "Epoch: 6 | Time: 0m 33s\n",
      "\tTrain Loss: 0.194 | Train Acc: 94.28%\n",
      "\tVal.  Loss: 4.743 | Val Acc: 29.82%\n",
      "Epoch: 7 | Time: 0m 37s\n",
      "\tTrain Loss: 0.166 | Train Acc: 94.96%\n",
      "\tVal.  Loss: 4.839 | Val Acc: 30.67%\n",
      "Epoch: 8 | Time: 0m 36s\n",
      "\tTrain Loss: 0.147 | Train Acc: 95.38%\n",
      "\tVal.  Loss: 5.099 | Val Acc: 30.44%\n",
      "Epoch: 9 | Time: 0m 37s\n",
      "\tTrain Loss: 0.132 | Train Acc: 95.59%\n",
      "\tVal.  Loss: 5.032 | Val Acc: 31.46%\n",
      "Epoch: 10 | Time: 0m 33s\n",
      "\tTrain Loss: 0.140 | Train Acc: 95.88%\n",
      "\tVal.  Loss: 4.991 | Val Acc: 31.24%\n",
      "===== biLSTM with 10-epochs-256-hidden dim-6-num layers =====\n",
      "Epoch: 1 | Time: 0m 50s\n",
      "\tTrain Loss: 1.385 | Train Acc: 53.13%\n",
      "\tVal.  Loss: 3.696 | Val Acc: 22.73%\n",
      "Epoch: 2 | Time: 0m 49s\n",
      "\tTrain Loss: 0.592 | Train Acc: 81.45%\n",
      "\tVal.  Loss: 3.900 | Val Acc: 27.37%\n",
      "Epoch: 3 | Time: 0m 51s\n",
      "\tTrain Loss: 0.378 | Train Acc: 88.77%\n",
      "\tVal.  Loss: 4.155 | Val Acc: 27.70%\n",
      "Epoch: 4 | Time: 0m 51s\n",
      "\tTrain Loss: 0.315 | Train Acc: 90.61%\n",
      "\tVal.  Loss: 4.418 | Val Acc: 29.55%\n",
      "Epoch: 5 | Time: 0m 50s\n",
      "\tTrain Loss: 0.280 | Train Acc: 91.70%\n",
      "\tVal.  Loss: 4.309 | Val Acc: 30.23%\n",
      "Epoch: 6 | Time: 0m 50s\n",
      "\tTrain Loss: 0.225 | Train Acc: 93.37%\n",
      "\tVal.  Loss: 4.481 | Val Acc: 31.68%\n",
      "Epoch: 7 | Time: 0m 50s\n",
      "\tTrain Loss: 0.183 | Train Acc: 94.98%\n",
      "\tVal.  Loss: 4.514 | Val Acc: 30.84%\n",
      "Epoch: 8 | Time: 0m 50s\n",
      "\tTrain Loss: 0.164 | Train Acc: 95.08%\n",
      "\tVal.  Loss: 4.749 | Val Acc: 31.57%\n",
      "Epoch: 9 | Time: 0m 51s\n",
      "\tTrain Loss: 0.175 | Train Acc: 94.76%\n",
      "\tVal.  Loss: 4.806 | Val Acc: 30.39%\n",
      "Epoch: 10 | Time: 0m 50s\n",
      "\tTrain Loss: 0.167 | Train Acc: 95.15%\n",
      "\tVal.  Loss: 5.051 | Val Acc: 30.00%\n",
      "===== biLSTM with 10-epochs-512-hidden dim-2-num layers =====\n",
      "Epoch: 1 | Time: 0m 48s\n",
      "\tTrain Loss: 0.699 | Train Acc: 78.97%\n",
      "\tVal.  Loss: 4.876 | Val Acc: 29.65%\n",
      "Epoch: 2 | Time: 0m 44s\n",
      "\tTrain Loss: 0.220 | Train Acc: 93.61%\n",
      "\tVal.  Loss: 4.771 | Val Acc: 29.55%\n",
      "Epoch: 3 | Time: 0m 44s\n",
      "\tTrain Loss: 0.183 | Train Acc: 94.50%\n",
      "\tVal.  Loss: 4.972 | Val Acc: 31.73%\n",
      "Epoch: 4 | Time: 0m 45s\n",
      "\tTrain Loss: 0.151 | Train Acc: 95.33%\n",
      "\tVal.  Loss: 5.209 | Val Acc: 30.89%\n",
      "Epoch: 5 | Time: 0m 45s\n",
      "\tTrain Loss: 0.128 | Train Acc: 96.40%\n",
      "\tVal.  Loss: 5.069 | Val Acc: 31.51%\n",
      "Epoch: 6 | Time: 0m 49s\n",
      "\tTrain Loss: 0.133 | Train Acc: 95.88%\n",
      "\tVal.  Loss: 5.661 | Val Acc: 30.00%\n",
      "Epoch: 7 | Time: 0m 44s\n",
      "\tTrain Loss: 0.127 | Train Acc: 96.01%\n",
      "\tVal.  Loss: 5.551 | Val Acc: 31.24%\n",
      "Epoch: 8 | Time: 0m 46s\n",
      "\tTrain Loss: 0.121 | Train Acc: 96.37%\n",
      "\tVal.  Loss: 5.128 | Val Acc: 32.63%\n",
      "Epoch: 9 | Time: 0m 45s\n",
      "\tTrain Loss: 0.099 | Train Acc: 96.98%\n",
      "\tVal.  Loss: 5.474 | Val Acc: 33.02%\n",
      "Epoch: 10 | Time: 0m 44s\n",
      "\tTrain Loss: 0.079 | Train Acc: 97.50%\n",
      "\tVal.  Loss: 5.582 | Val Acc: 32.80%\n",
      "===== biLSTM with 10-epochs-512-hidden dim-4-num layers =====\n",
      "Epoch: 1 | Time: 1m 35s\n",
      "\tTrain Loss: 0.816 | Train Acc: 74.46%\n",
      "\tVal.  Loss: 4.340 | Val Acc: 29.09%\n",
      "Epoch: 2 | Time: 1m 33s\n",
      "\tTrain Loss: 0.314 | Train Acc: 90.52%\n",
      "\tVal.  Loss: 4.640 | Val Acc: 30.89%\n",
      "Epoch: 3 | Time: 1m 32s\n",
      "\tTrain Loss: 0.234 | Train Acc: 92.89%\n",
      "\tVal.  Loss: 4.668 | Val Acc: 31.51%\n",
      "Epoch: 4 | Time: 1m 36s\n",
      "\tTrain Loss: 0.205 | Train Acc: 93.83%\n",
      "\tVal.  Loss: 4.636 | Val Acc: 31.80%\n",
      "Epoch: 5 | Time: 1m 34s\n",
      "\tTrain Loss: 0.176 | Train Acc: 94.76%\n",
      "\tVal.  Loss: 4.985 | Val Acc: 31.57%\n",
      "Epoch: 6 | Time: 1m 37s\n",
      "\tTrain Loss: 0.179 | Train Acc: 94.48%\n",
      "\tVal.  Loss: 4.803 | Val Acc: 31.24%\n",
      "Epoch: 7 | Time: 1m 38s\n",
      "\tTrain Loss: 0.159 | Train Acc: 95.18%\n",
      "\tVal.  Loss: 4.900 | Val Acc: 31.01%\n",
      "Epoch: 8 | Time: 1m 38s\n",
      "\tTrain Loss: 0.154 | Train Acc: 95.53%\n",
      "\tVal.  Loss: 5.150 | Val Acc: 31.85%\n",
      "Epoch: 9 | Time: 1m 36s\n",
      "\tTrain Loss: 0.142 | Train Acc: 95.91%\n",
      "\tVal.  Loss: 5.072 | Val Acc: 31.89%\n",
      "Epoch: 10 | Time: 1m 37s\n",
      "\tTrain Loss: 0.125 | Train Acc: 96.11%\n",
      "\tVal.  Loss: 4.998 | Val Acc: 30.73%\n",
      "===== biLSTM with 10-epochs-512-hidden dim-6-num layers =====\n",
      "Epoch: 1 | Time: 2m 29s\n",
      "\tTrain Loss: 1.433 | Train Acc: 50.15%\n",
      "\tVal.  Loss: 3.966 | Val Acc: 22.51%\n",
      "Epoch: 2 | Time: 2m 33s\n",
      "\tTrain Loss: 0.580 | Train Acc: 82.05%\n",
      "\tVal.  Loss: 3.972 | Val Acc: 29.06%\n",
      "Epoch: 3 | Time: 2m 29s\n",
      "\tTrain Loss: 0.375 | Train Acc: 88.85%\n",
      "\tVal.  Loss: 4.006 | Val Acc: 29.82%\n",
      "Epoch: 4 | Time: 2m 29s\n",
      "\tTrain Loss: 0.266 | Train Acc: 92.28%\n",
      "\tVal.  Loss: 4.153 | Val Acc: 32.69%\n",
      "Epoch: 5 | Time: 2m 29s\n",
      "\tTrain Loss: 0.235 | Train Acc: 93.21%\n",
      "\tVal.  Loss: 4.560 | Val Acc: 31.35%\n",
      "Epoch: 6 | Time: 2m 29s\n",
      "\tTrain Loss: 0.178 | Train Acc: 94.89%\n",
      "\tVal.  Loss: 4.489 | Val Acc: 30.78%\n",
      "Epoch: 7 | Time: 2m 32s\n",
      "\tTrain Loss: 0.187 | Train Acc: 94.69%\n",
      "\tVal.  Loss: 4.726 | Val Acc: 31.29%\n",
      "Epoch: 8 | Time: 2m 32s\n",
      "\tTrain Loss: 0.185 | Train Acc: 94.67%\n",
      "\tVal.  Loss: 4.628 | Val Acc: 31.16%\n",
      "Epoch: 9 | Time: 2m 29s\n",
      "\tTrain Loss: 0.161 | Train Acc: 95.26%\n",
      "\tVal.  Loss: 4.740 | Val Acc: 32.63%\n",
      "Epoch: 10 | Time: 2m 29s\n",
      "\tTrain Loss: 0.163 | Train Acc: 95.44%\n",
      "\tVal.  Loss: 4.435 | Val Acc: 32.56%\n"
     ]
    },
    {
     "ename": "",
     "evalue": "",
     "output_type": "error",
     "traceback": [
      "\u001b[1;31mThe Kernel crashed while executing code in the current cell or a previous cell. \n",
      "\u001b[1;31mPlease review the code in the cell(s) to identify a possible cause of the failure. \n",
      "\u001b[1;31mClick <a href='https://aka.ms/vscodeJupyterKernelCrash'>here</a> for more info. \n",
      "\u001b[1;31mView Jupyter <a href='command:jupyter.viewOutput'>log</a> for further details."
     ]
    }
   ],
   "source": [
    "import time\n",
    "import torch.optim as optim\n",
    "\n",
    "num_epochs = [5,10]\n",
    "hid_dims = [128,256,512]\n",
    "num_layers = [2,4,6]\n",
    "\n",
    "for num_epoch in num_epochs:\n",
    "    for hid_dim in hid_dims:\n",
    "        for num_layer in num_layers:\n",
    "            input_dim = len(vocab)\n",
    "            emb_dim   = 300 #fasttext\n",
    "            output_dim = 17 #17 types of product question\n",
    "            bidirectional = True\n",
    "            dropout    = 0.5  # dropout between layers\n",
    "\n",
    "            params={\"model\":\"biLSTM\", \"num_epochs\":num_epoch, \"input_dim\":input_dim, \"hid_dim\":hid_dim, \"emb_dim\":emb_dim, \"output_dim\":output_dim, \"num_layers\":num_layer, \"dropout\":0.5}\n",
    "            mlflow.start_run(run_name=f\"biLSTM500-{params['num_epochs']}-epochs-{params['hid_dim']}-hidden dim-{params['num_layers']}-num layers\")\n",
    "            mlflow.log_params(params)\n",
    "\n",
    "            print(\"=\"*5, f\"biLSTM with {params['num_epochs']}-epochs-{params['hid_dim']}-hidden dim-{params['num_layers']}-num layers\",\"=\"*5)\n",
    "\n",
    "            model = LSTM(input_dim, emb_dim, hid_dim, num_layer, bidirectional, dropout, output_dim)\n",
    "            model.apply(initialize_weight)\n",
    "            model.embedding.weight.data = fast_embedding\n",
    "\n",
    "            lr = 1e-3\n",
    "            optimizer = optim.Adam(model.parameters(), lr=lr)\n",
    "            criterion = nn.CrossEntropyLoss()\n",
    "\n",
    "            train_losses, train_accs, val_losses, val_accs = [],[],[],[]\n",
    "            best_valid_loss = float('inf')\n",
    "\n",
    "            for epoch in range(num_epoch):\n",
    "                start_time = time.time()\n",
    "                \n",
    "                train_loss, train_acc = train(model, train_loader, optimizer, criterion, train_loader_length)\n",
    "                valid_loss, valid_acc = evaluate(model, val_loader, criterion, val_loader_length)\n",
    "                \n",
    "                #for plotting\n",
    "                train_losses.append(train_loss)\n",
    "                train_accs.append(train_acc)\n",
    "                val_losses.append(valid_loss)\n",
    "                val_accs.append(valid_acc)\n",
    "                \n",
    "                end_time = time.time()\n",
    "                \n",
    "                epoch_mins, epoch_secs = epoch_time(start_time, end_time)\n",
    "                mlflow.log_metric(key=\"train_loss\", value=train_loss, step=epoch)\n",
    "                mlflow.log_metric(key=\"train_acc\", value=train_acc, step=epoch)\n",
    "                mlflow.log_metric(key=\"val_loss\", value=valid_loss, step=epoch)\n",
    "                mlflow.log_metric(key=\"val_acc\", value=valid_acc, step=epoch)\n",
    "                \n",
    "            \n",
    "                #early stopping\n",
    "                if valid_loss < best_valid_loss:\n",
    "                    best_valid_loss = valid_loss\n",
    "                    mlflow.pytorch.log_model(model, \"model\")\n",
    "                \n",
    "                print(f'Epoch: {epoch+1} | Time: {epoch_mins}m {epoch_secs}s')\n",
    "                print(f'\\tTrain Loss: {train_loss:.3f} | Train Acc: {train_acc*100:.2f}%')\n",
    "                print(f'\\tVal.  Loss: {valid_loss:.3f} | Val Acc: {valid_acc*100:.2f}%')\n",
    "            mlflow.log_metric(key=\"min_val_loss\", value=min(val_losses), step=epoch)    \n",
    "            mlflow.end_run()\n",
    "        "
   ]
  },
  {
   "cell_type": "code",
   "execution_count": null,
   "metadata": {},
   "outputs": [],
   "source": []
  }
 ],
 "metadata": {
  "kernelspec": {
   "display_name": "Python 3 (ipykernel)",
   "language": "python",
   "name": "python3"
  },
  "language_info": {
   "codemirror_mode": {
    "name": "ipython",
    "version": 3
   },
   "file_extension": ".py",
   "mimetype": "text/x-python",
   "name": "python",
   "nbconvert_exporter": "python",
   "pygments_lexer": "ipython3",
   "version": "3.10.12"
  }
 },
 "nbformat": 4,
 "nbformat_minor": 2
}

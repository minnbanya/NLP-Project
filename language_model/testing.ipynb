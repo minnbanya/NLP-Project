{
 "cells": [
  {
   "cell_type": "code",
   "execution_count": 1,
   "metadata": {},
   "outputs": [
    {
     "name": "stderr",
     "output_type": "stream",
     "text": [
      "C:\\Users\\minnb\\AppData\\Local\\Packages\\PythonSoftwareFoundation.Python.3.11_qbz5n2kfra8p0\\LocalCache\\local-packages\\Python311\\site-packages\\tqdm\\auto.py:21: TqdmWarning: IProgress not found. Please update jupyter and ipywidgets. See https://ipywidgets.readthedocs.io/en/stable/user_install.html\n",
      "  from .autonotebook import tqdm as notebook_tqdm\n"
     ]
    },
    {
     "name": "stdout",
     "output_type": "stream",
     "text": [
      "load INSTRUCTOR_Transformer\n",
      "max_seq_length  512\n"
     ]
    }
   ],
   "source": [
    "from models_utils import t5_model, gpt2_model\n",
    "from utils import chat_answer"
   ]
  },
  {
   "cell_type": "code",
   "execution_count": 2,
   "metadata": {},
   "outputs": [
    {
     "name": "stdout",
     "output_type": "stream",
     "text": [
      "                                            Question  \\\n",
      "0                  # of caloriesfor 1 cand yginger ?   \n",
      "1         is the kotobukiya superman a resin statue?   \n",
      "2                                Does it have word ?   \n",
      "3  Is this the 2012 version with the mounted boar...   \n",
      "4  I have a Maine Coon, (beautiful) a shelter cat...   \n",
      "\n",
      "                                             Answers  \n",
      "0  Hi...Melissa.  Each Natural Ginger Tummy Drops...  \n",
      "1  I am unsure I do not see specifics|Its a PVC v...  \n",
      "2  It has Office 4.0.1|It does not have Microsoft...  \n",
      "3  I bought this in 2013 so I assume so. It's ver...  \n",
      "4  Does she try to\"fish\" things out?  You could p...  \n"
     ]
    }
   ],
   "source": [
    "import pandas as pd\n",
    "\n",
    "# Path to the CSV file\n",
    "csv_file_path = '../data/qa/llm_test_1000.csv'\n",
    "\n",
    "# Load the CSV file into a DataFrame\n",
    "df = pd.read_csv(csv_file_path)\n",
    "\n",
    "# Display the first few rows of the DataFrame to verify it loaded correctly\n",
    "print(df.head())"
   ]
  },
  {
   "cell_type": "code",
   "execution_count": 6,
   "metadata": {},
   "outputs": [
    {
     "data": {
      "text/plain": [
       "'# of caloriesfor 1 cand yginger ?'"
      ]
     },
     "execution_count": 6,
     "metadata": {},
     "output_type": "execute_result"
    }
   ],
   "source": [
    "df.iloc[0]['Question']"
   ]
  },
  {
   "cell_type": "code",
   "execution_count": 8,
   "metadata": {},
   "outputs": [],
   "source": [
    "from rouge_score import rouge_scorer\n",
    "# Initialize the scorer\n",
    "scorer = rouge_scorer.RougeScorer(['rouge1', 'rouge2', 'rougeL', 'rougeLsum'])"
   ]
  },
  {
   "cell_type": "code",
   "execution_count": 7,
   "metadata": {},
   "outputs": [
    {
     "name": "stderr",
     "output_type": "stream",
     "text": [
      "You are using the default legacy behaviour of the <class 'transformers.models.t5.tokenization_t5.T5Tokenizer'>. This is expected, and simply means that the `legacy` (previous) behavior will be used so nothing changes for you. If you want to use the new behaviour, set `legacy=False`. This should only be set if you understand what it means, and thouroughly read the reason why this was added as explained in https://github.com/huggingface/transformers/pull/24565\n",
      "Special tokens have been added in the vocabulary, make sure the associated word embeddings are fine-tuned or trained.\n",
      "Special tokens have been added in the vocabulary, make sure the associated word embeddings are fine-tuned or trained.\n"
     ]
    }
   ],
   "source": [
    "#choose model\n",
    "llm = t5_model(temp = 0,rep = 1.5)"
   ]
  },
  {
   "cell_type": "code",
   "execution_count": 15,
   "metadata": {},
   "outputs": [
    {
     "name": "stdout",
     "output_type": "stream",
     "text": [
      "\n",
      "\n",
      "\u001b[1m> Entering new ConversationalRetrievalChain chain...\u001b[0m\n",
      "\n",
      "\n",
      "\u001b[1m> Entering new StuffDocumentsChain chain...\u001b[0m\n",
      "\n",
      "\n",
      "\u001b[1m> Entering new LLMChain chain...\u001b[0m\n",
      "Prompt after formatting:\n",
      "\u001b[32;1m\u001b[1;3mTest prompt for NLP Amazon sales chatbot.\n",
      "        Type\\\": \\\"Oily, Combination, Dry, Normal\\\", \\\"Material Feature\\\": \\\"Organic, Natural\\\", \\\"Item Volume\\\": \\\"30 Milliliters\\\", \\\"Active Ingredients\\\": \\\"hyaluronic_acid\\\", \\\"Is Discontinued By Manufacturer\\\": \\\"No\\\", \\\"Package Dimensions\\\": \\\"5.5 x 1.25 x 1.25 inches; 3.21 Ounces\\\", \\\"UPC\\\": \\\"816554010859\\\", \\\"Manufacturer\\\": \\\"Asara New York\\\"}\", \"parent_asin\": \"B07FXWHFRF\", \"bought_together\": null, \"subtitle\": null, \"author\": null}\n",
      "\n",
      "more\\\", \\\"Material Feature\\\": \\\"Non-Toxic\\\", \\\"Age Range (Description)\\\": \\\"Adult\\\", \\\"Number of Items\\\": \\\"1\\\", \\\"Liquid Volume\\\": \\\"11 Milliliters\\\", \\\"Is Discontinued By Manufacturer\\\": \\\"No\\\", \\\"Product Dimensions\\\": \\\"1 x 0.5 x 2.5 inches; 0.32 Ounces\\\", \\\"Item model number\\\": \\\"BUTTER-2692\\\", \\\"Department\\\": \\\"Womens\\\", \\\"UPC\\\": \\\"851847002692\\\", \\\"Manufacturer\\\": \\\"butter LONDON\\\"}\", \"parent_asin\": \"B0058Z8FXG\", \"bought_together\": null, \"subtitle\": null, \"author\": null}\n",
      "\n",
      "Alcohol-Free, Natural Ingredients\\\", \\\"Is Discontinued By Manufacturer\\\": \\\"No\\\", \\\"Product Dimensions\\\": \\\"1.5 x 1.5 x 3 inches; 0.11 Ounces\\\", \\\"Item model number\\\": \\\"PS-06\\\", \\\"UPC\\\": \\\"748252008497\\\", \\\"Manufacturer\\\": \\\"b\\\\u00e1lla\\\"}\", \"parent_asin\": \"B019SABLBE\", \"bought_together\": null, \"subtitle\": null, \"author\": null}\n",
      "\n",
      "Glycerin, Polyglyceryl-2 Dipolyhydroxystearate, Polyglyceryl-3 Disostearate, Titanium Dioxide, Hydrogenated Polyisohutene, Dimenthiconol, Cyclomethicone, Methyparaben, Diazolidinyl Urea, Propylparaben, Fragrance, CI:77891, CI:77491, CI:77492 Directions: Apply on exposed skin (face and body) to protect yourself from the sun. For best result, apply 20 minutes before going out into the sun. Caution: If skin has allergic reaction, please stop use immediately. Keep out of children. Do not eat. For external use only.\"], \"price\": \"14.99\", \"images\": {\"hi_res\": [\"https://m.media-amazon.com/images/I/61nl6tHSR7L._SL1500_.jpg\", \"https://m.media-amazon.com/images/I/81pvNR8-PAL._SL1408_.jpg\",\n",
      "        Question: # of caloriesfor 1 cand yginger ?\n",
      "        Answer:\u001b[0m\n",
      "\n",
      "\u001b[1m> Finished chain.\u001b[0m\n",
      "\n",
      "\u001b[1m> Finished chain.\u001b[0m\n",
      "\n",
      "\u001b[1m> Finished chain.\u001b[0m\n",
      "\n",
      "\n",
      "\u001b[1m> Entering new ConversationalRetrievalChain chain...\u001b[0m\n",
      "\n",
      "\n",
      "\u001b[1m> Entering new StuffDocumentsChain chain...\u001b[0m\n",
      "\n",
      "\n",
      "\u001b[1m> Entering new LLMChain chain...\u001b[0m\n",
      "Prompt after formatting:\n",
      "\u001b[32;1m\u001b[1;3mTest prompt for NLP Amazon sales chatbot.\n",
      "        {\"main_category\": \"Automotive\", \"title\": \"3D Metal Pirates Jolly Roger Skull Crossbones Bones Pirate Flag Keyring Key Chain Gift Men Women Keychain Giftbox KK 246\", \"average_rating\": 5.0, \"rating_number\": 6, \"features\": [\"\\u2714 HIGH QUALITY DESIGN & STYLE- This great looking keychain is made of smooth stainless steel! The sticker is made of a 3D Domed, non-toxic resin with 100% UV protection. PVC film - MADE IN GERMANY. This product does not yellow over time, as with most other manufacturers and it stays smooth, clean and shiny with years!\", \"\\u2714 GREAT GIFT / PRESENT : This is the perfect gift idea for your friends and family for many occasions such as Fathers' Day, Mother's Day,\n",
      "\n",
      "your bike, the Evil Road Spirits will become trapped inside the bell where the constant ringing drives them insane, making them lose their grip until they fall to the ground. (Ever wonder where pot-holes come from?) It is also believed that the mystery of the Guardian Bell carries twice as much power when it is purchased by a friend or loved one and given as a gift. Show someone how much you care. Offer them defense against the Evil Road Spirits! Give a Guardian Bell and share the Legend of Good Luck it offers to a motorcycle and its rider! All Guardian Bells are made of Lead Free Pewter in the USA\"], \"price\": \"None\", \"images\": {\"hi_res\":\n",
      "\n",
      "allow for ultimate absorbency and a scratch free shine\"], \"description\": [\"The Ultra Soft 2-in-1 Microfiber Wax & Buff Towel - 16\\\" x 16\\\" works great with our Better Butter Wax. The two-faced design combines two super soft microfiber towels into one. Gently buff off waxes or sealants to reveal a scratch free shine on any surface. Made with 70/30 Microfiber and contains 880 GSM. Plush microfiber strands allow for ultimate absorbency and a scratch free shine. Our lighter color side will show you when your towel is full of dirt and ready to flip to the next side in order to avoid scratching your surface. Other microfiber towels may contain banded edges, which can scratch delicate surfaces.\n",
      "\n",
      "All Guardian Bells are made of Lead Free Pewter in the USA\"], \"price\": \"None\", \"images\": {\"hi_res\": [\"https://m.media-amazon.com/images/I/61NAiHh2neL._AC_SL1078_.jpg\"], \"large\": [\"https://m.media-amazon.com/images/I/41zq0QsPJZL._AC_.jpg\"], \"thumb\": [\"https://m.media-amazon.com/images/I/41zq0QsPJZL._AC_US40_.jpg\"], \"variant\": [\"MAIN\"]}, \"videos\": {\"title\": [], \"url\": [], \"user_id\": []}, \"store\": \"Guardian Bell\", \"categories\": [\"Automotive\", \"Interior Accessories\", \"Keychains\"], \"details\": \"{\\\"Manufacturer\\\": \\\"Guardian\\\\u00ae Bell\\\", \\\"Brand\\\": \\\"Guardian Bell\\\", \\\"Item Weight\\\": \\\"0.639 ounces\\\", \\\"Product Dimensions\\\": \\\"1 x 1 x 1 inches\\\", \\\"Is Discontinued By Manufacturer\\\": \\\"No\\\",\n",
      "        Question: is the kotobukiya superman a resin statue?\n",
      "        Answer:\u001b[0m\n",
      "\n",
      "\u001b[1m> Finished chain.\u001b[0m\n",
      "\n",
      "\u001b[1m> Finished chain.\u001b[0m\n",
      "\n",
      "\u001b[1m> Finished chain.\u001b[0m\n",
      "\n",
      "\n",
      "\u001b[1m> Entering new ConversationalRetrievalChain chain...\u001b[0m\n",
      "\n",
      "\n",
      "\u001b[1m> Entering new StuffDocumentsChain chain...\u001b[0m\n",
      "\n",
      "\n",
      "\u001b[1m> Entering new LLMChain chain...\u001b[0m\n",
      "Prompt after formatting:\n",
      "\u001b[32;1m\u001b[1;3mTest prompt for NLP Amazon sales chatbot.\n",
      "        Applicable\\\"}\", \"parent_asin\": \"B0BCPLBL8Z\", \"bought_together\": null, \"subtitle\": null, \"author\": null}\n",
      "\n",
      "{\"main_category\": \"Office Products\", \"title\": \"Percent Off Stickers Multi Pack 25% 50% 75% for Retail 3/4 Inch 1,500 Total Stickers\", \"average_rating\": 3.6, \"rating_number\": 3, \"features\": [], \"description\": [], \"price\": \"None\", \"images\": {\"hi_res\": [\"https://m.media-amazon.com/images/I/61oMkV4V3YL._AC_SL1000_.jpg\", \"https://m.media-amazon.com/images/I/612NRMsha6L._AC_SL1000_.jpg\", \"https://m.media-amazon.com/images/I/71ILTeZRNUL._AC_SL1500_.jpg\"], \"large\": [\"https://m.media-amazon.com/images/I/41dY5gomfZL._AC_.jpg\", \"https://m.media-amazon.com/images/I/51DHpSimUDL._AC_.jpg\", \"https://m.media-amazon.com/images/I/51y-gU+TK3L._AC_.jpg\"], \"thumb\":\n",
      "\n",
      "1, 2018\\\", \\\"Manufacturer\\\": \\\"Adora\\\"}\", \"parent_asin\": \"B077BV4D6L\", \"bought_together\": null, \"subtitle\": null, \"author\": null}\n",
      "\n",
      "\"details\": \"{\\\"Package Dimensions\\\": \\\"2.99 x 2.99 x 1.97 inches\\\", \\\"Item Weight\\\": \\\"1 pounds\\\", \\\"Manufacturer\\\": \\\"Bbeegod\\\"}\", \"parent_asin\": \"B001L4FMUC\", \"bought_together\": null, \"subtitle\": null, \"author\": null}\n",
      "        Question: Does it have word ?\n",
      "        Answer:\u001b[0m\n",
      "\n",
      "\u001b[1m> Finished chain.\u001b[0m\n",
      "\n",
      "\u001b[1m> Finished chain.\u001b[0m\n",
      "\n",
      "\u001b[1m> Finished chain.\u001b[0m\n",
      "\n",
      "\n",
      "\u001b[1m> Entering new ConversationalRetrievalChain chain...\u001b[0m\n",
      "\n",
      "\n",
      "\u001b[1m> Entering new StuffDocumentsChain chain...\u001b[0m\n",
      "\n",
      "\n",
      "\u001b[1m> Entering new LLMChain chain...\u001b[0m\n",
      "Prompt after formatting:\n",
      "\u001b[32;1m\u001b[1;3mTest prompt for NLP Amazon sales chatbot.\n",
      "        \"https://m.media-amazon.com/images/I/41hXDhM0X9L._AC_US40_.jpg\", \"https://m.media-amazon.com/images/I/41S6UIcD8WL._AC_US40_.jpg\"], \"variant\": [\"MAIN\", \"PT01\", \"PT02\", \"PT03\"]}, \"videos\": {\"title\": [\"great quality w/ minor visible wear & tear\", \"Not reliable at all but looks cool\", \"Nothing less than new, great \\ud83d\\udc4d\\ud83c\\udffb\", \"The lights are for sure the best part. Has a USB port on it!\", \"Razer Huntsman Elite VS Corsair K95 Platinum XT\", \"Gaming Keyboard Corsair K100 Mechanical Keyboard\", \"Things to Know BEFORE Buying CORSAIR Keyboard - Watch First!\", \"Redragon K556 RGB Gaming Keyboard (Brown Switch)\", \"Apex 7 Mechanical Gaming Keyboard\", \"Best Gaming Keyboard In 2023 | Honest\n",
      "\n",
      "3592}, \\\"Is Discontinued By Manufacturer\\\": \\\"No\\\", \\\"Date First Available\\\": \\\"February 5, 2018\\\", \\\"Brand\\\": \\\"LexonElec\\\", \\\"Compatible Devices\\\": \\\"Gaming Console\\\", \\\"Connectivity Technology\\\": \\\"USB\\\", \\\"Keyboard Description\\\": \\\"Gaming\\\", \\\"Special Feature\\\": \\\"Travel\\\", \\\"Color\\\": \\\"Black\\\", \\\"Operating System\\\": \\\"Windows/Mac OS/Linux\\\", \\\"Number of Keys\\\": \\\"82\\\", \\\"Style\\\": \\\"Modern\\\", \\\"Item Dimensions LxWxH\\\": \\\"12.2 x 4.72 x 1.45 inches\\\"}\", \"parent_asin\": \"B086PN1SLM\", \"bought_together\": null, \"subtitle\": null, \"author\": null}\n",
      "\n",
      "Gaming Keyboards\\\": 1724}, \\\"Compatible Devices\\\": \\\"Mechanical Keyboard Keys\\\", \\\"Connectivity Technology\\\": \\\"Razer Mechanical Keyboards\\\", \\\"Keyboard Description\\\": \\\"Mechanical\\\", \\\"Special Feature\\\": \\\"Fade Resistant, Durable\\\", \\\"Number of Keys\\\": \\\"104\\\", \\\"Keyboard backlighting color support\\\": \\\"RGB\\\", \\\"Style\\\": \\\"Modern,Classic,Casual,Standard,Ultimate\\\"}\", \"parent_asin\": \"B09CG15F86\", \"bought_together\": null, \"subtitle\": null, \"author\": null}\n",
      "\n",
      "\"https://m.media-amazon.com/images/I/51e2n8-wyYL._AC_US40_.jpg\", \"https://m.media-amazon.com/images/I/51BryfekqbL._AC_US40_.jpg\"], \"variant\": [\"MAIN\", \"PT01\", \"PT02\", \"PT03\", \"PT04\", \"PT05\", \"PT06\", \"PT07\", \"PT08\"]}, \"videos\": {\"title\": [\"Royal Kludge RK71 Wireless Mechanical Keyboard Review\", \"ROYAL KLUDGE RK71 Unboxing & Review\", \" RK71 Mechanical Keyboard Wired/Wireless Bluetooth\", \"RK ROYAL KLUDGE Mechanical Keyboard\", \"RK ROYAL KLUDGE RK84 Blue Backlit 75% Mechanical Keyboard\", \"RK ROYAL KLUDGE RK61 Plus Wireless Mechanical Keyboard\", \"RK ROYAL KLUDGE RK68 60% Wireless Mechanical Gaming Keyboard\", \"My Portable Keyboard Review\", \"Royal Kludge RKG68 Hotswappable Mechanical Keyboard\n",
      "        Question: Is this the 2012 version with the mounted board?  Thanks much\n",
      "        Answer:\u001b[0m\n",
      "\n",
      "\u001b[1m> Finished chain.\u001b[0m\n",
      "\n",
      "\u001b[1m> Finished chain.\u001b[0m\n",
      "\n",
      "\u001b[1m> Finished chain.\u001b[0m\n",
      "\n",
      "\n",
      "\u001b[1m> Entering new ConversationalRetrievalChain chain...\u001b[0m\n",
      "\n",
      "\n",
      "\u001b[1m> Entering new StuffDocumentsChain chain...\u001b[0m\n",
      "\n",
      "\n",
      "\u001b[1m> Entering new LLMChain chain...\u001b[0m\n",
      "Prompt after formatting:\n",
      "\u001b[32;1m\u001b[1;3mTest prompt for NLP Amazon sales chatbot.\n",
      "        locking system allows you to set parameters around your cat's access at any time\"], \"description\": [\"The PetSafe Staywell Big Cat/Small Dog Pet Door is designed for large cats up to 25 lb.. Molded in durable plastic, it features a rigid, see-through plastic flap and magnetic weather seal. Use the 4-way locking system to control the level of access you want your cat to have. Trust PetSafe to help keep your pet healthy, safe and happy.\"], \"price\": \"26.95\", \"images\": {\"hi_res\": [\"https://m.media-amazon.com/images/I/81b+AF4i1xL._AC_SL1500_.jpg\", \"https://m.media-amazon.com/images/I/81v9TnnEq0L._AC_SL1500_.jpg\", \"https://m.media-amazon.com/images/I/81ovJsZG6ZL._AC_SL1500_.jpg\",\n",
      "\n",
      "in something. Also the buckle is tight for everyday wear, it won't break for cat's foot scratching neck.\", \"\\ud83d\\ude3bBowtie --The bow tie attached a elastic bands, it is removable. This is a handmade and well-sewing handsome cat collar. We provide a gift box, you can storage the bell and bow tie in box prevent lose.\", \"\\ud83d\\ude3bMADE FOR ALL Cats - 100% durable, these collars are built for comfort and action. Great for outdoor cats, indoor cats. Every kitten collar match a bell, you will know the location of your cat from the bell's loud. Also the bell is detachable.\", \"\\ud83d\\ude3bAfter sale - These kitten collars are backed by the XPangle Design. Covered from fraying, defects,\n",
      "\n",
      "{\"main_category\": \"Pet Supplies\", \"title\": \"Bowtie Cat Collars Breakaway with Bell, Adjustable Cute Kitty Collars Safety Buckle Kitten Collar for Cat Puppy 7.5-11in (14)\", \"average_rating\": 4.7, \"rating_number\": 1080, \"features\": [\"\\ud83d\\ude3bNeck 7.5''-11'' -- The collar does not stretch itself,100% soft&durable high quality material made, bowtie and bell accessories, sturdy breakaway clasp, it's not only a cute cat collar, but also is a positive safety kitten collar.\", \"\\ud83d\\ude3bSafety Breakaway Buckle -- The breakaway buckle will quick release under pressure if your cat get caught up in something. Also the buckle is tight for everyday wear, it won't break for cat's foot scratching\n",
      "\n",
      "{\"main_category\": \"Pet Supplies\", \"title\": \"PetSafe Exterior / Interior Cat Door: Staywell Big Cat 4-Way Locking Pet Door Flap for Large Cats- Tinted Privacy Door- Weatherproof, Durable Door Frame- DIY Easy Install with Hardware Kit Included\", \"average_rating\": 4.5, \"rating_number\": 2341, \"features\": [\"PET SIZE: The large flap opening is perfect for cats and dogs up to 25 lb\", \"TRANSPARENT FLAP: Provides visibility for your cat for shorter acclimation times\", \"DURABLE DESIGN: High-impact plastic flap stands up to frequent use; may be used indoors or outdoors\", \"CONTROL YOUR PET'S ACCESS: 4-way locking system allows you to set parameters around your cat's access at any time\"], \"description\":\n",
      "        Question: I have a Maine Coon, (beautiful) a shelter cat that is declawed.  Could she maneuver this?\n",
      "        Answer:\u001b[0m\n"
     ]
    },
    {
     "name": "stderr",
     "output_type": "stream",
     "text": [
      "C:\\Users\\minnb\\AppData\\Local\\Packages\\PythonSoftwareFoundation.Python.3.11_qbz5n2kfra8p0\\LocalCache\\local-packages\\Python311\\site-packages\\transformers\\pipelines\\base.py:1101: UserWarning: You seem to be using the pipelines sequentially on GPU. In order to maximize efficiency please use a dataset\n",
      "  warnings.warn(\n"
     ]
    },
    {
     "name": "stdout",
     "output_type": "stream",
     "text": [
      "\n",
      "\u001b[1m> Finished chain.\u001b[0m\n",
      "\n",
      "\u001b[1m> Finished chain.\u001b[0m\n",
      "\n",
      "\u001b[1m> Finished chain.\u001b[0m\n",
      "{'rouge1': Score(precision=0.3333333333333333, recall=0.004310344827586207, fmeasure=0.00851063829787234), 'rouge2': Score(precision=0.0, recall=0.0, fmeasure=0.0), 'rougeL': Score(precision=0.3333333333333333, recall=0.004310344827586207, fmeasure=0.00851063829787234), 'rougeLsum': Score(precision=0.3333333333333333, recall=0.004310344827586207, fmeasure=0.00851063829787234)}\n"
     ]
    }
   ],
   "source": [
    "scores = []\n",
    "\n",
    "for i in range(5):\n",
    "    reference = df.iloc[i]['Answers']\n",
    "    prompt_question = df.iloc[i]['Question']\n",
    "    candidate_full = chat_answer(prompt_question, llm)\n",
    "    candidate = candidate_full['answer']\n",
    "    score = scorer.score(reference, candidate)\n",
    "    scores.append(score)\n",
    "    \n",
    "# example score\n",
    "print(scores[0])\n",
    "#It should return average ROGUE-1"
   ]
  },
  {
   "cell_type": "code",
   "execution_count": 16,
   "metadata": {},
   "outputs": [],
   "source": [
    "def Average(list): \n",
    "    return sum(list) / len(list)"
   ]
  },
  {
   "cell_type": "code",
   "execution_count": 17,
   "metadata": {},
   "outputs": [
    {
     "name": "stdout",
     "output_type": "stream",
     "text": [
      "ROUGE-1 scores:\n",
      "Average Precision: 0.15304438758411162\n",
      "Average Recall: 0.15304438758411162\n",
      "Average fmeasure: 0.15304438758411162\n",
      "Average overall: 0.15304438758411162\n"
     ]
    }
   ],
   "source": [
    "precisions = recall = fmeasure = []\n",
    "for sco in scores:\n",
    "    precisions.append(sco['rouge1'][0])\n",
    "    recall.append(sco['rouge1'][1])\n",
    "    fmeasure.append(sco['rouge1'][2])\n",
    "\n",
    "pre_avg = Average(precisions)\n",
    "recall_avg = Average(recall)\n",
    "f_avg = Average(fmeasure)\n",
    "overall_avg = (pre_avg + recall_avg + f_avg) / 3\n",
    "print(f\"ROUGE-1 scores:\\nAverage Precision: {pre_avg}\\nAverage Recall: {recall_avg}\\nAverage fmeasure: {f_avg}\\nAverage overall: {overall_avg}\")"
   ]
  }
 ],
 "metadata": {
  "kernelspec": {
   "display_name": "Python 3",
   "language": "python",
   "name": "python3"
  },
  "language_info": {
   "codemirror_mode": {
    "name": "ipython",
    "version": 3
   },
   "file_extension": ".py",
   "mimetype": "text/x-python",
   "name": "python",
   "nbconvert_exporter": "python",
   "pygments_lexer": "ipython3",
   "version": "3.11.9"
  }
 },
 "nbformat": 4,
 "nbformat_minor": 2
}

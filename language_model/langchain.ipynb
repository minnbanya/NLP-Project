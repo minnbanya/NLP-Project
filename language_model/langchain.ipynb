{
 "cells": [
  {
   "cell_type": "markdown",
   "metadata": {},
   "source": [
    "## 0. Importing Libraries"
   ]
  },
  {
   "cell_type": "code",
   "execution_count": 1,
   "metadata": {},
   "outputs": [
    {
     "name": "stderr",
     "output_type": "stream",
     "text": [
      "C:\\Users\\minnb\\AppData\\Local\\Packages\\PythonSoftwareFoundation.Python.3.11_qbz5n2kfra8p0\\LocalCache\\local-packages\\Python311\\site-packages\\tqdm\\auto.py:21: TqdmWarning: IProgress not found. Please update jupyter and ipywidgets. See https://ipywidgets.readthedocs.io/en/stable/user_install.html\n",
      "  from .autonotebook import tqdm as notebook_tqdm\n"
     ]
    }
   ],
   "source": [
    "import pandas as pd\n",
    "import openai\n",
    "from langchain_openai import OpenAIEmbeddings\n",
    "from langchain_openai import ChatOpenAI\n",
    "from langchain.chains.conversation.memory import ConversationBufferWindowMemory\n",
    "from langchain.docstore.document import Document\n",
    "from langchain.chains import RetrievalQA\n",
    "from langchain.vectorstores import Chroma\n",
    "from langchain.agents import Tool\n",
    "from langchain.agents import initialize_agent\n",
    "from langchain import hub\n",
    "from langchain.agents import AgentExecutor, create_react_agent\n",
    "from tqdm.auto import tqdm\n",
    "from uuid import uuid4\n",
    "import pandas as pd\n",
    "import os\n",
    "import torch\n",
    "from torchtext.data.utils import get_tokenizer\n",
    "import dill\n",
    "import re\n",
    "from transformers import AutoTokenizer, pipeline, AutoModelForSeq2SeqLM, AutoModelForCausalLM, AutoModelForQuestionAnswering\n",
    "from transformers import BitsAndBytesConfig\n",
    "from langchain import HuggingFacePipeline\n",
    "import torch\n",
    "from langchain.chains import LLMChain\n",
    "from langchain.chains.conversational_retrieval.prompts import CONDENSE_QUESTION_PROMPT\n",
    "from langchain.memory import ConversationBufferWindowMemory\n",
    "from langchain.chains.question_answering import load_qa_chain\n",
    "from langchain.chains import ConversationalRetrievalChain\n",
    "from langchain.prompts import PromptTemplate"
   ]
  },
  {
   "cell_type": "code",
   "execution_count": 2,
   "metadata": {},
   "outputs": [
    {
     "data": {
      "text/plain": [
       "device(type='cuda')"
      ]
     },
     "execution_count": 2,
     "metadata": {},
     "output_type": "execute_result"
    }
   ],
   "source": [
    "device = torch.device('cuda' if torch.cuda.is_available() else 'cpu')\n",
    "device"
   ]
  },
  {
   "cell_type": "markdown",
   "metadata": {},
   "source": [
    "### Embeddings and vector store"
   ]
  },
  {
   "cell_type": "code",
   "execution_count": 3,
   "metadata": {},
   "outputs": [
    {
     "name": "stdout",
     "output_type": "stream",
     "text": [
      "load INSTRUCTOR_Transformer\n",
      "max_seq_length  512\n"
     ]
    }
   ],
   "source": [
    "import torch\n",
    "from langchain_community.embeddings import HuggingFaceInstructEmbeddings\n",
    "\n",
    "model_name = 'hkunlp/instructor-base'\n",
    "\n",
    "embedding_model = HuggingFaceInstructEmbeddings(\n",
    "    model_name = model_name,\n",
    "    model_kwargs = {\"device\" : device}\n",
    ")"
   ]
  },
  {
   "cell_type": "code",
   "execution_count": 4,
   "metadata": {},
   "outputs": [],
   "source": [
    "#locate vectorstore\n",
    "vector_path = './vector_stores'\n",
    "if not os.path.exists(vector_path):\n",
    "    os.makedirs(vector_path)\n",
    "    print('create path done')"
   ]
  },
  {
   "cell_type": "code",
   "execution_count": 5,
   "metadata": {},
   "outputs": [],
   "source": [
    "def predict(text_str):\n",
    "    text_str = text_str.lower()\n",
    "    device = 'cpu'\n",
    "    regex_s = re.sub(\"\\\\(.+?\\\\)|[\\r\\n|\\n\\r]|!\", \"\", text_str)\n",
    "    text = \" \".join(regex_s.split())\n",
    "    tokenizer = get_tokenizer('spacy', language='en_core_web_sm')\n",
    "    loaded_model = torch.jit.load('../question_classification/model/5class/CNN.pt')\n",
    "    with open('../question_classification/model/5class/vocab.pkl', 'rb') as f:\n",
    "        loaded_vocab = dill.load(f)\n",
    "    text = torch.tensor(loaded_vocab(tokenizer(text))).to(device)\n",
    "    text = text.reshape(1, -1)\n",
    "    with torch.no_grad():\n",
    "        output = loaded_model(text).squeeze(1)\n",
    "        predicted = torch.max(output.data, 1)[1]\n",
    "        return predicted.item()"
   ]
  },
  {
   "cell_type": "code",
   "execution_count": 6,
   "metadata": {},
   "outputs": [
    {
     "data": {
      "text/plain": [
       "1"
      ]
     },
     "execution_count": 6,
     "metadata": {},
     "output_type": "execute_result"
    }
   ],
   "source": [
    "text = \"What rice cookers are available?\"\n",
    "predict(text)"
   ]
  },
  {
   "cell_type": "code",
   "execution_count": 7,
   "metadata": {},
   "outputs": [],
   "source": [
    "categories = [\n",
    "    'Electronics', 'Home_and_Kitchen', 'Sports_and_Outdoors', \n",
    "    'Tools_and_Home_Improvement', 'Beauty_and_Personal_Care'\n",
    "]"
   ]
  },
  {
   "cell_type": "code",
   "execution_count": 8,
   "metadata": {},
   "outputs": [
    {
     "data": {
      "text/plain": [
       "'Home_and_Kitchen'"
      ]
     },
     "execution_count": 8,
     "metadata": {},
     "output_type": "execute_result"
    }
   ],
   "source": [
    "categories[1]"
   ]
  },
  {
   "cell_type": "code",
   "execution_count": 9,
   "metadata": {},
   "outputs": [
    {
     "data": {
      "text/plain": [
       "'Home_and_Kitchen'"
      ]
     },
     "execution_count": 9,
     "metadata": {},
     "output_type": "execute_result"
    }
   ],
   "source": [
    "categories[predict(text)]"
   ]
  },
  {
   "cell_type": "code",
   "execution_count": 10,
   "metadata": {},
   "outputs": [],
   "source": [
    "def choose_vector_store(text, size):\n",
    "\n",
    "    category = categories[predict(text)]\n",
    "    #calling vector from local\n",
    "    vector_path = './vector_stores'\n",
    "\n",
    "    from langchain.vectorstores import FAISS\n",
    "\n",
    "    db_file_name = f\"{size}/{category}\"\n",
    "\n",
    "    vectordb = FAISS.load_local(\n",
    "        folder_path = os.path.join(vector_path, db_file_name),\n",
    "        embeddings = embedding_model,\n",
    "        index_name = f'{category}' #default index\n",
    "    )\n",
    "    retriever = vectordb.as_retriever()\n",
    "\n",
    "    return retriever"
   ]
  },
  {
   "cell_type": "markdown",
   "metadata": {},
   "source": [
    "### Test model"
   ]
  },
  {
   "cell_type": "code",
   "execution_count": 11,
   "metadata": {},
   "outputs": [],
   "source": [
    "#locate models\n",
    "model_path = './models'\n",
    "if not os.path.exists(model_path):\n",
    "    os.makedirs(model_path)\n",
    "    print('create path done')"
   ]
  },
  {
   "cell_type": "code",
   "execution_count": 12,
   "metadata": {},
   "outputs": [],
   "source": [
    "# %cd ./models\n",
    "# !git clone https://huggingface.co/anas-awadalla/gpt2-span-head-few-shot-k-16-finetuned-squad-seed-0\n",
    "# !git clone https://huggingface.co/lmsys/fastchat-t5-3b-v1.0\n",
    "# !git clone git clone https://huggingface.co/google/flan-t5-base\n",
    "# !git clone git clone https://huggingface.co/google/flan-t5-large\n"
   ]
  },
  {
   "cell_type": "code",
   "execution_count": 13,
   "metadata": {},
   "outputs": [],
   "source": [
    "def gpt2_model(temp = 0, rep = 1.5):\n",
    "    model_id = 'models/gpt2-span-head-few-shot-k-16-finetuned-squad-seed-0/'\n",
    "\n",
    "    tokenizer = AutoTokenizer.from_pretrained(\n",
    "        model_id)\n",
    "\n",
    "    tokenizer.pad_token_id = tokenizer.eos_token_id\n",
    "\n",
    "    bitsandbyte_config = BitsAndBytesConfig(\n",
    "        load_in_4bit=True,\n",
    "        bnb_4bit_quant_type=\"nf4\",\n",
    "        bnb_4bit_compute_dtype=torch.float16,\n",
    "        bnb_4bit_use_double_quant=True\n",
    "    )\n",
    "\n",
    "    model = AutoModelForCausalLM.from_pretrained(\n",
    "        model_id,\n",
    "        quantization_config=bitsandbyte_config,\n",
    "        device_map='cuda:0',\n",
    "        load_in_8bit=True\n",
    "    )\n",
    "\n",
    "    pipe = pipeline(\n",
    "        model=model,\n",
    "        tokenizer=tokenizer,\n",
    "        task=\"text-generation\",\n",
    "        max_new_tokens=100,\n",
    "        model_kwargs={\n",
    "            \"temperature\": temp,\n",
    "            \"repetition_penalty\": rep\n",
    "        }\n",
    "    )\n",
    "\n",
    "    llm = HuggingFacePipeline(pipeline=pipe)\n",
    "\n",
    "    return llm"
   ]
  },
  {
   "cell_type": "code",
   "execution_count": 14,
   "metadata": {},
   "outputs": [],
   "source": [
    "def t5_model(temp = 0, rep = 1.5):\n",
    "    model_id = './models/fastchat-t5-3b-v1.0/'\n",
    "\n",
    "    tokenizer = AutoTokenizer.from_pretrained(\n",
    "        model_id)\n",
    "\n",
    "    tokenizer.pad_token_id = tokenizer.eos_token_id\n",
    "\n",
    "    bitsandbyte_config = BitsAndBytesConfig(\n",
    "        load_in_4bit = True,\n",
    "        bnb_4bit_quant_type = \"nf4\",\n",
    "        bnb_4bit_compute_dtype = torch.float16,\n",
    "        bnb_4bit_use_double_quant = True\n",
    "    )\n",
    "\n",
    "    model = AutoModelForSeq2SeqLM.from_pretrained(\n",
    "        model_id,\n",
    "        quantization_config = bitsandbyte_config, #caution Nvidia\n",
    "        device_map = 'auto',\n",
    "        load_in_8bit = True\n",
    "    )\n",
    "\n",
    "    pipe = pipeline(\n",
    "        task=\"text2text-generation\",\n",
    "        model=model,\n",
    "        tokenizer=tokenizer,\n",
    "        max_new_tokens = 100,\n",
    "        model_kwargs = {\n",
    "            \"temperature\" : temp,\n",
    "            \"repetition_penalty\": rep\n",
    "        }\n",
    "    )\n",
    "\n",
    "    llm = HuggingFacePipeline(pipeline = pipe)\n",
    "\n",
    "    return llm"
   ]
  },
  {
   "cell_type": "code",
   "execution_count": 15,
   "metadata": {},
   "outputs": [],
   "source": [
    "def flan_t5_model(temp = 0, rep = 1.5):\n",
    "    model_id = './models/flan-t5-base/'\n",
    "\n",
    "    tokenizer = AutoTokenizer.from_pretrained(\n",
    "        model_id)\n",
    "\n",
    "    tokenizer.pad_token_id = tokenizer.eos_token_id\n",
    "\n",
    "    bitsandbyte_config = BitsAndBytesConfig(\n",
    "        load_in_4bit = True,\n",
    "        bnb_4bit_quant_type = \"nf4\",\n",
    "        bnb_4bit_compute_dtype = torch.float16,\n",
    "        bnb_4bit_use_double_quant = True\n",
    "    )\n",
    "\n",
    "    model = AutoModelForSeq2SeqLM.from_pretrained(\n",
    "        model_id,\n",
    "        quantization_config = bitsandbyte_config, #caution Nvidia\n",
    "        device_map = 'auto',\n",
    "        load_in_8bit = True\n",
    "    )\n",
    "\n",
    "    pipe = pipeline(\n",
    "        task=\"text2text-generation\",\n",
    "        model=model,\n",
    "        tokenizer=tokenizer,\n",
    "        max_new_tokens = 100,\n",
    "        model_kwargs = {\n",
    "            \"temperature\" : temp,\n",
    "            \"repetition_penalty\": rep\n",
    "        }\n",
    "    )\n",
    "\n",
    "    llm = HuggingFacePipeline(pipeline = pipe)\n",
    "\n",
    "    return llm"
   ]
  },
  {
   "cell_type": "code",
   "execution_count": 16,
   "metadata": {},
   "outputs": [],
   "source": [
    "def flan_t5_large_model(temp = 0, rep = 1.5):\n",
    "    model_id = './models/flan-t5-large/'\n",
    "\n",
    "    tokenizer = AutoTokenizer.from_pretrained(\n",
    "        model_id)\n",
    "\n",
    "    tokenizer.pad_token_id = tokenizer.eos_token_id\n",
    "\n",
    "    bitsandbyte_config = BitsAndBytesConfig(\n",
    "        load_in_4bit = True,\n",
    "        bnb_4bit_quant_type = \"nf4\",\n",
    "        bnb_4bit_compute_dtype = torch.float16,\n",
    "        bnb_4bit_use_double_quant = True\n",
    "    )\n",
    "\n",
    "    model = AutoModelForSeq2SeqLM.from_pretrained(\n",
    "        model_id,\n",
    "        quantization_config = bitsandbyte_config, #caution Nvidia\n",
    "        device_map = 'auto',\n",
    "        load_in_8bit = True\n",
    "    )\n",
    "\n",
    "    pipe = pipeline(\n",
    "        task=\"text2text-generation\",\n",
    "        model=model,\n",
    "        tokenizer=tokenizer,\n",
    "        max_new_tokens = 100,\n",
    "        model_kwargs = {\n",
    "            \"temperature\" : temp,\n",
    "            \"repetition_penalty\": rep\n",
    "        }\n",
    "    )\n",
    "\n",
    "    llm = HuggingFacePipeline(pipeline = pipe)\n",
    "\n",
    "    return llm"
   ]
  },
  {
   "cell_type": "code",
   "execution_count": 17,
   "metadata": {},
   "outputs": [
    {
     "data": {
      "text/plain": [
       "PromptTemplate(input_variables=['chat_history', 'question'], template='Given the following conversation and a follow up question, rephrase the follow up question to be a standalone question, in its original language.\\n\\nChat History:\\n{chat_history}\\nFollow Up Input: {question}\\nStandalone question:')"
      ]
     },
     "execution_count": 17,
     "metadata": {},
     "output_type": "execute_result"
    }
   ],
   "source": [
    "CONDENSE_QUESTION_PROMPT"
   ]
  },
  {
   "cell_type": "code",
   "execution_count": 18,
   "metadata": {},
   "outputs": [],
   "source": [
    "def create_chain(llm, retriever):\n",
    "    question_generator = LLMChain(\n",
    "        llm = llm,\n",
    "        prompt = CONDENSE_QUESTION_PROMPT,\n",
    "        verbose = True\n",
    "    )\n",
    "\n",
    "    prompt_template = \"\"\"\n",
    "        Test prompt for NLP Amazon sales chatbot.\n",
    "        {context}\n",
    "        Question: {question}\n",
    "        Answer:\n",
    "        \"\"\".strip()\n",
    "\n",
    "    PROMPT = PromptTemplate.from_template(\n",
    "        template = prompt_template\n",
    "    )\n",
    "\n",
    "    PROMPT\n",
    "    #using str.format \n",
    "    #The placeholder is defined using curly brackets: {} {}\n",
    "    doc_chain = load_qa_chain(\n",
    "        llm = llm,\n",
    "        chain_type = 'stuff',\n",
    "        prompt = PROMPT,\n",
    "        verbose = True\n",
    "    )\n",
    "\n",
    "    memory = ConversationBufferWindowMemory(\n",
    "        k=1, \n",
    "        memory_key = \"chat_history\",\n",
    "        return_messages = True,\n",
    "        output_key = 'answer'\n",
    "    )\n",
    "\n",
    "    chain = ConversationalRetrievalChain(\n",
    "        retriever=retriever,\n",
    "        question_generator=question_generator,\n",
    "        combine_docs_chain=doc_chain,\n",
    "        return_source_documents=True,\n",
    "        memory=memory,\n",
    "        verbose=True,\n",
    "        get_chat_history=lambda h : h\n",
    "    )\n",
    "    \n",
    "    return chain"
   ]
  },
  {
   "cell_type": "code",
   "execution_count": 19,
   "metadata": {},
   "outputs": [],
   "source": [
    "def chat_answer(prompt_question, llm):\n",
    "    torch.cuda.empty_cache()\n",
    "    retriever = choose_vector_store(prompt_question, 100)\n",
    "    chain = create_chain(llm, retriever)\n",
    "    answer = chain({\"question\":prompt_question})\n",
    "\n",
    "    return answer\n"
   ]
  },
  {
   "cell_type": "code",
   "execution_count": null,
   "metadata": {},
   "outputs": [],
   "source": [
    "prompt_question = \"Can you tell me what crossbows are available?\"\n",
    "llm = gpt2_model()\n",
    "answer = chat_answer(prompt_question, llm)\n",
    "answer"
   ]
  },
  {
   "cell_type": "code",
   "execution_count": null,
   "metadata": {},
   "outputs": [],
   "source": [
    "prompt_question = \"What is the best eye liner?\"\n",
    "llm = t5_model()\n",
    "answer = chat_answer(prompt_question, llm)\n",
    "answer"
   ]
  },
  {
   "cell_type": "code",
   "execution_count": 20,
   "metadata": {},
   "outputs": [
    {
     "name": "stderr",
     "output_type": "stream",
     "text": [
      "C:\\Users\\minnb\\AppData\\Local\\Packages\\PythonSoftwareFoundation.Python.3.11_qbz5n2kfra8p0\\LocalCache\\local-packages\\Python311\\site-packages\\langchain_core\\_api\\deprecation.py:117: LangChainDeprecationWarning: The function `__call__` was deprecated in LangChain 0.1.0 and will be removed in 0.2.0. Use invoke instead.\n",
      "  warn_deprecated(\n"
     ]
    },
    {
     "name": "stdout",
     "output_type": "stream",
     "text": [
      "\n",
      "\n",
      "\u001b[1m> Entering new ConversationalRetrievalChain chain...\u001b[0m\n"
     ]
    },
    {
     "name": "stderr",
     "output_type": "stream",
     "text": [
      "Token indices sequence length is longer than the specified maximum sequence length for this model (4144 > 512). Running this sequence through the model will result in indexing errors\n"
     ]
    },
    {
     "name": "stdout",
     "output_type": "stream",
     "text": [
      "\n",
      "\n",
      "\u001b[1m> Entering new StuffDocumentsChain chain...\u001b[0m\n",
      "\n",
      "\n",
      "\u001b[1m> Entering new LLMChain chain...\u001b[0m\n",
      "Prompt after formatting:\n",
      "\u001b[32;1m\u001b[1;3mTest prompt for NLP Amazon sales chatbot.\n",
      "        {\"title\": \"Gateway 15.6\\\" FHD Ultra Slim Budget Notebook, Intel Pentium Processor(4-Core, up to 3.1 GHz), 4GB RAM, 128GB Storage, Precision Touchpad, HDMI, Type-C Windows 10S, Microsoft 365 1 Year, Charcoal Black\", \"average_rating\": 4.1, \"rating_number\": 15, \"features\": [\"\\u3010Processor\\u30114 Core, 4 Threads, 4MB Cache, up to 3.1 GHz. The perfect combination of performance, power consumption, and value helps your device handle multitasking smoothly and reliably with four processing cores to divide up the work.\", \"\\u3010Display\\u301115.6'' FHD (1920 x 1080) IPS Display, with up to 178 degree viewing angles, Non-touch Narrow Border Display, enjoy your photos, movies, and games on a crystal-clear FHD screen.\", \"\\u3010RAM and Storage\\u3011RAM is 4 GB high-bandwidth RAM to smoothly run multiple applications and browser tabs all at once; storage is is 128GB eMMC which Allows to Fast Boot-up and Data Transfer.\", \"\\u3010Office 365 for one year\\u3011 Get full access to Microsoft Excel, Word, PowerPoint, OneNote, Access, and 1 TB of One Drive storage for 1 year (Worth of $69.99).\", \"\\u3010Operating System\\u3011Windows 10 Home in S Mode (Free upgrade to Windows 11 Home, Activation required within 6-months of Windows activation)\", \"\\u3010Bundled Accessory\\u3011 Microfiber Cloth for Screen Cleaning.\"], \"description\": [\"Processor:\", \"Intel\\u00ae Pentium\\u00ae Silver N5030 Processor (1.10GHz, Up to 3.10GHz, 4M Cache)\", \"Display:\", \"15.6\\u201d LCD IPS Display, (1920 x 1080)\", \"Operating system:\", \"Windows 10\\u00a0Home 64-bit English in S mode\", \"Video Card:\", \"Intel UHD Graphics 605\", \"Memory:\", \"4 GB DDR4 RAM\", \"Hard drive Size:\", \"128GB eMMC\", \"Wireless:\", \"Wi-Fi5 (802.11ac) for speeds up to 3x faster than 802.11n\", \"Ports:\", \"HDMI Output x 1, USB Type-C x 1, USB 3.0 x 2\", \"Battery:\", \"Up to 8.5 hours of battery life\", \"Dimensions:\", \"14.8\\u201d x 9.6\\u201d x 0.8\\u201d Inches\", \"Weight:\", \"4.2lbs\", \"Color:\", \"Black\", \"ENERGY STAR Certified:\", \"Yes\", \"How to switch s mode to windows 10\", \"1.\", \"On your PC running Windows 10 in S mode, open Settings > Update & Security > Activation.\", \"2.\", \"In the Switch to Windows 10 Home or Switch to Windows 10 Pro section, select Go to the Store.\\u00a0(If you also see an \\\"Upgrade your edition of Windows\\\" section, be careful not to click the \\\"Go to the Store\\\" link that appears there.)\", \"3.\", \"On the Switch out of S mode (or similar) page that appears in the Microsoft Store, select the Get button. After you see a confirmation message on the page, you'll be able to install apps from outside of the Microsoft Store.\"], \"price\": \"189.99\", \"details\": \"{\\\"Standing screen display size\\\": \\\"15.6 Inches\\\", \\\"Max Screen Resolution\\\": \\\"1920 x 1080 Pixels\\\", \\\"Processor\\\": \\\"3.1 GHz pentium\\\", \\\"RAM\\\": \\\"DDR4\\\", \\\"Memory Speed\\\": \\\"3200 MHz\\\", \\\"Hard Drive\\\": \\\"256 GB SSD\\\", \\\"Graphics Coprocessor\\\": \\\"Intel UHD Graphics\\\", \\\"Chipset Brand\\\": \\\"Intel\\\", \\\"Card Description\\\": \\\"Integrated\\\", \\\"Graphics Card Ram Size\\\": \\\"1 GB\\\", \\\"Number of USB 3.0 Ports\\\": \\\"2\\\", \\\"Brand\\\": \\\"Gateway\\\", \\\"Series\\\": \\\"Gateway book\\\", \\\"Item model number\\\": \\\"GWTN156\\\", \\\"Hardware Platform\\\": \\\"PC\\\", \\\"Operating System\\\": \\\"Windows 10\\\", \\\"Item Weight\\\": \\\"4.2 pounds\\\", \\\"Product Dimensions\\\": \\\"14.8 x 9.6 x 0.8 inches\\\", \\\"Item Dimensions  LxWxH\\\": \\\"14.8 x 9.6 x 0.8 inches\\\", \\\"Color\\\": \\\"Black\\\", \\\"Processor Brand\\\": \\\"Intel\\\", \\\"Number of Processors\\\": \\\"4\\\", \\\"Computer Memory Type\\\": \\\"DDR4 SDRAM\\\", \\\"Hard Drive Interface\\\": \\\"Solid State\\\", \\\"Hard Drive Rotational Speed\\\": \\\"5400.00\\\", \\\"Optical Drive Type\\\": \\\"BD-R\\\", \\\"Best Sellers Rank\\\": {\\\"Computers & Accessories\\\": 1093, \\\"Traditional Laptop Computers\\\": 111}, \\\"Date First Available\\\": \\\"March 5, 2023\\\", \\\"Screen Size\\\": \\\"15.6 Inches\\\", \\\"Hard Disk Size\\\": \\\"256 GB\\\", \\\"CPU Model\\\": \\\"Pentium\\\", \\\"Ram Memory Installed Size\\\": \\\"4 GB\\\"}\"}\n",
      "\n",
      "{\"title\": \"Outer Space Planets Stickers(50Pcs),Planetary Systems Waterproof Vinyl Water Bottle Stickers for Teens Girls Adults Kids,Laptop Car Cup Computer Guitar Skateboard Luggage Phone Aesthetic Stickers Pack\", \"average_rating\": 4.5, \"rating_number\": 50, \"features\": [\"PROFESSIONAL STICKER SHOP.There are 50 different stickers in each pack. We have a large number of sticker users and fans, and have been recognized, there are AS MANY AS 300 TYPES of stickers, you can choose the type you like.\", \"100% WATERPROOF VINYL.The sticker is made of waterproof PVC material,WATERPROOF and UV RESISTANT. In addition, we've added a water-repellent layer of W.P.S 2.0, Prevent fading.\", \"NEW UPDATE QUALITY.EASY STICK ON DIFFERENT SURFACE. Stickers also remove without any effort.Each sticker is perfectly cut according to the shape and size.\", \"REWARD & GIRT.The best gift for your kids, friends, lovers to DIY decoration.AROUND 2-3.5 INCH each.You would receive the stickers patterns you see in the pictures.No random delivery and no duplicates.\", \"FASHIONABLE DECORATION.Suitable for dressing up various items. For example, laptops, Water bottles, Skateboards, Luggage, Bicycles, Cars, Travel Case, Bedroom,Mobile Phones,etc.\"], \"description\": [\"Features:\", \"- Clear picture and exquisite printing.\", \"- Can easily peel off and stick on other place.\", \"- Sun protection and Waterproof! Never faded out!\", \"- Just for smooth surface. Do not suitable for rough surface.\", \"How to use:\", \"1.Think about where you want to paste\", \"2.Clean the surface of the object\", \"3.Tear off the bottom paper\", \"4.Firmly stick the sticker on the surface of the object\", \"Specification\", \"Quantity:50 pieces\", \"Size : 2-3.5 inch\", \"Material : Waterproof vinyl PVC\"], \"price\": \"3.99\", \"details\": \"{\\\"Brand\\\": \\\"Affoto\\\", \\\"Color\\\": \\\"Outer Space\\\", \\\"Surface Recommendation\\\": \\\"Floor\\\", \\\"Room Type\\\": \\\"Bedroom\\\", \\\"Material\\\": \\\"Vinyl\\\", \\\"Theme\\\": \\\"Car,Number,Phone,Space\\\", \\\"Special Feature\\\": \\\"Waterproof\\\", \\\"Number of Pieces\\\": \\\"50\\\", \\\"Age Range (Description)\\\": \\\"Kid\\\", \\\"Installation Type\\\": \\\"Stick\\\", \\\"Reusability\\\": \\\"Single Use\\\", \\\"Pattern\\\": \\\"Variety Pack\\\", \\\"Shape\\\": \\\"Irregular\\\", \\\"Unit Count\\\": \\\"50.0 Count\\\", \\\"Package Dimensions\\\": \\\"4 x 3 x 0.2 inches\\\", \\\"Item Weight\\\": \\\"3.2 ounces\\\", \\\"Manufacturer\\\": \\\"Affoto\\\", \\\"Best Sellers Rank\\\": {\\\"Computers & Accessories\\\": 149147, \\\"Laptop Decals\\\": 24891}, \\\"Date First Available\\\": \\\"October 11, 2022\\\"}\"}\n",
      "\n",
      "{\"title\": \"Cable Clips with Strong Self-Adhesive, XIAOXI Cord Organizer Cable Management Organizing Cords Wire for Car, Home and Office - 20 Pcs (Clear)\", \"average_rating\": 4.3, \"rating_number\": 1062, \"features\": [\"\\u3010To achieve Maximum Adhesive\\u3011 Maximum Adhesive after 24 hours. Apply typically at 50-60 \\u00b0 F (10-26 \\u00b0 C). [WARNING: Lower temperature will affect adhesive].\", \"\\u3010Removal without damage\\u3011 The 3M 4950 VHB tape (the best tape) can be removed without destroying the surface. Small and compact, disassembly is easy and residue-free.\", \"\\u3010Size\\u3011 Length 29mm/1.16inch, Width 11mm/0.45inch, Height 11mm/0.45inch (Pack of 20 Pcs). Suitable For Diameter 7 mm/0.27inch (maximum), size fits most wires.\", \"\\u3010Lightweight and Solid\\u3011 With outstanding performance containing strength and toughness properties in extreme environments. Excellent performance while retaining strength and toughness properties in extreme environments.\", \"\\u3010Multi-purpose cables clips\\u3011Widely used in home, office and car. Special for power cords, charging cables, CAT-6 cables, USB cords, network cables, laptop power cable..etc.\"], \"description\": [], \"price\": \"None\", \"details\": \"{\\\"Product Dimensions\\\": \\\"1.14 x 0.43 x 0.43 inches\\\", \\\"Item Weight\\\": \\\"1.58 ounces\\\", \\\"Manufacturer\\\": \\\"XIAOXI\\\", \\\"Item model number\\\": \\\"XX000080\\\", \\\"Best Sellers Rank\\\": {\\\"Electronics\\\": 160275, \\\"Cable Straps\\\": 1526}, \\\"Date First Available\\\": \\\"September 26, 2019\\\", \\\"Brand\\\": \\\"XIAOXI\\\", \\\"Size\\\": \\\"20PACK\\\", \\\"Item Dimensions LxWxH\\\": \\\"1.14 x 0.43 x 0.43 inches\\\", \\\"Color\\\": \\\"Transparent\\\", \\\"Number of Pieces\\\": \\\"20\\\"}\"}\n",
      "\n",
      "{\"title\": \"Wenlaty Case Compatible with iPad 9th /8th /7th Generation Case(2021/2020/2019), Full Body Protective with Pencil Holder, Designed for iPad 10.2 Inch, Auto Sleep/Wake Cover, Sky Blue\", \"average_rating\": 4.7, \"rating_number\": 1915, \"features\": [\"\\ud83d\\ude0aDesigned for iPad 9th/8th/7th Generation: Protective case compatible with iPad 10.2 inch 2021/2020/2019, 9th/8th/7th Generation (Compatible Model: A2602 / A2603 / A2604 / A2605 / A2270 / A2428 / A2429 / A2430 / A2197 / A2200 / A2198). (Note: Not compatible with any other devices)\", \"\\ud83d\\udc49Premium-Quality & Perfect Fitness: This case is made of premium leather, giving it a luxurious appearance. It has a stitched interior lining that will protect your iPad, while the exterior provides an elegant look to the case. The water-resistant leather cover with velvety lining doesn\\u2019t just look good, it protects your iPad too.\\u00a0Meanwhile it's easy for perfect cutout to access to all the controls and features (Cameras, Speaker, Ports and Buttons)\", \"\\u2600\\ufe0fAutomatic Sleep/Wake: Don't need to touch a button to turn on your iPad. It automatically wakes up as soon as you open the cover. Automatically put it to sleep as soon as you close the cover, too. This helps preserve battery life, as well as gives you easy access to anything you left open\", \"\\ud83d\\udc9fBuilt-in Pencil holder: This case is specially designed to hold your pencil and features a hidden slot that allows you to take it with you wherever you go. (Note: Pencil is not included)\", \"\\ud83c\\udf3bComfortable Use: Featuring a trifold design that allows for two positions. In its 30\\u00b0 angle mode, the case can be used daily for both computer use and typing. When adjusted to a 65\\u00b0 angle, it is ideal for watching movies and reading. If you are relaxing or working, you can enjoy a stable platform all the time\", \"\\ud83d\\ude0dCrystal Hard PC Backshell: Made of clear hard PC backshell, whick looks like beautiful crystal. It can protect your iPad, meanwhile it can show the orignal beauty of your iPad\", \"\\ud83c\\udf81Perfect Gifts for Your Family: Very convenient to use in studying or journey, great ideal for kids, students, teachers, or engineers. It is the best gifts for kids, boys, husband, boyfriend, family and friends\"], \"description\": [], \"price\": \"19.99\", \"details\": \"{\\\"Product Dimensions\\\": \\\"9.91 x 7.3 x 0.47 inches\\\", \\\"Item Weight\\\": \\\"9.9 ounces\\\", \\\"Best Sellers Rank\\\": {\\\"Tablet Cases\\\": 4581}, \\\"Special features\\\": \\\"Anti-Slip\\\", \\\"Form Factor\\\": \\\"Case\\\", \\\"Color\\\": \\\"Sky Blue\\\", \\\"Manufacturer\\\": \\\"Wenlaty\\\", \\\"Country of Origin\\\": \\\"China\\\", \\\"Date First Available\\\": \\\"November 19, 2021\\\", \\\"Brand\\\": \\\"Wenlaty\\\", \\\"Compatible Devices\\\": \\\"10.2 inch iPad 7th Generation 2019 (A2197 A2198 A2200), 10.2 inch iPad 8th Generation 2020 (A2270 A2428 A2429 A2430), 10.2 inch iPad 9th Generation 2021 (A2602 A2603 A2604 A2605)10.2 inch iPad 7th Generation 2019 (A2197 A2198 A2200), 10.2 inch iPad 8th Generation 2020 (A2270 A2428 A2429 A2430), 10.2 inch iPad 9th Generation 2021 (A2602 A260\\\\u2026  See more\\\", \\\"Shell Type\\\": \\\"Hard\\\"}\"}\n",
      "        Question: What is the best eye liner?\n",
      "        Answer:\u001b[0m\n",
      "\n",
      "\u001b[1m> Finished chain.\u001b[0m\n",
      "\n",
      "\u001b[1m> Finished chain.\u001b[0m\n",
      "\n",
      "\u001b[1m> Finished chain.\u001b[0m\n"
     ]
    },
    {
     "data": {
      "text/plain": [
       "{'question': 'What is the best eye liner?',\n",
       " 'chat_history': [],\n",
       " 'answer': 'a smudge',\n",
       " 'source_documents': [Document(page_content='{\"title\": \"Gateway 15.6\\\\\" FHD Ultra Slim Budget Notebook, Intel Pentium Processor(4-Core, up to 3.1 GHz), 4GB RAM, 128GB Storage, Precision Touchpad, HDMI, Type-C Windows 10S, Microsoft 365 1 Year, Charcoal Black\", \"average_rating\": 4.1, \"rating_number\": 15, \"features\": [\"\\\\u3010Processor\\\\u30114 Core, 4 Threads, 4MB Cache, up to 3.1 GHz. The perfect combination of performance, power consumption, and value helps your device handle multitasking smoothly and reliably with four processing cores to divide up the work.\", \"\\\\u3010Display\\\\u301115.6\\'\\' FHD (1920 x 1080) IPS Display, with up to 178 degree viewing angles, Non-touch Narrow Border Display, enjoy your photos, movies, and games on a crystal-clear FHD screen.\", \"\\\\u3010RAM and Storage\\\\u3011RAM is 4 GB high-bandwidth RAM to smoothly run multiple applications and browser tabs all at once; storage is is 128GB eMMC which Allows to Fast Boot-up and Data Transfer.\", \"\\\\u3010Office 365 for one year\\\\u3011 Get full access to Microsoft Excel, Word, PowerPoint, OneNote, Access, and 1 TB of One Drive storage for 1 year (Worth of $69.99).\", \"\\\\u3010Operating System\\\\u3011Windows 10 Home in S Mode (Free upgrade to Windows 11 Home, Activation required within 6-months of Windows activation)\", \"\\\\u3010Bundled Accessory\\\\u3011 Microfiber Cloth for Screen Cleaning.\"], \"description\": [\"Processor:\", \"Intel\\\\u00ae Pentium\\\\u00ae Silver N5030 Processor (1.10GHz, Up to 3.10GHz, 4M Cache)\", \"Display:\", \"15.6\\\\u201d LCD IPS Display, (1920 x 1080)\", \"Operating system:\", \"Windows 10\\\\u00a0Home 64-bit English in S mode\", \"Video Card:\", \"Intel UHD Graphics 605\", \"Memory:\", \"4 GB DDR4 RAM\", \"Hard drive Size:\", \"128GB eMMC\", \"Wireless:\", \"Wi-Fi5 (802.11ac) for speeds up to 3x faster than 802.11n\", \"Ports:\", \"HDMI Output x 1, USB Type-C x 1, USB 3.0 x 2\", \"Battery:\", \"Up to 8.5 hours of battery life\", \"Dimensions:\", \"14.8\\\\u201d x 9.6\\\\u201d x 0.8\\\\u201d Inches\", \"Weight:\", \"4.2lbs\", \"Color:\", \"Black\", \"ENERGY STAR Certified:\", \"Yes\", \"How to switch s mode to windows 10\", \"1.\", \"On your PC running Windows 10 in S mode, open Settings > Update & Security > Activation.\", \"2.\", \"In the Switch to Windows 10 Home or Switch to Windows 10 Pro section, select Go to the Store.\\\\u00a0(If you also see an \\\\\"Upgrade your edition of Windows\\\\\" section, be careful not to click the \\\\\"Go to the Store\\\\\" link that appears there.)\", \"3.\", \"On the Switch out of S mode (or similar) page that appears in the Microsoft Store, select the Get button. After you see a confirmation message on the page, you\\'ll be able to install apps from outside of the Microsoft Store.\"], \"price\": \"189.99\", \"details\": \"{\\\\\"Standing screen display size\\\\\": \\\\\"15.6 Inches\\\\\", \\\\\"Max Screen Resolution\\\\\": \\\\\"1920 x 1080 Pixels\\\\\", \\\\\"Processor\\\\\": \\\\\"3.1 GHz pentium\\\\\", \\\\\"RAM\\\\\": \\\\\"DDR4\\\\\", \\\\\"Memory Speed\\\\\": \\\\\"3200 MHz\\\\\", \\\\\"Hard Drive\\\\\": \\\\\"256 GB SSD\\\\\", \\\\\"Graphics Coprocessor\\\\\": \\\\\"Intel UHD Graphics\\\\\", \\\\\"Chipset Brand\\\\\": \\\\\"Intel\\\\\", \\\\\"Card Description\\\\\": \\\\\"Integrated\\\\\", \\\\\"Graphics Card Ram Size\\\\\": \\\\\"1 GB\\\\\", \\\\\"Number of USB 3.0 Ports\\\\\": \\\\\"2\\\\\", \\\\\"Brand\\\\\": \\\\\"Gateway\\\\\", \\\\\"Series\\\\\": \\\\\"Gateway book\\\\\", \\\\\"Item model number\\\\\": \\\\\"GWTN156\\\\\", \\\\\"Hardware Platform\\\\\": \\\\\"PC\\\\\", \\\\\"Operating System\\\\\": \\\\\"Windows 10\\\\\", \\\\\"Item Weight\\\\\": \\\\\"4.2 pounds\\\\\", \\\\\"Product Dimensions\\\\\": \\\\\"14.8 x 9.6 x 0.8 inches\\\\\", \\\\\"Item Dimensions  LxWxH\\\\\": \\\\\"14.8 x 9.6 x 0.8 inches\\\\\", \\\\\"Color\\\\\": \\\\\"Black\\\\\", \\\\\"Processor Brand\\\\\": \\\\\"Intel\\\\\", \\\\\"Number of Processors\\\\\": \\\\\"4\\\\\", \\\\\"Computer Memory Type\\\\\": \\\\\"DDR4 SDRAM\\\\\", \\\\\"Hard Drive Interface\\\\\": \\\\\"Solid State\\\\\", \\\\\"Hard Drive Rotational Speed\\\\\": \\\\\"5400.00\\\\\", \\\\\"Optical Drive Type\\\\\": \\\\\"BD-R\\\\\", \\\\\"Best Sellers Rank\\\\\": {\\\\\"Computers & Accessories\\\\\": 1093, \\\\\"Traditional Laptop Computers\\\\\": 111}, \\\\\"Date First Available\\\\\": \\\\\"March 5, 2023\\\\\", \\\\\"Screen Size\\\\\": \\\\\"15.6 Inches\\\\\", \\\\\"Hard Disk Size\\\\\": \\\\\"256 GB\\\\\", \\\\\"CPU Model\\\\\": \\\\\"Pentium\\\\\", \\\\\"Ram Memory Installed Size\\\\\": \\\\\"4 GB\\\\\"}\"}'),\n",
       "  Document(page_content='{\"title\": \"Outer Space Planets Stickers(50Pcs),Planetary Systems Waterproof Vinyl Water Bottle Stickers for Teens Girls Adults Kids,Laptop Car Cup Computer Guitar Skateboard Luggage Phone Aesthetic Stickers Pack\", \"average_rating\": 4.5, \"rating_number\": 50, \"features\": [\"PROFESSIONAL STICKER SHOP.There are 50 different stickers in each pack. We have a large number of sticker users and fans, and have been recognized, there are AS MANY AS 300 TYPES of stickers, you can choose the type you like.\", \"100% WATERPROOF VINYL.The sticker is made of waterproof PVC material,WATERPROOF and UV RESISTANT. In addition, we\\'ve added a water-repellent layer of W.P.S 2.0, Prevent fading.\", \"NEW UPDATE QUALITY.EASY STICK ON DIFFERENT SURFACE. Stickers also remove without any effort.Each sticker is perfectly cut according to the shape and size.\", \"REWARD & GIRT.The best gift for your kids, friends, lovers to DIY decoration.AROUND 2-3.5 INCH each.You would receive the stickers patterns you see in the pictures.No random delivery and no duplicates.\", \"FASHIONABLE DECORATION.Suitable for dressing up various items. For example, laptops, Water bottles, Skateboards, Luggage, Bicycles, Cars, Travel Case, Bedroom,Mobile Phones,etc.\"], \"description\": [\"Features:\", \"- Clear picture and exquisite printing.\", \"- Can easily peel off and stick on other place.\", \"- Sun protection and Waterproof! Never faded out!\", \"- Just for smooth surface. Do not suitable for rough surface.\", \"How to use:\", \"1.Think about where you want to paste\", \"2.Clean the surface of the object\", \"3.Tear off the bottom paper\", \"4.Firmly stick the sticker on the surface of the object\", \"Specification\", \"Quantity:50 pieces\", \"Size : 2-3.5 inch\", \"Material : Waterproof vinyl PVC\"], \"price\": \"3.99\", \"details\": \"{\\\\\"Brand\\\\\": \\\\\"Affoto\\\\\", \\\\\"Color\\\\\": \\\\\"Outer Space\\\\\", \\\\\"Surface Recommendation\\\\\": \\\\\"Floor\\\\\", \\\\\"Room Type\\\\\": \\\\\"Bedroom\\\\\", \\\\\"Material\\\\\": \\\\\"Vinyl\\\\\", \\\\\"Theme\\\\\": \\\\\"Car,Number,Phone,Space\\\\\", \\\\\"Special Feature\\\\\": \\\\\"Waterproof\\\\\", \\\\\"Number of Pieces\\\\\": \\\\\"50\\\\\", \\\\\"Age Range (Description)\\\\\": \\\\\"Kid\\\\\", \\\\\"Installation Type\\\\\": \\\\\"Stick\\\\\", \\\\\"Reusability\\\\\": \\\\\"Single Use\\\\\", \\\\\"Pattern\\\\\": \\\\\"Variety Pack\\\\\", \\\\\"Shape\\\\\": \\\\\"Irregular\\\\\", \\\\\"Unit Count\\\\\": \\\\\"50.0 Count\\\\\", \\\\\"Package Dimensions\\\\\": \\\\\"4 x 3 x 0.2 inches\\\\\", \\\\\"Item Weight\\\\\": \\\\\"3.2 ounces\\\\\", \\\\\"Manufacturer\\\\\": \\\\\"Affoto\\\\\", \\\\\"Best Sellers Rank\\\\\": {\\\\\"Computers & Accessories\\\\\": 149147, \\\\\"Laptop Decals\\\\\": 24891}, \\\\\"Date First Available\\\\\": \\\\\"October 11, 2022\\\\\"}\"}'),\n",
       "  Document(page_content='{\"title\": \"Cable Clips with Strong Self-Adhesive, XIAOXI Cord Organizer Cable Management Organizing Cords Wire for Car, Home and Office - 20 Pcs (Clear)\", \"average_rating\": 4.3, \"rating_number\": 1062, \"features\": [\"\\\\u3010To achieve Maximum Adhesive\\\\u3011 Maximum Adhesive after 24 hours. Apply typically at 50-60 \\\\u00b0 F (10-26 \\\\u00b0 C). [WARNING: Lower temperature will affect adhesive].\", \"\\\\u3010Removal without damage\\\\u3011 The 3M 4950 VHB tape (the best tape) can be removed without destroying the surface. Small and compact, disassembly is easy and residue-free.\", \"\\\\u3010Size\\\\u3011 Length 29mm/1.16inch, Width 11mm/0.45inch, Height 11mm/0.45inch (Pack of 20 Pcs). Suitable For Diameter 7 mm/0.27inch (maximum), size fits most wires.\", \"\\\\u3010Lightweight and Solid\\\\u3011 With outstanding performance containing strength and toughness properties in extreme environments. Excellent performance while retaining strength and toughness properties in extreme environments.\", \"\\\\u3010Multi-purpose cables clips\\\\u3011Widely used in home, office and car. Special for power cords, charging cables, CAT-6 cables, USB cords, network cables, laptop power cable..etc.\"], \"description\": [], \"price\": \"None\", \"details\": \"{\\\\\"Product Dimensions\\\\\": \\\\\"1.14 x 0.43 x 0.43 inches\\\\\", \\\\\"Item Weight\\\\\": \\\\\"1.58 ounces\\\\\", \\\\\"Manufacturer\\\\\": \\\\\"XIAOXI\\\\\", \\\\\"Item model number\\\\\": \\\\\"XX000080\\\\\", \\\\\"Best Sellers Rank\\\\\": {\\\\\"Electronics\\\\\": 160275, \\\\\"Cable Straps\\\\\": 1526}, \\\\\"Date First Available\\\\\": \\\\\"September 26, 2019\\\\\", \\\\\"Brand\\\\\": \\\\\"XIAOXI\\\\\", \\\\\"Size\\\\\": \\\\\"20PACK\\\\\", \\\\\"Item Dimensions LxWxH\\\\\": \\\\\"1.14 x 0.43 x 0.43 inches\\\\\", \\\\\"Color\\\\\": \\\\\"Transparent\\\\\", \\\\\"Number of Pieces\\\\\": \\\\\"20\\\\\"}\"}'),\n",
       "  Document(page_content='{\"title\": \"Wenlaty Case Compatible with iPad 9th /8th /7th Generation Case(2021/2020/2019), Full Body Protective with Pencil Holder, Designed for iPad 10.2 Inch, Auto Sleep/Wake Cover, Sky Blue\", \"average_rating\": 4.7, \"rating_number\": 1915, \"features\": [\"\\\\ud83d\\\\ude0aDesigned for iPad 9th/8th/7th Generation: Protective case compatible with iPad 10.2 inch 2021/2020/2019, 9th/8th/7th Generation (Compatible Model: A2602 / A2603 / A2604 / A2605 / A2270 / A2428 / A2429 / A2430 / A2197 / A2200 / A2198). (Note: Not compatible with any other devices)\", \"\\\\ud83d\\\\udc49Premium-Quality & Perfect Fitness: This case is made of premium leather, giving it a luxurious appearance. It has a stitched interior lining that will protect your iPad, while the exterior provides an elegant look to the case. The water-resistant leather cover with velvety lining doesn\\\\u2019t just look good, it protects your iPad too.\\\\u00a0Meanwhile it\\'s easy for perfect cutout to access to all the controls and features (Cameras, Speaker, Ports and Buttons)\", \"\\\\u2600\\\\ufe0fAutomatic Sleep/Wake: Don\\'t need to touch a button to turn on your iPad. It automatically wakes up as soon as you open the cover. Automatically put it to sleep as soon as you close the cover, too. This helps preserve battery life, as well as gives you easy access to anything you left open\", \"\\\\ud83d\\\\udc9fBuilt-in Pencil holder: This case is specially designed to hold your pencil and features a hidden slot that allows you to take it with you wherever you go. (Note: Pencil is not included)\", \"\\\\ud83c\\\\udf3bComfortable Use: Featuring a trifold design that allows for two positions. In its 30\\\\u00b0 angle mode, the case can be used daily for both computer use and typing. When adjusted to a 65\\\\u00b0 angle, it is ideal for watching movies and reading. If you are relaxing or working, you can enjoy a stable platform all the time\", \"\\\\ud83d\\\\ude0dCrystal Hard PC Backshell: Made of clear hard PC backshell, whick looks like beautiful crystal. It can protect your iPad, meanwhile it can show the orignal beauty of your iPad\", \"\\\\ud83c\\\\udf81Perfect Gifts for Your Family: Very convenient to use in studying or journey, great ideal for kids, students, teachers, or engineers. It is the best gifts for kids, boys, husband, boyfriend, family and friends\"], \"description\": [], \"price\": \"19.99\", \"details\": \"{\\\\\"Product Dimensions\\\\\": \\\\\"9.91 x 7.3 x 0.47 inches\\\\\", \\\\\"Item Weight\\\\\": \\\\\"9.9 ounces\\\\\", \\\\\"Best Sellers Rank\\\\\": {\\\\\"Tablet Cases\\\\\": 4581}, \\\\\"Special features\\\\\": \\\\\"Anti-Slip\\\\\", \\\\\"Form Factor\\\\\": \\\\\"Case\\\\\", \\\\\"Color\\\\\": \\\\\"Sky Blue\\\\\", \\\\\"Manufacturer\\\\\": \\\\\"Wenlaty\\\\\", \\\\\"Country of Origin\\\\\": \\\\\"China\\\\\", \\\\\"Date First Available\\\\\": \\\\\"November 19, 2021\\\\\", \\\\\"Brand\\\\\": \\\\\"Wenlaty\\\\\", \\\\\"Compatible Devices\\\\\": \\\\\"10.2 inch iPad 7th Generation 2019 (A2197 A2198 A2200), 10.2 inch iPad 8th Generation 2020 (A2270 A2428 A2429 A2430), 10.2 inch iPad 9th Generation 2021 (A2602 A2603 A2604 A2605)10.2 inch iPad 7th Generation 2019 (A2197 A2198 A2200), 10.2 inch iPad 8th Generation 2020 (A2270 A2428 A2429 A2430), 10.2 inch iPad 9th Generation 2021 (A2602 A260\\\\\\\\u2026  See more\\\\\", \\\\\"Shell Type\\\\\": \\\\\"Hard\\\\\"}\"}')]}"
      ]
     },
     "execution_count": 20,
     "metadata": {},
     "output_type": "execute_result"
    }
   ],
   "source": [
    "prompt_question = \"What is the best eye liner?\"\n",
    "llm = flan_t5_model()\n",
    "answer = chat_answer(prompt_question, llm)\n",
    "answer"
   ]
  },
  {
   "cell_type": "code",
   "execution_count": 21,
   "metadata": {},
   "outputs": [
    {
     "name": "stderr",
     "output_type": "stream",
     "text": [
      "Token indices sequence length is longer than the specified maximum sequence length for this model (4144 > 512). Running this sequence through the model will result in indexing errors\n"
     ]
    },
    {
     "name": "stdout",
     "output_type": "stream",
     "text": [
      "\n",
      "\n",
      "\u001b[1m> Entering new ConversationalRetrievalChain chain...\u001b[0m\n",
      "\n",
      "\n",
      "\u001b[1m> Entering new StuffDocumentsChain chain...\u001b[0m\n",
      "\n",
      "\n",
      "\u001b[1m> Entering new LLMChain chain...\u001b[0m\n",
      "Prompt after formatting:\n",
      "\u001b[32;1m\u001b[1;3mTest prompt for NLP Amazon sales chatbot.\n",
      "        {\"title\": \"Gateway 15.6\\\" FHD Ultra Slim Budget Notebook, Intel Pentium Processor(4-Core, up to 3.1 GHz), 4GB RAM, 128GB Storage, Precision Touchpad, HDMI, Type-C Windows 10S, Microsoft 365 1 Year, Charcoal Black\", \"average_rating\": 4.1, \"rating_number\": 15, \"features\": [\"\\u3010Processor\\u30114 Core, 4 Threads, 4MB Cache, up to 3.1 GHz. The perfect combination of performance, power consumption, and value helps your device handle multitasking smoothly and reliably with four processing cores to divide up the work.\", \"\\u3010Display\\u301115.6'' FHD (1920 x 1080) IPS Display, with up to 178 degree viewing angles, Non-touch Narrow Border Display, enjoy your photos, movies, and games on a crystal-clear FHD screen.\", \"\\u3010RAM and Storage\\u3011RAM is 4 GB high-bandwidth RAM to smoothly run multiple applications and browser tabs all at once; storage is is 128GB eMMC which Allows to Fast Boot-up and Data Transfer.\", \"\\u3010Office 365 for one year\\u3011 Get full access to Microsoft Excel, Word, PowerPoint, OneNote, Access, and 1 TB of One Drive storage for 1 year (Worth of $69.99).\", \"\\u3010Operating System\\u3011Windows 10 Home in S Mode (Free upgrade to Windows 11 Home, Activation required within 6-months of Windows activation)\", \"\\u3010Bundled Accessory\\u3011 Microfiber Cloth for Screen Cleaning.\"], \"description\": [\"Processor:\", \"Intel\\u00ae Pentium\\u00ae Silver N5030 Processor (1.10GHz, Up to 3.10GHz, 4M Cache)\", \"Display:\", \"15.6\\u201d LCD IPS Display, (1920 x 1080)\", \"Operating system:\", \"Windows 10\\u00a0Home 64-bit English in S mode\", \"Video Card:\", \"Intel UHD Graphics 605\", \"Memory:\", \"4 GB DDR4 RAM\", \"Hard drive Size:\", \"128GB eMMC\", \"Wireless:\", \"Wi-Fi5 (802.11ac) for speeds up to 3x faster than 802.11n\", \"Ports:\", \"HDMI Output x 1, USB Type-C x 1, USB 3.0 x 2\", \"Battery:\", \"Up to 8.5 hours of battery life\", \"Dimensions:\", \"14.8\\u201d x 9.6\\u201d x 0.8\\u201d Inches\", \"Weight:\", \"4.2lbs\", \"Color:\", \"Black\", \"ENERGY STAR Certified:\", \"Yes\", \"How to switch s mode to windows 10\", \"1.\", \"On your PC running Windows 10 in S mode, open Settings > Update & Security > Activation.\", \"2.\", \"In the Switch to Windows 10 Home or Switch to Windows 10 Pro section, select Go to the Store.\\u00a0(If you also see an \\\"Upgrade your edition of Windows\\\" section, be careful not to click the \\\"Go to the Store\\\" link that appears there.)\", \"3.\", \"On the Switch out of S mode (or similar) page that appears in the Microsoft Store, select the Get button. After you see a confirmation message on the page, you'll be able to install apps from outside of the Microsoft Store.\"], \"price\": \"189.99\", \"details\": \"{\\\"Standing screen display size\\\": \\\"15.6 Inches\\\", \\\"Max Screen Resolution\\\": \\\"1920 x 1080 Pixels\\\", \\\"Processor\\\": \\\"3.1 GHz pentium\\\", \\\"RAM\\\": \\\"DDR4\\\", \\\"Memory Speed\\\": \\\"3200 MHz\\\", \\\"Hard Drive\\\": \\\"256 GB SSD\\\", \\\"Graphics Coprocessor\\\": \\\"Intel UHD Graphics\\\", \\\"Chipset Brand\\\": \\\"Intel\\\", \\\"Card Description\\\": \\\"Integrated\\\", \\\"Graphics Card Ram Size\\\": \\\"1 GB\\\", \\\"Number of USB 3.0 Ports\\\": \\\"2\\\", \\\"Brand\\\": \\\"Gateway\\\", \\\"Series\\\": \\\"Gateway book\\\", \\\"Item model number\\\": \\\"GWTN156\\\", \\\"Hardware Platform\\\": \\\"PC\\\", \\\"Operating System\\\": \\\"Windows 10\\\", \\\"Item Weight\\\": \\\"4.2 pounds\\\", \\\"Product Dimensions\\\": \\\"14.8 x 9.6 x 0.8 inches\\\", \\\"Item Dimensions  LxWxH\\\": \\\"14.8 x 9.6 x 0.8 inches\\\", \\\"Color\\\": \\\"Black\\\", \\\"Processor Brand\\\": \\\"Intel\\\", \\\"Number of Processors\\\": \\\"4\\\", \\\"Computer Memory Type\\\": \\\"DDR4 SDRAM\\\", \\\"Hard Drive Interface\\\": \\\"Solid State\\\", \\\"Hard Drive Rotational Speed\\\": \\\"5400.00\\\", \\\"Optical Drive Type\\\": \\\"BD-R\\\", \\\"Best Sellers Rank\\\": {\\\"Computers & Accessories\\\": 1093, \\\"Traditional Laptop Computers\\\": 111}, \\\"Date First Available\\\": \\\"March 5, 2023\\\", \\\"Screen Size\\\": \\\"15.6 Inches\\\", \\\"Hard Disk Size\\\": \\\"256 GB\\\", \\\"CPU Model\\\": \\\"Pentium\\\", \\\"Ram Memory Installed Size\\\": \\\"4 GB\\\"}\"}\n",
      "\n",
      "{\"title\": \"Outer Space Planets Stickers(50Pcs),Planetary Systems Waterproof Vinyl Water Bottle Stickers for Teens Girls Adults Kids,Laptop Car Cup Computer Guitar Skateboard Luggage Phone Aesthetic Stickers Pack\", \"average_rating\": 4.5, \"rating_number\": 50, \"features\": [\"PROFESSIONAL STICKER SHOP.There are 50 different stickers in each pack. We have a large number of sticker users and fans, and have been recognized, there are AS MANY AS 300 TYPES of stickers, you can choose the type you like.\", \"100% WATERPROOF VINYL.The sticker is made of waterproof PVC material,WATERPROOF and UV RESISTANT. In addition, we've added a water-repellent layer of W.P.S 2.0, Prevent fading.\", \"NEW UPDATE QUALITY.EASY STICK ON DIFFERENT SURFACE. Stickers also remove without any effort.Each sticker is perfectly cut according to the shape and size.\", \"REWARD & GIRT.The best gift for your kids, friends, lovers to DIY decoration.AROUND 2-3.5 INCH each.You would receive the stickers patterns you see in the pictures.No random delivery and no duplicates.\", \"FASHIONABLE DECORATION.Suitable for dressing up various items. For example, laptops, Water bottles, Skateboards, Luggage, Bicycles, Cars, Travel Case, Bedroom,Mobile Phones,etc.\"], \"description\": [\"Features:\", \"- Clear picture and exquisite printing.\", \"- Can easily peel off and stick on other place.\", \"- Sun protection and Waterproof! Never faded out!\", \"- Just for smooth surface. Do not suitable for rough surface.\", \"How to use:\", \"1.Think about where you want to paste\", \"2.Clean the surface of the object\", \"3.Tear off the bottom paper\", \"4.Firmly stick the sticker on the surface of the object\", \"Specification\", \"Quantity:50 pieces\", \"Size : 2-3.5 inch\", \"Material : Waterproof vinyl PVC\"], \"price\": \"3.99\", \"details\": \"{\\\"Brand\\\": \\\"Affoto\\\", \\\"Color\\\": \\\"Outer Space\\\", \\\"Surface Recommendation\\\": \\\"Floor\\\", \\\"Room Type\\\": \\\"Bedroom\\\", \\\"Material\\\": \\\"Vinyl\\\", \\\"Theme\\\": \\\"Car,Number,Phone,Space\\\", \\\"Special Feature\\\": \\\"Waterproof\\\", \\\"Number of Pieces\\\": \\\"50\\\", \\\"Age Range (Description)\\\": \\\"Kid\\\", \\\"Installation Type\\\": \\\"Stick\\\", \\\"Reusability\\\": \\\"Single Use\\\", \\\"Pattern\\\": \\\"Variety Pack\\\", \\\"Shape\\\": \\\"Irregular\\\", \\\"Unit Count\\\": \\\"50.0 Count\\\", \\\"Package Dimensions\\\": \\\"4 x 3 x 0.2 inches\\\", \\\"Item Weight\\\": \\\"3.2 ounces\\\", \\\"Manufacturer\\\": \\\"Affoto\\\", \\\"Best Sellers Rank\\\": {\\\"Computers & Accessories\\\": 149147, \\\"Laptop Decals\\\": 24891}, \\\"Date First Available\\\": \\\"October 11, 2022\\\"}\"}\n",
      "\n",
      "{\"title\": \"Cable Clips with Strong Self-Adhesive, XIAOXI Cord Organizer Cable Management Organizing Cords Wire for Car, Home and Office - 20 Pcs (Clear)\", \"average_rating\": 4.3, \"rating_number\": 1062, \"features\": [\"\\u3010To achieve Maximum Adhesive\\u3011 Maximum Adhesive after 24 hours. Apply typically at 50-60 \\u00b0 F (10-26 \\u00b0 C). [WARNING: Lower temperature will affect adhesive].\", \"\\u3010Removal without damage\\u3011 The 3M 4950 VHB tape (the best tape) can be removed without destroying the surface. Small and compact, disassembly is easy and residue-free.\", \"\\u3010Size\\u3011 Length 29mm/1.16inch, Width 11mm/0.45inch, Height 11mm/0.45inch (Pack of 20 Pcs). Suitable For Diameter 7 mm/0.27inch (maximum), size fits most wires.\", \"\\u3010Lightweight and Solid\\u3011 With outstanding performance containing strength and toughness properties in extreme environments. Excellent performance while retaining strength and toughness properties in extreme environments.\", \"\\u3010Multi-purpose cables clips\\u3011Widely used in home, office and car. Special for power cords, charging cables, CAT-6 cables, USB cords, network cables, laptop power cable..etc.\"], \"description\": [], \"price\": \"None\", \"details\": \"{\\\"Product Dimensions\\\": \\\"1.14 x 0.43 x 0.43 inches\\\", \\\"Item Weight\\\": \\\"1.58 ounces\\\", \\\"Manufacturer\\\": \\\"XIAOXI\\\", \\\"Item model number\\\": \\\"XX000080\\\", \\\"Best Sellers Rank\\\": {\\\"Electronics\\\": 160275, \\\"Cable Straps\\\": 1526}, \\\"Date First Available\\\": \\\"September 26, 2019\\\", \\\"Brand\\\": \\\"XIAOXI\\\", \\\"Size\\\": \\\"20PACK\\\", \\\"Item Dimensions LxWxH\\\": \\\"1.14 x 0.43 x 0.43 inches\\\", \\\"Color\\\": \\\"Transparent\\\", \\\"Number of Pieces\\\": \\\"20\\\"}\"}\n",
      "\n",
      "{\"title\": \"Wenlaty Case Compatible with iPad 9th /8th /7th Generation Case(2021/2020/2019), Full Body Protective with Pencil Holder, Designed for iPad 10.2 Inch, Auto Sleep/Wake Cover, Sky Blue\", \"average_rating\": 4.7, \"rating_number\": 1915, \"features\": [\"\\ud83d\\ude0aDesigned for iPad 9th/8th/7th Generation: Protective case compatible with iPad 10.2 inch 2021/2020/2019, 9th/8th/7th Generation (Compatible Model: A2602 / A2603 / A2604 / A2605 / A2270 / A2428 / A2429 / A2430 / A2197 / A2200 / A2198). (Note: Not compatible with any other devices)\", \"\\ud83d\\udc49Premium-Quality & Perfect Fitness: This case is made of premium leather, giving it a luxurious appearance. It has a stitched interior lining that will protect your iPad, while the exterior provides an elegant look to the case. The water-resistant leather cover with velvety lining doesn\\u2019t just look good, it protects your iPad too.\\u00a0Meanwhile it's easy for perfect cutout to access to all the controls and features (Cameras, Speaker, Ports and Buttons)\", \"\\u2600\\ufe0fAutomatic Sleep/Wake: Don't need to touch a button to turn on your iPad. It automatically wakes up as soon as you open the cover. Automatically put it to sleep as soon as you close the cover, too. This helps preserve battery life, as well as gives you easy access to anything you left open\", \"\\ud83d\\udc9fBuilt-in Pencil holder: This case is specially designed to hold your pencil and features a hidden slot that allows you to take it with you wherever you go. (Note: Pencil is not included)\", \"\\ud83c\\udf3bComfortable Use: Featuring a trifold design that allows for two positions. In its 30\\u00b0 angle mode, the case can be used daily for both computer use and typing. When adjusted to a 65\\u00b0 angle, it is ideal for watching movies and reading. If you are relaxing or working, you can enjoy a stable platform all the time\", \"\\ud83d\\ude0dCrystal Hard PC Backshell: Made of clear hard PC backshell, whick looks like beautiful crystal. It can protect your iPad, meanwhile it can show the orignal beauty of your iPad\", \"\\ud83c\\udf81Perfect Gifts for Your Family: Very convenient to use in studying or journey, great ideal for kids, students, teachers, or engineers. It is the best gifts for kids, boys, husband, boyfriend, family and friends\"], \"description\": [], \"price\": \"19.99\", \"details\": \"{\\\"Product Dimensions\\\": \\\"9.91 x 7.3 x 0.47 inches\\\", \\\"Item Weight\\\": \\\"9.9 ounces\\\", \\\"Best Sellers Rank\\\": {\\\"Tablet Cases\\\": 4581}, \\\"Special features\\\": \\\"Anti-Slip\\\", \\\"Form Factor\\\": \\\"Case\\\", \\\"Color\\\": \\\"Sky Blue\\\", \\\"Manufacturer\\\": \\\"Wenlaty\\\", \\\"Country of Origin\\\": \\\"China\\\", \\\"Date First Available\\\": \\\"November 19, 2021\\\", \\\"Brand\\\": \\\"Wenlaty\\\", \\\"Compatible Devices\\\": \\\"10.2 inch iPad 7th Generation 2019 (A2197 A2198 A2200), 10.2 inch iPad 8th Generation 2020 (A2270 A2428 A2429 A2430), 10.2 inch iPad 9th Generation 2021 (A2602 A2603 A2604 A2605)10.2 inch iPad 7th Generation 2019 (A2197 A2198 A2200), 10.2 inch iPad 8th Generation 2020 (A2270 A2428 A2429 A2430), 10.2 inch iPad 9th Generation 2021 (A2602 A260\\\\u2026  See more\\\", \\\"Shell Type\\\": \\\"Hard\\\"}\"}\n",
      "        Question: What is the best eye liner?\n",
      "        Answer:\u001b[0m\n",
      "\n",
      "\u001b[1m> Finished chain.\u001b[0m\n",
      "\n",
      "\u001b[1m> Finished chain.\u001b[0m\n",
      "\n",
      "\u001b[1m> Finished chain.\u001b[0m\n"
     ]
    },
    {
     "data": {
      "text/plain": [
       "{'question': 'What is the best eye liner?',\n",
       " 'chat_history': [],\n",
       " 'answer': '[\"Wenlaty Case Compatible with iPad 9th/8th/7th Generation Case(2021/2020/2019), Full Body Protective with Pencil Holder, Designed for iPad 10.2 Inch, Auto Sleep/Wake Cover, Sky Blue\"]',\n",
       " 'source_documents': [Document(page_content='{\"title\": \"Gateway 15.6\\\\\" FHD Ultra Slim Budget Notebook, Intel Pentium Processor(4-Core, up to 3.1 GHz), 4GB RAM, 128GB Storage, Precision Touchpad, HDMI, Type-C Windows 10S, Microsoft 365 1 Year, Charcoal Black\", \"average_rating\": 4.1, \"rating_number\": 15, \"features\": [\"\\\\u3010Processor\\\\u30114 Core, 4 Threads, 4MB Cache, up to 3.1 GHz. The perfect combination of performance, power consumption, and value helps your device handle multitasking smoothly and reliably with four processing cores to divide up the work.\", \"\\\\u3010Display\\\\u301115.6\\'\\' FHD (1920 x 1080) IPS Display, with up to 178 degree viewing angles, Non-touch Narrow Border Display, enjoy your photos, movies, and games on a crystal-clear FHD screen.\", \"\\\\u3010RAM and Storage\\\\u3011RAM is 4 GB high-bandwidth RAM to smoothly run multiple applications and browser tabs all at once; storage is is 128GB eMMC which Allows to Fast Boot-up and Data Transfer.\", \"\\\\u3010Office 365 for one year\\\\u3011 Get full access to Microsoft Excel, Word, PowerPoint, OneNote, Access, and 1 TB of One Drive storage for 1 year (Worth of $69.99).\", \"\\\\u3010Operating System\\\\u3011Windows 10 Home in S Mode (Free upgrade to Windows 11 Home, Activation required within 6-months of Windows activation)\", \"\\\\u3010Bundled Accessory\\\\u3011 Microfiber Cloth for Screen Cleaning.\"], \"description\": [\"Processor:\", \"Intel\\\\u00ae Pentium\\\\u00ae Silver N5030 Processor (1.10GHz, Up to 3.10GHz, 4M Cache)\", \"Display:\", \"15.6\\\\u201d LCD IPS Display, (1920 x 1080)\", \"Operating system:\", \"Windows 10\\\\u00a0Home 64-bit English in S mode\", \"Video Card:\", \"Intel UHD Graphics 605\", \"Memory:\", \"4 GB DDR4 RAM\", \"Hard drive Size:\", \"128GB eMMC\", \"Wireless:\", \"Wi-Fi5 (802.11ac) for speeds up to 3x faster than 802.11n\", \"Ports:\", \"HDMI Output x 1, USB Type-C x 1, USB 3.0 x 2\", \"Battery:\", \"Up to 8.5 hours of battery life\", \"Dimensions:\", \"14.8\\\\u201d x 9.6\\\\u201d x 0.8\\\\u201d Inches\", \"Weight:\", \"4.2lbs\", \"Color:\", \"Black\", \"ENERGY STAR Certified:\", \"Yes\", \"How to switch s mode to windows 10\", \"1.\", \"On your PC running Windows 10 in S mode, open Settings > Update & Security > Activation.\", \"2.\", \"In the Switch to Windows 10 Home or Switch to Windows 10 Pro section, select Go to the Store.\\\\u00a0(If you also see an \\\\\"Upgrade your edition of Windows\\\\\" section, be careful not to click the \\\\\"Go to the Store\\\\\" link that appears there.)\", \"3.\", \"On the Switch out of S mode (or similar) page that appears in the Microsoft Store, select the Get button. After you see a confirmation message on the page, you\\'ll be able to install apps from outside of the Microsoft Store.\"], \"price\": \"189.99\", \"details\": \"{\\\\\"Standing screen display size\\\\\": \\\\\"15.6 Inches\\\\\", \\\\\"Max Screen Resolution\\\\\": \\\\\"1920 x 1080 Pixels\\\\\", \\\\\"Processor\\\\\": \\\\\"3.1 GHz pentium\\\\\", \\\\\"RAM\\\\\": \\\\\"DDR4\\\\\", \\\\\"Memory Speed\\\\\": \\\\\"3200 MHz\\\\\", \\\\\"Hard Drive\\\\\": \\\\\"256 GB SSD\\\\\", \\\\\"Graphics Coprocessor\\\\\": \\\\\"Intel UHD Graphics\\\\\", \\\\\"Chipset Brand\\\\\": \\\\\"Intel\\\\\", \\\\\"Card Description\\\\\": \\\\\"Integrated\\\\\", \\\\\"Graphics Card Ram Size\\\\\": \\\\\"1 GB\\\\\", \\\\\"Number of USB 3.0 Ports\\\\\": \\\\\"2\\\\\", \\\\\"Brand\\\\\": \\\\\"Gateway\\\\\", \\\\\"Series\\\\\": \\\\\"Gateway book\\\\\", \\\\\"Item model number\\\\\": \\\\\"GWTN156\\\\\", \\\\\"Hardware Platform\\\\\": \\\\\"PC\\\\\", \\\\\"Operating System\\\\\": \\\\\"Windows 10\\\\\", \\\\\"Item Weight\\\\\": \\\\\"4.2 pounds\\\\\", \\\\\"Product Dimensions\\\\\": \\\\\"14.8 x 9.6 x 0.8 inches\\\\\", \\\\\"Item Dimensions  LxWxH\\\\\": \\\\\"14.8 x 9.6 x 0.8 inches\\\\\", \\\\\"Color\\\\\": \\\\\"Black\\\\\", \\\\\"Processor Brand\\\\\": \\\\\"Intel\\\\\", \\\\\"Number of Processors\\\\\": \\\\\"4\\\\\", \\\\\"Computer Memory Type\\\\\": \\\\\"DDR4 SDRAM\\\\\", \\\\\"Hard Drive Interface\\\\\": \\\\\"Solid State\\\\\", \\\\\"Hard Drive Rotational Speed\\\\\": \\\\\"5400.00\\\\\", \\\\\"Optical Drive Type\\\\\": \\\\\"BD-R\\\\\", \\\\\"Best Sellers Rank\\\\\": {\\\\\"Computers & Accessories\\\\\": 1093, \\\\\"Traditional Laptop Computers\\\\\": 111}, \\\\\"Date First Available\\\\\": \\\\\"March 5, 2023\\\\\", \\\\\"Screen Size\\\\\": \\\\\"15.6 Inches\\\\\", \\\\\"Hard Disk Size\\\\\": \\\\\"256 GB\\\\\", \\\\\"CPU Model\\\\\": \\\\\"Pentium\\\\\", \\\\\"Ram Memory Installed Size\\\\\": \\\\\"4 GB\\\\\"}\"}'),\n",
       "  Document(page_content='{\"title\": \"Outer Space Planets Stickers(50Pcs),Planetary Systems Waterproof Vinyl Water Bottle Stickers for Teens Girls Adults Kids,Laptop Car Cup Computer Guitar Skateboard Luggage Phone Aesthetic Stickers Pack\", \"average_rating\": 4.5, \"rating_number\": 50, \"features\": [\"PROFESSIONAL STICKER SHOP.There are 50 different stickers in each pack. We have a large number of sticker users and fans, and have been recognized, there are AS MANY AS 300 TYPES of stickers, you can choose the type you like.\", \"100% WATERPROOF VINYL.The sticker is made of waterproof PVC material,WATERPROOF and UV RESISTANT. In addition, we\\'ve added a water-repellent layer of W.P.S 2.0, Prevent fading.\", \"NEW UPDATE QUALITY.EASY STICK ON DIFFERENT SURFACE. Stickers also remove without any effort.Each sticker is perfectly cut according to the shape and size.\", \"REWARD & GIRT.The best gift for your kids, friends, lovers to DIY decoration.AROUND 2-3.5 INCH each.You would receive the stickers patterns you see in the pictures.No random delivery and no duplicates.\", \"FASHIONABLE DECORATION.Suitable for dressing up various items. For example, laptops, Water bottles, Skateboards, Luggage, Bicycles, Cars, Travel Case, Bedroom,Mobile Phones,etc.\"], \"description\": [\"Features:\", \"- Clear picture and exquisite printing.\", \"- Can easily peel off and stick on other place.\", \"- Sun protection and Waterproof! Never faded out!\", \"- Just for smooth surface. Do not suitable for rough surface.\", \"How to use:\", \"1.Think about where you want to paste\", \"2.Clean the surface of the object\", \"3.Tear off the bottom paper\", \"4.Firmly stick the sticker on the surface of the object\", \"Specification\", \"Quantity:50 pieces\", \"Size : 2-3.5 inch\", \"Material : Waterproof vinyl PVC\"], \"price\": \"3.99\", \"details\": \"{\\\\\"Brand\\\\\": \\\\\"Affoto\\\\\", \\\\\"Color\\\\\": \\\\\"Outer Space\\\\\", \\\\\"Surface Recommendation\\\\\": \\\\\"Floor\\\\\", \\\\\"Room Type\\\\\": \\\\\"Bedroom\\\\\", \\\\\"Material\\\\\": \\\\\"Vinyl\\\\\", \\\\\"Theme\\\\\": \\\\\"Car,Number,Phone,Space\\\\\", \\\\\"Special Feature\\\\\": \\\\\"Waterproof\\\\\", \\\\\"Number of Pieces\\\\\": \\\\\"50\\\\\", \\\\\"Age Range (Description)\\\\\": \\\\\"Kid\\\\\", \\\\\"Installation Type\\\\\": \\\\\"Stick\\\\\", \\\\\"Reusability\\\\\": \\\\\"Single Use\\\\\", \\\\\"Pattern\\\\\": \\\\\"Variety Pack\\\\\", \\\\\"Shape\\\\\": \\\\\"Irregular\\\\\", \\\\\"Unit Count\\\\\": \\\\\"50.0 Count\\\\\", \\\\\"Package Dimensions\\\\\": \\\\\"4 x 3 x 0.2 inches\\\\\", \\\\\"Item Weight\\\\\": \\\\\"3.2 ounces\\\\\", \\\\\"Manufacturer\\\\\": \\\\\"Affoto\\\\\", \\\\\"Best Sellers Rank\\\\\": {\\\\\"Computers & Accessories\\\\\": 149147, \\\\\"Laptop Decals\\\\\": 24891}, \\\\\"Date First Available\\\\\": \\\\\"October 11, 2022\\\\\"}\"}'),\n",
       "  Document(page_content='{\"title\": \"Cable Clips with Strong Self-Adhesive, XIAOXI Cord Organizer Cable Management Organizing Cords Wire for Car, Home and Office - 20 Pcs (Clear)\", \"average_rating\": 4.3, \"rating_number\": 1062, \"features\": [\"\\\\u3010To achieve Maximum Adhesive\\\\u3011 Maximum Adhesive after 24 hours. Apply typically at 50-60 \\\\u00b0 F (10-26 \\\\u00b0 C). [WARNING: Lower temperature will affect adhesive].\", \"\\\\u3010Removal without damage\\\\u3011 The 3M 4950 VHB tape (the best tape) can be removed without destroying the surface. Small and compact, disassembly is easy and residue-free.\", \"\\\\u3010Size\\\\u3011 Length 29mm/1.16inch, Width 11mm/0.45inch, Height 11mm/0.45inch (Pack of 20 Pcs). Suitable For Diameter 7 mm/0.27inch (maximum), size fits most wires.\", \"\\\\u3010Lightweight and Solid\\\\u3011 With outstanding performance containing strength and toughness properties in extreme environments. Excellent performance while retaining strength and toughness properties in extreme environments.\", \"\\\\u3010Multi-purpose cables clips\\\\u3011Widely used in home, office and car. Special for power cords, charging cables, CAT-6 cables, USB cords, network cables, laptop power cable..etc.\"], \"description\": [], \"price\": \"None\", \"details\": \"{\\\\\"Product Dimensions\\\\\": \\\\\"1.14 x 0.43 x 0.43 inches\\\\\", \\\\\"Item Weight\\\\\": \\\\\"1.58 ounces\\\\\", \\\\\"Manufacturer\\\\\": \\\\\"XIAOXI\\\\\", \\\\\"Item model number\\\\\": \\\\\"XX000080\\\\\", \\\\\"Best Sellers Rank\\\\\": {\\\\\"Electronics\\\\\": 160275, \\\\\"Cable Straps\\\\\": 1526}, \\\\\"Date First Available\\\\\": \\\\\"September 26, 2019\\\\\", \\\\\"Brand\\\\\": \\\\\"XIAOXI\\\\\", \\\\\"Size\\\\\": \\\\\"20PACK\\\\\", \\\\\"Item Dimensions LxWxH\\\\\": \\\\\"1.14 x 0.43 x 0.43 inches\\\\\", \\\\\"Color\\\\\": \\\\\"Transparent\\\\\", \\\\\"Number of Pieces\\\\\": \\\\\"20\\\\\"}\"}'),\n",
       "  Document(page_content='{\"title\": \"Wenlaty Case Compatible with iPad 9th /8th /7th Generation Case(2021/2020/2019), Full Body Protective with Pencil Holder, Designed for iPad 10.2 Inch, Auto Sleep/Wake Cover, Sky Blue\", \"average_rating\": 4.7, \"rating_number\": 1915, \"features\": [\"\\\\ud83d\\\\ude0aDesigned for iPad 9th/8th/7th Generation: Protective case compatible with iPad 10.2 inch 2021/2020/2019, 9th/8th/7th Generation (Compatible Model: A2602 / A2603 / A2604 / A2605 / A2270 / A2428 / A2429 / A2430 / A2197 / A2200 / A2198). (Note: Not compatible with any other devices)\", \"\\\\ud83d\\\\udc49Premium-Quality & Perfect Fitness: This case is made of premium leather, giving it a luxurious appearance. It has a stitched interior lining that will protect your iPad, while the exterior provides an elegant look to the case. The water-resistant leather cover with velvety lining doesn\\\\u2019t just look good, it protects your iPad too.\\\\u00a0Meanwhile it\\'s easy for perfect cutout to access to all the controls and features (Cameras, Speaker, Ports and Buttons)\", \"\\\\u2600\\\\ufe0fAutomatic Sleep/Wake: Don\\'t need to touch a button to turn on your iPad. It automatically wakes up as soon as you open the cover. Automatically put it to sleep as soon as you close the cover, too. This helps preserve battery life, as well as gives you easy access to anything you left open\", \"\\\\ud83d\\\\udc9fBuilt-in Pencil holder: This case is specially designed to hold your pencil and features a hidden slot that allows you to take it with you wherever you go. (Note: Pencil is not included)\", \"\\\\ud83c\\\\udf3bComfortable Use: Featuring a trifold design that allows for two positions. In its 30\\\\u00b0 angle mode, the case can be used daily for both computer use and typing. When adjusted to a 65\\\\u00b0 angle, it is ideal for watching movies and reading. If you are relaxing or working, you can enjoy a stable platform all the time\", \"\\\\ud83d\\\\ude0dCrystal Hard PC Backshell: Made of clear hard PC backshell, whick looks like beautiful crystal. It can protect your iPad, meanwhile it can show the orignal beauty of your iPad\", \"\\\\ud83c\\\\udf81Perfect Gifts for Your Family: Very convenient to use in studying or journey, great ideal for kids, students, teachers, or engineers. It is the best gifts for kids, boys, husband, boyfriend, family and friends\"], \"description\": [], \"price\": \"19.99\", \"details\": \"{\\\\\"Product Dimensions\\\\\": \\\\\"9.91 x 7.3 x 0.47 inches\\\\\", \\\\\"Item Weight\\\\\": \\\\\"9.9 ounces\\\\\", \\\\\"Best Sellers Rank\\\\\": {\\\\\"Tablet Cases\\\\\": 4581}, \\\\\"Special features\\\\\": \\\\\"Anti-Slip\\\\\", \\\\\"Form Factor\\\\\": \\\\\"Case\\\\\", \\\\\"Color\\\\\": \\\\\"Sky Blue\\\\\", \\\\\"Manufacturer\\\\\": \\\\\"Wenlaty\\\\\", \\\\\"Country of Origin\\\\\": \\\\\"China\\\\\", \\\\\"Date First Available\\\\\": \\\\\"November 19, 2021\\\\\", \\\\\"Brand\\\\\": \\\\\"Wenlaty\\\\\", \\\\\"Compatible Devices\\\\\": \\\\\"10.2 inch iPad 7th Generation 2019 (A2197 A2198 A2200), 10.2 inch iPad 8th Generation 2020 (A2270 A2428 A2429 A2430), 10.2 inch iPad 9th Generation 2021 (A2602 A2603 A2604 A2605)10.2 inch iPad 7th Generation 2019 (A2197 A2198 A2200), 10.2 inch iPad 8th Generation 2020 (A2270 A2428 A2429 A2430), 10.2 inch iPad 9th Generation 2021 (A2602 A260\\\\\\\\u2026  See more\\\\\", \\\\\"Shell Type\\\\\": \\\\\"Hard\\\\\"}\"}')]}"
      ]
     },
     "execution_count": 21,
     "metadata": {},
     "output_type": "execute_result"
    }
   ],
   "source": [
    "prompt_question = \"What is the best eye liner?\"\n",
    "llm = flan_t5_large_model()\n",
    "answer = chat_answer(prompt_question, llm)\n",
    "answer"
   ]
  }
 ],
 "metadata": {
  "kernelspec": {
   "display_name": "Python 3",
   "language": "python",
   "name": "python3"
  },
  "language_info": {
   "codemirror_mode": {
    "name": "ipython",
    "version": 3
   },
   "file_extension": ".py",
   "mimetype": "text/x-python",
   "name": "python",
   "nbconvert_exporter": "python",
   "pygments_lexer": "ipython3",
   "version": "3.11.9"
  }
 },
 "nbformat": 4,
 "nbformat_minor": 2
}

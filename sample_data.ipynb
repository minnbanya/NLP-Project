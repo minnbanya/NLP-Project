{
 "cells": [
  {
   "cell_type": "code",
   "execution_count": 1,
   "metadata": {},
   "outputs": [],
   "source": [
    "import pandas as pd\n",
    "import gzip\n",
    "\n",
    "def parse(path):\n",
    "  g = gzip.open(path, 'rb')\n",
    "  for l in g:\n",
    "    yield eval(l)\n",
    "\n",
    "def getDF(path):\n",
    "  i = 0\n",
    "  df = {}\n",
    "  for d in parse(path):\n",
    "    df[i] = d\n",
    "    i += 1\n",
    "  return pd.DataFrame.from_dict(df, orient='index')"
   ]
  },
  {
   "cell_type": "code",
   "execution_count": 2,
   "metadata": {},
   "outputs": [],
   "source": [
    "path_list = ['qa_Appliances.json.gz', 'qa_Arts_Crafts_and_Sewing.json.gz', 'qa_Automotive.json.gz', 'qa_Baby.json.gz',\n",
    "             'qa_Beauty.json.gz', 'qa_Cell_Phones_and_Accessories.json.gz', 'qa_Clothing_Shoes_and_Jewelry.json.gz',\n",
    "             'qa_Electronics.json.gz', 'qa_Grocery_and_Gourmet_Food.json.gz', 'qa_Health_and_Personal_Care.json.gz',\n",
    "             'qa_Home_and_Kitchen.json.gz', 'qa_Industrial_and_Scientific.json.gz', 'qa_Musical_Instruments.json.gz',\n",
    "             'qa_Office_Products.json.gz', 'qa_Patio_Lawn_and_Garden.json.gz', 'qa_Pet_Supplies.json.gz', 'qa_Software.json.gz',\n",
    "             'qa_Sports_and_Outdoors.json.gz', 'qa_Tools_and_Home_Improvement.json.gz', 'qa_Toys_and_Games.json.gz',\n",
    "             'qa_Video_Games.json.gz']\n",
    "\n",
    "samples = []\n",
    "\n",
    "for p in path_list:\n",
    "    df = getDF(f'./data/whole_data/{p}')\n",
    "    # Select only the feature that we use\n",
    "    df = df[['questionType','question']]\n",
    "\n",
    "    # Separate dataframe into two based on the classes\n",
    "    class_yesno = df[df['questionType']==\"yes/no\"]\n",
    "    class_open = df[df['questionType']==\"open-ended\"]\n",
    "\n",
    "    sample_class_yesno = class_yesno.sample(n=50)\n",
    "    sample_class_open = class_open.sample(n=50)\n",
    "\n",
    "    # Concatenate the sampled dataframes\n",
    "    sample = pd.concat([sample_class_yesno, sample_class_open])\n",
    "    samples.append(sample)\n",
    "\n",
    "# Create dataframe\n",
    "df_sample = pd.concat(samples)"
   ]
  },
  {
   "cell_type": "code",
   "execution_count": 3,
   "metadata": {},
   "outputs": [],
   "source": [
    "df_sample = df_sample[['questionType','question']]"
   ]
  },
  {
   "cell_type": "code",
   "execution_count": 4,
   "metadata": {},
   "outputs": [],
   "source": [
    "df_sample.to_csv('./data/pre-category/sample100percategoty.csv', index=False)"
   ]
  }
 ],
 "metadata": {
  "kernelspec": {
   "display_name": "Python 3",
   "language": "python",
   "name": "python3"
  },
  "language_info": {
   "codemirror_mode": {
    "name": "ipython",
    "version": 3
   },
   "file_extension": ".py",
   "mimetype": "text/x-python",
   "name": "python",
   "nbconvert_exporter": "python",
   "pygments_lexer": "ipython3",
   "version": "3.11.9"
  }
 },
 "nbformat": 4,
 "nbformat_minor": 2
}
